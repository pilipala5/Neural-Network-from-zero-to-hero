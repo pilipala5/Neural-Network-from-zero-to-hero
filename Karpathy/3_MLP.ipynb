{
 "cells": [
  {
   "cell_type": "code",
   "id": "initial_id",
   "metadata": {
    "collapsed": true,
    "ExecuteTime": {
     "end_time": "2024-07-16T17:02:07.355292Z",
     "start_time": "2024-07-16T17:02:07.351866Z"
    }
   },
   "source": [
    "import torch\n",
    "import torch.nn.functional as F\n",
    "import matplotlib.pyplot as plt\n",
    "%matplotlib inline"
   ],
   "outputs": [],
   "execution_count": 95
  },
  {
   "metadata": {
    "ExecuteTime": {
     "end_time": "2024-07-16T17:02:07.365867Z",
     "start_time": "2024-07-16T17:02:07.356302Z"
    }
   },
   "cell_type": "code",
   "source": [
    "# read in all words\n",
    "words = open('names.txt', 'r').read().splitlines()\n",
    "words[:8]"
   ],
   "id": "5143624d40ef1e48",
   "outputs": [
    {
     "data": {
      "text/plain": [
       "['emma', 'olivia', 'ava', 'isabella', 'sophia', 'charlotte', 'mia', 'amelia']"
      ]
     },
     "execution_count": 96,
     "metadata": {},
     "output_type": "execute_result"
    }
   ],
   "execution_count": 96
  },
  {
   "metadata": {
    "ExecuteTime": {
     "end_time": "2024-07-16T17:02:07.371534Z",
     "start_time": "2024-07-16T17:02:07.366873Z"
    }
   },
   "cell_type": "code",
   "source": "len(words)",
   "id": "4d10518b54d34269",
   "outputs": [
    {
     "data": {
      "text/plain": [
       "32033"
      ]
     },
     "execution_count": 97,
     "metadata": {},
     "output_type": "execute_result"
    }
   ],
   "execution_count": 97
  },
  {
   "metadata": {
    "ExecuteTime": {
     "end_time": "2024-07-16T17:02:07.379921Z",
     "start_time": "2024-07-16T17:02:07.372407Z"
    }
   },
   "cell_type": "code",
   "source": [
    "# build the vocabulary of characters and mappings to/from integers\n",
    "chars = sorted(list(set(''.join(words))))\n",
    "stoi = {s:i+1 for i, s in enumerate(chars)}\n",
    "stoi['.'] = 0\n",
    "itos = {i:s for s, i in stoi.items()}\n",
    "print(itos)"
   ],
   "id": "9416ba7927c78c34",
   "outputs": [
    {
     "name": "stdout",
     "output_type": "stream",
     "text": [
      "{1: 'a', 2: 'b', 3: 'c', 4: 'd', 5: 'e', 6: 'f', 7: 'g', 8: 'h', 9: 'i', 10: 'j', 11: 'k', 12: 'l', 13: 'm', 14: 'n', 15: 'o', 16: 'p', 17: 'q', 18: 'r', 19: 's', 20: 't', 21: 'u', 22: 'v', 23: 'w', 24: 'x', 25: 'y', 26: 'z', 0: '.'}\n"
     ]
    }
   ],
   "execution_count": 98
  },
  {
   "metadata": {
    "ExecuteTime": {
     "end_time": "2024-07-16T17:02:07.826916Z",
     "start_time": "2024-07-16T17:02:07.380927Z"
    }
   },
   "cell_type": "code",
   "source": [
    "# built the dataset\n",
    "# train split , dev split, test split\n",
    "# 0.8, 0.1, 0.1\n",
    "def build_dataset(words):\n",
    "    block_size = 3 # context length: number of words considered in context\n",
    "    X, Y = [], []\n",
    "    for w in words:\n",
    "        context = [0] * block_size\n",
    "        for ch in w + '.':\n",
    "            ix = stoi[ch]\n",
    "            X.append(context)\n",
    "            Y.append(ix)\n",
    "            context = context[1:] + [ix] # crop and append\n",
    "            \n",
    "    X = torch.tensor(X) \n",
    "    Y = torch.tensor(Y) \n",
    "    return X, Y\n",
    "\n",
    "import random\n",
    "random.seed(42)\n",
    "random.shuffle(words)\n",
    "n1 = int(0.8 * len(words))\n",
    "n2 = int(0.9 * len(words))\n",
    "\n",
    "Xtr, Ytr = build_dataset(words[:n1])\n",
    "Xdev, Ydev = build_dataset(words[n1:n2])\n",
    "Xte, Yte = build_dataset(words[n2:]) "
   ],
   "id": "1147dc5b944ea77e",
   "outputs": [],
   "execution_count": 99
  },
  {
   "metadata": {
    "ExecuteTime": {
     "end_time": "2024-07-16T17:02:07.832570Z",
     "start_time": "2024-07-16T17:02:07.828052Z"
    }
   },
   "cell_type": "code",
   "source": [
    "# --------------------------------------- respectable :) ---------------------\n",
    "g = torch.Generator().manual_seed(2147483647)\n",
    "C = torch.randn([27, 2])    # each character means a point in vector space\n",
    "W1 = torch.randn([6, 100])  # 100 neurons\n",
    "b1 = torch.randn(100)\n",
    "W2 = torch.randn([100, 27])\n",
    "b2 = torch.randn(27)\n",
    "parameters = [C, W1, b1, W2, b2]\n",
    "\n",
    "for p in parameters:\n",
    "    p.requires_grad = True"
   ],
   "id": "994e4f5e7908e2e",
   "outputs": [],
   "execution_count": 100
  },
  {
   "metadata": {
    "ExecuteTime": {
     "end_time": "2024-07-16T17:02:07.838522Z",
     "start_time": "2024-07-16T17:02:07.834078Z"
    }
   },
   "cell_type": "code",
   "source": "sum(p.nelement() for p in parameters) # number of parameters in total",
   "id": "3ace25ad11297dde",
   "outputs": [
    {
     "data": {
      "text/plain": [
       "3481"
      ]
     },
     "execution_count": 101,
     "metadata": {},
     "output_type": "execute_result"
    }
   ],
   "execution_count": 101
  },
  {
   "metadata": {
    "ExecuteTime": {
     "end_time": "2024-07-16T17:16:29.052296Z",
     "start_time": "2024-07-16T17:16:23.053472Z"
    }
   },
   "cell_type": "code",
   "source": [
    "for i in range(10000):\n",
    "    # minibatch\n",
    "    ix = torch.randint(0, Xtr.shape[0], (32,))\n",
    "    \n",
    "    # forward pass\n",
    "    emb = C[Xtr[ix]] # (32, 3, 2)\n",
    "    h = torch.tanh(emb.view(-1, 6) @ W1 + b1)\n",
    "    \n",
    "    logits = h @ W2 + b2\n",
    "    #counts = logits.exp()\n",
    "    #probs = counts / counts.sum(1, keepdim=True)\n",
    "    #loss = -probs[torch.arange(X.shape[0]), Y].log().mean()\n",
    "    loss = F.cross_entropy(logits, Ytr[ix])\n",
    "    \n",
    "    # backward pass\n",
    "    for p in parameters:\n",
    "        p.grad = None\n",
    "    loss.backward()\n",
    "    \n",
    "    lr = 0.01\n",
    "    for p in parameters:\n",
    "        p.data += -lr * p.grad\n",
    "        \n",
    "    # track stats\n",
    "    # lri.append(lr)\n",
    "    # lossi.append(loss.item())\n",
    "\n",
    "print(loss.item())"
   ],
   "id": "6d67cb9825448317",
   "outputs": [
    {
     "name": "stdout",
     "output_type": "stream",
     "text": [
      "2.3746120929718018\n"
     ]
    }
   ],
   "execution_count": 110
  },
  {
   "metadata": {
    "ExecuteTime": {
     "end_time": "2024-07-16T17:16:36.662826Z",
     "start_time": "2024-07-16T17:16:36.642909Z"
    }
   },
   "cell_type": "code",
   "source": [
    "emb = C[Xdev] # (32, 3, 2)\n",
    "h = torch.tanh(emb.view(-1, 6) @ W1 + b1)\n",
    "logits = h @ W2 + b2\n",
    "loss = F.cross_entropy(logits, Ydev)\n",
    "print(loss.item())"
   ],
   "id": "fbf44e5d7de083e",
   "outputs": [
    {
     "name": "stdout",
     "output_type": "stream",
     "text": [
      "2.3392653465270996\n"
     ]
    }
   ],
   "execution_count": 111
  },
  {
   "metadata": {
    "ExecuteTime": {
     "end_time": "2024-07-16T17:16:37.577239Z",
     "start_time": "2024-07-16T17:16:37.556567Z"
    }
   },
   "cell_type": "code",
   "source": [
    "emb = C[Xte] # (32, 3, 2)\n",
    "h = torch.tanh(emb.view(-1, 6) @ W1 + b1)\n",
    "logits = h @ W2 + b2\n",
    "loss = F.cross_entropy(logits, Yte)\n",
    "print(loss.item())"
   ],
   "id": "4833f98e4465f216",
   "outputs": [
    {
     "name": "stdout",
     "output_type": "stream",
     "text": [
      "2.338972330093384\n"
     ]
    }
   ],
   "execution_count": 112
  },
  {
   "metadata": {
    "ExecuteTime": {
     "end_time": "2024-07-16T17:30:56.400787Z",
     "start_time": "2024-07-16T17:30:56.377448Z"
    }
   },
   "cell_type": "code",
   "source": [
    "g = torch.Generator().manual_seed(2147483647 + 10)\n",
    "\n",
    "# sample from the model\n",
    "for _ in range(20):\n",
    "    out = []\n",
    "    context = [0] * 3\n",
    "    while True:\n",
    "        emb = C[torch.tensor([context])]\n",
    "        h = torch.tanh(emb.view(1, -1) @ W1 + b1)\n",
    "        logits = h @ W2 + b2\n",
    "        probs = F.softmax(logits, dim=1)\n",
    "        ix = torch.multinomial(probs, num_samples=1, replacement=True, generator=g).item()\n",
    "        context = context[1:] + [ix]\n",
    "        out.append(ix)\n",
    "        if ix == 0:\n",
    "            break\n",
    "    \n",
    "    print(''.join(itos[i] for i in out))"
   ],
   "id": "d141e0af35c4766c",
   "outputs": [
    {
     "name": "stdout",
     "output_type": "stream",
     "text": [
      "mria.\n",
      "amyan.\n",
      "seel.\n",
      "ndhayah.\n",
      "rethan.\n",
      "endrlen.\n",
      "aderedielii.\n",
      "shi.\n",
      "jenleie.\n",
      "seso.\n",
      "aar.\n",
      "ely.\n",
      "korlara.\n",
      "noshugtrishianest.\n",
      "jair.\n",
      "jelilanteulanu.\n",
      "zeygen.\n",
      "jyshue.\n",
      "eha.\n",
      "kay.\n"
     ]
    }
   ],
   "execution_count": 123
  }
 ],
 "metadata": {
  "kernelspec": {
   "display_name": "Python 3",
   "language": "python",
   "name": "python3"
  },
  "language_info": {
   "codemirror_mode": {
    "name": "ipython",
    "version": 2
   },
   "file_extension": ".py",
   "mimetype": "text/x-python",
   "name": "python",
   "nbconvert_exporter": "python",
   "pygments_lexer": "ipython2",
   "version": "2.7.6"
  }
 },
 "nbformat": 4,
 "nbformat_minor": 5
}
