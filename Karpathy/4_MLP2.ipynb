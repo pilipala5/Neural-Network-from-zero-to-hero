{
 "cells": [
  {
   "cell_type": "code",
   "id": "initial_id",
   "metadata": {
    "collapsed": true,
    "ExecuteTime": {
     "end_time": "2024-07-17T12:52:40.495738Z",
     "start_time": "2024-07-17T12:52:40.491318Z"
    }
   },
   "source": [
    "import torch\n",
    "import torch.nn.functional as F\n",
    "import matplotlib.pyplot as plt\n",
    "%matplotlib inline"
   ],
   "outputs": [],
   "execution_count": 141
  },
  {
   "metadata": {
    "ExecuteTime": {
     "end_time": "2024-07-17T12:52:40.506488Z",
     "start_time": "2024-07-17T12:52:40.497734Z"
    }
   },
   "cell_type": "code",
   "source": [
    "# read in all words\n",
    "words = open(\"names.txt\", \"r\").read().splitlines()\n",
    "words[:8]"
   ],
   "id": "1e93c75b6d60f279",
   "outputs": [
    {
     "data": {
      "text/plain": [
       "['emma', 'olivia', 'ava', 'isabella', 'sophia', 'charlotte', 'mia', 'amelia']"
      ]
     },
     "execution_count": 142,
     "metadata": {},
     "output_type": "execute_result"
    }
   ],
   "execution_count": 142
  },
  {
   "metadata": {
    "ExecuteTime": {
     "end_time": "2024-07-17T12:52:40.509998Z",
     "start_time": "2024-07-17T12:52:40.506488Z"
    }
   },
   "cell_type": "code",
   "source": "len(words)",
   "id": "8f3ea641c909c204",
   "outputs": [
    {
     "data": {
      "text/plain": [
       "32033"
      ]
     },
     "execution_count": 143,
     "metadata": {},
     "output_type": "execute_result"
    }
   ],
   "execution_count": 143
  },
  {
   "metadata": {
    "ExecuteTime": {
     "end_time": "2024-07-17T12:52:40.517028Z",
     "start_time": "2024-07-17T12:52:40.509998Z"
    }
   },
   "cell_type": "code",
   "source": [
    "# build the vector point of characters and mapping to/from integers\n",
    "chars = sorted(set(''.join(words)))\n",
    "stoi = {s:i+1 for i,s in enumerate(chars)}\n",
    "stoi['.'] = 0\n",
    "itos = {i:s for s, i in stoi.items()}\n",
    "vocab_size = len(itos)\n",
    "print(\"size of characters :\", vocab_size)"
   ],
   "id": "a64778343b881ec6",
   "outputs": [
    {
     "name": "stdout",
     "output_type": "stream",
     "text": [
      "size of characters : 27\n"
     ]
    }
   ],
   "execution_count": 144
  },
  {
   "metadata": {
    "ExecuteTime": {
     "end_time": "2024-07-17T13:00:41.046378Z",
     "start_time": "2024-07-17T13:00:41.042143Z"
    }
   },
   "cell_type": "code",
   "source": "itos",
   "id": "bd87430a2e75b82e",
   "outputs": [
    {
     "data": {
      "text/plain": [
       "{1: 'a',\n",
       " 2: 'b',\n",
       " 3: 'c',\n",
       " 4: 'd',\n",
       " 5: 'e',\n",
       " 6: 'f',\n",
       " 7: 'g',\n",
       " 8: 'h',\n",
       " 9: 'i',\n",
       " 10: 'j',\n",
       " 11: 'k',\n",
       " 12: 'l',\n",
       " 13: 'm',\n",
       " 14: 'n',\n",
       " 15: 'o',\n",
       " 16: 'p',\n",
       " 17: 'q',\n",
       " 18: 'r',\n",
       " 19: 's',\n",
       " 20: 't',\n",
       " 21: 'u',\n",
       " 22: 'v',\n",
       " 23: 'w',\n",
       " 24: 'x',\n",
       " 25: 'y',\n",
       " 26: 'z',\n",
       " 0: '.'}"
      ]
     },
     "execution_count": 154,
     "metadata": {},
     "output_type": "execute_result"
    }
   ],
   "execution_count": 154
  },
  {
   "metadata": {
    "ExecuteTime": {
     "end_time": "2024-07-17T12:52:40.965652Z",
     "start_time": "2024-07-17T12:52:40.518026Z"
    }
   },
   "cell_type": "code",
   "source": [
    "block_size = 3\n",
    "# build the dataset\n",
    "def build_dataset(words):\n",
    "    # context length: how many characters do we take to predict next one?\n",
    "    X, Y = [], []\n",
    "    for w in words:\n",
    "        context = [0] * block_size\n",
    "        for ch in w + '.':\n",
    "            ix = stoi[ch]\n",
    "            X.append(context)\n",
    "            Y.append(ix)\n",
    "            context = context[1:] + [ix]\n",
    "    \n",
    "    X = torch.tensor(X)\n",
    "    Y = torch.tensor(Y)\n",
    "    return X, Y\n",
    "\n",
    "import random\n",
    "random.seed(42)\n",
    "random.shuffle(words)\n",
    "n1 = int(0.8 * len(words))\n",
    "n2 = int(0.9 * len(words))\n",
    "\n",
    "Xtr, Ytr = build_dataset(words[:n1])\n",
    "Xdev, Ydev = build_dataset(words[n1:n2])\n",
    "Xte, Yte = build_dataset(words[n2:])"
   ],
   "id": "a73e94f74c1e6431",
   "outputs": [],
   "execution_count": 145
  },
  {
   "metadata": {
    "ExecuteTime": {
     "end_time": "2024-07-17T12:52:40.970905Z",
     "start_time": "2024-07-17T12:52:40.966650Z"
    }
   },
   "cell_type": "code",
   "source": [
    "# MLP revisited\n",
    "n_embd = 10     # dimensionality of character embedding vectors\n",
    "n_hidden = 200  # number of neurons in the hidden layer of MLP\n",
    "\n",
    "g = torch.Generator().manual_seed(2147483647)\n",
    "C = torch.randn([vocab_size, n_embd], generator=g)\n",
    "W1 = torch.randn([n_embd * block_size, n_hidden], generator=g) * (5/3) / ((n_embd * block_size) ** 0.5) #* 0.2\n",
    "b1 = torch.randn(n_hidden, generator=g) * 0.01\n",
    "W2 = torch.randn([n_hidden, vocab_size], generator=g) * 0.01\n",
    "b2 = torch.randn(vocab_size, generator=g) * 0\n",
    "\n",
    "bngain = torch.ones((1, n_hidden))\n",
    "bnbias = torch.zeros((1, n_hidden))\n",
    "bnmean_running = torch.zeros((1, n_hidden))\n",
    "bnstd_running = torch.zeros((1, n_hidden))\n",
    "\n",
    "parameters = [C, W1, W2, b2, bngain, bnbias]\n",
    "for p in parameters:\n",
    "    p.requires_grad = True\n",
    "print(\"number of parameters: \", sum(p.nelement() for p in parameters))"
   ],
   "id": "fccdac4876265bf5",
   "outputs": [
    {
     "name": "stdout",
     "output_type": "stream",
     "text": [
      "number of parameters:  12097\n"
     ]
    }
   ],
   "execution_count": 146
  },
  {
   "metadata": {
    "ExecuteTime": {
     "end_time": "2024-07-17T12:55:44.924576Z",
     "start_time": "2024-07-17T12:52:40.970905Z"
    }
   },
   "cell_type": "code",
   "source": [
    "# optimization\n",
    "max_steps = 200000\n",
    "batch_size = 32\n",
    "lossi = []\n",
    "for i in range(max_steps):\n",
    "    # minibatch construct\n",
    "    ix = torch.randint(0, Xtr.shape[0], (batch_size, ))  # (batch_size)\n",
    "    Xb, Yb = Xtr[ix], Ytr[ix]   # Xb: (batch_size, block_size)\n",
    "    \n",
    "    # forward pass\n",
    "    emb = C[Xb] # embed the characters to vectors, (batch_size, block_size, n_embd)\n",
    "    embcat = emb.view(emb.shape[0], -1) \n",
    "    hpreact = embcat @ W1 #+ b1\n",
    "    bnmeani = hpreact.mean(0, keepdim=True)\n",
    "    bnstdi = hpreact.std(0, keepdim=True)\n",
    "    hpreact = bngain * (hpreact - bnmeani) / bnstdi + bnbias\n",
    "    h = torch.tanh(hpreact)    # hidden layer\n",
    "    logits = h @ W2 + b2    # output layer\n",
    "    loss = F.cross_entropy(logits, Yb)  # logits.exp():e -> e/e.sum(1, keepdim=True):probs -> -probs[torch.arange(batch_size), Yb].log().mean()\n",
    "    \n",
    "    with torch.no_grad():\n",
    "        bnmean_running = 0.999 * bnmean_running + 0.001 * bnmeani\n",
    "        bnstd_running = 0.999 * bnstd_running + 0.001 * bnstdi\n",
    "    \n",
    "    # backward pass\n",
    "    lr = 0.1 if i < 100000 else 0.01 # step learning rate decay\n",
    "    for p in parameters:\n",
    "        p.grad = None\n",
    "    loss.backward()\n",
    "    for p in parameters:\n",
    "        p.data += -lr * p.grad\n",
    "        \n",
    "    # track stats\n",
    "    if i % 10000 == 0:\n",
    "        print(f'{i:7d}/{max_steps:7d}:{loss.item():4f}')\n",
    "    lossi.append(loss.log10().item())\n",
    "    "
   ],
   "id": "7ee824dc9f293016",
   "outputs": [
    {
     "name": "stdout",
     "output_type": "stream",
     "text": [
      "      0/ 200000:3.310346\n",
      "  10000/ 200000:2.229653\n",
      "  20000/ 200000:2.246825\n",
      "  30000/ 200000:2.552459\n",
      "  40000/ 200000:2.204234\n",
      "  50000/ 200000:2.169604\n",
      "  60000/ 200000:2.167585\n",
      "  70000/ 200000:2.463525\n",
      "  80000/ 200000:2.188185\n",
      "  90000/ 200000:2.306082\n",
      " 100000/ 200000:1.938767\n",
      " 110000/ 200000:2.355447\n",
      " 120000/ 200000:2.170582\n",
      " 130000/ 200000:1.912776\n",
      " 140000/ 200000:2.189395\n",
      " 150000/ 200000:2.163670\n",
      " 160000/ 200000:2.147319\n",
      " 170000/ 200000:2.347926\n",
      " 180000/ 200000:2.014018\n",
      " 190000/ 200000:2.073076\n"
     ]
    }
   ],
   "execution_count": 147
  },
  {
   "metadata": {
    "ExecuteTime": {
     "end_time": "2024-07-17T12:55:45.327774Z",
     "start_time": "2024-07-17T12:55:44.925572Z"
    }
   },
   "cell_type": "code",
   "source": "plt.plot(lossi)",
   "id": "5f86d87b0d31c0c1",
   "outputs": [
    {
     "data": {
      "text/plain": [
       "[<matplotlib.lines.Line2D at 0x1d92a5f8d40>]"
      ]
     },
     "execution_count": 148,
     "metadata": {},
     "output_type": "execute_result"
    },
    {
     "data": {
      "text/plain": [
       "<Figure size 640x480 with 1 Axes>"
      ],
      "image/png": "[encoded data removed]"
     },
     "metadata": {},
     "output_type": "display_data"
    }
   ],
   "execution_count": 148
  },
  {
   "metadata": {
    "ExecuteTime": {
     "end_time": "2024-07-17T12:55:45.591524Z",
     "start_time": "2024-07-17T12:55:45.327774Z"
    }
   },
   "cell_type": "code",
   "source": [
    "# calibrate the batch norm at the end of training\n",
    "with torch.no_grad():\n",
    "    # pass the training set through\n",
    "    emb = C[Xtr]\n",
    "    embcat = emb.view(emb.shape[0], -1)\n",
    "    hpreact = embcat @ W1# + b1\n",
    "    # measure the mean/std of over the entire training set\n",
    "    bnmean = hpreact.mean(0, keepdim=True)\n",
    "    bnstd = hpreact.std(0, keepdim=True)"
   ],
   "id": "6d239377194f6e7a",
   "outputs": [],
   "execution_count": 149
  },
  {
   "metadata": {
    "ExecuteTime": {
     "end_time": "2024-07-17T12:55:45.819311Z",
     "start_time": "2024-07-17T12:55:45.592518Z"
    }
   },
   "cell_type": "code",
   "source": [
    "@torch.no_grad()    # this decorator disables  gradient tracking\n",
    "def split_loss(split):\n",
    "    x, y = {\n",
    "        'train':(Xtr, Ytr),\n",
    "        'test':(Xte, Yte),\n",
    "        'val':(Xdev, Ydev)\n",
    "    }[split]\n",
    "    emb = C[x]\n",
    "    embcat = emb.view(emb.shape[0], -1)\n",
    "    hpreact = embcat @ W1 # + b1\n",
    "    hpreact = bngain * (hpreact - bnmean) / bnstd + bnbias\n",
    "    h = torch.tanh(hpreact)\n",
    "    logits = h @ W2 + b2\n",
    "    loss = F.cross_entropy(logits, y)\n",
    "    print(split, loss.item())\n",
    "\n",
    "split_loss('train')\n",
    "split_loss('val')"
   ],
   "id": "c11dda978120dd9",
   "outputs": [
    {
     "name": "stdout",
     "output_type": "stream",
     "text": [
      "train 2.0693633556365967\n",
      "val 2.110264778137207\n"
     ]
    }
   ],
   "execution_count": 150
  },
  {
   "metadata": {
    "ExecuteTime": {
     "end_time": "2024-07-17T12:55:45.844225Z",
     "start_time": "2024-07-17T12:55:45.820305Z"
    }
   },
   "cell_type": "code",
   "source": [
    "# sample from the model\n",
    "g = torch.Generator().manual_seed(2147483647 + 10)\n",
    "for _ in range(20):\n",
    "    out = []\n",
    "    context = [0] * block_size # initialize with ...\n",
    "    while True:\n",
    "        emb = C[torch.tensor([context])]\n",
    "        embcat = emb.view(emb.shape[0], -1)\n",
    "        hpreact = embcat @ W1 # + b1\n",
    "        hpreact = bngain * (hpreact - bnmean) / bnstd + bnbias\n",
    "        h = torch.tanh(hpreact)\n",
    "        logits = h @ W2 + b2\n",
    "        probs = F.softmax(logits, dim=1)\n",
    "        ix = torch.multinomial(probs, num_samples=1, replacement=True, generator=g).item()  \n",
    "        context = context[1:] + [ix]\n",
    "        out.append(ix)\n",
    "        if ix == 0:\n",
    "            break\n",
    "    print(''.join(itos[i] for i in out))"
   ],
   "id": "1db01f376571fae4",
   "outputs": [
    {
     "name": "stdout",
     "output_type": "stream",
     "text": [
      "mon.\n",
      "ammyah.\n",
      "see.\n",
      "madhayla.\n",
      "rethrette.\n",
      "ramir.\n",
      "derydielin.\n",
      "shi.\n",
      "jenleigh.\n",
      "estanar.\n",
      "kayzion.\n",
      "kalin.\n",
      "shabergshiriel.\n",
      "kindreelynn.\n",
      "novana.\n",
      "uberteder.\n",
      "yarue.\n",
      "eli.\n",
      "kayshayne.\n",
      "daihaan.\n"
     ]
    }
   ],
   "execution_count": 151
  },
  {
   "metadata": {
    "ExecuteTime": {
     "end_time": "2024-07-17T12:55:45.847153Z",
     "start_time": "2024-07-17T12:55:45.845222Z"
    }
   },
   "cell_type": "code",
   "source": "",
   "id": "e9cbcacf67018faa",
   "outputs": [],
   "execution_count": 151
  }
 ],
 "metadata": {
  "kernelspec": {
   "display_name": "Python 3",
   "language": "python",
   "name": "python3"
  },
  "language_info": {
   "codemirror_mode": {
    "name": "ipython",
    "version": 2
   },
   "file_extension": ".py",
   "mimetype": "text/x-python",
   "name": "python",
   "nbconvert_exporter": "python",
   "pygments_lexer": "ipython2",
   "version": "2.7.6"
  }
 },
 "nbformat": 4,
 "nbformat_minor": 5
}
