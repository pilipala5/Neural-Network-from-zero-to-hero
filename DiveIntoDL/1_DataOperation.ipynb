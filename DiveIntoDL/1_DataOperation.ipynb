{
 "cells": [
  {
   "cell_type": "code",
   "id": "initial_id",
   "metadata": {
    "collapsed": true,
    "ExecuteTime": {
     "end_time": "2024-07-20T11:50:30.565851Z",
     "start_time": "2024-07-20T11:50:30.563398Z"
    }
   },
   "source": "import torch",
   "outputs": [],
   "execution_count": 324
  },
  {
   "metadata": {
    "ExecuteTime": {
     "end_time": "2024-07-20T11:50:30.614441Z",
     "start_time": "2024-07-20T11:50:30.609700Z"
    }
   },
   "cell_type": "code",
   "source": [
    "# Create a empty tensor\n",
    "x = torch.empty(5, 3)\n",
    "print(x)"
   ],
   "id": "b1cf0916a16a70bf",
   "outputs": [
    {
     "name": "stdout",
     "output_type": "stream",
     "text": [
      "tensor([[9.9115e+27, 9.9913e-43, 1.9339e-01],\n",
      "        [2.3658e+00, 8.7089e-01, 1.2255e+00],\n",
      "        [7.9400e-01, 2.3253e-01, 2.2223e+00],\n",
      "        [8.8912e-02, 1.6132e+00, 1.2027e-01],\n",
      "        [5.1996e-01, 1.1060e+00, 1.9671e+00]])\n"
     ]
    }
   ],
   "execution_count": 325
  },
  {
   "metadata": {
    "ExecuteTime": {
     "end_time": "2024-07-20T11:50:30.664863Z",
     "start_time": "2024-07-20T11:50:30.661285Z"
    }
   },
   "cell_type": "code",
   "source": [
    "# Create a long tensor\n",
    "x = torch.zeros(5,3, dtype=torch.long)\n",
    "print(x.dtype)\n",
    "print(x)"
   ],
   "id": "302288e1e6625b27",
   "outputs": [
    {
     "name": "stdout",
     "output_type": "stream",
     "text": [
      "torch.int64\n",
      "tensor([[0, 0, 0],\n",
      "        [0, 0, 0],\n",
      "        [0, 0, 0],\n",
      "        [0, 0, 0],\n",
      "        [0, 0, 0]])\n"
     ]
    }
   ],
   "execution_count": 326
  },
  {
   "metadata": {
    "ExecuteTime": {
     "end_time": "2024-07-20T11:50:30.679351Z",
     "start_time": "2024-07-20T11:50:30.675823Z"
    }
   },
   "cell_type": "code",
   "source": [
    "# Use a list to create tensor\n",
    "x = torch.tensor([1, 3])\n",
    "print(x.shape, x.dtype)\n",
    "print(x)"
   ],
   "id": "fe3d32c80d00cb9d",
   "outputs": [
    {
     "name": "stdout",
     "output_type": "stream",
     "text": [
      "torch.Size([2]) torch.int64\n",
      "tensor([1, 3])\n"
     ]
    }
   ],
   "execution_count": 327
  },
  {
   "metadata": {
    "ExecuteTime": {
     "end_time": "2024-07-20T11:50:30.689320Z",
     "start_time": "2024-07-20T11:50:30.685328Z"
    }
   },
   "cell_type": "code",
   "source": [
    "# Create tensor by existed tensor\n",
    "x = x.new_ones(3, 3)\n",
    "print(x)"
   ],
   "id": "19eee55179485818",
   "outputs": [
    {
     "name": "stdout",
     "output_type": "stream",
     "text": [
      "tensor([[1, 1, 1],\n",
      "        [1, 1, 1],\n",
      "        [1, 1, 1]])\n"
     ]
    }
   ],
   "execution_count": 328
  },
  {
   "metadata": {
    "ExecuteTime": {
     "end_time": "2024-07-20T11:50:30.698801Z",
     "start_time": "2024-07-20T11:50:30.696279Z"
    }
   },
   "cell_type": "code",
   "source": [
    "print(x.size())\n",
    "print(x.shape)"
   ],
   "id": "ce0c4fbaab0838c8",
   "outputs": [
    {
     "name": "stdout",
     "output_type": "stream",
     "text": [
      "torch.Size([3, 3])\n",
      "torch.Size([3, 3])\n"
     ]
    }
   ],
   "execution_count": 329
  },
  {
   "metadata": {
    "ExecuteTime": {
     "end_time": "2024-07-20T11:50:30.732373Z",
     "start_time": "2024-07-20T11:50:30.727700Z"
    }
   },
   "cell_type": "code",
   "source": [
    "# Add tensor\n",
    "x = torch.randn(5, 3, dtype=torch.float)\n",
    "y = torch.randn(5, 3, dtype=torch.float)\n",
    "print(x)\n",
    "print(y)"
   ],
   "id": "12fc8531877edb97",
   "outputs": [
    {
     "name": "stdout",
     "output_type": "stream",
     "text": [
      "tensor([[-1.5981,  0.4472,  0.9416],\n",
      "        [-2.5022,  0.8840,  1.8454],\n",
      "        [-0.5461, -0.1828, -1.6334],\n",
      "        [ 0.3549, -0.3468, -0.0526],\n",
      "        [ 1.4375, -0.8539, -0.2610]])\n",
      "tensor([[-0.7521,  0.7046,  0.9909],\n",
      "        [ 1.7475,  0.0053,  1.2987],\n",
      "        [ 1.2493,  1.1902,  0.1833],\n",
      "        [ 0.9343, -0.8761,  0.2176],\n",
      "        [ 1.0887, -2.0792, -0.4199]])\n"
     ]
    }
   ],
   "execution_count": 330
  },
  {
   "metadata": {
    "ExecuteTime": {
     "end_time": "2024-07-20T11:50:30.747104Z",
     "start_time": "2024-07-20T11:50:30.743331Z"
    }
   },
   "cell_type": "code",
   "source": "print(x+y)",
   "id": "fe1baf7d1fbc8566",
   "outputs": [
    {
     "name": "stdout",
     "output_type": "stream",
     "text": [
      "tensor([[-2.3502,  1.1518,  1.9325],\n",
      "        [-0.7547,  0.8893,  3.1441],\n",
      "        [ 0.7032,  1.0074, -1.4501],\n",
      "        [ 1.2892, -1.2228,  0.1650],\n",
      "        [ 2.5262, -2.9331, -0.6809]])\n"
     ]
    }
   ],
   "execution_count": 331
  },
  {
   "metadata": {
    "ExecuteTime": {
     "end_time": "2024-07-20T11:50:30.751968Z",
     "start_time": "2024-07-20T11:50:30.748094Z"
    }
   },
   "cell_type": "code",
   "source": "print(torch.add(x,y))",
   "id": "f630f58d06a25ad2",
   "outputs": [
    {
     "name": "stdout",
     "output_type": "stream",
     "text": [
      "tensor([[-2.3502,  1.1518,  1.9325],\n",
      "        [-0.7547,  0.8893,  3.1441],\n",
      "        [ 0.7032,  1.0074, -1.4501],\n",
      "        [ 1.2892, -1.2228,  0.1650],\n",
      "        [ 2.5262, -2.9331, -0.6809]])\n"
     ]
    }
   ],
   "execution_count": 332
  },
  {
   "metadata": {
    "ExecuteTime": {
     "end_time": "2024-07-20T11:50:30.761540Z",
     "start_time": "2024-07-20T11:50:30.757945Z"
    }
   },
   "cell_type": "code",
   "source": [
    "result = torch.zeros(5, 3)\n",
    "torch.add(x,y,out=result)\n",
    "print(result)"
   ],
   "id": "508c9374dfb2affe",
   "outputs": [
    {
     "name": "stdout",
     "output_type": "stream",
     "text": [
      "tensor([[-2.3502,  1.1518,  1.9325],\n",
      "        [-0.7547,  0.8893,  3.1441],\n",
      "        [ 0.7032,  1.0074, -1.4501],\n",
      "        [ 1.2892, -1.2228,  0.1650],\n",
      "        [ 2.5262, -2.9331, -0.6809]])\n"
     ]
    }
   ],
   "execution_count": 333
  },
  {
   "metadata": {
    "ExecuteTime": {
     "end_time": "2024-07-20T11:50:30.784461Z",
     "start_time": "2024-07-20T11:50:30.779477Z"
    }
   },
   "cell_type": "code",
   "source": [
    "result = torch.ones(5, 3)\n",
    "torch.add(x,y,out=result)   # replace the value of result\n",
    "print(result)"
   ],
   "id": "24a81372e41b1979",
   "outputs": [
    {
     "name": "stdout",
     "output_type": "stream",
     "text": [
      "tensor([[-2.3502,  1.1518,  1.9325],\n",
      "        [-0.7547,  0.8893,  3.1441],\n",
      "        [ 0.7032,  1.0074, -1.4501],\n",
      "        [ 1.2892, -1.2228,  0.1650],\n",
      "        [ 2.5262, -2.9331, -0.6809]])\n"
     ]
    }
   ],
   "execution_count": 334
  },
  {
   "metadata": {
    "ExecuteTime": {
     "end_time": "2024-07-20T11:50:30.805496Z",
     "start_time": "2024-07-20T11:50:30.802402Z"
    }
   },
   "cell_type": "code",
   "source": [
    "y.add_(x)   # change y\n",
    "print(y)"
   ],
   "id": "fbc0830677dc94db",
   "outputs": [
    {
     "name": "stdout",
     "output_type": "stream",
     "text": [
      "tensor([[-2.3502,  1.1518,  1.9325],\n",
      "        [-0.7547,  0.8893,  3.1441],\n",
      "        [ 0.7032,  1.0074, -1.4501],\n",
      "        [ 1.2892, -1.2228,  0.1650],\n",
      "        [ 2.5262, -2.9331, -0.6809]])\n"
     ]
    }
   ],
   "execution_count": 335
  },
  {
   "metadata": {
    "ExecuteTime": {
     "end_time": "2024-07-20T11:50:30.809960Z",
     "start_time": "2024-07-20T11:50:30.806489Z"
    }
   },
   "cell_type": "code",
   "source": [
    "# indices in tensor\n",
    "# shared memory with origin tensor\n",
    "x = torch.ones(2, 3)\n",
    "x"
   ],
   "id": "eee8cdd69d94da3c",
   "outputs": [
    {
     "data": {
      "text/plain": [
       "tensor([[1., 1., 1.],\n",
       "        [1., 1., 1.]])"
      ]
     },
     "execution_count": 336,
     "metadata": {},
     "output_type": "execute_result"
    }
   ],
   "execution_count": 336
  },
  {
   "metadata": {
    "ExecuteTime": {
     "end_time": "2024-07-20T11:50:30.825388Z",
     "start_time": "2024-07-20T11:50:30.820918Z"
    }
   },
   "cell_type": "code",
   "source": [
    "y = x[0, :]\n",
    "y"
   ],
   "id": "7241ace0751a923c",
   "outputs": [
    {
     "data": {
      "text/plain": [
       "tensor([1., 1., 1.])"
      ]
     },
     "execution_count": 337,
     "metadata": {},
     "output_type": "execute_result"
    }
   ],
   "execution_count": 337
  },
  {
   "metadata": {
    "ExecuteTime": {
     "end_time": "2024-07-20T11:50:30.854843Z",
     "start_time": "2024-07-20T11:50:30.850302Z"
    }
   },
   "cell_type": "code",
   "source": [
    "y += 1\n",
    "y"
   ],
   "id": "37da11a4b0858b0f",
   "outputs": [
    {
     "data": {
      "text/plain": [
       "tensor([2., 2., 2.])"
      ]
     },
     "execution_count": 338,
     "metadata": {},
     "output_type": "execute_result"
    }
   ],
   "execution_count": 338
  },
  {
   "metadata": {
    "ExecuteTime": {
     "end_time": "2024-07-20T11:50:30.877237Z",
     "start_time": "2024-07-20T11:50:30.873772Z"
    }
   },
   "cell_type": "code",
   "source": "x",
   "id": "4b8e55bdfff9d237",
   "outputs": [
    {
     "data": {
      "text/plain": [
       "tensor([[2., 2., 2.],\n",
       "        [1., 1., 1.]])"
      ]
     },
     "execution_count": 339,
     "metadata": {},
     "output_type": "execute_result"
    }
   ],
   "execution_count": 339
  },
  {
   "metadata": {
    "ExecuteTime": {
     "end_time": "2024-07-20T11:50:30.890618Z",
     "start_time": "2024-07-20T11:50:30.887200Z"
    }
   },
   "cell_type": "code",
   "source": [
    "y = y + 1\n",
    "y"
   ],
   "id": "5254106c6f407cac",
   "outputs": [
    {
     "data": {
      "text/plain": [
       "tensor([3., 3., 3.])"
      ]
     },
     "execution_count": 340,
     "metadata": {},
     "output_type": "execute_result"
    }
   ],
   "execution_count": 340
  },
  {
   "metadata": {
    "ExecuteTime": {
     "end_time": "2024-07-20T11:50:30.907074Z",
     "start_time": "2024-07-20T11:50:30.903571Z"
    }
   },
   "cell_type": "code",
   "source": "x   # \"y = y + 1\" will create a new tensor",
   "id": "71627fdce362b3d5",
   "outputs": [
    {
     "data": {
      "text/plain": [
       "tensor([[2., 2., 2.],\n",
       "        [1., 1., 1.]])"
      ]
     },
     "execution_count": 341,
     "metadata": {},
     "output_type": "execute_result"
    }
   ],
   "execution_count": 341
  },
  {
   "metadata": {
    "ExecuteTime": {
     "end_time": "2024-07-20T11:50:30.923359Z",
     "start_time": "2024-07-20T11:50:30.919033Z"
    }
   },
   "cell_type": "code",
   "source": [
    "# Change shape by view (share memory)\n",
    "x = torch.ones(4, 4)\n",
    "x"
   ],
   "id": "dddf5cb3d0471ab5",
   "outputs": [
    {
     "data": {
      "text/plain": [
       "tensor([[1., 1., 1., 1.],\n",
       "        [1., 1., 1., 1.],\n",
       "        [1., 1., 1., 1.],\n",
       "        [1., 1., 1., 1.]])"
      ]
     },
     "execution_count": 342,
     "metadata": {},
     "output_type": "execute_result"
    }
   ],
   "execution_count": 342
  },
  {
   "metadata": {
    "ExecuteTime": {
     "end_time": "2024-07-20T11:50:30.933831Z",
     "start_time": "2024-07-20T11:50:30.929845Z"
    }
   },
   "cell_type": "code",
   "source": [
    "y = x.view(2, 8)\n",
    "y"
   ],
   "id": "98268887ef82e54a",
   "outputs": [
    {
     "data": {
      "text/plain": [
       "tensor([[1., 1., 1., 1., 1., 1., 1., 1.],\n",
       "        [1., 1., 1., 1., 1., 1., 1., 1.]])"
      ]
     },
     "execution_count": 343,
     "metadata": {},
     "output_type": "execute_result"
    }
   ],
   "execution_count": 343
  },
  {
   "metadata": {
    "ExecuteTime": {
     "end_time": "2024-07-20T11:50:30.946966Z",
     "start_time": "2024-07-20T11:50:30.942801Z"
    }
   },
   "cell_type": "code",
   "source": [
    "y += 1\n",
    "print(y)\n",
    "print(x)"
   ],
   "id": "206b289a8ef59031",
   "outputs": [
    {
     "name": "stdout",
     "output_type": "stream",
     "text": [
      "tensor([[2., 2., 2., 2., 2., 2., 2., 2.],\n",
      "        [2., 2., 2., 2., 2., 2., 2., 2.]])\n",
      "tensor([[2., 2., 2., 2.],\n",
      "        [2., 2., 2., 2.],\n",
      "        [2., 2., 2., 2.],\n",
      "        [2., 2., 2., 2.]])\n"
     ]
    }
   ],
   "execution_count": 344
  },
  {
   "metadata": {
    "ExecuteTime": {
     "end_time": "2024-07-20T11:50:30.966623Z",
     "start_time": "2024-07-20T11:50:30.962910Z"
    }
   },
   "cell_type": "code",
   "source": [
    "y = y + 1\n",
    "print(y)\n",
    "print(x)"
   ],
   "id": "d9a508c22678625b",
   "outputs": [
    {
     "name": "stdout",
     "output_type": "stream",
     "text": [
      "tensor([[3., 3., 3., 3., 3., 3., 3., 3.],\n",
      "        [3., 3., 3., 3., 3., 3., 3., 3.]])\n",
      "tensor([[2., 2., 2., 2.],\n",
      "        [2., 2., 2., 2.],\n",
      "        [2., 2., 2., 2.],\n",
      "        [2., 2., 2., 2.]])\n"
     ]
    }
   ],
   "execution_count": 345
  },
  {
   "metadata": {
    "ExecuteTime": {
     "end_time": "2024-07-20T11:50:30.979460Z",
     "start_time": "2024-07-20T11:50:30.975592Z"
    }
   },
   "cell_type": "code",
   "source": [
    "# copy tensor\n",
    "x = torch.ones(2, 8)\n",
    "x"
   ],
   "id": "5ea3cea79458e0",
   "outputs": [
    {
     "data": {
      "text/plain": [
       "tensor([[1., 1., 1., 1., 1., 1., 1., 1.],\n",
       "        [1., 1., 1., 1., 1., 1., 1., 1.]])"
      ]
     },
     "execution_count": 346,
     "metadata": {},
     "output_type": "execute_result"
    }
   ],
   "execution_count": 346
  },
  {
   "metadata": {
    "ExecuteTime": {
     "end_time": "2024-07-20T11:50:30.994408Z",
     "start_time": "2024-07-20T11:50:30.989425Z"
    }
   },
   "cell_type": "code",
   "source": [
    "y = x.clone().view(4, 4)\n",
    "y"
   ],
   "id": "b0f7342a74d46e16",
   "outputs": [
    {
     "data": {
      "text/plain": [
       "tensor([[1., 1., 1., 1.],\n",
       "        [1., 1., 1., 1.],\n",
       "        [1., 1., 1., 1.],\n",
       "        [1., 1., 1., 1.]])"
      ]
     },
     "execution_count": 347,
     "metadata": {},
     "output_type": "execute_result"
    }
   ],
   "execution_count": 347
  },
  {
   "metadata": {
    "ExecuteTime": {
     "end_time": "2024-07-20T11:50:31.021941Z",
     "start_time": "2024-07-20T11:50:31.018328Z"
    }
   },
   "cell_type": "code",
   "source": [
    "# x.clone() don't share memory with x\n",
    "y += 1\n",
    "print(y)\n",
    "print(x)"
   ],
   "id": "28223f213c4d873",
   "outputs": [
    {
     "name": "stdout",
     "output_type": "stream",
     "text": [
      "tensor([[2., 2., 2., 2.],\n",
      "        [2., 2., 2., 2.],\n",
      "        [2., 2., 2., 2.],\n",
      "        [2., 2., 2., 2.]])\n",
      "tensor([[1., 1., 1., 1., 1., 1., 1., 1.],\n",
      "        [1., 1., 1., 1., 1., 1., 1., 1.]])\n"
     ]
    }
   ],
   "execution_count": 348
  },
  {
   "metadata": {
    "ExecuteTime": {
     "end_time": "2024-07-20T11:50:31.034512Z",
     "start_time": "2024-07-20T11:50:31.030909Z"
    }
   },
   "cell_type": "code",
   "source": [
    "# translate tensor to a python number\n",
    "x = torch.tensor(1, dtype=torch.long)\n",
    "print(x)\n",
    "print(x.item())"
   ],
   "id": "aedc144b8f6caced",
   "outputs": [
    {
     "name": "stdout",
     "output_type": "stream",
     "text": [
      "tensor(1)\n",
      "1\n"
     ]
    }
   ],
   "execution_count": 349
  },
  {
   "metadata": {
    "ExecuteTime": {
     "end_time": "2024-07-20T11:50:31.046649Z",
     "start_time": "2024-07-20T11:50:31.042482Z"
    }
   },
   "cell_type": "code",
   "source": [
    "# broadcast in pytorch\n",
    "x = torch.arange(1, 3).view(1, 2)\n",
    "print(x)\n",
    "\n",
    "y = torch.arange(1, 4).view(3, 1)\n",
    "print(y)"
   ],
   "id": "cf549cbaf0d615fb",
   "outputs": [
    {
     "name": "stdout",
     "output_type": "stream",
     "text": [
      "tensor([[1, 2]])\n",
      "tensor([[1],\n",
      "        [2],\n",
      "        [3]])\n"
     ]
    }
   ],
   "execution_count": 350
  },
  {
   "metadata": {
    "ExecuteTime": {
     "end_time": "2024-07-20T11:50:31.054154Z",
     "start_time": "2024-07-20T11:50:31.050633Z"
    }
   },
   "cell_type": "code",
   "source": [
    "# x  +  y    ---> (1, 2) + (3, 1)\n",
    "# [[1, 2]   +  [[1, 1]\n",
    "#  [1, 2]       [2, 2]\n",
    "#  [1, 2]]      [3, 3]]\n",
    "# (1, 2) -> (3, 2) ; (3, 1) -> (3, 2)\n",
    "x + y"
   ],
   "id": "593d1477545b491f",
   "outputs": [
    {
     "data": {
      "text/plain": [
       "tensor([[2, 3],\n",
       "        [3, 4],\n",
       "        [4, 5]])"
      ]
     },
     "execution_count": 351,
     "metadata": {},
     "output_type": "execute_result"
    }
   ],
   "execution_count": 351
  },
  {
   "metadata": {
    "ExecuteTime": {
     "end_time": "2024-07-20T11:50:31.074084Z",
     "start_time": "2024-07-20T11:50:31.071093Z"
    }
   },
   "cell_type": "code",
   "source": [
    "# memory in tensor\n",
    "x = torch.ones(2, 2)\n",
    "y = torch.zeros(2, 2)\n",
    "id_pre = id(y)\n",
    "y = y + x\n",
    "id_la = id(y)\n",
    "print(id_la == id_pre)"
   ],
   "id": "3c90e98de40611ed",
   "outputs": [
    {
     "name": "stdout",
     "output_type": "stream",
     "text": [
      "False\n"
     ]
    }
   ],
   "execution_count": 352
  },
  {
   "metadata": {
    "ExecuteTime": {
     "end_time": "2024-07-20T11:50:31.087791Z",
     "start_time": "2024-07-20T11:50:31.084049Z"
    }
   },
   "cell_type": "code",
   "source": [
    "# use indices to fix memory\n",
    "x = torch.ones(2, 2)\n",
    "y = torch.zeros(2, 2)\n",
    "id_pre = id(y)\n",
    "y[:] = y + x    # y[:] share the same memory with y\n",
    "id_la = id(y)\n",
    "print(id_la == id_pre)"
   ],
   "id": "c2874904a396c88b",
   "outputs": [
    {
     "name": "stdout",
     "output_type": "stream",
     "text": [
      "True\n"
     ]
    }
   ],
   "execution_count": 353
  },
  {
   "metadata": {
    "ExecuteTime": {
     "end_time": "2024-07-20T11:50:31.096554Z",
     "start_time": "2024-07-20T11:50:31.093768Z"
    }
   },
   "cell_type": "code",
   "source": [
    "# translate tensor to / from numpy (share memory)\n",
    "import numpy as np\n",
    "x = np.arange(1, 3)\n",
    "print(x)"
   ],
   "id": "ef5e36545ebd24ce",
   "outputs": [
    {
     "name": "stdout",
     "output_type": "stream",
     "text": [
      "[1 2]\n"
     ]
    }
   ],
   "execution_count": 354
  },
  {
   "metadata": {
    "ExecuteTime": {
     "end_time": "2024-07-20T11:50:31.120016Z",
     "start_time": "2024-07-20T11:50:31.116482Z"
    }
   },
   "cell_type": "code",
   "source": [
    "y = torch.from_numpy(x)\n",
    "print(y)\n",
    "y += 1\n",
    "print(x)\n",
    "print(y)"
   ],
   "id": "6a99dceeb7fc6ab1",
   "outputs": [
    {
     "name": "stdout",
     "output_type": "stream",
     "text": [
      "tensor([1, 2], dtype=torch.int32)\n",
      "[2 3]\n",
      "tensor([2, 3], dtype=torch.int32)\n"
     ]
    }
   ],
   "execution_count": 355
  },
  {
   "metadata": {
    "ExecuteTime": {
     "end_time": "2024-07-20T11:50:31.131402Z",
     "start_time": "2024-07-20T11:50:31.126988Z"
    }
   },
   "cell_type": "code",
   "source": [
    "y = torch.ones(1, 3)\n",
    "x = y.numpy()\n",
    "print(y)\n",
    "print(x)\n",
    "print('------')\n",
    "x += 1\n",
    "print(y)\n",
    "print(x)"
   ],
   "id": "d38e7fb3ba253037",
   "outputs": [
    {
     "name": "stdout",
     "output_type": "stream",
     "text": [
      "tensor([[1., 1., 1.]])\n",
      "[[1. 1. 1.]]\n",
      "------\n",
      "tensor([[2., 2., 2.]])\n",
      "[[2. 2. 2.]]\n"
     ]
    }
   ],
   "execution_count": 356
  },
  {
   "metadata": {
    "ExecuteTime": {
     "end_time": "2024-07-20T11:50:31.144355Z",
     "start_time": "2024-07-20T11:50:31.138375Z"
    }
   },
   "cell_type": "code",
   "source": [
    "# device\n",
    "device = \"cuda\" if torch.cuda.is_available() else \"cpu\"\n",
    "x = torch.zeros((3, 5), device=device)\n",
    "print(x)"
   ],
   "id": "6444bbeea74ecf4a",
   "outputs": [
    {
     "name": "stdout",
     "output_type": "stream",
     "text": [
      "tensor([[0., 0., 0., 0., 0.],\n",
      "        [0., 0., 0., 0., 0.],\n",
      "        [0., 0., 0., 0., 0.]], device='cuda:0')\n"
     ]
    }
   ],
   "execution_count": 357
  },
  {
   "metadata": {
    "ExecuteTime": {
     "end_time": "2024-07-20T11:50:31.164889Z",
     "start_time": "2024-07-20T11:50:31.162295Z"
    }
   },
   "cell_type": "code",
   "source": [
    "y = torch.arange(5)\n",
    "print(y)"
   ],
   "id": "1223dbf9fe6d2801",
   "outputs": [
    {
     "name": "stdout",
     "output_type": "stream",
     "text": [
      "tensor([0, 1, 2, 3, 4])\n"
     ]
    }
   ],
   "execution_count": 358
  },
  {
   "metadata": {
    "ExecuteTime": {
     "end_time": "2024-07-20T11:50:31.180882Z",
     "start_time": "2024-07-20T11:50:31.173857Z"
    }
   },
   "cell_type": "code",
   "source": "print(x + y.to(device))",
   "id": "f5d74a285bc2574f",
   "outputs": [
    {
     "name": "stdout",
     "output_type": "stream",
     "text": [
      "tensor([[0., 1., 2., 3., 4.],\n",
      "        [0., 1., 2., 3., 4.],\n",
      "        [0., 1., 2., 3., 4.]], device='cuda:0')\n"
     ]
    }
   ],
   "execution_count": 359
  },
  {
   "metadata": {
    "ExecuteTime": {
     "end_time": "2024-07-20T11:50:31.193461Z",
     "start_time": "2024-07-20T11:50:31.188853Z"
    }
   },
   "cell_type": "code",
   "source": [
    "x = torch.tensor([1, 2, 3], dtype=torch.float, requires_grad=True)\n",
    "y = torch.tensor([1, 2], dtype=torch.float ,requires_grad=True).view(2, 1)\n",
    "a = torch.tensor([1, 2, 1, 2, 1, 2], dtype=torch.float, requires_grad=True).view(3, 2)\n",
    "y.retain_grad()\n",
    "a.retain_grad()\n",
    "\n",
    "print(x)\n",
    "print(y)\n",
    "z = x + y   \n",
    "z.retain_grad()\n",
    "print(z)\n",
    "print(z.shape, z.dtype)"
   ],
   "id": "a8e1b6cc614457d0",
   "outputs": [
    {
     "name": "stdout",
     "output_type": "stream",
     "text": [
      "tensor([1., 2., 3.], requires_grad=True)\n",
      "tensor([[1.],\n",
      "        [2.]], grad_fn=<ViewBackward0>)\n",
      "tensor([[2., 3., 4.],\n",
      "        [3., 4., 5.]], grad_fn=<AddBackward0>)\n",
      "torch.Size([2, 3]) torch.float32\n"
     ]
    }
   ],
   "execution_count": 360
  },
  {
   "metadata": {
    "ExecuteTime": {
     "end_time": "2024-07-20T11:50:31.208928Z",
     "start_time": "2024-07-20T11:50:31.205416Z"
    }
   },
   "cell_type": "code",
   "source": [
    "print(a.shape, a.dtype)\n",
    "print(a)"
   ],
   "id": "23166a6cf57272f1",
   "outputs": [
    {
     "name": "stdout",
     "output_type": "stream",
     "text": [
      "torch.Size([3, 2]) torch.float32\n",
      "tensor([[1., 2.],\n",
      "        [1., 2.],\n",
      "        [1., 2.]], grad_fn=<ViewBackward0>)\n"
     ]
    }
   ],
   "execution_count": 361
  },
  {
   "metadata": {
    "ExecuteTime": {
     "end_time": "2024-07-20T11:50:31.221272Z",
     "start_time": "2024-07-20T11:50:31.217892Z"
    }
   },
   "cell_type": "code",
   "source": [
    "l = z @ a\n",
    "l.retain_grad()\n",
    "print(l)"
   ],
   "id": "acc038114f6655c9",
   "outputs": [
    {
     "name": "stdout",
     "output_type": "stream",
     "text": [
      "tensor([[ 9., 18.],\n",
      "        [12., 24.]], grad_fn=<MmBackward0>)\n"
     ]
    }
   ],
   "execution_count": 362
  },
  {
   "metadata": {
    "ExecuteTime": {
     "end_time": "2024-07-20T11:50:31.232665Z",
     "start_time": "2024-07-20T11:50:31.228245Z"
    }
   },
   "cell_type": "code",
   "source": [
    "result = l.mean()\n",
    "print(result)"
   ],
   "id": "15ee05a4065c2c38",
   "outputs": [
    {
     "name": "stdout",
     "output_type": "stream",
     "text": [
      "tensor(15.7500, grad_fn=<MeanBackward0>)\n"
     ]
    }
   ],
   "execution_count": 363
  },
  {
   "metadata": {
    "ExecuteTime": {
     "end_time": "2024-07-20T11:50:31.245970Z",
     "start_time": "2024-07-20T11:50:31.242611Z"
    }
   },
   "cell_type": "code",
   "source": "result.backward()",
   "id": "c2039185f74e9da9",
   "outputs": [],
   "execution_count": 364
  },
  {
   "metadata": {
    "ExecuteTime": {
     "end_time": "2024-07-20T11:51:45.046296Z",
     "start_time": "2024-07-20T11:51:45.041742Z"
    }
   },
   "cell_type": "code",
   "source": [
    "print(x.grad)\n",
    "print(y.grad)\n",
    "print(z.grad)\n",
    "print(a.grad)\n",
    "print(l.grad)"
   ],
   "id": "307cebf48a185b83",
   "outputs": [
    {
     "name": "stdout",
     "output_type": "stream",
     "text": [
      "tensor([1.5000, 1.5000, 1.5000])\n",
      "tensor([[2.2500],\n",
      "        [2.2500]])\n",
      "tensor([[0.7500, 0.7500, 0.7500],\n",
      "        [0.7500, 0.7500, 0.7500]])\n",
      "tensor([[1.2500, 1.2500],\n",
      "        [1.7500, 1.7500],\n",
      "        [2.2500, 2.2500]])\n",
      "tensor([[0.2500, 0.2500],\n",
      "        [0.2500, 0.2500]])\n"
     ]
    }
   ],
   "execution_count": 369
  },
  {
   "metadata": {
    "ExecuteTime": {
     "end_time": "2024-07-20T11:55:46.931431Z",
     "start_time": "2024-07-20T11:55:46.927344Z"
    }
   },
   "cell_type": "code",
   "source": [
    "# l = z @ a\n",
    "# dz = dl @ a.T  ; da = z.T @ dl\n",
    "print(l.grad @ a.T)\n",
    "print(z.T @ l.grad)\n",
    "\n",
    "# z = x + y   : z(2, 3), x(1, 3), y(2, 1)\n",
    "# dx = dz = dy (consider the shape!!!)\n",
    "print(z.grad.sum(0, keepdim=True))\n",
    "print(z.grad.sum(1, keepdim=True))"
   ],
   "id": "f3b81db7308fbe96",
   "outputs": [
    {
     "name": "stdout",
     "output_type": "stream",
     "text": [
      "tensor([[0.7500, 0.7500, 0.7500],\n",
      "        [0.7500, 0.7500, 0.7500]], grad_fn=<MmBackward0>)\n",
      "tensor([[1.2500, 1.2500],\n",
      "        [1.7500, 1.7500],\n",
      "        [2.2500, 2.2500]], grad_fn=<MmBackward0>)\n",
      "tensor([[1.5000, 1.5000, 1.5000]])\n",
      "tensor([[2.2500],\n",
      "        [2.2500]])\n"
     ]
    }
   ],
   "execution_count": 372
  },
  {
   "metadata": {
    "ExecuteTime": {
     "end_time": "2024-07-20T12:01:21.475329Z",
     "start_time": "2024-07-20T12:01:21.468985Z"
    }
   },
   "cell_type": "code",
   "source": [
    "x = torch.tensor([1, 2, 3, 4, 5, 6], dtype=torch.float, requires_grad=True).view(2, 3)\n",
    "y = torch.tensor([6, 5, 4, 3, 2, 1], dtype=torch.float, requires_grad=True).view(2, 3)\n",
    "z = x * y\n",
    "parameters = [x, y, z]\n",
    "for p in parameters:\n",
    "    p.retain_grad()\n",
    "\n",
    "result = z.sum()\n",
    "print(x)\n",
    "print(y)\n",
    "print(z)"
   ],
   "id": "2823addcec845a8a",
   "outputs": [
    {
     "name": "stdout",
     "output_type": "stream",
     "text": [
      "tensor([[1., 2., 3.],\n",
      "        [4., 5., 6.]], grad_fn=<ViewBackward0>)\n",
      "tensor([[6., 5., 4.],\n",
      "        [3., 2., 1.]], grad_fn=<ViewBackward0>)\n",
      "tensor([[ 6., 10., 12.],\n",
      "        [12., 10.,  6.]], grad_fn=<MulBackward0>)\n"
     ]
    }
   ],
   "execution_count": 377
  },
  {
   "metadata": {
    "ExecuteTime": {
     "end_time": "2024-07-20T12:01:22.245087Z",
     "start_time": "2024-07-20T12:01:22.241043Z"
    }
   },
   "cell_type": "code",
   "source": [
    "# z[i, j] = x[i, j] * y[i, j]\n",
    "# dx[i, j] = y[i, j] ; dy[i, j] = x[i, j]\n",
    "\n",
    "result.backward()\n",
    "print(z.grad)\n",
    "print(y.grad)\n",
    "print(x.grad)"
   ],
   "id": "144636e93acd289e",
   "outputs": [
    {
     "name": "stdout",
     "output_type": "stream",
     "text": [
      "tensor([[1., 1., 1.],\n",
      "        [1., 1., 1.]])\n",
      "tensor([[1., 2., 3.],\n",
      "        [4., 5., 6.]])\n",
      "tensor([[6., 5., 4.],\n",
      "        [3., 2., 1.]])\n"
     ]
    }
   ],
   "execution_count": 378
  },
  {
   "metadata": {
    "ExecuteTime": {
     "end_time": "2024-07-20T12:08:02.906517Z",
     "start_time": "2024-07-20T12:08:02.903507Z"
    }
   },
   "cell_type": "code",
   "source": [
    "# tensor.data is beside DAG\n",
    "x = torch.tensor([1], dtype=torch.float, requires_grad=True)\n",
    "print(x.data.requires_grad)"
   ],
   "id": "a530443b21ab96bd",
   "outputs": [
    {
     "name": "stdout",
     "output_type": "stream",
     "text": [
      "False\n"
     ]
    }
   ],
   "execution_count": 381
  }
 ],
 "metadata": {
  "kernelspec": {
   "display_name": "Python 3",
   "language": "python",
   "name": "python3"
  },
  "language_info": {
   "codemirror_mode": {
    "name": "ipython",
    "version": 2
   },
   "file_extension": ".py",
   "mimetype": "text/x-python",
   "name": "python",
   "nbconvert_exporter": "python",
   "pygments_lexer": "ipython2",
   "version": "2.7.6"
  }
 },
 "nbformat": 4,
 "nbformat_minor": 5
}
