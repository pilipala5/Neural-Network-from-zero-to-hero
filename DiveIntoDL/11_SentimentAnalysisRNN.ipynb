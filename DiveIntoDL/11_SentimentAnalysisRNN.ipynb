{
 "cells": [
  {
   "cell_type": "code",
   "id": "initial_id",
   "metadata": {
    "collapsed": true,
    "ExecuteTime": {
     "end_time": "2024-08-09T15:48:55.430495Z",
     "start_time": "2024-08-09T15:48:50.491950Z"
    }
   },
   "source": [
    "import torch\n",
    "import torch.nn as nn\n",
    "import torch.nn.functional as F\n",
    "import torch.utils.data as Data\n",
    "import os\n",
    "import random\n",
    "import collections\n",
    "import math\n",
    "import matplotlib.pyplot as plt\n",
    "%matplotlib inline"
   ],
   "outputs": [],
   "execution_count": 1
  },
  {
   "metadata": {},
   "cell_type": "markdown",
   "source": "# Read data",
   "id": "f571dbdc96db0b02"
  },
  {
   "metadata": {
    "ExecuteTime": {
     "end_time": "2024-08-09T15:48:55.438217Z",
     "start_time": "2024-08-09T15:48:55.431500Z"
    }
   },
   "cell_type": "code",
   "source": [
    "def read_dataset(cls, data_root='Datasets/IMDB/'):\n",
    "    data = []\n",
    "    path = data_root + cls + '/'\n",
    "    for label in ['pos', 'neg']:\n",
    "        folder = path + label + '/'\n",
    "        for f in os.listdir(folder):\n",
    "            with open(folder+f, 'rb') as file:\n",
    "                raw_data = file.read().decode('utf-8').replace('\\n', ' ').lower()   # use gdk code will throw error\n",
    "                data.append([raw_data, 1 if label == \"pos\" else 0])\n",
    "    \n",
    "    random.shuffle(data)\n",
    "    return data"
   ],
   "id": "e9aa6183abaec9f7",
   "outputs": [],
   "execution_count": 2
  },
  {
   "metadata": {
    "ExecuteTime": {
     "end_time": "2024-08-09T15:49:12.695268Z",
     "start_time": "2024-08-09T15:48:55.439232Z"
    }
   },
   "cell_type": "code",
   "source": [
    "random.seed(42)\n",
    "\n",
    "train_data, test_data = read_dataset('train'), read_dataset('test')     # list of [sentence, label]\n",
    "print('number of sentences: ',len(train_data), len(test_data))\n",
    "print('list of [sentence, label]: ',len(train_data[0]), len(test_data[0]))\n",
    "\n",
    "# get tks\n",
    "train_counter = dict(collections.Counter([tk for st, _ in train_data for tk in st.split()]))\n",
    "train_counter_filtered = dict(sorted(filter(lambda x:x[1]>=5, train_counter.items()), key=lambda x:x[1]))\n",
    "print(len(train_counter))\n",
    "print(len(train_counter_filtered))\n",
    "\n",
    "# cause number decreased a lot, we use filtered data\n",
    "# mapping tks from/to integers\n",
    "itos = {i+1:s for i, (s, _) in enumerate(train_counter_filtered.items())}\n",
    "itos[0] = '<unk>' \n",
    "stoi = {s:i for i, s in itos.items()}"
   ],
   "id": "9259856b42ec4df",
   "outputs": [
    {
     "name": "stdout",
     "output_type": "stream",
     "text": [
      "number of sentences:  25000 25000\n",
      "list of [sentence, label]:  2 2\n",
      "251637\n",
      "46157\n"
     ]
    }
   ],
   "execution_count": 3
  },
  {
   "metadata": {
    "ExecuteTime": {
     "end_time": "2024-08-09T15:49:13.027940Z",
     "start_time": "2024-08-09T15:49:12.696275Z"
    }
   },
   "cell_type": "code",
   "source": [
    "# preprocess data\n",
    "# extend || cut sentences to fixed length   (according to the figure, we chose 800)\n",
    "# shape of list : (25000, [800, 1])\n",
    "length_list = [len(st) for st, label in train_data]\n",
    "plt.hist(length_list, bins=200); plt.figure(figsize=(10, 4))\n",
    "plt.show()\n",
    "print(f'mean length : {sum(length_list)/len(length_list)}')\n",
    "print(f'mid length(approximately): {length_list[int(len(length_list)/2)]}')"
   ],
   "id": "74785b0097879592",
   "outputs": [
    {
     "data": {
      "text/plain": [
       "<Figure size 640x480 with 1 Axes>"
      ],
      "image/png": "[encoded data removed]"
     },
     "metadata": {},
     "output_type": "display_data"
    },
    {
     "data": {
      "text/plain": [
       "<Figure size 1000x400 with 0 Axes>"
      ]
     },
     "metadata": {},
     "output_type": "display_data"
    },
    {
     "name": "stdout",
     "output_type": "stream",
     "text": [
      "mean length : 1325.06964\n",
      "mid length(approximately): 802\n"
     ]
    }
   ],
   "execution_count": 4
  },
  {
   "metadata": {
    "ExecuteTime": {
     "end_time": "2024-08-09T16:36:34.308944Z",
     "start_time": "2024-08-09T16:36:29.740143Z"
    }
   },
   "cell_type": "code",
   "source": [
    "list_X, list_y = [], []\n",
    "for data, label in train_data:\n",
    "    X = [stoi[tk] for tk in data.split() if tk in stoi]  # if words don't exist in vocab, else ignore it \n",
    "    if len(X) < 800:\n",
    "        X = X + [0] * (800 - len(X))\n",
    "    else:\n",
    "        X = X[:800]\n",
    "    \n",
    "    list_X.append(X)\n",
    "    list_y.append(label)\n",
    "\n",
    "train_X, train_y = torch.tensor(list_X, dtype=torch.long, device=\"cuda\" if torch.cuda.is_available() else \"cpu\"), torch.tensor(list_y, dtype=torch.long, device=\"cuda\" if torch.cuda.is_available() else \"cpu\")\n",
    "print(train_X.shape)\n",
    "print(train_y.shape)"
   ],
   "id": "46291a6164c1c276",
   "outputs": [
    {
     "name": "stdout",
     "output_type": "stream",
     "text": [
      "torch.Size([25000, 800])\n",
      "torch.Size([25000])\n"
     ]
    }
   ],
   "execution_count": 23
  },
  {
   "metadata": {},
   "cell_type": "markdown",
   "source": "# Build rnn and train it",
   "id": "321756dbc7c8e620"
  },
  {
   "metadata": {
    "ExecuteTime": {
     "end_time": "2024-08-09T16:36:38.839439Z",
     "start_time": "2024-08-09T16:36:38.832220Z"
    }
   },
   "cell_type": "code",
   "source": [
    "class BiRNN(nn.Module):\n",
    "    def __init__(self, vocab_size, vocab_dims, num_hidden, num_layers):\n",
    "        super().__init__()\n",
    "        self.embedding = nn.Embedding(vocab_size, vocab_dims)   # (num_steps, batch_size, vocab_dims)\n",
    "        self.lstm = nn.LSTM(vocab_dims, num_hidden, num_layers=num_layers, bidirectional=True)  # (batch_size, 2 * num_hidden)\n",
    "        self.linear = nn.Linear(4 * num_hidden, 2)  # (batch_size, 2)\n",
    "    \n",
    "    def forward(self, x):   # (num_steps, batch_size)\n",
    "        x = self.embedding(x)  # (num_steps, batch_size, vocab_dims)\n",
    "        outputs, _ = self.lstm(x)   # outputs (num_steps, batch_size, 2 * num_hidden) \n",
    "        logits = self.linear(torch.cat((outputs[0], outputs[-1]), dim=1))   # (batch_size, 2)\n",
    "        return logits"
   ],
   "id": "40d8e7e047c6a54b",
   "outputs": [],
   "execution_count": 24
  },
  {
   "metadata": {
    "ExecuteTime": {
     "end_time": "2024-08-09T16:51:59.347297Z",
     "start_time": "2024-08-09T16:46:09.547934Z"
    }
   },
   "cell_type": "code",
   "source": [
    "torch.manual_seed(42)\n",
    "torch.cuda.empty_cache()\n",
    "\n",
    "num_epochs = 4000\n",
    "batch_size = 64\n",
    "num_hidden = 100\n",
    "num_layers = 2\n",
    "vocab_dims = 100\n",
    "device = \"cuda\" if torch.cuda.is_available() else \"cpu\"\n",
    "vocab_size = len(stoi)\n",
    "net = BiRNN(vocab_size, vocab_dims, num_hidden, num_layers)\n",
    "loss = nn.CrossEntropyLoss()\n",
    "optimizer = torch.optim.Adam(net.parameters(), lr=0.01)\n",
    "\n",
    "scheduler = torch.optim.lr_scheduler.StepLR(optimizer, step_size=1000, gamma=0.1)\n",
    "\n",
    "net.to(device)\n",
    "loss.to(device)\n",
    "\n",
    "# for p in net.parameters():\n",
    "#     p.data *= 0.01\n",
    "\n",
    "lossi = []\n",
    "for epoch in range(num_epochs):\n",
    "    # get batch \n",
    "    idx = torch.randint(0, train_X.shape[0], (batch_size, ))\n",
    "    X, y = train_X[idx].to(device), train_y[idx].to(device) # X (64, 800), y (64)\n",
    "    X = X.permute(1, 0) # [800, 64]\n",
    "    \n",
    "    # forward pass\n",
    "    logits = net(X) # [64, 2]\n",
    "    l = loss(logits, y)\n",
    "    \n",
    "    # backward pass\n",
    "    optimizer.zero_grad()\n",
    "    l.backward()\n",
    "    optimizer.step()\n",
    "    scheduler.step()\n",
    "    \n",
    "    # track stats\n",
    "    lossi.append(l.item())\n",
    "    if epoch % 200 == 0:\n",
    "        print(f'epoch {epoch:5d}, loss {l.item() :10f}')\n",
    "\n",
    "print(f'epoch {epoch:5d}, loss {l.item() :10f}')"
   ],
   "id": "27d474eb4a34f4de",
   "outputs": [
    {
     "name": "stdout",
     "output_type": "stream",
     "text": [
      "epoch     0, loss   0.692877\n",
      "epoch   200, loss   0.495442\n",
      "epoch   400, loss   0.235237\n",
      "epoch   600, loss   0.099837\n",
      "epoch   800, loss   0.108804\n",
      "epoch  1000, loss   0.235082\n",
      "epoch  1200, loss   0.040027\n",
      "epoch  1400, loss   0.097948\n",
      "epoch  1600, loss   0.015191\n",
      "epoch  1800, loss   0.023497\n",
      "epoch  2000, loss   0.009616\n",
      "epoch  2200, loss   0.007658\n",
      "epoch  2400, loss   0.018228\n",
      "epoch  2600, loss   0.014454\n",
      "epoch  2800, loss   0.028731\n",
      "epoch  3000, loss   0.017887\n",
      "epoch  3200, loss   0.038262\n",
      "epoch  3400, loss   0.015176\n",
      "epoch  3600, loss   0.065269\n",
      "epoch  3800, loss   0.006846\n",
      "epoch  3999, loss   0.009397\n"
     ]
    }
   ],
   "execution_count": 35
  },
  {
   "metadata": {
    "ExecuteTime": {
     "end_time": "2024-08-09T16:52:04.648808Z",
     "start_time": "2024-08-09T16:52:04.544156Z"
    }
   },
   "cell_type": "code",
   "source": [
    "plt.plot(lossi)\n",
    "plt.show()"
   ],
   "id": "e5d003cf1b0babdb",
   "outputs": [
    {
     "data": {
      "text/plain": [
       "<Figure size 640x480 with 1 Axes>"
      ],
      "image/png": "[encoded data removed]"
     },
     "metadata": {},
     "output_type": "display_data"
    }
   ],
   "execution_count": 36
  },
  {
   "metadata": {
    "ExecuteTime": {
     "end_time": "2024-08-09T16:52:53.229120Z",
     "start_time": "2024-08-09T16:52:52.415780Z"
    }
   },
   "cell_type": "code",
   "source": "torch.save(net.state_dict(), 'Parameters/BiRNN.pt') # save our model parameters ",
   "id": "9ea24ff8f49ecae4",
   "outputs": [],
   "execution_count": 37
  },
  {
   "metadata": {},
   "cell_type": "markdown",
   "source": "# Test model",
   "id": "8e8e9cf974697dd2"
  },
  {
   "metadata": {
    "ExecuteTime": {
     "end_time": "2024-08-09T16:59:06.214340Z",
     "start_time": "2024-08-09T16:59:05.439152Z"
    }
   },
   "cell_type": "code",
   "source": [
    "def sentimental_analysis(sentence, net):\n",
    "    X = torch.tensor([stoi[tk] if tk in stoi else 0 for tk in sentence.split()], dtype=torch.long, device=\"cuda\" if torch.cuda.is_available() else \"cpu\").view(-1, 1)\n",
    "    logits = net(X)\n",
    "    probs = F.softmax(logits, dim=1)\n",
    "    return 'positive' if torch.argmax(probs).item() == 1 else 'negative' \n",
    "\n",
    "print(sentimental_analysis('fuck this stupid movie', net))\n",
    "print(sentimental_analysis('i love this movie', net))"
   ],
   "id": "919665ccfbf948a6",
   "outputs": [
    {
     "name": "stdout",
     "output_type": "stream",
     "text": [
      "negative\n",
      "positive\n"
     ]
    }
   ],
   "execution_count": 41
  }
 ],
 "metadata": {
  "kernelspec": {
   "display_name": "Python 3",
   "language": "python",
   "name": "python3"
  },
  "language_info": {
   "codemirror_mode": {
    "name": "ipython",
    "version": 2
   },
   "file_extension": ".py",
   "mimetype": "text/x-python",
   "name": "python",
   "nbconvert_exporter": "python",
   "pygments_lexer": "ipython2",
   "version": "2.7.6"
  }
 },
 "nbformat": 4,
 "nbformat_minor": 5
}
