{
 "cells": [
  {
   "cell_type": "code",
   "id": "initial_id",
   "metadata": {
    "collapsed": true,
    "ExecuteTime": {
     "end_time": "2024-07-29T11:22:59.766254Z",
     "start_time": "2024-07-29T11:22:56.950059Z"
    }
   },
   "source": [
    "import torch\n",
    "import torch.nn as nn\n",
    "import torch.nn.functional as F\n",
    "import matplotlib.pyplot as plt\n",
    "%matplotlib inline"
   ],
   "outputs": [],
   "execution_count": 1
  },
  {
   "metadata": {
    "ExecuteTime": {
     "end_time": "2024-07-29T07:41:44.427421Z",
     "start_time": "2024-07-29T07:41:44.414537Z"
    }
   },
   "cell_type": "code",
   "source": [
    "# Read dataset\n",
    "with open('Datasets/JayChouLyrics/jaychou_lyrics.txt', 'r', encoding='utf-8') as lyrics:\n",
    "    data = lyrics.read()\n",
    "\n",
    "data = data[:10000]\n",
    "data = data.replace('\\n', ' ')\n",
    "chars = sorted(list(set(data)))\n",
    "vocab_size = len(chars)\n",
    "\n",
    "stoi = {s:i for i, s in enumerate(chars)}\n",
    "itos = {i:s for s, i in stoi.items()}\n",
    "\n",
    "\n",
    "print(''.join(s for s in data[:20]))\n",
    "print(list(stoi[s] for s in data[:20]))"
   ],
   "id": "36d5be8e88f1fa6",
   "outputs": [
    {
     "name": "stdout",
     "output_type": "stream",
     "text": [
      "想要有直升机 想要和你飞到宇宙去 想要和\n",
      "[403, 862, 506, 696, 149, 513, 0, 403, 862, 201, 84, 1000, 128, 286, 290, 161, 0, 403, 862, 201]\n"
     ]
    }
   ],
   "execution_count": 80
  },
  {
   "metadata": {
    "ExecuteTime": {
     "end_time": "2024-07-29T11:48:13.283546Z",
     "start_time": "2024-07-29T11:48:13.277282Z"
    }
   },
   "cell_type": "code",
   "source": [
    "# Sample\n",
    "import random\n",
    "random.seed(42)\n",
    "\n",
    "# Random sampling from datasets\n",
    "def randomSample(data, batch_size, num_steps):\n",
    "    num_sample = (len(data) - num_steps) // batch_size * batch_size\n",
    "    idx_sample = list(range(num_sample))\n",
    "    random.shuffle(idx_sample)\n",
    "    epoch_size = num_sample // batch_size\n",
    "    \n",
    "    # create an iter\n",
    "    for i in range(epoch_size):\n",
    "        idx = i * epoch_size\n",
    "        batch_idx = idx_sample[idx : idx+batch_size]\n",
    "        X = [data[n : n+num_steps] for n in batch_idx]\n",
    "        y = [data[n+1 : n+num_steps+1] for n in batch_idx]\n",
    "        yield torch.tensor(X), torch.tensor(y)\n",
    "\n",
    "# Sequential sampling\n",
    "def sequentialSample(data, batch_size, num_steps):\n",
    "    num_sample = (len(data) - num_steps) // batch_size * batch_size\n",
    "    idx_sample = list(range(num_sample))\n",
    "    epoch_size = num_sample // batch_size\n",
    "    \n",
    "    # create an iter\n",
    "    for i in range(epoch_size):\n",
    "        idx = i * epoch_size\n",
    "        batch_idx = idx_sample[idx : idx+batch_size]\n",
    "        X = [data[n : n+num_steps] for n in batch_idx]\n",
    "        y = [data[n+1 : n+num_steps+1] for n in batch_idx]\n",
    "        yield torch.tensor(X), torch.tensor(y)"
   ],
   "id": "da7da3066afa6c7d",
   "outputs": [],
   "execution_count": 39
  },
  {
   "metadata": {
    "ExecuteTime": {
     "end_time": "2024-07-29T11:48:13.941841Z",
     "start_time": "2024-07-29T11:48:13.934786Z"
    }
   },
   "cell_type": "code",
   "source": [
    "a = randomSample([1,2,3,4,5,6,7,8], 2, 5)\n",
    "for X, y in a:\n",
    "    print(X)\n",
    "    print(y)\n",
    "\n",
    "a = sequentialSample([1,2,3,4,5,6,7,8], 2, 5)\n",
    "for X, y in a:\n",
    "    print(X)\n",
    "    print(y)"
   ],
   "id": "477cf6f1f68c21b1",
   "outputs": [
    {
     "name": "stdout",
     "output_type": "stream",
     "text": [
      "tensor([[2, 3, 4, 5, 6],\n",
      "        [1, 2, 3, 4, 5]])\n",
      "tensor([[3, 4, 5, 6, 7],\n",
      "        [2, 3, 4, 5, 6]])\n",
      "tensor([[1, 2, 3, 4, 5],\n",
      "        [2, 3, 4, 5, 6]])\n",
      "tensor([[2, 3, 4, 5, 6],\n",
      "        [3, 4, 5, 6, 7]])\n"
     ]
    }
   ],
   "execution_count": 40
  },
  {
   "metadata": {
    "ExecuteTime": {
     "end_time": "2024-07-29T11:26:41.360177Z",
     "start_time": "2024-07-29T11:26:41.355188Z"
    }
   },
   "cell_type": "code",
   "source": "len([1, 1, 1])",
   "id": "9a8e684866a5ff67",
   "outputs": [
    {
     "data": {
      "text/plain": [
       "3"
      ]
     },
     "execution_count": 8,
     "metadata": {},
     "output_type": "execute_result"
    }
   ],
   "execution_count": 8
  }
 ],
 "metadata": {
  "kernelspec": {
   "display_name": "Python 3",
   "language": "python",
   "name": "python3"
  },
  "language_info": {
   "codemirror_mode": {
    "name": "ipython",
    "version": 2
   },
   "file_extension": ".py",
   "mimetype": "text/x-python",
   "name": "python",
   "nbconvert_exporter": "python",
   "pygments_lexer": "ipython2",
   "version": "2.7.6"
  }
 },
 "nbformat": 4,
 "nbformat_minor": 5
}
