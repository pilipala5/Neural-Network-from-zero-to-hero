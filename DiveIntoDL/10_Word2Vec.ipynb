{
 "cells": [
  {
   "cell_type": "code",
   "id": "initial_id",
   "metadata": {
    "collapsed": true,
    "ExecuteTime": {
     "end_time": "2024-08-08T16:01:23.444025Z",
     "start_time": "2024-08-08T16:01:18.964620Z"
    }
   },
   "source": [
    "import collections\n",
    "import math\n",
    "import random\n",
    "import time\n",
    "import numpy as np\n",
    "import torch\n",
    "import torch.nn as nn\n",
    "import torch.nn.functional as F\n",
    "import torch.utils.data as Data\n",
    "import os\n",
    "import requests"
   ],
   "outputs": [],
   "execution_count": 1
  },
  {
   "metadata": {},
   "cell_type": "markdown",
   "source": "# Process dataset",
   "id": "a9a23615dd06b698"
  },
  {
   "metadata": {
    "ExecuteTime": {
     "end_time": "2024-08-08T16:01:23.451137Z",
     "start_time": "2024-08-08T16:01:23.444025Z"
    }
   },
   "cell_type": "code",
   "source": [
    "# download dataset by url\n",
    "def Download(url, path):\n",
    "    if not os.path.exists(path):\n",
    "        response = requests.get(url)\n",
    "        if response.status_code == 200:\n",
    "            with open(path, 'wb') as file:\n",
    "                file.write(response.content)\n",
    "                print(f'successfully download data to {path}')\n",
    "        else:\n",
    "            print(f'failed to get response, error {response.status_code}')"
   ],
   "id": "f898bcc5fa143b0f",
   "outputs": [],
   "execution_count": 2
  },
  {
   "metadata": {
    "ExecuteTime": {
     "end_time": "2024-08-08T16:01:23.457623Z",
     "start_time": "2024-08-08T16:01:23.451137Z"
    }
   },
   "cell_type": "code",
   "source": [
    "Dataset_url = {\n",
    "    \"train\":\"https://raw.githubusercontent.com/wojzaremba/lstm/master/data/ptb.train.txt\",\n",
    "    \"test\":\"https://raw.githubusercontent.com/wojzaremba/lstm/master/data/ptb.train.txt\",\n",
    "    \"valid\":\"https://raw.githubusercontent.com/wojzaremba/lstm/master/data/ptb.valid.txt\"\n",
    "}\n",
    "\n",
    "root = \"Datasets/PTB/\"\n",
    "\n",
    "# if dir is not exist, create a dir to store dataset\n",
    "if not os.path.exists(root):\n",
    "    os.mkdir(root)\n",
    "    print(f\"{root} created\")\n",
    "\n",
    "for name, url in Dataset_url.items():\n",
    "    path = root + name + \".txt\"\n",
    "    Download(url, path)"
   ],
   "id": "cf194cb52a9153d5",
   "outputs": [],
   "execution_count": 3
  },
  {
   "metadata": {
    "ExecuteTime": {
     "end_time": "2024-08-08T16:01:23.652549Z",
     "start_time": "2024-08-08T16:01:23.457623Z"
    }
   },
   "cell_type": "code",
   "source": [
    "# in ptb, end of sentence is <eof>, unknown words is <unk>, number is <N>\n",
    "with open(root+\"train.txt\", 'r') as file:\n",
    "    lines = file.readlines()\n",
    "    raw_dataset = [st.split() for st in lines]"
   ],
   "id": "c4d1dad4f312f12f",
   "outputs": [],
   "execution_count": 4
  },
  {
   "metadata": {
    "ExecuteTime": {
     "end_time": "2024-08-08T16:01:23.658519Z",
     "start_time": "2024-08-08T16:01:23.652549Z"
    }
   },
   "cell_type": "code",
   "source": [
    "for st in raw_dataset[:3]:\n",
    "    print(f\"tokens {len(st)}, {st}\")"
   ],
   "id": "7130a57947cbb39",
   "outputs": [
    {
     "name": "stdout",
     "output_type": "stream",
     "text": [
      "tokens 24, ['aer', 'banknote', 'berlitz', 'calloway', 'centrust', 'cluett', 'fromstein', 'gitano', 'guterman', 'hydro-quebec', 'ipo', 'kia', 'memotec', 'mlx', 'nahb', 'punts', 'rake', 'regatta', 'rubens', 'sim', 'snack-food', 'ssangyong', 'swapo', 'wachter']\n",
      "tokens 15, ['pierre', '<unk>', 'N', 'years', 'old', 'will', 'join', 'the', 'board', 'as', 'a', 'nonexecutive', 'director', 'nov.', 'N']\n",
      "tokens 11, ['mr.', '<unk>', 'is', 'chairman', 'of', '<unk>', 'n.v.', 'the', 'dutch', 'publishing', 'group']\n"
     ]
    }
   ],
   "execution_count": 5
  },
  {
   "metadata": {
    "ExecuteTime": {
     "end_time": "2024-08-08T16:01:23.906390Z",
     "start_time": "2024-08-08T16:01:23.658519Z"
    }
   },
   "cell_type": "code",
   "source": [
    "# build word indices, for simplicity, we only save words appeared at least 5 times\n",
    "counter = collections.Counter([tk for st in raw_dataset for tk in st])\n",
    "counter = dict(filter(lambda x:x[1] >= 5, counter.items()))\n",
    "\n",
    "# mapping words to indices\n",
    "idx_to_token = {idx:tk[0] for idx,tk in enumerate(counter.items())}\n",
    "token_to_idx = {tk:idx for idx, tk in idx_to_token.items()}\n",
    "\n",
    "dataset = [[token_to_idx[tk] for tk in st if tk in token_to_idx] for st in raw_dataset]     # dataset & raw_dataset are 2d list\n",
    "num_tokens = sum([len(st) for st in dataset])\n",
    "print(f'number of tokens : {num_tokens}')     "
   ],
   "id": "49e25bcd4cf9ed6b",
   "outputs": [
    {
     "name": "stdout",
     "output_type": "stream",
     "text": [
      "number of tokens : 887100\n"
     ]
    }
   ],
   "execution_count": 6
  },
  {
   "metadata": {
    "ExecuteTime": {
     "end_time": "2024-08-08T16:01:24.739499Z",
     "start_time": "2024-08-08T16:01:23.906390Z"
    }
   },
   "cell_type": "code",
   "source": [
    "# subsample\n",
    "# every word in dataset has probability to be dropped, and p is max(1 - sqrt(t/f(word)), 0)\n",
    "# f(word) = num_word / num_all, so the more frequent a word is, the more likely it is to be discarded\n",
    "subsampled_dataset = []\n",
    "random.seed(42)\n",
    "\n",
    "for st in dataset:\n",
    "    subsampled_st = []\n",
    "    for tk in st:\n",
    "        p = max(1- math.sqrt(1e-4 * num_tokens / counter[idx_to_token[tk]]), 0) # probability of being dropped\n",
    "        if random.uniform(0, 1) > p:\n",
    "            subsampled_st.append(tk)\n",
    "    subsampled_dataset.append(subsampled_st)\n",
    "\n",
    "num_subtk = sum(len(st) for st in subsampled_dataset)\n",
    "print(f'tokens of subsampled_dataset : {num_subtk}')"
   ],
   "id": "e69995f00d87dc75",
   "outputs": [
    {
     "name": "stdout",
     "output_type": "stream",
     "text": [
      "tokens of subsampled_dataset : 376122\n"
     ]
    }
   ],
   "execution_count": 7
  },
  {
   "metadata": {
    "ExecuteTime": {
     "end_time": "2024-08-08T16:01:24.746172Z",
     "start_time": "2024-08-08T16:01:24.739499Z"
    }
   },
   "cell_type": "code",
   "source": [
    "def get_center_and_context(dataset, max_window_size):\n",
    "    centers, contexts = [], []\n",
    "    for st in dataset:\n",
    "        if len(st) < 2: # numbers of tokens must bigger than 2\n",
    "            continue\n",
    "        else:\n",
    "            centers += st\n",
    "            for center_i in range(len(st)):\n",
    "                window_size = random.randint(1, max_window_size)\n",
    "                indices = list(range(max(0, center_i - window_size), min(len(st), center_i + window_size + 1)))\n",
    "                indices.remove(center_i)\n",
    "                contexts.append([st[idx] for idx in indices])\n",
    "    \n",
    "    return centers, contexts"
   ],
   "id": "de8deb702041f44d",
   "outputs": [],
   "execution_count": 8
  },
  {
   "metadata": {
    "ExecuteTime": {
     "end_time": "2024-08-08T16:01:26.912202Z",
     "start_time": "2024-08-08T16:01:24.746172Z"
    }
   },
   "cell_type": "code",
   "source": [
    "random.seed(42)\n",
    "all_centers, all_contexts = get_center_and_context(dataset, 5)"
   ],
   "id": "fcd7a234164104e6",
   "outputs": [],
   "execution_count": 9
  },
  {
   "metadata": {
    "ExecuteTime": {
     "end_time": "2024-08-08T16:01:26.919324Z",
     "start_time": "2024-08-08T16:01:26.912202Z"
    }
   },
   "cell_type": "code",
   "source": [
    "print(all_centers[:5], all_contexts[:5])        # 1d list && 2d list\n",
    "print([idx_to_token[s] for s in all_centers[:5]])\n",
    "print([[idx_to_token[tk] for tk in st] for st in all_contexts[:5]])"
   ],
   "id": "6eb4c536abe59f62",
   "outputs": [
    {
     "name": "stdout",
     "output_type": "stream",
     "text": [
      "[0, 1, 2, 3, 4] [[1], [0, 2], [0, 1, 3, 4, 5], [1, 2, 4, 5], [2, 3, 5, 6]]\n",
      "['pierre', '<unk>', 'N', 'years', 'old']\n",
      "[['<unk>'], ['pierre', 'N'], ['pierre', '<unk>', 'years', 'old', 'will'], ['<unk>', 'N', 'old', 'will'], ['N', 'years', 'will', 'join']]\n"
     ]
    }
   ],
   "execution_count": 10
  },
  {
   "metadata": {
    "ExecuteTime": {
     "end_time": "2024-08-08T16:01:26.926442Z",
     "start_time": "2024-08-08T16:01:26.919324Z"
    }
   },
   "cell_type": "code",
   "source": [
    "# get negatives to make training faster\n",
    "def get_negatives(all_contexts, sampling_weights, K):\n",
    "    all_negatives, neg_candidates, i = [], [], 0\n",
    "    population = list(range(len(sampling_weights))) # indices of tokens\n",
    "    for context in all_contexts:\n",
    "        negatives = []\n",
    "        while len(negatives) < len(context) * K:    # every tk in context has 5 negative tks\n",
    "            if i == len(neg_candidates):\n",
    "                i, neg_candidates = 0, random.choices(population, sampling_weights, k=int(1e5))\n",
    "            \n",
    "            negatives.append(neg_candidates[i])\n",
    "            i += 1\n",
    "        all_negatives.append(negatives) # 2d list\n",
    "    return all_negatives"
   ],
   "id": "280310b2fe3c8142",
   "outputs": [],
   "execution_count": 11
  },
  {
   "metadata": {
    "ExecuteTime": {
     "end_time": "2024-08-08T16:01:37.698183Z",
     "start_time": "2024-08-08T16:01:26.926442Z"
    }
   },
   "cell_type": "code",
   "source": [
    "sampling_weights = [(counter[tk]/num_tokens)**0.75 for idx, tk in idx_to_token.items()]\n",
    "all_negatives = get_negatives(all_contexts, sampling_weights, 5)"
   ],
   "id": "228e03ff1810ab7b",
   "outputs": [],
   "execution_count": 12
  },
  {
   "metadata": {
    "ExecuteTime": {
     "end_time": "2024-08-08T16:01:37.704172Z",
     "start_time": "2024-08-08T16:01:37.698183Z"
    }
   },
   "cell_type": "code",
   "source": [
    "print([[idx_to_token[tk] for tk in st] for st in all_contexts[:3]])\n",
    "print([[idx_to_token[tk] for tk in st] for st in all_negatives[:3]])"
   ],
   "id": "aef847000833a8c7",
   "outputs": [
    {
     "name": "stdout",
     "output_type": "stream",
     "text": [
      "[['<unk>'], ['pierre', 'N'], ['pierre', '<unk>', 'years', 'old', 'will']]\n",
      "[['another', 'as', 'buyers', 'joint', 'in'], ['compelling', 'a', 'hopes', 'genuine', \"'s\", 'insurance', 'N', 'restructure', 'restated', 'the'], ['cds', '<unk>', 'container', 'chairman', 'new', 'race', 'when', 'probably', 'is', 'most', '1990s', 'kid', 'violated', 'serves', 'securities', 'businessman', 'york', 'any', 'after', 'show', 'oak', 'california', 'threat', 'said', 'and']]\n"
     ]
    }
   ],
   "execution_count": 13
  },
  {
   "metadata": {
    "ExecuteTime": {
     "end_time": "2024-08-08T16:01:37.712924Z",
     "start_time": "2024-08-08T16:01:37.704172Z"
    }
   },
   "cell_type": "code",
   "source": [
    "# read dataset, create our own dataset and preprocess\n",
    "class myDataset(torch.utils.data.Dataset):\n",
    "    def __init__(self, all_centers, all_contexts, all_negatives):\n",
    "        assert len(all_centers) == len(all_contexts) == len(all_negatives)\n",
    "        self.centers = all_centers\n",
    "        self.contexts = all_contexts\n",
    "        self.negatives = all_negatives\n",
    "    \n",
    "    def __getitem__(self, index):\n",
    "        return self.centers[index], self.contexts[index], self.negatives[index]\n",
    "    \n",
    "    def __len__(self):\n",
    "        return len(self.centers)\n",
    "    \n",
    "def batchify(data):  # data is we get from myDataset (batch_size, 3, ...)\n",
    "    max_len = max([len(c) + len(n) for _, c, n in data])\n",
    "    \n",
    "    centers, context_negatives, masks, labels = [], [], [], []\n",
    "    for center, context, negative in data:\n",
    "        con_neg = context + negative\n",
    "        context_negative = con_neg + [0] * (max_len - len(con_neg))\n",
    "        mask = [1] * len(con_neg) + [0] * (max_len - len(con_neg))\n",
    "        label = [1] * len(context) + [0] * (max_len - len(context))\n",
    "        \n",
    "        centers.append(center)\n",
    "        context_negatives.append(context_negative)\n",
    "        masks.append(mask)\n",
    "        labels.append(label)\n",
    "    \n",
    "    return torch.tensor(centers).view(-1, 1), torch.tensor(context_negatives), torch.tensor(masks), torch.tensor(labels)"
   ],
   "id": "b870092878477fc",
   "outputs": [],
   "execution_count": 14
  },
  {
   "metadata": {
    "ExecuteTime": {
     "end_time": "2024-08-08T16:01:37.843601Z",
     "start_time": "2024-08-08T16:01:37.712924Z"
    }
   },
   "cell_type": "code",
   "source": [
    "torch.manual_seed(42)\n",
    "\n",
    "torch_Dataset = myDataset(all_centers, all_contexts, all_negatives)\n",
    "data_iter = Data.DataLoader(torch_Dataset, batch_size=512, shuffle=True, collate_fn=batchify)\n",
    "for data in data_iter:\n",
    "    for t in data:\n",
    "        print(t.shape)\n",
    "    break"
   ],
   "id": "4d6fea5ddedef9a6",
   "outputs": [
    {
     "name": "stdout",
     "output_type": "stream",
     "text": [
      "torch.Size([512, 1])\n",
      "torch.Size([512, 60])\n",
      "torch.Size([512, 60])\n",
      "torch.Size([512, 60])\n"
     ]
    }
   ],
   "execution_count": 15
  },
  {
   "metadata": {
    "ExecuteTime": {
     "end_time": "2024-08-08T16:02:00.675522Z",
     "start_time": "2024-08-08T16:02:00.661781Z"
    }
   },
   "cell_type": "code",
   "source": [
    "def skip_gram(center, contexts_and_negatives, embed_v, embed_u):\n",
    "    v = embed_v(center)    # (512, 1, 100)\n",
    "    u = embed_u(contexts_and_negatives) # (512, 60, 100)\n",
    "    \n",
    "    # A · B = |A|*|B|*cos(θ), show their similarity\n",
    "    pred = torch.bmm(v, u.permute(0, 2, 1)) # (512, 1, 60)   similarity between center and contexts and negatives\n",
    "    return pred"
   ],
   "id": "df590ed6e18265e3",
   "outputs": [],
   "execution_count": 18
  },
  {
   "metadata": {
    "ExecuteTime": {
     "end_time": "2024-08-08T16:20:08.101761Z",
     "start_time": "2024-08-08T16:20:08.091253Z"
    }
   },
   "cell_type": "code",
   "source": [
    "class sigmoidBinaryCrossEntropyLoss(nn.Module):\n",
    "    def __init__(self):\n",
    "        super().__init__()\n",
    "    \n",
    "    def forward(self, input, target, mask=None):\n",
    "        input, target, mask = input.float(), target.float(), mask.float()\n",
    "        res = F.binary_cross_entropy_with_logits(input, target, reduction=\"sum\", weight=mask) # just use \"sum\" not \"none\", which will not consider those elements whose mask is 0?\n",
    "        return res / mask.sum()\n",
    "    \n",
    "loss = sigmoidBinaryCrossEntropyLoss()"
   ],
   "id": "8e82b67bef4ece35",
   "outputs": [],
   "execution_count": 40
  },
  {
   "metadata": {
    "ExecuteTime": {
     "end_time": "2024-08-08T16:20:08.804073Z",
     "start_time": "2024-08-08T16:20:08.780011Z"
    }
   },
   "cell_type": "code",
   "source": [
    "pred = torch.tensor([[1.5, 0.3, -1, 2], [1.1, -0.6, 2.2, 0.4]])\n",
    "label = torch.tensor([[1, 0, 0, 0], [1, 1, 0, 0]])\n",
    "mask = torch.tensor([[1, 1, 1, 1], [1, 1, 1, 0]]) # 掩码变量\n",
    "loss(pred, label, mask)"
   ],
   "id": "5322b83732e4cb42",
   "outputs": [
    {
     "data": {
      "text/plain": [
       "tensor(1.0180)"
      ]
     },
     "execution_count": 41,
     "metadata": {},
     "output_type": "execute_result"
    }
   ],
   "execution_count": 41
  },
  {
   "metadata": {},
   "cell_type": "markdown",
   "source": "# Build skip gram and train it",
   "id": "68ce18630fe1c23"
  },
  {
   "metadata": {
    "ExecuteTime": {
     "end_time": "2024-08-08T16:47:47.501717Z",
     "start_time": "2024-08-08T16:45:49.915522Z"
    }
   },
   "cell_type": "code",
   "source": [
    "torch.manual_seed(42)\n",
    "torch.cuda.empty_cache()\n",
    "\n",
    "embed_size = 100\n",
    "net = nn.Sequential(\n",
    "    nn.Embedding(len(idx_to_token), embed_size),\n",
    "    nn.Embedding(len(idx_to_token), embed_size),\n",
    ") \n",
    "num_epochs = 3\n",
    "device = \"cuda\" if torch.cuda.is_available() else \"cpu\"\n",
    "optimizer = torch.optim.Adam(net.parameters(), lr=0.01)\n",
    "\n",
    "net.to(device)\n",
    "loss.to(device)\n",
    "\n",
    "loss_i = []\n",
    "idx = 0\n",
    "for p in net.parameters():\n",
    "    p.data *= 0.05\n",
    "\n",
    "torch_Dataset = myDataset(all_centers, all_contexts, all_negatives)\n",
    "for epoch in range(num_epochs):\n",
    "    data_iter = Data.DataLoader(torch_Dataset, batch_size=512, shuffle=True, collate_fn=batchify)\n",
    "    for data in data_iter:\n",
    "        centers, context_negatives, masks, labels = [d.to(device) for d in data]\n",
    "        pred = skip_gram(centers, context_negatives, net[0], net[1]).squeeze()    # (512, 60)\n",
    "        l = loss(pred, labels, masks)\n",
    "        \n",
    "        # backward\n",
    "        optimizer.zero_grad()\n",
    "        l.backward()\n",
    "        optimizer.step()\n",
    "        \n",
    "        # track stats\n",
    "        loss_i.append(l.item())\n",
    "        if idx % 200 == 0:\n",
    "            print(f'idx {idx:7d} , loss {l.item():10f}')\n",
    "        idx += 1"
   ],
   "id": "8446ccff9149b4ec",
   "outputs": [
    {
     "name": "stdout",
     "output_type": "stream",
     "text": [
      "idx       0 , loss   0.693248\n",
      "idx     200 , loss   0.421106\n",
      "idx     400 , loss   0.403668\n",
      "idx     600 , loss   0.401952\n",
      "idx     800 , loss   0.399220\n",
      "idx    1000 , loss   0.399000\n",
      "idx    1200 , loss   0.396219\n",
      "idx    1400 , loss   0.391629\n",
      "idx    1600 , loss   0.400140\n",
      "idx    1800 , loss   0.375268\n",
      "idx    2000 , loss   0.380022\n",
      "idx    2200 , loss   0.375297\n",
      "idx    2400 , loss   0.390035\n",
      "idx    2600 , loss   0.383200\n",
      "idx    2800 , loss   0.384796\n",
      "idx    3000 , loss   0.387262\n",
      "idx    3200 , loss   0.383476\n",
      "idx    3400 , loss   0.393316\n",
      "idx    3600 , loss   0.366119\n",
      "idx    3800 , loss   0.366256\n",
      "idx    4000 , loss   0.368739\n",
      "idx    4200 , loss   0.368542\n",
      "idx    4400 , loss   0.378997\n",
      "idx    4600 , loss   0.382528\n",
      "idx    4800 , loss   0.374797\n",
      "idx    5000 , loss   0.387482\n"
     ]
    }
   ],
   "execution_count": 60
  },
  {
   "metadata": {
    "ExecuteTime": {
     "end_time": "2024-08-08T16:47:58.501694Z",
     "start_time": "2024-08-08T16:47:58.301756Z"
    }
   },
   "cell_type": "code",
   "source": [
    "import matplotlib.pyplot as plt\n",
    "%matplotlib inline\n",
    "\n",
    "plt.subplots(1, 2, figsize=(10, 4))\n",
    "plt.subplot(1, 2, 1); plt.plot(loss_i); plt.title(\"loss\")\n",
    "plt.subplot(1, 2, 2); plt.plot([math.log10(t) for t in loss_i]); plt.title(\"log10 loss\")\n",
    "plt.show()"
   ],
   "id": "eb7a5685cdc87713",
   "outputs": [
    {
     "data": {
      "text/plain": [
       "<Figure size 1000x400 with 2 Axes>"
      ],
      "image/png": "[encoded data removed]"
     },
     "metadata": {},
     "output_type": "display_data"
    }
   ],
   "execution_count": 61
  },
  {
   "metadata": {
    "ExecuteTime": {
     "end_time": "2024-08-08T16:49:29.853752Z",
     "start_time": "2024-08-08T16:49:29.732535Z"
    }
   },
   "cell_type": "code",
   "source": [
    "def get_similar_tokens(query_token, k, embed):\n",
    "    W = embed.weight.data\n",
    "    x = W[token_to_idx[query_token]]\n",
    "    # 添加的1e-9是为了数值稳定性\n",
    "    cos = torch.matmul(W, x) / (torch.sum(W * W, dim=1) *\n",
    "    torch.sum(x * x) + 1e-9).sqrt()\n",
    "    _, topk = torch.topk(cos, k=k+1)\n",
    "    topk = topk.cpu().numpy()\n",
    "    for i in topk[1:]: # 除去输⼊词\n",
    "        print('cosine sim=%.3f: %s' % (cos[i], (idx_to_token[i])))\n",
    " \n",
    "get_similar_tokens('chip', 3, net[0])"
   ],
   "id": "9cc3b5d8cdf71a7a",
   "outputs": [
    {
     "name": "stdout",
     "output_type": "stream",
     "text": [
      "cosine sim=0.520: intel\n",
      "cosine sim=0.482: mainframes\n",
      "cosine sim=0.480: machine\n"
     ]
    }
   ],
   "execution_count": 63
  }
 ],
 "metadata": {
  "kernelspec": {
   "display_name": "Python 3",
   "language": "python",
   "name": "python3"
  },
  "language_info": {
   "codemirror_mode": {
    "name": "ipython",
    "version": 2
   },
   "file_extension": ".py",
   "mimetype": "text/x-python",
   "name": "python",
   "nbconvert_exporter": "python",
   "pygments_lexer": "ipython2",
   "version": "2.7.6"
  }
 },
 "nbformat": 4,
 "nbformat_minor": 5
}
