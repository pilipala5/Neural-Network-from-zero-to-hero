{
 "cells": [
  {
   "cell_type": "code",
   "id": "initial_id",
   "metadata": {
    "collapsed": true,
    "ExecuteTime": {
     "end_time": "2024-07-23T07:51:43.872499Z",
     "start_time": "2024-07-23T07:51:40.978803Z"
    }
   },
   "source": [
    "import torch\n",
    "import torch.nn as nn\n",
    "import torch.nn.functional as F\n",
    "import matplotlib.pyplot as plt\n",
    "%matplotlib inline"
   ],
   "outputs": [],
   "execution_count": 1
  },
  {
   "metadata": {
    "ExecuteTime": {
     "end_time": "2024-07-23T07:56:36.723013Z",
     "start_time": "2024-07-23T07:56:36.719281Z"
    }
   },
   "cell_type": "code",
   "source": [
    "# Cross - correlation\n",
    "\n",
    "# step = 1\n",
    "def corr2d(X, K):\n",
    "    h, w = K.shape\n",
    "    y = torch.zeros(X.shape[0] - h + 1, X.shape[1] - w + 1)\n",
    "    for i in range(y.shape[0]):\n",
    "        for j in range(y.shape[1]):\n",
    "            y[i, j] = (X[i:i+h, j:j+w] * K).sum()\n",
    "    return y"
   ],
   "id": "57c91ae4e111fb2d",
   "outputs": [],
   "execution_count": 7
  },
  {
   "metadata": {
    "ExecuteTime": {
     "end_time": "2024-07-23T07:57:59.878623Z",
     "start_time": "2024-07-23T07:57:59.872098Z"
    }
   },
   "cell_type": "code",
   "source": [
    "a = torch.arange(0, 9, 1).view(3, 3)\n",
    "k = torch.arange(0, 4, 1).view(2, 2)\n",
    "c = corr2d(a, k)\n",
    "c"
   ],
   "id": "17e8343ee7e1531e",
   "outputs": [
    {
     "data": {
      "text/plain": [
       "tensor([[19., 25.],\n",
       "        [37., 43.]])"
      ]
     },
     "execution_count": 12,
     "metadata": {},
     "output_type": "execute_result"
    }
   ],
   "execution_count": 12
  },
  {
   "metadata": {
    "ExecuteTime": {
     "end_time": "2024-07-23T08:39:58.857271Z",
     "start_time": "2024-07-23T08:39:58.713078Z"
    }
   },
   "cell_type": "code",
   "source": [
    "# Edge detection\n",
    "img = torch.ones((28, 28))\n",
    "img[:, 2:26] = 0\n",
    "plt.subplots(1, 2, figsize=(7, 7))\n",
    "plt.subplot(1, 2, 1); plt.imshow(img, cmap='gray_r'); plt.title(\"img\")\n",
    "\n",
    "img2 = corr2d(img, torch.tensor([-1, 1]).view(1, -1))\n",
    "plt.subplot(1, 2, 2); plt.imshow(torch.abs(img2), cmap='gray_r') ; plt.title(\"edge\")"
   ],
   "id": "d3a24a3fbdfdd892",
   "outputs": [
    {
     "data": {
      "text/plain": [
       "Text(0.5, 1.0, 'edge')"
      ]
     },
     "execution_count": 46,
     "metadata": {},
     "output_type": "execute_result"
    },
    {
     "data": {
      "text/plain": [
       "<Figure size 700x700 with 2 Axes>"
      ],
      "image/png": "[encoded data removed]"
     },
     "metadata": {},
     "output_type": "display_data"
    }
   ],
   "execution_count": 46
  },
  {
   "metadata": {
    "ExecuteTime": {
     "end_time": "2024-07-23T08:52:16.689164Z",
     "start_time": "2024-07-23T08:51:55.174053Z"
    }
   },
   "cell_type": "code",
   "source": [
    "# Train \n",
    "torch.manual_seed(42)\n",
    "\n",
    "Kernal = torch.randn((1, 2), dtype=torch.float, requires_grad=True)\n",
    "Bias = torch.zeros((1, 1), dtype=torch.float, requires_grad=True)\n",
    "parameters = [Kernal, Bias]\n",
    "lr = 0.1\n",
    "\n",
    "for i in range(1000):\n",
    "    # forward pass\n",
    "    img_hat = corr2d(img, Kernal) + Bias\n",
    "    l = ((img_hat - img2)**2).mean()\n",
    "    \n",
    "    # backward pass\n",
    "    for p in parameters:\n",
    "        p.grad = None\n",
    "    l.backward()\n",
    "    for p in parameters:\n",
    "        p.data += -lr * p.grad\n",
    "    \n",
    "    if i % 200 == 0:\n",
    "        print(f'epoch {i:5d} loss: {l.item():10f}')\n",
    "print(f'epoch {i+1:5d} loss: {l.item():10f}')"
   ],
   "id": "78a486347c60b917",
   "outputs": [
    {
     "name": "stdout",
     "output_type": "stream",
     "text": [
      "epoch     0 loss:   0.110337\n",
      "epoch   200 loss:   0.004613\n",
      "epoch   400 loss:   0.000236\n",
      "epoch   600 loss:   0.000012\n",
      "epoch   800 loss:   0.000001\n",
      "epoch  1000 loss:   0.000000\n"
     ]
    }
   ],
   "execution_count": 58
  },
  {
   "metadata": {
    "ExecuteTime": {
     "end_time": "2024-07-23T08:52:20.117644Z",
     "start_time": "2024-07-23T08:52:20.112807Z"
    }
   },
   "cell_type": "code",
   "source": [
    "print(Kernal)\n",
    "print(Bias)"
   ],
   "id": "28d48f39910cc5d8",
   "outputs": [
    {
     "name": "stdout",
     "output_type": "stream",
     "text": [
      "tensor([[-0.9993,  0.9993]], requires_grad=True)\n",
      "tensor([[-1.9565e-14]], requires_grad=True)\n"
     ]
    }
   ],
   "execution_count": 59
  },
  {
   "metadata": {
    "ExecuteTime": {
     "end_time": "2024-07-23T12:37:01.340221Z",
     "start_time": "2024-07-23T12:37:01.335233Z"
    }
   },
   "cell_type": "code",
   "source": [
    "# Multi-channel convolution\n",
    "X = torch.tensor([[[0, 1, 2], [3, 4, 5], [6, 7, 8]],\n",
    "                  [[1, 2, 3], [4, 5, 6], [7, 8, 9]]])\n",
    "K = torch.tensor([[[0, 1], [2, 3]], [[1, 2], [3, 4]]])\n",
    "\n",
    "def corr2d_multi_in(x, k):\n",
    "    c, h, w = k.shape\n",
    "    \n",
    "    # step = 1\n",
    "    out = torch.zeros(x.shape[1] - h + 1, x.shape[2] - w + 1)\n",
    "    for i in range(c):\n",
    "        out += corr2d(x[i], k[i])\n",
    "    return out  \n",
    "\n",
    "print(corr2d_multi_in(X, K))"
   ],
   "id": "2b66bbc6ee74da50",
   "outputs": [
    {
     "name": "stdout",
     "output_type": "stream",
     "text": [
      "tensor([[ 56.,  72.],\n",
      "        [104., 120.]])\n"
     ]
    }
   ],
   "execution_count": 76
  },
  {
   "metadata": {
    "ExecuteTime": {
     "end_time": "2024-07-23T12:43:16.381682Z",
     "start_time": "2024-07-23T12:42:52.620837Z"
    }
   },
   "cell_type": "code",
   "source": [
    "X = torch.tensor([[[0, 1, 2], [3, 4, 5], [6, 7, 8]],\n",
    "                  [[1, 2, 3], [4, 5, 6], [7, 8, 9]]])\n",
    "K = torch.tensor([[[0, 1], [2, 3]], [[1, 2], [3, 4]]])\n",
    "\n",
    "def corr2d_multi_in_out(x, K):\n",
    "    c_o, c_i, h, w = K.shape\n",
    "    out = []\n",
    "    for k in K:\n",
    "        out.append(corr2d_multi_in(x, k))\n",
    "    \n",
    "    y = torch.stack(out)\n",
    "    return y\n",
    "\n",
    "K = torch.stack([K, K+1, K+2])\n",
    "print(K.shape)\n",
    "print(corr2d_multi_in_out(X, K))"
   ],
   "id": "9a2d577f4ee4798a",
   "outputs": [
    {
     "name": "stdout",
     "output_type": "stream",
     "text": [
      "torch.Size([3, 2, 2, 2])\n",
      "tensor([[[ 56.,  72.],\n",
      "         [104., 120.]],\n",
      "\n",
      "        [[ 76., 100.],\n",
      "         [148., 172.]],\n",
      "\n",
      "        [[ 96., 128.],\n",
      "         [192., 224.]]])\n"
     ]
    }
   ],
   "execution_count": 95
  },
  {
   "metadata": {
    "ExecuteTime": {
     "end_time": "2024-07-23T12:44:28.952208Z",
     "start_time": "2024-07-23T12:44:28.948556Z"
    }
   },
   "cell_type": "code",
   "source": [
    "a = nn.Conv2d(3, 5, 2)\n",
    "for p in a.parameters():\n",
    "    print(p.shape)"
   ],
   "id": "10537dfcf7160f98",
   "outputs": [
    {
     "name": "stdout",
     "output_type": "stream",
     "text": [
      "torch.Size([5, 3, 2, 2])\n",
      "torch.Size([5])\n"
     ]
    }
   ],
   "execution_count": 99
  }
 ],
 "metadata": {
  "kernelspec": {
   "display_name": "Python 3",
   "language": "python",
   "name": "python3"
  },
  "language_info": {
   "codemirror_mode": {
    "name": "ipython",
    "version": 2
   },
   "file_extension": ".py",
   "mimetype": "text/x-python",
   "name": "python",
   "nbconvert_exporter": "python",
   "pygments_lexer": "ipython2",
   "version": "2.7.6"
  }
 },
 "nbformat": 4,
 "nbformat_minor": 5
}
