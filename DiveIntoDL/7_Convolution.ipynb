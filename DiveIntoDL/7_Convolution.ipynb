{
 "cells": [
  {
   "cell_type": "code",
   "id": "initial_id",
   "metadata": {
    "collapsed": true,
    "ExecuteTime": {
     "end_time": "2024-07-24T11:37:45.646254Z",
     "start_time": "2024-07-24T11:37:42.313702Z"
    }
   },
   "source": [
    "import torch\n",
    "import torch.nn as nn\n",
    "import torch.nn.functional as F\n",
    "import matplotlib.pyplot as plt\n",
    "%matplotlib inline"
   ],
   "outputs": [],
   "execution_count": 1
  },
  {
   "metadata": {
    "ExecuteTime": {
     "end_time": "2024-07-23T07:56:36.723013Z",
     "start_time": "2024-07-23T07:56:36.719281Z"
    }
   },
   "cell_type": "code",
   "source": [
    "# Cross - correlation\n",
    "\n",
    "# step = 1\n",
    "def corr2d(X, K):\n",
    "    h, w = K.shape\n",
    "    y = torch.zeros(X.shape[0] - h + 1, X.shape[1] - w + 1)\n",
    "    for i in range(y.shape[0]):\n",
    "        for j in range(y.shape[1]):\n",
    "            y[i, j] = (X[i:i+h, j:j+w] * K).sum()\n",
    "    return y"
   ],
   "id": "57c91ae4e111fb2d",
   "outputs": [],
   "execution_count": 7
  },
  {
   "metadata": {
    "ExecuteTime": {
     "end_time": "2024-07-23T07:57:59.878623Z",
     "start_time": "2024-07-23T07:57:59.872098Z"
    }
   },
   "cell_type": "code",
   "source": [
    "a = torch.arange(0, 9, 1).view(3, 3)\n",
    "k = torch.arange(0, 4, 1).view(2, 2)\n",
    "c = corr2d(a, k)\n",
    "c"
   ],
   "id": "17e8343ee7e1531e",
   "outputs": [
    {
     "data": {
      "text/plain": [
       "tensor([[19., 25.],\n",
       "        [37., 43.]])"
      ]
     },
     "execution_count": 12,
     "metadata": {},
     "output_type": "execute_result"
    }
   ],
   "execution_count": 12
  },
  {
   "metadata": {
    "ExecuteTime": {
     "end_time": "2024-07-23T08:39:58.857271Z",
     "start_time": "2024-07-23T08:39:58.713078Z"
    }
   },
   "cell_type": "code",
   "source": [
    "# Edge detection\n",
    "img = torch.ones((28, 28))\n",
    "img[:, 2:26] = 0\n",
    "plt.subplots(1, 2, figsize=(7, 7))\n",
    "plt.subplot(1, 2, 1); plt.imshow(img, cmap='gray_r'); plt.title(\"img\")\n",
    "\n",
    "img2 = corr2d(img, torch.tensor([-1, 1]).view(1, -1))\n",
    "plt.subplot(1, 2, 2); plt.imshow(torch.abs(img2), cmap='gray_r') ; plt.title(\"edge\")"
   ],
   "id": "d3a24a3fbdfdd892",
   "outputs": [
    {
     "data": {
      "text/plain": [
       "Text(0.5, 1.0, 'edge')"
      ]
     },
     "execution_count": 46,
     "metadata": {},
     "output_type": "execute_result"
    },
    {
     "data": {
      "text/plain": [
       "<Figure size 700x700 with 2 Axes>"
      ],
      "image/png": "[encoded data removed]"
     },
     "metadata": {},
     "output_type": "display_data"
    }
   ],
   "execution_count": 46
  },
  {
   "metadata": {
    "ExecuteTime": {
     "end_time": "2024-07-23T08:52:16.689164Z",
     "start_time": "2024-07-23T08:51:55.174053Z"
    }
   },
   "cell_type": "code",
   "source": [
    "# Train \n",
    "torch.manual_seed(42)\n",
    "\n",
    "Kernal = torch.randn((1, 2), dtype=torch.float, requires_grad=True)\n",
    "Bias = torch.zeros((1, 1), dtype=torch.float, requires_grad=True)\n",
    "parameters = [Kernal, Bias]\n",
    "lr = 0.1\n",
    "\n",
    "for i in range(1000):\n",
    "    # forward pass\n",
    "    img_hat = corr2d(img, Kernal) + Bias\n",
    "    l = ((img_hat - img2)**2).mean()\n",
    "    \n",
    "    # backward pass\n",
    "    for p in parameters:\n",
    "        p.grad = None\n",
    "    l.backward()\n",
    "    for p in parameters:\n",
    "        p.data += -lr * p.grad\n",
    "    \n",
    "    if i % 200 == 0:\n",
    "        print(f'epoch {i:5d} loss: {l.item():10f}')\n",
    "print(f'epoch {i+1:5d} loss: {l.item():10f}')"
   ],
   "id": "78a486347c60b917",
   "outputs": [
    {
     "name": "stdout",
     "output_type": "stream",
     "text": [
      "epoch     0 loss:   0.110337\n",
      "epoch   200 loss:   0.004613\n",
      "epoch   400 loss:   0.000236\n",
      "epoch   600 loss:   0.000012\n",
      "epoch   800 loss:   0.000001\n",
      "epoch  1000 loss:   0.000000\n"
     ]
    }
   ],
   "execution_count": 58
  },
  {
   "metadata": {
    "ExecuteTime": {
     "end_time": "2024-07-23T08:52:20.117644Z",
     "start_time": "2024-07-23T08:52:20.112807Z"
    }
   },
   "cell_type": "code",
   "source": [
    "print(Kernal)\n",
    "print(Bias)"
   ],
   "id": "28d48f39910cc5d8",
   "outputs": [
    {
     "name": "stdout",
     "output_type": "stream",
     "text": [
      "tensor([[-0.9993,  0.9993]], requires_grad=True)\n",
      "tensor([[-1.9565e-14]], requires_grad=True)\n"
     ]
    }
   ],
   "execution_count": 59
  },
  {
   "metadata": {
    "ExecuteTime": {
     "end_time": "2024-07-23T12:37:01.340221Z",
     "start_time": "2024-07-23T12:37:01.335233Z"
    }
   },
   "cell_type": "code",
   "source": [
    "# Multi-channel convolution\n",
    "X = torch.tensor([[[0, 1, 2], [3, 4, 5], [6, 7, 8]],\n",
    "                  [[1, 2, 3], [4, 5, 6], [7, 8, 9]]])\n",
    "K = torch.tensor([[[0, 1], [2, 3]], [[1, 2], [3, 4]]])\n",
    "\n",
    "def corr2d_multi_in(x, k):\n",
    "    c, h, w = k.shape\n",
    "    \n",
    "    # step = 1\n",
    "    out = torch.zeros(x.shape[1] - h + 1, x.shape[2] - w + 1)\n",
    "    for i in range(c):\n",
    "        out += corr2d(x[i], k[i])\n",
    "    return out  \n",
    "\n",
    "print(corr2d_multi_in(X, K))"
   ],
   "id": "2b66bbc6ee74da50",
   "outputs": [
    {
     "name": "stdout",
     "output_type": "stream",
     "text": [
      "tensor([[ 56.,  72.],\n",
      "        [104., 120.]])\n"
     ]
    }
   ],
   "execution_count": 76
  },
  {
   "metadata": {
    "ExecuteTime": {
     "end_time": "2024-07-23T12:43:16.381682Z",
     "start_time": "2024-07-23T12:42:52.620837Z"
    }
   },
   "cell_type": "code",
   "source": [
    "X = torch.tensor([[[0, 1, 2], [3, 4, 5], [6, 7, 8]],\n",
    "                  [[1, 2, 3], [4, 5, 6], [7, 8, 9]]])\n",
    "K = torch.tensor([[[0, 1], [2, 3]], [[1, 2], [3, 4]]])\n",
    "\n",
    "def corr2d_multi_in_out(x, K):\n",
    "    c_o, c_i, h, w = K.shape\n",
    "    out = []\n",
    "    for k in K:\n",
    "        out.append(corr2d_multi_in(x, k))\n",
    "    \n",
    "    y = torch.stack(out)\n",
    "    return y\n",
    "\n",
    "K = torch.stack([K, K+1, K+2])\n",
    "print(K.shape)\n",
    "print(corr2d_multi_in_out(X, K))"
   ],
   "id": "9a2d577f4ee4798a",
   "outputs": [
    {
     "name": "stdout",
     "output_type": "stream",
     "text": [
      "torch.Size([3, 2, 2, 2])\n",
      "tensor([[[ 56.,  72.],\n",
      "         [104., 120.]],\n",
      "\n",
      "        [[ 76., 100.],\n",
      "         [148., 172.]],\n",
      "\n",
      "        [[ 96., 128.],\n",
      "         [192., 224.]]])\n"
     ]
    }
   ],
   "execution_count": 95
  },
  {
   "metadata": {
    "ExecuteTime": {
     "end_time": "2024-07-24T04:37:11.541486Z",
     "start_time": "2024-07-24T04:37:11.537939Z"
    }
   },
   "cell_type": "code",
   "source": [
    "a = nn.Conv2d(3, 5, 2)\n",
    "for p in a.parameters():\n",
    "    print(p.shape)"
   ],
   "id": "10537dfcf7160f98",
   "outputs": [
    {
     "name": "stdout",
     "output_type": "stream",
     "text": [
      "torch.Size([5, 3, 2, 2])\n",
      "torch.Size([5])\n"
     ]
    }
   ],
   "execution_count": 7
  },
  {
   "metadata": {},
   "cell_type": "markdown",
   "source": "# Build Lenet",
   "id": "e2e34f162414f665"
  },
  {
   "metadata": {
    "ExecuteTime": {
     "end_time": "2024-07-24T11:37:58.950391Z",
     "start_time": "2024-07-24T11:37:56.892253Z"
    }
   },
   "cell_type": "code",
   "source": [
    "import torchvision\n",
    "from torchvision import transforms\n",
    "import torch.utils.data as Data\n",
    "\n",
    "# Get Fashion-MNIST\n",
    "root = 'Datasets/FashionMNIST'\n",
    "train_data = torchvision.datasets.FashionMNIST(root, download=False, train=True, transform=transforms.ToTensor())   # ()\n",
    "test_data = torchvision.datasets.FashionMNIST(root, download=False, train=False, transform=transforms.ToTensor())\n",
    "batch_size = 256\n",
    "\n",
    "train_X, train_y = train_data.data.float().div(255), train_data.targets\n",
    "test_X, test_y = test_data.data.float().div(255), test_data.targets\n",
    "print(train_X.max().item())\n",
    "\n",
    "print(train_X.shape, train_y.shape)\n",
    "plt.figure(figsize=(3, 3)); plt.imshow(train_X[0].squeeze())"
   ],
   "id": "6da4ed9565c67238",
   "outputs": [
    {
     "name": "stdout",
     "output_type": "stream",
     "text": [
      "1.0\n",
      "torch.Size([60000, 28, 28]) torch.Size([60000])\n"
     ]
    },
    {
     "data": {
      "text/plain": [
       "<matplotlib.image.AxesImage at 0x247edf650d0>"
      ]
     },
     "execution_count": 2,
     "metadata": {},
     "output_type": "execute_result"
    },
    {
     "data": {
      "text/plain": [
       "<Figure size 300x300 with 1 Axes>"
      ],
      "image/png": "[encoded data removed]"
     },
     "metadata": {},
     "output_type": "display_data"
    }
   ],
   "execution_count": 2
  },
  {
   "metadata": {
    "ExecuteTime": {
     "end_time": "2024-07-24T07:03:33.823193Z",
     "start_time": "2024-07-24T07:03:33.780495Z"
    }
   },
   "cell_type": "code",
   "source": [
    "train_iter = Data.DataLoader(train_data, batch_size=128, shuffle=True)\n",
    "for mx, my in train_iter:\n",
    "    print(mx.shape)\n",
    "    print(my.shape)\n",
    "    break"
   ],
   "id": "ebd0959cdcf27bf7",
   "outputs": [
    {
     "name": "stdout",
     "output_type": "stream",
     "text": [
      "torch.Size([128, 1, 28, 28])\n",
      "torch.Size([128])\n"
     ]
    }
   ],
   "execution_count": 109
  },
  {
   "metadata": {
    "ExecuteTime": {
     "end_time": "2024-07-24T11:38:03.581613Z",
     "start_time": "2024-07-24T11:38:03.576264Z"
    }
   },
   "cell_type": "code",
   "source": [
    "# Build Lenet\n",
    "class Lenet(nn.Module):\n",
    "    def __init__(self, img_size, img_class): # consider h = w , c = 1\n",
    "        super().__init__()\n",
    "        self.size = img_size\n",
    "        self.classes = img_class\n",
    "        self.c1 = nn.Conv2d(1, 6, 5)    # (in_channel, out_channel, kernal_size, ...) more details in pytorch documentation\n",
    "        self.s2 = nn.Sequential(\n",
    "            nn.AvgPool2d(2),\n",
    "            nn.Conv2d(6, 6, 1)\n",
    "        )\n",
    "        self.c3 = nn.Conv2d(6, 16, 5)\n",
    "        self.s4 = nn.Sequential(\n",
    "            nn.AvgPool2d(2),\n",
    "            nn.Conv2d(16, 16, 1)\n",
    "        )\n",
    "        self.c5 = nn.Conv2d(16, 120, int(img_size/4 - 3))\n",
    "        self.f6 = nn.Linear(120, 84)\n",
    "        self.f7 = nn.Linear(84, img_class)\n",
    "        \n",
    "        self.sigmoid = nn.Sigmoid()\n",
    "    \n",
    "    def forward(self, img):\n",
    "        x = self.c1(img)   # 256, 6, 24, 24\n",
    "        x = self.s2(x)   # 256, 6, 12, 12\n",
    "        x = self.sigmoid(x) # 256, 6, 12, 12\n",
    "        x = self.c3(x)  # 256, 16, 8, 8\n",
    "        x = self.s4(x)  # 256, 16, 4, 4\n",
    "        x = self.sigmoid(x) # 256, 16, 4, 4\n",
    "        x = self.c5(x)  # 256, 120, 1, 1\n",
    "        x = self.sigmoid(x).view(x.shape[0], -1) # 256, 120\n",
    "        x = self.f6(x)  # 256, 84\n",
    "        x = self.sigmoid(x)\n",
    "        x = self.f7(x) # 256, 10(classes)\n",
    "        return x"
   ],
   "id": "bafd70e096a23ec8",
   "outputs": [],
   "execution_count": 3
  },
  {
   "metadata": {
    "ExecuteTime": {
     "end_time": "2024-07-24T11:38:07.517101Z",
     "start_time": "2024-07-24T11:38:05.113672Z"
    }
   },
   "cell_type": "code",
   "source": [
    "device = \"cuda\" if torch.cuda.is_available() else \"cpu\"\n",
    "test_X = test_X.unsqueeze(1).to(device)\n",
    "test_y = test_y.to(device)\n",
    "train_X = train_X.unsqueeze(1).to(device)\n",
    "train_y = train_y.to(device)\n"
   ],
   "id": "60ac1b9950942e6d",
   "outputs": [],
   "execution_count": 4
  },
  {
   "metadata": {
    "ExecuteTime": {
     "end_time": "2024-07-24T07:03:37.286871Z",
     "start_time": "2024-07-24T07:03:37.282729Z"
    }
   },
   "cell_type": "code",
   "source": "print(train_X.shape, train_X.device)",
   "id": "e6ab097f4ab55c01",
   "outputs": [
    {
     "name": "stdout",
     "output_type": "stream",
     "text": [
      "torch.Size([60000, 1, 28, 28]) cuda:0\n"
     ]
    }
   ],
   "execution_count": 112
  },
  {
   "metadata": {
    "ExecuteTime": {
     "end_time": "2024-07-24T11:39:09.859366Z",
     "start_time": "2024-07-24T11:38:08.598726Z"
    }
   },
   "cell_type": "code",
   "source": [
    "# Train \n",
    "torch.manual_seed(42)\n",
    "\n",
    "net = nn.Sequential(\n",
    "    Lenet(28, 10)\n",
    ")\n",
    "loss = nn.CrossEntropyLoss()\n",
    "loss_train = []\n",
    "loss_test = []\n",
    "num_epoch = 10000\n",
    "batch_size = 256\n",
    "lr = 0.01\n",
    "optimizer = torch.optim.AdamW(net.parameters(), lr=lr)\n",
    "\n",
    "net.to(device)\n",
    "loss.to(device)\n",
    "\n",
    "\n",
    "for i in range(num_epoch):\n",
    "    \n",
    "    # batch\n",
    "    ix = torch.randint(0, train_X.shape[0], (batch_size,))\n",
    "    X, y = train_X[ix], train_y[ix]\n",
    "    \n",
    "    # forward pass\n",
    "    out = net(X)\n",
    "    l = loss(out, y)\n",
    "    \n",
    "    # backward pass\n",
    "    optimizer.zero_grad()\n",
    "    l.backward()\n",
    "    optimizer.step()\n",
    "    \n",
    "    # track stats\n",
    "    if i % 1000 == 0:\n",
    "        train_loss = loss(net(train_X), train_y).item()\n",
    "        test_loss = loss(net(test_X), test_y).item()\n",
    "        \n",
    "        loss_train.append(train_loss)\n",
    "        loss_test.append(test_loss)\n",
    "        print(f'epoch {i :5d} / {num_epoch : 5d} train_loss {train_loss:7f}, test_loss {test_loss:7f}')\n",
    "\n",
    "train_loss = l.item()\n",
    "test_loss = loss(net(test_X), test_y).item()\n",
    "\n",
    "loss_train.append(train_loss)\n",
    "loss_test.append(test_loss)\n",
    "print(f'epoch {i+1 :5d} / {num_epoch : 5d} train_loss {train_loss:7f}, test_loss {test_loss:7f}')"
   ],
   "id": "d1fa6bf8211d399e",
   "outputs": [
    {
     "name": "stdout",
     "output_type": "stream",
     "text": [
      "epoch     0 /  10000 train_loss 2.380706, test_loss 2.380698\n",
      "epoch  1000 /  10000 train_loss 0.535223, test_loss 0.569149\n",
      "epoch  2000 /  10000 train_loss 0.382097, test_loss 0.430154\n",
      "epoch  3000 /  10000 train_loss 0.352719, test_loss 0.406449\n",
      "epoch  4000 /  10000 train_loss 0.346201, test_loss 0.407121\n",
      "epoch  5000 /  10000 train_loss 0.304148, test_loss 0.376542\n",
      "epoch  6000 /  10000 train_loss 0.303145, test_loss 0.389733\n",
      "epoch  7000 /  10000 train_loss 0.281296, test_loss 0.364729\n",
      "epoch  8000 /  10000 train_loss 0.268418, test_loss 0.371466\n",
      "epoch  9000 /  10000 train_loss 0.259642, test_loss 0.361134\n",
      "epoch  9999 /  10000 train_loss 0.223086, test_loss 0.350868\n"
     ]
    }
   ],
   "execution_count": 5
  },
  {
   "metadata": {
    "ExecuteTime": {
     "end_time": "2024-07-24T07:05:09.715854Z",
     "start_time": "2024-07-24T07:05:09.712145Z"
    }
   },
   "cell_type": "code",
   "source": "print(train_X.shape)",
   "id": "1ab73e179e87da1d",
   "outputs": [
    {
     "name": "stdout",
     "output_type": "stream",
     "text": [
      "torch.Size([60000, 1, 28, 28])\n"
     ]
    }
   ],
   "execution_count": 114
  },
  {
   "metadata": {
    "ExecuteTime": {
     "end_time": "2024-07-24T07:05:12.375513Z",
     "start_time": "2024-07-24T07:05:12.299521Z"
    }
   },
   "cell_type": "code",
   "source": [
    "plt.figure(figsize=(6, 3))\n",
    "plt.plot(loss_train, label='train_loss') ; plt.plot(loss_test, label='test_loss')\n",
    "plt.legend()"
   ],
   "id": "a7ce28fc1e00de0e",
   "outputs": [
    {
     "data": {
      "text/plain": [
       "<matplotlib.legend.Legend at 0x1e3917ce030>"
      ]
     },
     "execution_count": 115,
     "metadata": {},
     "output_type": "execute_result"
    },
    {
     "data": {
      "text/plain": [
       "<Figure size 600x300 with 1 Axes>"
      ],
      "image/svg+xml": "<?xml version=\"1.0\" encoding=\"utf-8\" standalone=\"no\"?>\n<!DOCTYPE svg PUBLIC \"-//W3C//DTD SVG 1.1//EN\"\n  \"http://www.w3.org/Graphics/SVG/1.1/DTD/svg11.dtd\">\n<svg xmlns:xlink=\"http://www.w3.org/1999/xlink\" width=\"372.103125pt\" height=\"197.398125pt\" viewBox=\"0 0 372.103125 197.398125\" xmlns=\"http://www.w3.org/2000/svg\" version=\"1.1\">\n <metadata>\n  <rdf:RDF xmlns:dc=\"http://purl.org/dc/elements/1.1/\" xmlns:cc=\"http://creativecommons.org/ns#\" xmlns:rdf=\"http://www.w3.org/1999/02/22-rdf-syntax-ns#\">\n   <cc:Work>\n    <dc:type rdf:resource=\"http://purl.org/dc/dcmitype/StillImage\"/>\n    <dc:date>2024-07-24T15:05:12.360320</dc:date>\n    <dc:format>image/svg+xml</dc:format>\n    <dc:creator>\n     <cc:Agent>\n      <dc:title>Matplotlib v3.8.4, https://matplotlib.org/</dc:title>\n     </cc:Agent>\n    </dc:creator>\n   </cc:Work>\n  </rdf:RDF>\n </metadata>\n <defs>\n  <style type=\"text/css\">*{stroke-linejoin: round; stroke-linecap: butt}</style>\n </defs>\n <g id=\"figure_1\">\n  <g id=\"patch_1\">\n   <path d=\"M 0 197.398125 \nL 372.103125 197.398125 \nL 372.103125 0 \nL 0 0 \nz\n\" style=\"fill: #ffffff\"/>\n  </g>\n  <g id=\"axes_1\">\n   <g id=\"patch_2\">\n    <path d=\"M 30.103125 173.52 \nL 364.903125 173.52 \nL 364.903125 7.2 \nL 30.103125 7.2 \nz\n\" style=\"fill: #ffffff\"/>\n   </g>\n   <g id=\"matplotlib.axis_1\">\n    <g id=\"xtick_1\">\n     <g id=\"line2d_1\">\n      <defs>\n       <path id=\"m6b36b549c4\" d=\"M 0 0 \nL 0 3.5 \n\" style=\"stroke: #000000; stroke-width: 0.8\"/>\n      </defs>\n      <g>\n       <use xlink:href=\"#m6b36b549c4\" x=\"45.321307\" y=\"173.52\" style=\"stroke: #000000; stroke-width: 0.8\"/>\n      </g>\n     </g>\n     <g id=\"text_1\">\n      <!-- 0 -->\n      <g transform=\"translate(42.140057 188.118438) scale(0.1 -0.1)\">\n       <defs>\n        <path id=\"DejaVuSans-30\" d=\"M 2034 4250 \nQ 1547 4250 1301 3770 \nQ 1056 3291 1056 2328 \nQ 1056 1369 1301 889 \nQ 1547 409 2034 409 \nQ 2525 409 2770 889 \nQ 3016 1369 3016 2328 \nQ 3016 3291 2770 3770 \nQ 2525 4250 2034 4250 \nz\nM 2034 4750 \nQ 2819 4750 3233 4129 \nQ 3647 3509 3647 2328 \nQ 3647 1150 3233 529 \nQ 2819 -91 2034 -91 \nQ 1250 -91 836 529 \nQ 422 1150 422 2328 \nQ 422 3509 836 4129 \nQ 1250 4750 2034 4750 \nz\n\" transform=\"scale(0.015625)\"/>\n       </defs>\n       <use xlink:href=\"#DejaVuSans-30\"/>\n      </g>\n     </g>\n    </g>\n    <g id=\"xtick_2\">\n     <g id=\"line2d_2\">\n      <g>\n       <use xlink:href=\"#m6b36b549c4\" x=\"106.194034\" y=\"173.52\" style=\"stroke: #000000; stroke-width: 0.8\"/>\n      </g>\n     </g>\n     <g id=\"text_2\">\n      <!-- 2 -->\n      <g transform=\"translate(103.012784 188.118438) scale(0.1 -0.1)\">\n       <defs>\n        <path id=\"DejaVuSans-32\" d=\"M 1228 531 \nL 3431 531 \nL 3431 0 \nL 469 0 \nL 469 531 \nQ 828 903 1448 1529 \nQ 2069 2156 2228 2338 \nQ 2531 2678 2651 2914 \nQ 2772 3150 2772 3378 \nQ 2772 3750 2511 3984 \nQ 2250 4219 1831 4219 \nQ 1534 4219 1204 4116 \nQ 875 4013 500 3803 \nL 500 4441 \nQ 881 4594 1212 4672 \nQ 1544 4750 1819 4750 \nQ 2544 4750 2975 4387 \nQ 3406 4025 3406 3419 \nQ 3406 3131 3298 2873 \nQ 3191 2616 2906 2266 \nQ 2828 2175 2409 1742 \nQ 1991 1309 1228 531 \nz\n\" transform=\"scale(0.015625)\"/>\n       </defs>\n       <use xlink:href=\"#DejaVuSans-32\"/>\n      </g>\n     </g>\n    </g>\n    <g id=\"xtick_3\">\n     <g id=\"line2d_3\">\n      <g>\n       <use xlink:href=\"#m6b36b549c4\" x=\"167.066761\" y=\"173.52\" style=\"stroke: #000000; stroke-width: 0.8\"/>\n      </g>\n     </g>\n     <g id=\"text_3\">\n      <!-- 4 -->\n      <g transform=\"translate(163.885511 188.118438) scale(0.1 -0.1)\">\n       <defs>\n        <path id=\"DejaVuSans-34\" d=\"M 2419 4116 \nL 825 1625 \nL 2419 1625 \nL 2419 4116 \nz\nM 2253 4666 \nL 3047 4666 \nL 3047 1625 \nL 3713 1625 \nL 3713 1100 \nL 3047 1100 \nL 3047 0 \nL 2419 0 \nL 2419 1100 \nL 313 1100 \nL 313 1709 \nL 2253 4666 \nz\n\" transform=\"scale(0.015625)\"/>\n       </defs>\n       <use xlink:href=\"#DejaVuSans-34\"/>\n      </g>\n     </g>\n    </g>\n    <g id=\"xtick_4\">\n     <g id=\"line2d_4\">\n      <g>\n       <use xlink:href=\"#m6b36b549c4\" x=\"227.939489\" y=\"173.52\" style=\"stroke: #000000; stroke-width: 0.8\"/>\n      </g>\n     </g>\n     <g id=\"text_4\">\n      <!-- 6 -->\n      <g transform=\"translate(224.758239 188.118438) scale(0.1 -0.1)\">\n       <defs>\n        <path id=\"DejaVuSans-36\" d=\"M 2113 2584 \nQ 1688 2584 1439 2293 \nQ 1191 2003 1191 1497 \nQ 1191 994 1439 701 \nQ 1688 409 2113 409 \nQ 2538 409 2786 701 \nQ 3034 994 3034 1497 \nQ 3034 2003 2786 2293 \nQ 2538 2584 2113 2584 \nz\nM 3366 4563 \nL 3366 3988 \nQ 3128 4100 2886 4159 \nQ 2644 4219 2406 4219 \nQ 1781 4219 1451 3797 \nQ 1122 3375 1075 2522 \nQ 1259 2794 1537 2939 \nQ 1816 3084 2150 3084 \nQ 2853 3084 3261 2657 \nQ 3669 2231 3669 1497 \nQ 3669 778 3244 343 \nQ 2819 -91 2113 -91 \nQ 1303 -91 875 529 \nQ 447 1150 447 2328 \nQ 447 3434 972 4092 \nQ 1497 4750 2381 4750 \nQ 2619 4750 2861 4703 \nQ 3103 4656 3366 4563 \nz\n\" transform=\"scale(0.015625)\"/>\n       </defs>\n       <use xlink:href=\"#DejaVuSans-36\"/>\n      </g>\n     </g>\n    </g>\n    <g id=\"xtick_5\">\n     <g id=\"line2d_5\">\n      <g>\n       <use xlink:href=\"#m6b36b549c4\" x=\"288.812216\" y=\"173.52\" style=\"stroke: #000000; stroke-width: 0.8\"/>\n      </g>\n     </g>\n     <g id=\"text_5\">\n      <!-- 8 -->\n      <g transform=\"translate(285.630966 188.118438) scale(0.1 -0.1)\">\n       <defs>\n        <path id=\"DejaVuSans-38\" d=\"M 2034 2216 \nQ 1584 2216 1326 1975 \nQ 1069 1734 1069 1313 \nQ 1069 891 1326 650 \nQ 1584 409 2034 409 \nQ 2484 409 2743 651 \nQ 3003 894 3003 1313 \nQ 3003 1734 2745 1975 \nQ 2488 2216 2034 2216 \nz\nM 1403 2484 \nQ 997 2584 770 2862 \nQ 544 3141 544 3541 \nQ 544 4100 942 4425 \nQ 1341 4750 2034 4750 \nQ 2731 4750 3128 4425 \nQ 3525 4100 3525 3541 \nQ 3525 3141 3298 2862 \nQ 3072 2584 2669 2484 \nQ 3125 2378 3379 2068 \nQ 3634 1759 3634 1313 \nQ 3634 634 3220 271 \nQ 2806 -91 2034 -91 \nQ 1263 -91 848 271 \nQ 434 634 434 1313 \nQ 434 1759 690 2068 \nQ 947 2378 1403 2484 \nz\nM 1172 3481 \nQ 1172 3119 1398 2916 \nQ 1625 2713 2034 2713 \nQ 2441 2713 2670 2916 \nQ 2900 3119 2900 3481 \nQ 2900 3844 2670 4047 \nQ 2441 4250 2034 4250 \nQ 1625 4250 1398 4047 \nQ 1172 3844 1172 3481 \nz\n\" transform=\"scale(0.015625)\"/>\n       </defs>\n       <use xlink:href=\"#DejaVuSans-38\"/>\n      </g>\n     </g>\n    </g>\n    <g id=\"xtick_6\">\n     <g id=\"line2d_6\">\n      <g>\n       <use xlink:href=\"#m6b36b549c4\" x=\"349.684943\" y=\"173.52\" style=\"stroke: #000000; stroke-width: 0.8\"/>\n      </g>\n     </g>\n     <g id=\"text_6\">\n      <!-- 10 -->\n      <g transform=\"translate(343.322443 188.118438) scale(0.1 -0.1)\">\n       <defs>\n        <path id=\"DejaVuSans-31\" d=\"M 794 531 \nL 1825 531 \nL 1825 4091 \nL 703 3866 \nL 703 4441 \nL 1819 4666 \nL 2450 4666 \nL 2450 531 \nL 3481 531 \nL 3481 0 \nL 794 0 \nL 794 531 \nz\n\" transform=\"scale(0.015625)\"/>\n       </defs>\n       <use xlink:href=\"#DejaVuSans-31\"/>\n       <use xlink:href=\"#DejaVuSans-30\" x=\"63.623047\"/>\n      </g>\n     </g>\n    </g>\n   </g>\n   <g id=\"matplotlib.axis_2\">\n    <g id=\"ytick_1\">\n     <g id=\"line2d_7\">\n      <defs>\n       <path id=\"m1debb0cb8d\" d=\"M 0 0 \nL -3.5 0 \n\" style=\"stroke: #000000; stroke-width: 0.8\"/>\n      </defs>\n      <g>\n       <use xlink:href=\"#m1debb0cb8d\" x=\"30.103125\" y=\"144.756937\" style=\"stroke: #000000; stroke-width: 0.8\"/>\n      </g>\n     </g>\n     <g id=\"text_7\">\n      <!-- 0.5 -->\n      <g transform=\"translate(7.2 148.556156) scale(0.1 -0.1)\">\n       <defs>\n        <path id=\"DejaVuSans-2e\" d=\"M 684 794 \nL 1344 794 \nL 1344 0 \nL 684 0 \nL 684 794 \nz\n\" transform=\"scale(0.015625)\"/>\n        <path id=\"DejaVuSans-35\" d=\"M 691 4666 \nL 3169 4666 \nL 3169 4134 \nL 1269 4134 \nL 1269 2991 \nQ 1406 3038 1543 3061 \nQ 1681 3084 1819 3084 \nQ 2600 3084 3056 2656 \nQ 3513 2228 3513 1497 \nQ 3513 744 3044 326 \nQ 2575 -91 1722 -91 \nQ 1428 -91 1123 -41 \nQ 819 9 494 109 \nL 494 744 \nQ 775 591 1075 516 \nQ 1375 441 1709 441 \nQ 2250 441 2565 725 \nQ 2881 1009 2881 1497 \nQ 2881 1984 2565 2268 \nQ 2250 2553 1709 2553 \nQ 1456 2553 1204 2497 \nQ 953 2441 691 2322 \nL 691 4666 \nz\n\" transform=\"scale(0.015625)\"/>\n       </defs>\n       <use xlink:href=\"#DejaVuSans-30\"/>\n       <use xlink:href=\"#DejaVuSans-2e\" x=\"63.623047\"/>\n       <use xlink:href=\"#DejaVuSans-35\" x=\"95.410156\"/>\n      </g>\n     </g>\n    </g>\n    <g id=\"ytick_2\">\n     <g id=\"line2d_8\">\n      <g>\n       <use xlink:href=\"#m1debb0cb8d\" x=\"30.103125\" y=\"110.196264\" style=\"stroke: #000000; stroke-width: 0.8\"/>\n      </g>\n     </g>\n     <g id=\"text_8\">\n      <!-- 1.0 -->\n      <g transform=\"translate(7.2 113.995482) scale(0.1 -0.1)\">\n       <use xlink:href=\"#DejaVuSans-31\"/>\n       <use xlink:href=\"#DejaVuSans-2e\" x=\"63.623047\"/>\n       <use xlink:href=\"#DejaVuSans-30\" x=\"95.410156\"/>\n      </g>\n     </g>\n    </g>\n    <g id=\"ytick_3\">\n     <g id=\"line2d_9\">\n      <g>\n       <use xlink:href=\"#m1debb0cb8d\" x=\"30.103125\" y=\"75.63559\" style=\"stroke: #000000; stroke-width: 0.8\"/>\n      </g>\n     </g>\n     <g id=\"text_9\">\n      <!-- 1.5 -->\n      <g transform=\"translate(7.2 79.434809) scale(0.1 -0.1)\">\n       <use xlink:href=\"#DejaVuSans-31\"/>\n       <use xlink:href=\"#DejaVuSans-2e\" x=\"63.623047\"/>\n       <use xlink:href=\"#DejaVuSans-35\" x=\"95.410156\"/>\n      </g>\n     </g>\n    </g>\n    <g id=\"ytick_4\">\n     <g id=\"line2d_10\">\n      <g>\n       <use xlink:href=\"#m1debb0cb8d\" x=\"30.103125\" y=\"41.074917\" style=\"stroke: #000000; stroke-width: 0.8\"/>\n      </g>\n     </g>\n     <g id=\"text_10\">\n      <!-- 2.0 -->\n      <g transform=\"translate(7.2 44.874135) scale(0.1 -0.1)\">\n       <use xlink:href=\"#DejaVuSans-32\"/>\n       <use xlink:href=\"#DejaVuSans-2e\" x=\"63.623047\"/>\n       <use xlink:href=\"#DejaVuSans-30\" x=\"95.410156\"/>\n      </g>\n     </g>\n    </g>\n   </g>\n   <g id=\"line2d_11\">\n    <path d=\"M 45.321307 14.76 \nL 75.75767 143.283901 \nL 106.194034 152.279968 \nL 136.630398 153.758862 \nL 167.066761 156.3033 \nL 197.503125 158.044394 \nL 227.939489 158.390405 \nL 258.375852 159.523223 \nL 288.812216 160.538303 \nL 319.24858 161.123318 \nL 349.684943 165.96 \n\" clip-path=\"url(#p92799fe7c2)\" style=\"fill: none; stroke: #1f77b4; stroke-width: 1.5; stroke-linecap: square\"/>\n   </g>\n   <g id=\"line2d_12\">\n    <path d=\"M 45.321307 14.760527 \nL 75.75767 141.217547 \nL 106.194034 148.534992 \nL 136.630398 149.809397 \nL 167.066761 152.15894 \nL 197.503125 152.975649 \nL 227.939489 153.008819 \nL 258.375852 154.277968 \nL 288.812216 153.625384 \nL 319.24858 154.608625 \nL 349.684943 155.261022 \n\" clip-path=\"url(#p92799fe7c2)\" style=\"fill: none; stroke: #ff7f0e; stroke-width: 1.5; stroke-linecap: square\"/>\n   </g>\n   <g id=\"patch_3\">\n    <path d=\"M 30.103125 173.52 \nL 30.103125 7.2 \n\" style=\"fill: none; stroke: #000000; stroke-width: 0.8; stroke-linejoin: miter; stroke-linecap: square\"/>\n   </g>\n   <g id=\"patch_4\">\n    <path d=\"M 364.903125 173.52 \nL 364.903125 7.2 \n\" style=\"fill: none; stroke: #000000; stroke-width: 0.8; stroke-linejoin: miter; stroke-linecap: square\"/>\n   </g>\n   <g id=\"patch_5\">\n    <path d=\"M 30.103125 173.52 \nL 364.903125 173.52 \n\" style=\"fill: none; stroke: #000000; stroke-width: 0.8; stroke-linejoin: miter; stroke-linecap: square\"/>\n   </g>\n   <g id=\"patch_6\">\n    <path d=\"M 30.103125 7.2 \nL 364.903125 7.2 \n\" style=\"fill: none; stroke: #000000; stroke-width: 0.8; stroke-linejoin: miter; stroke-linecap: square\"/>\n   </g>\n   <g id=\"legend_1\">\n    <g id=\"patch_7\">\n     <path d=\"M 278.3125 45.1125 \nL 357.903125 45.1125 \nQ 359.903125 45.1125 359.903125 43.1125 \nL 359.903125 14.2 \nQ 359.903125 12.2 357.903125 12.2 \nL 278.3125 12.2 \nQ 276.3125 12.2 276.3125 14.2 \nL 276.3125 43.1125 \nQ 276.3125 45.1125 278.3125 45.1125 \nz\n\" style=\"fill: #ffffff; opacity: 0.8; stroke: #cccccc; stroke-linejoin: miter\"/>\n    </g>\n    <g id=\"line2d_13\">\n     <path d=\"M 280.3125 20.298438 \nL 290.3125 20.298438 \nL 300.3125 20.298438 \n\" style=\"fill: none; stroke: #1f77b4; stroke-width: 1.5; stroke-linecap: square\"/>\n    </g>\n    <g id=\"text_11\">\n     <!-- train_loss -->\n     <g transform=\"translate(308.3125 23.798438) scale(0.1 -0.1)\">\n      <defs>\n       <path id=\"DejaVuSans-74\" d=\"M 1172 4494 \nL 1172 3500 \nL 2356 3500 \nL 2356 3053 \nL 1172 3053 \nL 1172 1153 \nQ 1172 725 1289 603 \nQ 1406 481 1766 481 \nL 2356 481 \nL 2356 0 \nL 1766 0 \nQ 1100 0 847 248 \nQ 594 497 594 1153 \nL 594 3053 \nL 172 3053 \nL 172 3500 \nL 594 3500 \nL 594 4494 \nL 1172 4494 \nz\n\" transform=\"scale(0.015625)\"/>\n       <path id=\"DejaVuSans-72\" d=\"M 2631 2963 \nQ 2534 3019 2420 3045 \nQ 2306 3072 2169 3072 \nQ 1681 3072 1420 2755 \nQ 1159 2438 1159 1844 \nL 1159 0 \nL 581 0 \nL 581 3500 \nL 1159 3500 \nL 1159 2956 \nQ 1341 3275 1631 3429 \nQ 1922 3584 2338 3584 \nQ 2397 3584 2469 3576 \nQ 2541 3569 2628 3553 \nL 2631 2963 \nz\n\" transform=\"scale(0.015625)\"/>\n       <path id=\"DejaVuSans-61\" d=\"M 2194 1759 \nQ 1497 1759 1228 1600 \nQ 959 1441 959 1056 \nQ 959 750 1161 570 \nQ 1363 391 1709 391 \nQ 2188 391 2477 730 \nQ 2766 1069 2766 1631 \nL 2766 1759 \nL 2194 1759 \nz\nM 3341 1997 \nL 3341 0 \nL 2766 0 \nL 2766 531 \nQ 2569 213 2275 61 \nQ 1981 -91 1556 -91 \nQ 1019 -91 701 211 \nQ 384 513 384 1019 \nQ 384 1609 779 1909 \nQ 1175 2209 1959 2209 \nL 2766 2209 \nL 2766 2266 \nQ 2766 2663 2505 2880 \nQ 2244 3097 1772 3097 \nQ 1472 3097 1187 3025 \nQ 903 2953 641 2809 \nL 641 3341 \nQ 956 3463 1253 3523 \nQ 1550 3584 1831 3584 \nQ 2591 3584 2966 3190 \nQ 3341 2797 3341 1997 \nz\n\" transform=\"scale(0.015625)\"/>\n       <path id=\"DejaVuSans-69\" d=\"M 603 3500 \nL 1178 3500 \nL 1178 0 \nL 603 0 \nL 603 3500 \nz\nM 603 4863 \nL 1178 4863 \nL 1178 4134 \nL 603 4134 \nL 603 4863 \nz\n\" transform=\"scale(0.015625)\"/>\n       <path id=\"DejaVuSans-6e\" d=\"M 3513 2113 \nL 3513 0 \nL 2938 0 \nL 2938 2094 \nQ 2938 2591 2744 2837 \nQ 2550 3084 2163 3084 \nQ 1697 3084 1428 2787 \nQ 1159 2491 1159 1978 \nL 1159 0 \nL 581 0 \nL 581 3500 \nL 1159 3500 \nL 1159 2956 \nQ 1366 3272 1645 3428 \nQ 1925 3584 2291 3584 \nQ 2894 3584 3203 3211 \nQ 3513 2838 3513 2113 \nz\n\" transform=\"scale(0.015625)\"/>\n       <path id=\"DejaVuSans-5f\" d=\"M 3263 -1063 \nL 3263 -1509 \nL -63 -1509 \nL -63 -1063 \nL 3263 -1063 \nz\n\" transform=\"scale(0.015625)\"/>\n       <path id=\"DejaVuSans-6c\" d=\"M 603 4863 \nL 1178 4863 \nL 1178 0 \nL 603 0 \nL 603 4863 \nz\n\" transform=\"scale(0.015625)\"/>\n       <path id=\"DejaVuSans-6f\" d=\"M 1959 3097 \nQ 1497 3097 1228 2736 \nQ 959 2375 959 1747 \nQ 959 1119 1226 758 \nQ 1494 397 1959 397 \nQ 2419 397 2687 759 \nQ 2956 1122 2956 1747 \nQ 2956 2369 2687 2733 \nQ 2419 3097 1959 3097 \nz\nM 1959 3584 \nQ 2709 3584 3137 3096 \nQ 3566 2609 3566 1747 \nQ 3566 888 3137 398 \nQ 2709 -91 1959 -91 \nQ 1206 -91 779 398 \nQ 353 888 353 1747 \nQ 353 2609 779 3096 \nQ 1206 3584 1959 3584 \nz\n\" transform=\"scale(0.015625)\"/>\n       <path id=\"DejaVuSans-73\" d=\"M 2834 3397 \nL 2834 2853 \nQ 2591 2978 2328 3040 \nQ 2066 3103 1784 3103 \nQ 1356 3103 1142 2972 \nQ 928 2841 928 2578 \nQ 928 2378 1081 2264 \nQ 1234 2150 1697 2047 \nL 1894 2003 \nQ 2506 1872 2764 1633 \nQ 3022 1394 3022 966 \nQ 3022 478 2636 193 \nQ 2250 -91 1575 -91 \nQ 1294 -91 989 -36 \nQ 684 19 347 128 \nL 347 722 \nQ 666 556 975 473 \nQ 1284 391 1588 391 \nQ 1994 391 2212 530 \nQ 2431 669 2431 922 \nQ 2431 1156 2273 1281 \nQ 2116 1406 1581 1522 \nL 1381 1569 \nQ 847 1681 609 1914 \nQ 372 2147 372 2553 \nQ 372 3047 722 3315 \nQ 1072 3584 1716 3584 \nQ 2034 3584 2315 3537 \nQ 2597 3491 2834 3397 \nz\n\" transform=\"scale(0.015625)\"/>\n      </defs>\n      <use xlink:href=\"#DejaVuSans-74\"/>\n      <use xlink:href=\"#DejaVuSans-72\" x=\"39.208984\"/>\n      <use xlink:href=\"#DejaVuSans-61\" x=\"80.322266\"/>\n      <use xlink:href=\"#DejaVuSans-69\" x=\"141.601562\"/>\n      <use xlink:href=\"#DejaVuSans-6e\" x=\"169.384766\"/>\n      <use xlink:href=\"#DejaVuSans-5f\" x=\"232.763672\"/>\n      <use xlink:href=\"#DejaVuSans-6c\" x=\"282.763672\"/>\n      <use xlink:href=\"#DejaVuSans-6f\" x=\"310.546875\"/>\n      <use xlink:href=\"#DejaVuSans-73\" x=\"371.728516\"/>\n      <use xlink:href=\"#DejaVuSans-73\" x=\"423.828125\"/>\n     </g>\n    </g>\n    <g id=\"line2d_14\">\n     <path d=\"M 280.3125 35.254688 \nL 290.3125 35.254688 \nL 300.3125 35.254688 \n\" style=\"fill: none; stroke: #ff7f0e; stroke-width: 1.5; stroke-linecap: square\"/>\n    </g>\n    <g id=\"text_12\">\n     <!-- test_loss -->\n     <g transform=\"translate(308.3125 38.754688) scale(0.1 -0.1)\">\n      <defs>\n       <path id=\"DejaVuSans-65\" d=\"M 3597 1894 \nL 3597 1613 \nL 953 1613 \nQ 991 1019 1311 708 \nQ 1631 397 2203 397 \nQ 2534 397 2845 478 \nQ 3156 559 3463 722 \nL 3463 178 \nQ 3153 47 2828 -22 \nQ 2503 -91 2169 -91 \nQ 1331 -91 842 396 \nQ 353 884 353 1716 \nQ 353 2575 817 3079 \nQ 1281 3584 2069 3584 \nQ 2775 3584 3186 3129 \nQ 3597 2675 3597 1894 \nz\nM 3022 2063 \nQ 3016 2534 2758 2815 \nQ 2500 3097 2075 3097 \nQ 1594 3097 1305 2825 \nQ 1016 2553 972 2059 \nL 3022 2063 \nz\n\" transform=\"scale(0.015625)\"/>\n      </defs>\n      <use xlink:href=\"#DejaVuSans-74\"/>\n      <use xlink:href=\"#DejaVuSans-65\" x=\"39.208984\"/>\n      <use xlink:href=\"#DejaVuSans-73\" x=\"100.732422\"/>\n      <use xlink:href=\"#DejaVuSans-74\" x=\"152.832031\"/>\n      <use xlink:href=\"#DejaVuSans-5f\" x=\"192.041016\"/>\n      <use xlink:href=\"#DejaVuSans-6c\" x=\"242.041016\"/>\n      <use xlink:href=\"#DejaVuSans-6f\" x=\"269.824219\"/>\n      <use xlink:href=\"#DejaVuSans-73\" x=\"331.005859\"/>\n      <use xlink:href=\"#DejaVuSans-73\" x=\"383.105469\"/>\n     </g>\n    </g>\n   </g>\n  </g>\n </g>\n <defs>\n  <clipPath id=\"p92799fe7c2\">\n   <rect x=\"30.103125\" y=\"7.2\" width=\"334.8\" height=\"166.32\"/>\n  </clipPath>\n </defs>\n</svg>\n"
     },
     "metadata": {},
     "output_type": "display_data"
    }
   ],
   "execution_count": 115
  },
  {
   "metadata": {
    "ExecuteTime": {
     "end_time": "2024-07-24T07:05:15.683345Z",
     "start_time": "2024-07-24T07:05:15.558424Z"
    }
   },
   "cell_type": "code",
   "source": [
    "from d2lzh_pytorch import  get_fashion_mnist_labels, show_fashion_mnist\n",
    "# Predict by trained weights\n",
    "net.to(\"cpu\")\n",
    "X = test_X[:10].to(\"cpu\"); y = test_y[:10].to(\"cpu\")\n",
    "names = get_fashion_mnist_labels(y)\n",
    "\n",
    "y_hat = torch.softmax(net(X), dim=1)\n",
    "y_hat = y_hat.argmax(dim=1)\n",
    "name_hat = get_fashion_mnist_labels(y_hat)\n",
    "\n",
    "titles = []\n",
    "for n1, n2 in zip(names, name_hat):\n",
    "    title = n1 + '\\n' + n2\n",
    "    titles.append(title)\n",
    "    \n",
    "show_fashion_mnist(X.squeeze(), titles)\n"
   ],
   "id": "67ed947f97a13a5",
   "outputs": [
    {
     "data": {
      "text/plain": [
       "<Figure size 1200x1200 with 10 Axes>"
      ],
      "image/svg+xml": "<?xml version=\"1.0\" encoding=\"utf-8\" standalone=\"no\"?>\n<!DOCTYPE svg PUBLIC \"-//W3C//DTD SVG 1.1//EN\"\n  \"http://www.w3.org/Graphics/SVG/1.1/DTD/svg11.dtd\">\n<svg xmlns:xlink=\"http://www.w3.org/1999/xlink\" width=\"684pt\" height=\"99.061867pt\" viewBox=\"0 0 684 99.061867\" xmlns=\"http://www.w3.org/2000/svg\" version=\"1.1\">\n <metadata>\n  <rdf:RDF xmlns:dc=\"http://purl.org/dc/elements/1.1/\" xmlns:cc=\"http://creativecommons.org/ns#\" xmlns:rdf=\"http://www.w3.org/1999/02/22-rdf-syntax-ns#\">\n   <cc:Work>\n    <dc:type rdf:resource=\"http://purl.org/dc/dcmitype/StillImage\"/>\n    <dc:date>2024-07-24T15:05:15.651114</dc:date>\n    <dc:format>image/svg+xml</dc:format>\n    <dc:creator>\n     <cc:Agent>\n      <dc:title>Matplotlib v3.8.4, https://matplotlib.org/</dc:title>\n     </cc:Agent>\n    </dc:creator>\n   </cc:Work>\n  </rdf:RDF>\n </metadata>\n <defs>\n  <style type=\"text/css\">*{stroke-linejoin: round; stroke-linecap: butt}</style>\n </defs>\n <g id=\"figure_1\">\n  <g id=\"patch_1\">\n   <path d=\"M 0 99.061867 \nL 684 99.061867 \nL 684 0 \nL 0 0 \nz\n\" style=\"fill: #ffffff\"/>\n  </g>\n  <g id=\"axes_1\">\n   <g clip-path=\"url(#pf9f9f374be)\">\n    <image xlink:href=\"data:image/png;base64,\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\" id=\"image58b80df785\" transform=\"scale(1 -1) translate(0 -56.88)\" x=\"7.2\" y=\"-34.981867\" width=\"56.88\" height=\"56.88\"/>\n   </g>\n   <g id=\"text_1\">\n    <!-- ankle book -->\n    <g transform=\"translate(9.215105 14.798437) scale(0.1 -0.1)\">\n     <defs>\n      <path id=\"DejaVuSans-61\" d=\"M 2194 1759 \nQ 1497 1759 1228 1600 \nQ 959 1441 959 1056 \nQ 959 750 1161 570 \nQ 1363 391 1709 391 \nQ 2188 391 2477 730 \nQ 2766 1069 2766 1631 \nL 2766 1759 \nL 2194 1759 \nz\nM 3341 1997 \nL 3341 0 \nL 2766 0 \nL 2766 531 \nQ 2569 213 2275 61 \nQ 1981 -91 1556 -91 \nQ 1019 -91 701 211 \nQ 384 513 384 1019 \nQ 384 1609 779 1909 \nQ 1175 2209 1959 2209 \nL 2766 2209 \nL 2766 2266 \nQ 2766 2663 2505 2880 \nQ 2244 3097 1772 3097 \nQ 1472 3097 1187 3025 \nQ 903 2953 641 2809 \nL 641 3341 \nQ 956 3463 1253 3523 \nQ 1550 3584 1831 3584 \nQ 2591 3584 2966 3190 \nQ 3341 2797 3341 1997 \nz\n\" transform=\"scale(0.015625)\"/>\n      <path id=\"DejaVuSans-6e\" d=\"M 3513 2113 \nL 3513 0 \nL 2938 0 \nL 2938 2094 \nQ 2938 2591 2744 2837 \nQ 2550 3084 2163 3084 \nQ 1697 3084 1428 2787 \nQ 1159 2491 1159 1978 \nL 1159 0 \nL 581 0 \nL 581 3500 \nL 1159 3500 \nL 1159 2956 \nQ 1366 3272 1645 3428 \nQ 1925 3584 2291 3584 \nQ 2894 3584 3203 3211 \nQ 3513 2838 3513 2113 \nz\n\" transform=\"scale(0.015625)\"/>\n      <path id=\"DejaVuSans-6b\" d=\"M 581 4863 \nL 1159 4863 \nL 1159 1991 \nL 2875 3500 \nL 3609 3500 \nL 1753 1863 \nL 3688 0 \nL 2938 0 \nL 1159 1709 \nL 1159 0 \nL 581 0 \nL 581 4863 \nz\n\" transform=\"scale(0.015625)\"/>\n      <path id=\"DejaVuSans-6c\" d=\"M 603 4863 \nL 1178 4863 \nL 1178 0 \nL 603 0 \nL 603 4863 \nz\n\" transform=\"scale(0.015625)\"/>\n      <path id=\"DejaVuSans-65\" d=\"M 3597 1894 \nL 3597 1613 \nL 953 1613 \nQ 991 1019 1311 708 \nQ 1631 397 2203 397 \nQ 2534 397 2845 478 \nQ 3156 559 3463 722 \nL 3463 178 \nQ 3153 47 2828 -22 \nQ 2503 -91 2169 -91 \nQ 1331 -91 842 396 \nQ 353 884 353 1716 \nQ 353 2575 817 3079 \nQ 1281 3584 2069 3584 \nQ 2775 3584 3186 3129 \nQ 3597 2675 3597 1894 \nz\nM 3022 2063 \nQ 3016 2534 2758 2815 \nQ 2500 3097 2075 3097 \nQ 1594 3097 1305 2825 \nQ 1016 2553 972 2059 \nL 3022 2063 \nz\n\" transform=\"scale(0.015625)\"/>\n      <path id=\"DejaVuSans-20\" transform=\"scale(0.015625)\"/>\n      <path id=\"DejaVuSans-62\" d=\"M 3116 1747 \nQ 3116 2381 2855 2742 \nQ 2594 3103 2138 3103 \nQ 1681 3103 1420 2742 \nQ 1159 2381 1159 1747 \nQ 1159 1113 1420 752 \nQ 1681 391 2138 391 \nQ 2594 391 2855 752 \nQ 3116 1113 3116 1747 \nz\nM 1159 2969 \nQ 1341 3281 1617 3432 \nQ 1894 3584 2278 3584 \nQ 2916 3584 3314 3078 \nQ 3713 2572 3713 1747 \nQ 3713 922 3314 415 \nQ 2916 -91 2278 -91 \nQ 1894 -91 1617 61 \nQ 1341 213 1159 525 \nL 1159 0 \nL 581 0 \nL 581 4863 \nL 1159 4863 \nL 1159 2969 \nz\n\" transform=\"scale(0.015625)\"/>\n      <path id=\"DejaVuSans-6f\" d=\"M 1959 3097 \nQ 1497 3097 1228 2736 \nQ 959 2375 959 1747 \nQ 959 1119 1226 758 \nQ 1494 397 1959 397 \nQ 2419 397 2687 759 \nQ 2956 1122 2956 1747 \nQ 2956 2369 2687 2733 \nQ 2419 3097 1959 3097 \nz\nM 1959 3584 \nQ 2709 3584 3137 3096 \nQ 3566 2609 3566 1747 \nQ 3566 888 3137 398 \nQ 2709 -91 1959 -91 \nQ 1206 -91 779 398 \nQ 353 888 353 1747 \nQ 353 2609 779 3096 \nQ 1206 3584 1959 3584 \nz\n\" transform=\"scale(0.015625)\"/>\n     </defs>\n     <use xlink:href=\"#DejaVuSans-61\"/>\n     <use xlink:href=\"#DejaVuSans-6e\" x=\"61.279297\"/>\n     <use xlink:href=\"#DejaVuSans-6b\" x=\"124.658203\"/>\n     <use xlink:href=\"#DejaVuSans-6c\" x=\"182.568359\"/>\n     <use xlink:href=\"#DejaVuSans-65\" x=\"210.351562\"/>\n     <use xlink:href=\"#DejaVuSans-20\" x=\"271.875\"/>\n     <use xlink:href=\"#DejaVuSans-62\" x=\"303.662109\"/>\n     <use xlink:href=\"#DejaVuSans-6f\" x=\"367.138672\"/>\n     <use xlink:href=\"#DejaVuSans-6f\" x=\"428.320312\"/>\n     <use xlink:href=\"#DejaVuSans-6b\" x=\"489.501953\"/>\n    </g>\n    <!-- ankle book -->\n    <g transform=\"translate(9.215105 25.99625) scale(0.1 -0.1)\">\n     <use xlink:href=\"#DejaVuSans-61\"/>\n     <use xlink:href=\"#DejaVuSans-6e\" x=\"61.279297\"/>\n     <use xlink:href=\"#DejaVuSans-6b\" x=\"124.658203\"/>\n     <use xlink:href=\"#DejaVuSans-6c\" x=\"182.568359\"/>\n     <use xlink:href=\"#DejaVuSans-65\" x=\"210.351562\"/>\n     <use xlink:href=\"#DejaVuSans-20\" x=\"271.875\"/>\n     <use xlink:href=\"#DejaVuSans-62\" x=\"303.662109\"/>\n     <use xlink:href=\"#DejaVuSans-6f\" x=\"367.138672\"/>\n     <use xlink:href=\"#DejaVuSans-6f\" x=\"428.320312\"/>\n     <use xlink:href=\"#DejaVuSans-6b\" x=\"489.501953\"/>\n    </g>\n   </g>\n  </g>\n  <g id=\"axes_2\">\n   <g clip-path=\"url(#p74f97aa85f)\">\n    <image xlink:href=\"data:image/png;base64,\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\" id=\"image81b788b47a\" transform=\"scale(1 -1) translate(0 -56.88)\" x=\"75.294915\" y=\"-34.981867\" width=\"56.88\" height=\"56.88\"/>\n   </g>\n   <g id=\"text_2\">\n    <!-- pullover -->\n    <g transform=\"translate(84.409239 14.798437) scale(0.1 -0.1)\">\n     <defs>\n      <path id=\"DejaVuSans-70\" d=\"M 1159 525 \nL 1159 -1331 \nL 581 -1331 \nL 581 3500 \nL 1159 3500 \nL 1159 2969 \nQ 1341 3281 1617 3432 \nQ 1894 3584 2278 3584 \nQ 2916 3584 3314 3078 \nQ 3713 2572 3713 1747 \nQ 3713 922 3314 415 \nQ 2916 -91 2278 -91 \nQ 1894 -91 1617 61 \nQ 1341 213 1159 525 \nz\nM 3116 1747 \nQ 3116 2381 2855 2742 \nQ 2594 3103 2138 3103 \nQ 1681 3103 1420 2742 \nQ 1159 2381 1159 1747 \nQ 1159 1113 1420 752 \nQ 1681 391 2138 391 \nQ 2594 391 2855 752 \nQ 3116 1113 3116 1747 \nz\n\" transform=\"scale(0.015625)\"/>\n      <path id=\"DejaVuSans-75\" d=\"M 544 1381 \nL 544 3500 \nL 1119 3500 \nL 1119 1403 \nQ 1119 906 1312 657 \nQ 1506 409 1894 409 \nQ 2359 409 2629 706 \nQ 2900 1003 2900 1516 \nL 2900 3500 \nL 3475 3500 \nL 3475 0 \nL 2900 0 \nL 2900 538 \nQ 2691 219 2414 64 \nQ 2138 -91 1772 -91 \nQ 1169 -91 856 284 \nQ 544 659 544 1381 \nz\nM 1991 3584 \nL 1991 3584 \nz\n\" transform=\"scale(0.015625)\"/>\n      <path id=\"DejaVuSans-76\" d=\"M 191 3500 \nL 800 3500 \nL 1894 563 \nL 2988 3500 \nL 3597 3500 \nL 2284 0 \nL 1503 0 \nL 191 3500 \nz\n\" transform=\"scale(0.015625)\"/>\n      <path id=\"DejaVuSans-72\" d=\"M 2631 2963 \nQ 2534 3019 2420 3045 \nQ 2306 3072 2169 3072 \nQ 1681 3072 1420 2755 \nQ 1159 2438 1159 1844 \nL 1159 0 \nL 581 0 \nL 581 3500 \nL 1159 3500 \nL 1159 2956 \nQ 1341 3275 1631 3429 \nQ 1922 3584 2338 3584 \nQ 2397 3584 2469 3576 \nQ 2541 3569 2628 3553 \nL 2631 2963 \nz\n\" transform=\"scale(0.015625)\"/>\n     </defs>\n     <use xlink:href=\"#DejaVuSans-70\"/>\n     <use xlink:href=\"#DejaVuSans-75\" x=\"63.476562\"/>\n     <use xlink:href=\"#DejaVuSans-6c\" x=\"126.855469\"/>\n     <use xlink:href=\"#DejaVuSans-6c\" x=\"154.638672\"/>\n     <use xlink:href=\"#DejaVuSans-6f\" x=\"182.421875\"/>\n     <use xlink:href=\"#DejaVuSans-76\" x=\"243.603516\"/>\n     <use xlink:href=\"#DejaVuSans-65\" x=\"302.783203\"/>\n     <use xlink:href=\"#DejaVuSans-72\" x=\"364.306641\"/>\n    </g>\n    <!-- pullover -->\n    <g transform=\"translate(84.409239 25.99625) scale(0.1 -0.1)\">\n     <use xlink:href=\"#DejaVuSans-70\"/>\n     <use xlink:href=\"#DejaVuSans-75\" x=\"63.476562\"/>\n     <use xlink:href=\"#DejaVuSans-6c\" x=\"126.855469\"/>\n     <use xlink:href=\"#DejaVuSans-6c\" x=\"154.638672\"/>\n     <use xlink:href=\"#DejaVuSans-6f\" x=\"182.421875\"/>\n     <use xlink:href=\"#DejaVuSans-76\" x=\"243.603516\"/>\n     <use xlink:href=\"#DejaVuSans-65\" x=\"302.783203\"/>\n     <use xlink:href=\"#DejaVuSans-72\" x=\"364.306641\"/>\n    </g>\n   </g>\n  </g>\n  <g id=\"axes_3\">\n   <g clip-path=\"url(#p8cbc798cee)\">\n    <image xlink:href=\"data:image/png;base64,\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\" id=\"imageb18d1f9474\" transform=\"scale(1 -1) translate(0 -56.88)\" x=\"143.389831\" y=\"-34.981867\" width=\"56.88\" height=\"56.88\"/>\n   </g>\n   <g id=\"text_3\">\n    <!-- trouser -->\n    <g transform=\"translate(154.90806 14.798437) scale(0.1 -0.1)\">\n     <defs>\n      <path id=\"DejaVuSans-74\" d=\"M 1172 4494 \nL 1172 3500 \nL 2356 3500 \nL 2356 3053 \nL 1172 3053 \nL 1172 1153 \nQ 1172 725 1289 603 \nQ 1406 481 1766 481 \nL 2356 481 \nL 2356 0 \nL 1766 0 \nQ 1100 0 847 248 \nQ 594 497 594 1153 \nL 594 3053 \nL 172 3053 \nL 172 3500 \nL 594 3500 \nL 594 4494 \nL 1172 4494 \nz\n\" transform=\"scale(0.015625)\"/>\n      <path id=\"DejaVuSans-73\" d=\"M 2834 3397 \nL 2834 2853 \nQ 2591 2978 2328 3040 \nQ 2066 3103 1784 3103 \nQ 1356 3103 1142 2972 \nQ 928 2841 928 2578 \nQ 928 2378 1081 2264 \nQ 1234 2150 1697 2047 \nL 1894 2003 \nQ 2506 1872 2764 1633 \nQ 3022 1394 3022 966 \nQ 3022 478 2636 193 \nQ 2250 -91 1575 -91 \nQ 1294 -91 989 -36 \nQ 684 19 347 128 \nL 347 722 \nQ 666 556 975 473 \nQ 1284 391 1588 391 \nQ 1994 391 2212 530 \nQ 2431 669 2431 922 \nQ 2431 1156 2273 1281 \nQ 2116 1406 1581 1522 \nL 1381 1569 \nQ 847 1681 609 1914 \nQ 372 2147 372 2553 \nQ 372 3047 722 3315 \nQ 1072 3584 1716 3584 \nQ 2034 3584 2315 3537 \nQ 2597 3491 2834 3397 \nz\n\" transform=\"scale(0.015625)\"/>\n     </defs>\n     <use xlink:href=\"#DejaVuSans-74\"/>\n     <use xlink:href=\"#DejaVuSans-72\" x=\"39.208984\"/>\n     <use xlink:href=\"#DejaVuSans-6f\" x=\"78.072266\"/>\n     <use xlink:href=\"#DejaVuSans-75\" x=\"139.253906\"/>\n     <use xlink:href=\"#DejaVuSans-73\" x=\"202.632812\"/>\n     <use xlink:href=\"#DejaVuSans-65\" x=\"254.732422\"/>\n     <use xlink:href=\"#DejaVuSans-72\" x=\"316.255859\"/>\n    </g>\n    <!-- trouser -->\n    <g transform=\"translate(154.90806 25.99625) scale(0.1 -0.1)\">\n     <use xlink:href=\"#DejaVuSans-74\"/>\n     <use xlink:href=\"#DejaVuSans-72\" x=\"39.208984\"/>\n     <use xlink:href=\"#DejaVuSans-6f\" x=\"78.072266\"/>\n     <use xlink:href=\"#DejaVuSans-75\" x=\"139.253906\"/>\n     <use xlink:href=\"#DejaVuSans-73\" x=\"202.632812\"/>\n     <use xlink:href=\"#DejaVuSans-65\" x=\"254.732422\"/>\n     <use xlink:href=\"#DejaVuSans-72\" x=\"316.255859\"/>\n    </g>\n   </g>\n  </g>\n  <g id=\"axes_4\">\n   <g clip-path=\"url(#p7cd1f42c02)\">\n    <image xlink:href=\"data:image/png;base64,\niVBORw0KGgoAAAANSUhEUgAAAE8AAABPCAYAAACqNJiGAAARMklEQVR4nN2c2Y4kSVaGv3PMzN1jyaX2rullppsRYkZCQkhILLe8AAIJJO54AV6KWyTegUsGoRFo0DC0mOl9qmvJzMiI8MXMDhfmEZFVXVXdiApvdZsUysyI8Ai3P8/yn83kz+WvjKmWOtytM2Q2Y/vTh/zPXyjvfvAlnz05w/9qTljBnf8cmP/zL0lXVy/9CPfj9/noLx+y+Um3f84MTn9e884/fkT8+JOpdoNO9k3fcJnI/+8D/r/X/x+Wn+ybAG1q7OF9+ntzrt4LnDy84I/u/ob/8D/gvzZvMaw880eORXjNbQVPf248eHCBE6P2ERXj14/eId0/w7UdttmQN5sikkdck4In8xmr3z3j8n3H9Q8Tf/fBv/G3Zz/jX07e5p+aP+ST63OePHrI3ap65WfkpiK+3fHX7/0rJ9rybnhCowN/f/03rH94xiKDe3yJdR0W41H3Myl4OMcwF/ozw04i79df8n5Ycpkf8aP5EwAezd4CfY018UqoIz+qHnOuGz4IV8xFuLtcs5qdk+cB9zrJfYNrUpsnImQnmANRI5nQ2UA/3obKN1AzMywL61zTWmCdlY0ZihFnwnASsFkNcvytTSt5gCnkEbzBPJs8MFiDiqGSsa+z92bkrKxzTZDIygI5R0SMYSH0p456FkCP7zim9bYimAcLhroiZQkjjbfhdpL3Oo/5wmvZlISgYpiH7MH8NNuaVvLqiu09ofrhirdvXXLuNrRmDOYAUAxegZuECnFKqj0+RM7dmlNtCZJwGMvQMSygOxXSzBNEODaBnRQ8qwLt3cyfvf0R7zQXnLs1ncFgHif51TZPBAkeqWtS7aiqjjvumkYGgmQUY+F74sIYToTYOIJzR9/Pt6C2xqnvmLsegPSiqL1KY50Dp5gW9XY35CojKIZ5I3sm29W0aquC1Zl3m6ecuQ0OozVHbw7FCJpe7jBEkbpClgtS4/Auo5JxGNmEjFC7SJpl4lxItb6e7ryhNS14IhCMu37FidsC0JojozjJeEkvlTxRQULA6opUC94lHBk4SK6XBFUm144UpgnRpo9tM2xyzSbXz6lsMiXba25Hda+2+oLa7j9HwLQ4HZkgxp1W8lJGWsdH3W1u+Q23R6PfmyNT1O+lLlIUgifPAjkItRa1hQJcNkXFEJ8LXTm+rwCmBs8MicLFMCdIorVA4mskbrdUMadkJ8grvLKoYc4my6xMrrYmEDShYmTT5zjeq2wegKlgTr/y+o4kO3KJyOQNpLW+4ZqcquCMhetotKjrOtf05mh0YOaG4m1ftnlVzAnZHWLgHXC7CEWkSN43EeQ3saaXPDWCJBQjowzmySgqmfAqyVMpgIrsX3+Zqou8OkI5xpoWPC2bD5pw8jzVcFh57lWbV8GcYMI+iVCuL6rvNVPVEepEDkySGJg8q4JALZEgid48mnP5OUreK7MqIqPdAyeZikwvMOSKwTxBEiezlhiVVE+TkvrWaxj5xVt4XU5vBPZmDJx2DkNyCdvca6T3Da/pJQ+Kh82gkhnEkW8S5FeJnhmSDMmQstKjtBZY5RnrXHEda5IJZq/gikdY04OXocuerAIJgh7qDOl1bjJlJGYkQZ8L4Jtcc5HmrHLDdaqJyZHz9xk8ipFXMwYcQ3IESTQ6FG+r9rXG3kzoKQmFAlzDOtb00ZGiQ/I06E0LXjbEhGzCda65HGZ0yfP27II/Xn5IkEhaZKwKSKiwlCCncq0IuAJqlxxP05KP+zv87PJHPG4XfH51ytVvl+jWUV8ZpHT07UwveQbZhHWs+XxzynVfcxJa3vIX3HNbZBYheCR4sIzl8Tot3hagj46LNOeT/hYfXt7h4npOe1kTnnj8RgjrWIA/8po+tu2FL/slV/2MJ5sFmy7w+eyMT+OtEimYkGcBXSwKPYkREcGCI9WucDigzYFVbHi2mtNdNui1w68F14Hr7OgFb5i66N0PNF8qP/v0PbptQL5o8Bvh39+a8w/Ag2aFbR2bdxY09Q8Inz0jb1twjnhrxvqBp7sl1MBvhzN+8ewt5Bcn3P7c0AF8m9EI9ePt91DyYqJawcXjOe5aWXwqVFeGxsAvz+/z6GSJdkp7Lpg2uKt5SYQ6xzD39GdCnMNM4Fmc8/h6weJj4/zDbp8QEDP0akv+3oG342qDIKmEatkDBkPnWfkaMqQaYlNUFQAVci0MC0i1kQ3WsSYlxRzkSkdnxIGmfO+K3jkXm7RRdIAcIM5GXvasYrP2+F7obgmpFpanFU4UvGd7y7F9K2PzRM7Kx+tzht6TGqE797g+4ze5fNZEKalvQfIYH4IpmC8Rmd8KedASQdTl7SkoTgVESTXYMqJ1UcfrviYnIXuItYAJToXjV2sPa3KqIgaSy0MH0H5U3UwJzQTM7R77YJbUCGHRE0JCNReIsqAR3GBoBB0yOmTImQPHOd6atuhtBjvwEkWFW8OcFGl0FDtYFTK9A0+8Z1jCu3cvUDE2Q2BIDouC9obrDL/NuDYhQ0KG47aW7da3IHkGyAjgDTUejb1BAdDZnhRDsY9n1ZZsShc9vQnk8XOylZAsG5LyJBwPpgRPBFEl+2KnxB+oRQGu2CtTyKEUcXKQUkJUJTXGe4tnbFPgsm+ISQ/gpfKP0FiSB6SMTRDfTpPPk2L0cW7sYgLz4+ZGiZMMZMjeyLNMmmfyrnjtlLTI/P78E348f4TXTB8dEmUPXKFAaQTv+BwPJkyGyr4OUeoYpdBz4w12Iw8q9pU7M2ecuC2NxNKXMubtvkk/5LHWJGorPpRAP3hSKM0+Foody9XobQUw0ChYp+ggaLzRr6fGQjvm2pERUtJiI7V45VwpaR7QweHWFaJydId7fPButIdZHfbNjXkQcqCAuavwW7Ff2hUSrcON3TvjRFsudCjNPUmRfOCK2UpfnoWMfq96kkXAe8y5Q5Z9Vybc/W0Hjys31NFe4jl3NYyd6psKJqWyZrsS5QTr+OCJIvM5nJ+QTuryjWOEcdNZFJJbSO/OeTwXLGTZ1zmCJkIVsSqTaiHWsncuYtOko2AC8EQFaWps0RS1UpAszwfxo7pKHEHNu/c8D0JvjmRCpQnvE3grdvOm6h8/sNivaYyDUyw4zMtLi2M7Nd1DJXzVjQpUkqjkeRpisuuwF3LQcpnq9ySrIorVFXEZiHPFbnxjiXNH2pGLGuTRg2ZfbJnsbJjP3HYb1lbhNZVrxEpKykOqheHEkaISntaIUyzKUVV4Esmz4Eljx6bpV0uzu2TBXot1lMQbwiNqLCSykP65onehKpACYIJ6sNohE7TVTkaSd91PNqrkS+VByh3tOp12sa2pIGoEYd+jYrZ7ragsyv4fs/e4okf1vMeXPC0bY7RNKLBLOd2kKrvuJ2dYZeRRonZLFOYiNFJ4XiHJxVGUopAgcUwmjKl7cQ6Lx/Mg0/WqyE4qwHYeYgTMbgK4C99eyKogRhA9dMDng+SZY/8P2n3P4brjbXEiKl6yKbbbIOyTntnLYexpjBZwJfYd5oo+uEe8vaSqDjm6aI6ctNCSXfJ0BNEypTjuHOL0+drvG17TOAyv5CAFKGd7Fc7+ENtmP4IZDKoMVmoT/Xt3ae9WLGdPgdLP16fiVYvaGtmX1FQeKEV1V+oeOAfpeGo7jeTtQqedBgk3VPSFv6V4VmwsEM0dqRaCO/C7fSeU3QjR9o5iNAcqRx9kOTp4uxnbfRRgMpYed28YU/Kp/J5mwpAKV0kNtHc87bnyoOpw49hAnx0WFUmCJtnXREo2+fC9ZW7ju+xtAXNKCmMG2ShJzCh7ydFY6hmSjTgXhiTgIC6MzX2lP4W7zRod/VvKCuNnHKpxI4A7DuRcsXtHnH78VlrM9utGJW3XuHgzNjU52MIdv4OSfmLCJsZXrWnAy4YbjFxJoSHBYBBcD34NGo1xCBKNPJ8wGMHts2djA601pBtcZOd4JN3wtoDFiPUD9l13GBpLA46kUWC8YWq4TgibUkHTVBDbp6o45AckQ8xKa0Zr4eAwZIxGxnMLTOWQYYgRhuGo9dtJwMteSeFGun0scJsePHAeCWD2QDC0SsSZpz8R4sI4CR2FC2ec5sIFb9KUtAvVdh78e+BtcY7hNLC9q+QawHBbRSOkBnqRvXqaQH87c37nmkXdE28r/fuO06bjT84+pBHlVFvuzDZ8ebok9p4ogdQLfitIFlwnpMYhdQ1xbHI80vkqE8S2Spopw8kYgwpoX7xkDqOU7KtmkJaJBycr7jZrbldr7oQ1Z37DHzS/oRZPI5HzasNi1tM6o42KBSHicG1JsuYg4B14X+LbI21tGqqyG3sSK2rlDbyUaOKGfTMBt4ycVi2noeXUt5y4lrn2ZFOuraW1hiCZOhRpyouSJEgmpHVpXTsUlKz0rRxpTUZVbIxB0zxjTYaQqeYDIRS2LGKIGO+dX/CTky84c1uWruVUtwRJrK3i45h4khechJb7i2sUo3IFxF89ucflcIYFLV1TKcMQX1pAelNrwnaLMXivDGkSoY48OF9xWrf75KZivLd4ysNwwVzLZORCOxxGMuVJWrDONbVGTkPLzA3cq1bUGrnqGy6aE9IwNgiZFeCO2HYxUWxbfpgAdWK+7JhVA/fnK+7U69K8M45nz9wAsJ+IXCXdH8bgJNPmQJDEwnfM3MByHD89rVp0FslJSJUD1RJdfNfDM6BInjcWZy0/vvOYW/WGny4/44G/ZJVnPIsLBnMsXZHEZEqbA8NY9CgAZgbzNDpwJ6xZuo4H4ZKFdvxgdpsPz9as3IxhsSgO4/sUnplCHQbu1MWTPvCX3PcrmjwwmKPLgUbi/uSKwTztCJ6zMiaaTVGMuetpdNg/lq5jFiJdHUtXgtOjj41OklWJtRDnRp5nKp/GeVnDiRXSSzmtIkgiSKTR4XD0x5gx3g33qWTO/AZHGTFNVk4067LfS1iqIJ8vUJFiMdr2KHubhCTHmRBPE7ocmIdhr4KOPI565jI6hdDowLlb7y8fzJWB5PH3gHHPX3GqLa0FLtKcTQplGHCMeVMD7f0ZVe0J/QBPnx2lBDlJDcMEcIaq4ce52K9bO2pbzlDJz42VVpLGc6TiOG+rxBvVInNGqpVUF7t3rHV8ybMxKdApqVKCS9yrVsy1p7XAk7TcH1IzmGMtNSEtcGRaC2ST8Zy9ilVqGJzjXg6gjM/XrFJDl8pWRIzUGNvbSqoC1eOmFIHszTc8Hh+8MR2lrZBqR+MGHoYLoMyPrUfQNrkijTYNuHHcUZnkXqWGi2FGNqGvXKllmGOVGi7TjG0q2RYRI8+M7o6WWY5ljR6pV28StS3JzrGlQmxPgHcq+eJyfPU4uGxCnz1d9gzmv3J8UkZIWcm5PLevEX+Xi95mhusNv1XSXDkLLb9Xf85gjos8p80Vq9ywSTUJygm01RMCiadpyZO0ZDDHVWx40i3okudps2ChHeuSpiFIImblelvTtx5tD73K3/kIQ3vDtSCDcOq3fOB7WjNCSmyk3h+wMJhjrh1vuSuC5L1NHLJnHWuuuoZswrNhwZnb0uWAk0yjAzE7+taT14EwZm1KTeO7DF5KuDYRVp44Uz68vsfPz09pLfDpcJtNrngWF3yyvUWXPdepOI8giY/6O3zWnrNNgV9f3eZiM2MVKip9wEWcM2RHN5438Nn1KXkd0I3ir8s0pd8a2kbykaRPjn02vIQKff9dhoenbO9WfPGnwuJ3LklZ6dpQ5scGB30pJZrPEMZb6hTdlnk07QUdZKQhlDoIh9aKcC3UT8uw8uKLxPLXa3Q7wKOnpMePj8Lzjm/z4gBfPqXatPjLM9YPzrlO50gG38rYDQqaGCtnB162m9re+w6zQy+KyL4T3gR8a4R1Rgdj8dEG/e+PydsWG+LRevSmafS5wRNeaYNebAR9ccbCXvK+b7n0+L/JBvLpi+D5VwAAAABJRU5ErkJggg==\" id=\"image6738e31f85\" transform=\"scale(1 -1) translate(0 -56.88)\" x=\"211.484746\" y=\"-34.981867\" width=\"56.88\" height=\"56.88\"/>\n   </g>\n   <g id=\"text_4\">\n    <!-- trouser -->\n    <g transform=\"translate(223.002976 14.798437) scale(0.1 -0.1)\">\n     <use xlink:href=\"#DejaVuSans-74\"/>\n     <use xlink:href=\"#DejaVuSans-72\" x=\"39.208984\"/>\n     <use xlink:href=\"#DejaVuSans-6f\" x=\"78.072266\"/>\n     <use xlink:href=\"#DejaVuSans-75\" x=\"139.253906\"/>\n     <use xlink:href=\"#DejaVuSans-73\" x=\"202.632812\"/>\n     <use xlink:href=\"#DejaVuSans-65\" x=\"254.732422\"/>\n     <use xlink:href=\"#DejaVuSans-72\" x=\"316.255859\"/>\n    </g>\n    <!-- trouser -->\n    <g transform=\"translate(223.002976 25.99625) scale(0.1 -0.1)\">\n     <use xlink:href=\"#DejaVuSans-74\"/>\n     <use xlink:href=\"#DejaVuSans-72\" x=\"39.208984\"/>\n     <use xlink:href=\"#DejaVuSans-6f\" x=\"78.072266\"/>\n     <use xlink:href=\"#DejaVuSans-75\" x=\"139.253906\"/>\n     <use xlink:href=\"#DejaVuSans-73\" x=\"202.632812\"/>\n     <use xlink:href=\"#DejaVuSans-65\" x=\"254.732422\"/>\n     <use xlink:href=\"#DejaVuSans-72\" x=\"316.255859\"/>\n    </g>\n   </g>\n  </g>\n  <g id=\"axes_5\">\n   <g clip-path=\"url(#p2feeeec6b8)\">\n    <image xlink:href=\"data:image/png;base64,\niVBORw0KGgoAAAANSUhEUgAAAE8AAABPCAYAAACqNJiGAAAcZ0lEQVR4nMWcy5IkyXWev3PcIyIz69rdg2kI1JAiAVGgZCbjSguttdFeprfQ8+gJ9AjaaqsVZNzAYJRAgBgBGMz0vaoyMy7ufrRw98jIqupbTY3oZt1VlRk3/+Nc/nNxl/8g/8n4/zSkaXHPf4SdbUgnHbs/2zBtlNgJ06mQGkgNxBYQMMk/j4aBpPxv/t3A76B7m3AjnPyhx//6jzAMpH2PDcMPMh/9Qa76CMNug1bH7c9v/V3PE3nfBR5v+Ee9mgiIIs7hnv+I+PwSaxxh0xBXSmqF4cwRVxAbIa6zpCUHcWWgkDyk1jIoCSQKiGFKftUGEuvnVToNDcL+S0GCsPtyw+af/yVuMlyfcENCx0Tzaou8u8HGiXR19b0l8uHgLd+sFc0XRdsGWXXsf/5jXvxtR9jA8Dzin/Y4nzhdD2yaiT54+t2KMLmjyzof6XwCYOgbwuAQAddGmjaQkhCCI0VBnNF1E84lOh857QZUjKt+xetdR4rK1HsYHO6m4fJXKy7+8YzmakR/E4n/ZOABiIKlw5/OIW0LXcd07hmeGeE0sXq+5a++eMXKTTxp95z4gXfTmt82z7jqO8yEaIKZ0LhI6yOQ34lZlrxuNdE1EykpgxoxKt5HztYDrYucdz3PV9d0LnC1WXF1tmKMjuux46bvuLlZMfxpzfjaI8lo/fdXukdVW/dnP2b38+dMp8rVnzvCScQao9+2/O/pS0QN5xKqRgjKsG1hUkiCTAIG1iX0JCBqpNFho4LAPgmxU2JQpm0DozI6Y7/qEGd8o8av/RezQogYIvl+Toy2C2y/SoSNY/1C+fG3l/DiVT44xQfN93uorR5+WgQRxq+e8c2/94yXCWsDdDEbpXcN7DrMIEZICTBhHQADncD12XOO547xqSP5/LcmMIUUhSEoNijNG4/fCuYgth5T0Agy5hcQ10bYGNYk3OXIxdmO0/XA6U8H+Cm8+t0Tnv7qlOY3DRYTZmlhegr69nES8qiSlxolrsDWCZwhkp9BgqCDZFoR87/l0ABuNCSCmwSdBIo1EAMwSGBRspQGkAq8ZnB1EtyQPzMnaGMkFEsZDKeJ1kU6H3jZnWP6EW9cH/4D4+HgLWxdHTpG/FZI3mGODGACN0oGrfAyIEvN2kgO3CCYy6CYgNsJTiE1RmrIHtYkA2FkTyxFIn2+lqmVCUPqynk+Tz5El+1qUvrgYVR0mrAQsGT3g/SDSt7ti5sV8PKbzxPKb1dHmUkt5TTzMJ0a1iVSn3mITlkq/T4fEzZC8vUEMnUpkmQCaL5O8oaoYGoIENussmRzSUxKMmEM5Xl6RaeIhXD/vD6RIz4qSZZk6FTAWqimFNBkiXeVwgKq+SwtpsfH5OOKGpscvYD5mHsfJt9YJDsPoNAczRwxfUCyPkHq4JF5nu4nVm8yYR0vhLDOiOkEmo7fpgRorgXbZRWPK8PUcPuskzXscmMG1JyQXCHHdW7lBWg42NPDDQBnqCa8JqIJ4+iJg6PtQWJ6L+6fOh4GXokk5mHlqceJ9jq7x3AimM+RgcnB1tWoQBL4XQY0bIxwVlTNHG4QiBRPLNm2NUDMjkOKFFuVXjl2RGKA5ohFNAMYoyNNCn2+vkT7JwJvOZYkeZxothEE+tHNqrMMQOdg/0h6Cs9DETvYsPkctWN1rvcrdrBevh6TQzlD1PA+smoCZoJNitsqfg8yPYzbLcfDwDM7SNvy43dXrH7j6TYdw/kTbiBb1YqDFM/oisSEzON0hOZKZtWMG8OqgVyci0mxnzI7EI2CWZFwX0xiY0iT0CZxth74ZydXfCdnXL3znH6trF8mZNc/aOrL8bg8b7tHeY2uVvj+EqgU4nBMtl9ZGgXmQN/ts3raiWVv6RbgWbF1harMuFoWfLHsaU0O19eirisfeNLuuR5XuF5YvU507yKM0/ee78PBU5dVyzm068C5PJNkWAhoMGRSRHQmvPOETWYpnP3IbPzJKpykGLfD9/kCx+kqsfJVtQ71ZZVjkglDcgzR4/ZCex3xuxwRSdfl541Fi5aRxieMBzsMbRtoGvRkgz29wFqPvtuSvnsJ+4jfJ1yfaYEGOQJBIqCZJJtmkuz2+XNTwfn8vRXudlB3w6SCWtEpl26KbXQcRNOEKSm70HI9tHSvYfP1Fh1DnsP5OaSI9QPEzPvu5X6PBp4I4hw0DdI20LWkk4648jTDlN9cSkjMFMKccZuXVWnJRBqSM7zJnCHWkL+j2jcp6g93kp9LFb4tlZClfEyeKTrawdCbPRITOEVWHYSQgVPNFiLZwQl+r/BMHf75j0jPLsErcdOQOkdqlLBRYiOEtdI/ySn08687LocJ9j0mOVKQwsHmDG8lxgXIfJ8cZkmxWVimEktVlQSWaqRy4HozeKkaRwNvNG3AucR2aPm/0yU3V2ueGdjJivFyxZu/7hieCn4L65cJPxgSDQ2ZDvl9xG8nZAzIn14Rv/3u88CTxjP95XPe/HxDWAnDM5jOLMecZwHtIk0X+OJ8S+cDv/u7n7B+8ZTm1Q4E2rdGaoSwhtSWaxY+lgqQs/S1B1AzX5OSLsyOQERymineipML70vNgQZpGzlZD6jAm6sN8arFXTskQbjoePsvOy7/8x/4L3/xP/ifNz/jv//237C77sBkTj40rzq6lyuaG+PLX3j47sUdSfwweCLElWc8yynz8SIRLwPSJE7OBjbdyFk38C9OX7N2E785f05YO3zX5EmELBqSBKumalG0OYp11bL/XSYPamimdvCytzTpzmcFwMbli6SgaK+4MX8dG2XaCH/75Pf8x80bNvJL/v7Zc/7QXpAMUlKiCdfpFJk85oTYObSm3j4VvDypEnzXbHkUDGW/axkHz7RxXLR7Uivgjf6pB1kxbTRLSM1+dFlqdCo2Te8CkW/ILE2zB0UQLHtmLXFwUWEp10nFySDM8WxMig2O5kZwgxBWxv7LhtTBL179Of919Zpf757zx5tztn07E2pvws0qEtcu2+3m/hTAx8HzmlWiHlnEOgUlAddJeXeyRsUQn9g/y7YwG/4ye83lRI0GO0EnyymoI0dykLqlZJoufEShIsln+ybpkIDIoaAV72yoGBGQUWmu83FxLexWQljB1396yn8b/x395On3LSkJrKBZDQjgu8B04pEgxFY5rrR8IniYzXZKkiC3MhspCFN0jMmXSWT744aitlgGRhcmY6lq92R/lqDWGPY+Ka1pqQpyvdbRJWNOLlDtq8vnWBT2Y0MISkrZ1tnSVZuU+R4/z3J8EDwzo303svm2Iawp+l/UpXjR4Dxv96tcwAmaJawTuqvEyR8HUqP0T7s5qpgneR/lONCzxUPc/TeHaBzHs+YsZ1JK3WIC/FZZv0iYCP1TyWXP1tAm0fpASk0GLihhcvRThmS6all952iuwd/cH418WPJixF31rF90TKfKeOGYApCkSJZgXtnvunx8kCx5LbjBaL69gsbjftbmN45l4ivZgdwGaZl5mT9b2MBlXCultnEg0TmLgubQzGm+mNsL65cBczCeN3NXgnOJ1kfG4LGoEIQUhTFkSNyNY/USmhvDbUfSfZnzD4IHEBM6payCt8guKQNpJsSYL5UloGAwBRinbJeWUnN73PG8d8nufcffuVYJ52TxhURwQ0SCFUpkmM8nx5RVdknGWx9oXMx/Vt73HrL8YbVNhowTfhcwr0h02YCXbEb1nNPgGKWBJMTODqny6xvEe3xvuQBUJz4T5pzRnQtDVZqa8gARCAcwrbCWem9zmU7N0YeC1KRAAdAN0LzeoyctqW2ZLhPWJrzAEFwuuk+KBMH5yFfn7/Aa+V/dZS4qjYaEu1L3UfAAmAK6D7jOIak5qFT1igGYhOiK5PlsUwBs34NzuNHQeMzh4BbvSwfwkssSpMXRHKW1FvcGkJKGmnOHmuu1M3gj6PUeU8105iSghQPGqKRUEhcJvE/8ZPOOVgO/8AkNipsM4kPBW4zZxjhAs/EXAwmKjWS+1WbRiq0gjQfRYudmynbPhd/j1Ypjme1jzUov4uP7yHNKmQGEakqcgldSC341HXhg1EMutzyXLrzWnNp/iNrmi8ohw+HBWiuxqBWPK7gbzYnMtWGXEyEK43mDrNd5MjVLcouCkI6lTmKWpDoZUwNfcnXesMbmQpBOGTDz5RkX5iBG5Xpo2Q8tnYF1LXGTi/E//dFr9qHhxdUp4+BJoRBJpah7wpHAci1Zx4SE+7POn1U9MwVcJaOHh60VMyyTS78OxE6gbcD7DHy9xm3Ju4eKsDi23muW+hqZpLvH11ElL4YyPSckr8R14vnmisvVHhGb49j6opbqLknQ7+MwAAgBGSIacpppzogsvKoGmUFpu5BVot1gjUdiQsyOCWd1GEe8baG2Mju/uVomyUo2+XDMUq2XLyIlJQRHjJqTsiEhKQN/7gfG5FFdvqXDS0gmOeaL4HpDhwjvkbwPg2cJmyZ01+PWTaErOcowKaobD20OAJebPZ0PfLO5xFZdbk4hV8HmkKtO2KrHvWW3CihSWyu0vKCQf8IhojhwPcu0KSpJYMSTBocbQPYDMq2hSXy1eg1A4+LhBZTnSElIpkBCR6HZTvibERvHe6Xv45IXUwYgpIOqLCaYZ3Lwfp0PrP2UbZE/GLrbHQPzecuQrf66uPZReJaOz7GF9M3XMDKIKatkTluluRy50ZG1G+cuqvsUMlnJgI8pV9niA22ejSO269F+ROs17gmj6oS8JLyk/F3KNYGjYL8mPOs55fMad9b8XpYsm19M7QaVKrnVDt4GsFxYShIhtpBON4QTj/qESprt2vwQi6LR/HEE3U25yvae1PxH1NawYcBCwG1WSDDue1XL7HDuRgpFjYCYDt/XSVZnY8zRRwUjNWBNToCqyKKonQ34nEVx9UXYwubJQb0K54srIVyumE4drhlpJOJIcxQiNbQz8JrBTaa4UXDvttjVda5xfDZ4lCiDbDTfl11YDl14rDtyfev8O3bu6Mvj846Sp+W7GbTbcXI5pOYSrVGSF0SKQ/iUYWR1nQL2YJJsKSdQUyrqJ0e25whQOahtbCGerdAuEpt7HtgWIdlClYHMH4vDqNe9o57151J1YfZGNb0U1tA/bRjOBecSu9SxSy0pae4imG2pEJKyDR2JwiOHkTQMh9Lk54NXQq1UHEZcUI4Fxci2yPAa6TSQOmM6a9DR5T6TBWhQzq/P5A7ec9nDV1X2Q8sK5i75xTG2oGapg/5Smc4qeC372BDnvOThBjEq+9gQLLe72TB+sGP+08OzZMeg3Rp3Sn4KqckGroZxt4+dvebSAS3Aq7RmeXCVsqW03UlvLR/b2ZyGEjEmcyTT48RnvZ0JwZSQtAB7v7rW8Vmx7SHWqx8wv/0l+VUxbB3Z/cjjRpsTqPWceryxOK9yuwg6yHy/mcvVCKyev/icyvPg+MWKEdfG8EQJp8api9yEjn1sMngVwEVt+WbqmJIrWfAPjweAd3hjc/hU4t+l6kgXGS8adBRSu5AmCiBwrwM66rNbUJI7DUMLz33vMqtyXFoZ04URV4ZTY0gNY3I5jwczVYGsAfvQMEZXoqkPe8hPB8/SgagW9Vo+ZK2G9bFhGyKiRliBuvdPrIL4vpR8veYybLtjMqq9ve3Ji0SmJhE7Ia0SThNTVcvbz1JGTEpM+knM4rMkT4PlTvVbk02+Gnrhu+0pN02HayL7n0R0FPyN0mwPk61jrj/cihCkqEwFxWrrrVaGXCQ51p+CODAsq74z1MWs2ucJOxPaJrJpJvaxmYtVM5lePNSUlDG4o+ak943PkDybW1hn9l+/csy5td3QEpPgnBEuJuKk6NRgO7mjuvf9viyKz2GZu3XcQtrmVo5qB0rYpaWW0XQR7yKNS3QuMCZPKDTl6L5lPiE6QlL8R1QWPtPbajB0LGB5yRlfyAa7TC73+SgxltaFZQ9xneTi73s95fKUdM95movwR2pdHY+CFIcikgtBrY80ehyWOZdQd0xUUxJu9h3T5Hgygj3aOgxL+F2ivXbEFsJJPrsWfGrpL0ZlEojBweAy4Y3HABwqX/eobvldKnD1vaQDoqmxwwKkEjenlrzuw6c56Fc1Wh85bUdcIe/JBBUr69iKVxfDTBj6hultg+4191a/hxx/PnjJchVtLN51KT3OZlWurN2SZM+8lDw44or3vddb2jSDPScWOEjcnNKCLPKlD1n0ELs6TTQa57gVMpVypV95vk1ZJKN7xe0FN33c6H0yeGaGGxLN7sBobREZzDytAjjlh5CQl0NVKZprEXo494hqCDndbwvJq9FHDQvDAjQO50kFTw5qOwbPFSsaF7loe1qdCBpwmrKWFykFsCg0O8FvBddbWST3COARI2430r1rkKT0X1Tw7LB8aZmdHZXmWpFQWmXDAShzlSNyJ3kwt0TAQcUrJQscdStw61riyipHl9BS9O4nz35saFzkrB048Tnc6lxkdBGnlhOjwJugtG+F5trwN9Mj2ryUkJBXTGvQmTrYPSTVap9HKKsR4yGiuBPY3xrHQf7xsbWxcVmmzF/kA6u0yS0nEKPOnzWyVN+iwovoRKdc65X4iN7WzNBtT/uuwXyJWX2d7EGVY3D5QRfxqYa8XADJhj1xIPbL0p/JIexaYHJ4BilLD6b8zzyEhfSmKCTNf9SW5RiVGByqhpfIiR+Yyg1qaRIXsyeOQnNjtDcJt59yi+1jgEeMcL3FJyM1T4CG1KZD1xRAghh07uCsQyfw++pUDsWiuYmxFpNu2b47qflyDzfk68VOcqa4HGtRSKX4Xm8fy5L6lITWRZ76LUPyJMsVtloxc5qQSeiujNXrgOyGvA73McCzZDkdPYVcjSq8yrBF25nk+gFyHPCz4GL3xfBLnnbnxofzZx5cOwYW3+WUfm7Wub2zhVkt7rzHVpQhKfcO1lrt40meJWy7gyngnpwi8WS+oQSZm36oyzJHOXA5VzpL32PLlnWNZaNQVU8kLztT5KgIdQAyJy/T3mGTEjeBtsudAdPkskQm5WbqeDmdcj3llrjlSCa4Xlh/u8d/d4VdXfN4KSkzUt9D3+N2z45ybjN1mMgGnewkrISItaGwjupBazHn8MWBbAPIkMua1ZsmXfC95b8EMoHuNbfctnrU7EPMnaz70PB22rCNLbEkB8yyRCrgesG/uMb++C02BX6Qld65AE2RuEV8tQyVFj11R2n2Ba+7nVq3yuXCoeW2drnPEmklEeEXlGZ+LnJ2uti4TOYPrHuKjm1o6UMzq3AN4eZOgZhIMb439b4cD1sBFCN+Z/hrPcqnVYnDchtY7TAwR26/gAOxZgHiwmG4AXzJwIzn0D+z+R51IwbIHap1CUJNrmaPLqRW2W871Flem+YTosZ13/E1T4gmTIUVtD6TZ6+R3zeZGGepe8QI4xi8VDyekDzEzmbveFQkqtmRUlKEhQRmDGYQa7ShI7RXVsATwnnCnM3XtNJy4UaZk7FQ7F5JZemgxN4Ra6zrcuQxjH5W13nrEE2cNgOdhiLZxqduFfLgJaNuNFwv0OYiS9IywUW+bVnvuLNedgEccJw8KN+nDjibULXczRQUC4L27pDFLmot0XDpcO8aU5soonmLkup1Zc7jZVV+PWxy7Dvy0ezxcjwIPBsGVq8DqWmydJxmwmqBRef8cSA/E99FY+KSDEupk1fpSQ6Gp5F//Rff0Grgu90Z133Hvm+IwyZ71wbCeYTGkJ1Dpyx9OuWeYnNG2iTMZRcdo+b8gRoiOXmwG1p+u1sRg7J+IzB9+lLSB6ut30XaG0dsD6EaIndX+MAcgx6l1MuoTqL2PEt98wK2TvzN+Z/oNNC6yJ/0HIBrn0mheYMuoV0khRKeIGWlZW4hsy5rgyXKciwlkWZHutxZ6HRvH41nHwG8iNtP+K3DnehR5eyoj6Wq5lJlF4S4SqTYQVpTI/RPsyOQLrKNHUPy7ELLVLb4mGvFczM2c+hnNe6r909gQUCFJAl1IJaL6k6MFBX2DrdXfM9Hc3ifD96tLYJsHNG3W1YhEdenWcduqaW50hG6cCSwoC/k7620qemYayT9M6H/MpFWiZPTge/6UwCuhhX95Jkmlxt+SjP43BGlRlgbUip1dYs4iZL3oyoNW8kSeM27XrhEDEr7ytFeC6u34b1NPQ8D754NWswM7UdQRceTu7k1mFNPwJ3tj+a83jIJULrizUE6ieg60PpAH7ObnlJuvp5b/xfXmrlc2U2DIMckvjoPV8nlIVFqSfB7we9AB3tkh3HfDjcxYvs9EiPN9Tl+3xB2ekiH186mhbTNRRs93DXv4COzutYtktzpRNdNiBhv+zUG3PQdU3C5x6TJUgbg3+WLxc6wVcwa0CsMh0gHkVJZM8Rlg5ySMkwebhpOf2+sXwTWf7zJjYyPBt4SxPprCMQ37xAVmqcXNFdrYpsNeFzlhsGchpLZni1tobkMpBsOoVq2V3mLpC8utpy0IzdDx9vdOu/EM+U2WYuCtYmghts6Vi8Fv4f+i7yk1bWRENtD6n7mP5lUq8tp+ryMQGjeKE9+eYX+w+/zjo6fsSHhp4F3nwdKMZPwKeAGww1CROZu+dlg2yGOBQ5OpP6XyI0+NXngc2a3LZ2UdZLJ6kZcRUVL5UuDoGPhmJrXndWVQPOYQ8EMHCaEKS8aaHtBr/bEt+8+GbQ6vv/WIG+uePqrU6bzlt2XnuuvJO8i5iGcLBNyWRJcn50DQCxL1lIH01kiNQYngd3QMgZPiFpS6uX9Ock5Vs2OIrXGeA5hJYRNcWZJwGUNwCBtErKKoEbTRJwz+puG1e862rdw9vuIXG95yPje4MWXL9GrK1bO0f7bnzFcnOZte8+NcFpsUJWEIEh0edmBlKDfGdOZIV8OrLoJM2E/ZCfhfaJxkWQ5pWTJUAex1kMaY7rIrW9plQs6KSk4I62zBDbnIxdneVu0Mbgcnu0dT38ZOf/7d+j1nvQAqXsU8ObWW0B3I36XFyKnJgfouUBuMyUBZtIcV7l4lLpcmPY+EmNeBlCHlBqDc6kU1IXkBCtuOnUpq2xj2Z6V0CubBSEGZdu3mAnT5EhB8deO9jqgVzts37+38/Nj40Fbg7wvzyXfvuaLv3OkzhNOG6ZTR2yE/TPHeFHsWmtMp7n1S5/3nJ702Z4tLu/K2rC6+aqIcdqNuVEnOq6L5z08UgZ31WSO9vLVGe5G0Ulofudpr9dIMM634AejuQ6sf/0Se/sOG6dPSj/dNx6+i9k9AMZvv4MXrxCgW69YbTbIqmP918+5/qolrGH/XIjrRLoI/M1PvuVfnX3LN/0Fv377Bf3kCxCFhri8fVvjIk+6HRdtzxA9L5pTdlODE2Ptpzkf5yURTHn99hS3F5qtcPEPkfP/c43sR3j1hvQuZ4hjjO8Vgk8dnx9hHC0guwfEks6xEJCizm4XaK89biwrxaMyRs/XTy8JSXnbr3l7tTnaM1nEGHyDbyKqxnZsed1MhKSz5FWJE0prWCw9Mt91dG8EvzPa64Rse2ScSMOITZ/O4z4KyyftDf++HVw/tCmpurxvslPk4hw52WDekU5WWOcYLzve/lXDeMExF1zk9o66ChxzY1GNaCQWop1yDnDzIuF6o9kG/NWATBF9c4O9u8JinJdFPNZ4UHh27/f3SKCliE1Af3e7tfWzpzTvvmK8bOe9CxCyM3CL8O12JazUOPIOtdBuEzoZ62/26K/+kXR9nY/jQCN/qPHRFUA/2LgVQ1YSvQzl7hsf/PwjvSWPPf4fu+VmwuoPCPkAAAAASUVORK5CYII=\" id=\"image431f20ab35\" transform=\"scale(1 -1) translate(0 -56.88)\" x=\"279.579661\" y=\"-34.981867\" width=\"56.88\" height=\"56.88\"/>\n   </g>\n   <g id=\"text_5\">\n    <!-- shirt -->\n    <g transform=\"translate(297.787735 14.798437) scale(0.1 -0.1)\">\n     <defs>\n      <path id=\"DejaVuSans-68\" d=\"M 3513 2113 \nL 3513 0 \nL 2938 0 \nL 2938 2094 \nQ 2938 2591 2744 2837 \nQ 2550 3084 2163 3084 \nQ 1697 3084 1428 2787 \nQ 1159 2491 1159 1978 \nL 1159 0 \nL 581 0 \nL 581 4863 \nL 1159 4863 \nL 1159 2956 \nQ 1366 3272 1645 3428 \nQ 1925 3584 2291 3584 \nQ 2894 3584 3203 3211 \nQ 3513 2838 3513 2113 \nz\n\" transform=\"scale(0.015625)\"/>\n      <path id=\"DejaVuSans-69\" d=\"M 603 3500 \nL 1178 3500 \nL 1178 0 \nL 603 0 \nL 603 3500 \nz\nM 603 4863 \nL 1178 4863 \nL 1178 4134 \nL 603 4134 \nL 603 4863 \nz\n\" transform=\"scale(0.015625)\"/>\n     </defs>\n     <use xlink:href=\"#DejaVuSans-73\"/>\n     <use xlink:href=\"#DejaVuSans-68\" x=\"52.099609\"/>\n     <use xlink:href=\"#DejaVuSans-69\" x=\"115.478516\"/>\n     <use xlink:href=\"#DejaVuSans-72\" x=\"143.261719\"/>\n     <use xlink:href=\"#DejaVuSans-74\" x=\"184.375\"/>\n    </g>\n    <!-- shirt -->\n    <g transform=\"translate(297.787735 25.99625) scale(0.1 -0.1)\">\n     <use xlink:href=\"#DejaVuSans-73\"/>\n     <use xlink:href=\"#DejaVuSans-68\" x=\"52.099609\"/>\n     <use xlink:href=\"#DejaVuSans-69\" x=\"115.478516\"/>\n     <use xlink:href=\"#DejaVuSans-72\" x=\"143.261719\"/>\n     <use xlink:href=\"#DejaVuSans-74\" x=\"184.375\"/>\n    </g>\n   </g>\n  </g>\n  <g id=\"axes_6\">\n   <g clip-path=\"url(#p472a8d3b15)\">\n    <image xlink:href=\"data:image/png;base64,\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\" id=\"image619bf0eaaa\" transform=\"scale(1 -1) translate(0 -56.88)\" x=\"347.674576\" y=\"-34.981867\" width=\"56.88\" height=\"56.88\"/>\n   </g>\n   <g id=\"text_6\">\n    <!-- trouser -->\n    <g transform=\"translate(359.192806 14.798437) scale(0.1 -0.1)\">\n     <use xlink:href=\"#DejaVuSans-74\"/>\n     <use xlink:href=\"#DejaVuSans-72\" x=\"39.208984\"/>\n     <use xlink:href=\"#DejaVuSans-6f\" x=\"78.072266\"/>\n     <use xlink:href=\"#DejaVuSans-75\" x=\"139.253906\"/>\n     <use xlink:href=\"#DejaVuSans-73\" x=\"202.632812\"/>\n     <use xlink:href=\"#DejaVuSans-65\" x=\"254.732422\"/>\n     <use xlink:href=\"#DejaVuSans-72\" x=\"316.255859\"/>\n    </g>\n    <!-- trouser -->\n    <g transform=\"translate(359.192806 25.99625) scale(0.1 -0.1)\">\n     <use xlink:href=\"#DejaVuSans-74\"/>\n     <use xlink:href=\"#DejaVuSans-72\" x=\"39.208984\"/>\n     <use xlink:href=\"#DejaVuSans-6f\" x=\"78.072266\"/>\n     <use xlink:href=\"#DejaVuSans-75\" x=\"139.253906\"/>\n     <use xlink:href=\"#DejaVuSans-73\" x=\"202.632812\"/>\n     <use xlink:href=\"#DejaVuSans-65\" x=\"254.732422\"/>\n     <use xlink:href=\"#DejaVuSans-72\" x=\"316.255859\"/>\n    </g>\n   </g>\n  </g>\n  <g id=\"axes_7\">\n   <g clip-path=\"url(#p709eab0b62)\">\n    <image xlink:href=\"data:image/png;base64,\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\" id=\"image9d3cd69a6d\" transform=\"scale(1 -1) translate(0 -56.88)\" x=\"415.769492\" y=\"-34.981867\" width=\"56.88\" height=\"56.88\"/>\n   </g>\n   <g id=\"text_7\">\n    <!-- coat -->\n    <g transform=\"translate(434.322878 14.798437) scale(0.1 -0.1)\">\n     <defs>\n      <path id=\"DejaVuSans-63\" d=\"M 3122 3366 \nL 3122 2828 \nQ 2878 2963 2633 3030 \nQ 2388 3097 2138 3097 \nQ 1578 3097 1268 2742 \nQ 959 2388 959 1747 \nQ 959 1106 1268 751 \nQ 1578 397 2138 397 \nQ 2388 397 2633 464 \nQ 2878 531 3122 666 \nL 3122 134 \nQ 2881 22 2623 -34 \nQ 2366 -91 2075 -91 \nQ 1284 -91 818 406 \nQ 353 903 353 1747 \nQ 353 2603 823 3093 \nQ 1294 3584 2113 3584 \nQ 2378 3584 2631 3529 \nQ 2884 3475 3122 3366 \nz\n\" transform=\"scale(0.015625)\"/>\n     </defs>\n     <use xlink:href=\"#DejaVuSans-63\"/>\n     <use xlink:href=\"#DejaVuSans-6f\" x=\"54.980469\"/>\n     <use xlink:href=\"#DejaVuSans-61\" x=\"116.162109\"/>\n     <use xlink:href=\"#DejaVuSans-74\" x=\"177.441406\"/>\n    </g>\n    <!-- coat -->\n    <g transform=\"translate(434.322878 25.99625) scale(0.1 -0.1)\">\n     <use xlink:href=\"#DejaVuSans-63\"/>\n     <use xlink:href=\"#DejaVuSans-6f\" x=\"54.980469\"/>\n     <use xlink:href=\"#DejaVuSans-61\" x=\"116.162109\"/>\n     <use xlink:href=\"#DejaVuSans-74\" x=\"177.441406\"/>\n    </g>\n   </g>\n  </g>\n  <g id=\"axes_8\">\n   <g clip-path=\"url(#p7b22d60a8b)\">\n    <image xlink:href=\"data:image/png;base64,\niVBORw0KGgoAAAANSUhEUgAAAE8AAABPCAYAAACqNJiGAAAkWUlEQVR4nL28y49lWZbW+Vv7cR73ZU9/u0dERlZlZtFVFN0UQi3RotUqgRi0egITZgiJIQNG/BEIiQkSA/4BBgxASHRJSNANJVV3QYmsojKrIjIzMjzDn/a6Zvee534wWOeaWWQWEe4RHrmlK3czu3btnO/svde31vetLb8tfzPzlsMeH9H9L99ie8/T7wvbx5k4Sxx+33D3X/2I+PLVl36Gu3+PzW+9T3PHUl0k5p9sMN1A8+E+57/iSQX4TcZvwI6Z8jzgL0dSZWnuFQxLYfYqsvz/PiU8f4E4h5QlGEMeBnLff+7viS+wD++R9ubEZcXmScWwFFybKS8SdkiUzzbw8SekrnsjHMzbAvdLG/LzX998I//8z97VeEs03Fv/ARGkqmjuOLYPhWE/k5+0zOuB9tk+4r1eR1Uh8xkYiyxm5LqEEJHLDblpyUf7bB5ZmvvCuLSYMMc1Fd2BJcwgeQAhOZCo/4a6ItTC9oFhWEGylvndA+wwIFVFXszAGnAGvEVCwrw8I7x8hVhDWs4ZjucMe47NI0O/n/EbQ3KCaw3uqsRa+w2BZyxihLyccfWeoflOz+qg4bef/AlPqjP+yfO/Rq4KEMHs75HuHpAqT/uwpjm2uC6z/GSJf3lJ896Ki1/LzN5fs341JxYev7EM+8JwkEkuE4IgESTBsG8wA8Qa2vdGZocN6+WSxfMlc2BclvRHBckL3Z6hPxDMCHf/c4k9OUWKguHOjM3jgu5IuPq1gYO7V5yfLkhFib8Sik3BzL85JG8FnhgBMWRviXWmnA8czhs+rF/zQfEaqgRmmvvek2YFsXb0K0u/L8RWqOcOX3hiZUiLwP3VFZ+0BWHukSzEEpLPZJtJBkgKHhmsFcI84xcDR4uGp4sZobKk2hNnjnFmiIUw7An9YcYOQlh4rBiwllgYQgWhAr8YuLvY0PYFoS4wgxALA/Lma/fNwTMWs7+HzGeMc31S2+dzno6O319+wEm9RDYWUkKsJd7d4+I7c73YmZA8pBGyEfJu/wqGdvRkFLBYCNmAGYUcAbnZ3ySBBH2FaBiihaQ/3H2e7ICWadmbzLgwzO7dgWlGuRZcA81lyWflHt1lSd0ItgczTrFTBPKXx9E3Bk+8g4M9xjtLwsJTnmVMMLRtxX+ZP+b5aoVfG2QMIIb2wZzzPwexzNgObCekANkK2Olmo9CODrKQCogpkwXMAKCAZ5+v32uCAptGQz86JO6QBVJGUsZEfUCpTOSkS3hx/+A64PgmkbzBnTk2zLGXFteAazN2SJDTm0Ly5vFFRMA7UmlJVrADuCZjG6EfHJuhxIzTzRgh22n5+XwTHXcPM2ckZ0gQoiUnnWF5uprdMuX2w8+3X0LKokt6+p7kW7/3c3eYvCU5c/3ZksAEIAgS5PO/J9PSlS8P6W+xbA1pXjLsOchQnwbkVUaS5/RxxZnJ2B5IehVuGylPHbEE24EZwW8ztovIGLFdxm0sm6uK1DhcvAGBLAj5GhCJGjhMuLnpMVgkCGbMmC6QncGEDDItza1RkAaQnMkiumVMwdT2gt1azIg+6EKIpUHmM2yMpL7/Ba741cGzljjTzd83idmzFnO+Ibtj1heOrihZdlzvFa4JlGca/RSAjGtR8PoR20XcxhMudbM28RZwGTK670jSr80EnkQgCiEYzCjYPmL6kVxazOBAwHYZfyWQwfVJH6gVnYXTlmEGBdmMCmgsIJZCrkskBAV8GL5w73vzPU+E5Ayx0JkQK4cpC2JpSEXG+KRPdTfds95sNiApXy8XSVmDSkjYEaQXXe4JBSpqUAD9Ok3LW4I+ABMEGQxxtLgRnW1jQMaIGTXa70DePTRJedpGhFBpRM9Wry059PMthFKg8FAWyBtkGW818/p9R3tHMEEIdYVrSzZPDNWTNY/313xy+IRcFZoqxYQZJxSnYWLG9IHcdrjLjvplDclMM0LfU1xBdZaU282FcaEzzzUZ12XMCNUrw9hW1C+F8uUWTs6xY6AQIRVKSWJpIIPfJEw7ko3QHlq2D4VUZMI8kYpddNXLtINlfm+Brxw2JrjcoGH/64LnlEcN+7oXhZnOmPZB5NePT/nu8iUfrR4pJTAGyZqTgtIPZJoNY4S2w2w66rMIWGIJYS4kC8VlZv5swIyJ/rCgGxRVO2bMmJEI5YVgR6E6S5iLDeH8HJsTpvBI4SlqxzjzCnobYRiR2jMshe5uJLsMPoPNiE1YnxDJ9OsZw74DKsxlqQnBFwTfNwcvJyRnZBfldksjCG3wXIZKqYMIYg2MEd8kjBeSF6IXXb4xk3NGUkJCxg5Zf15MG/fPX9HE9aJXcJPXVE2js+iDcg6cA2fJ3pKt3EThkJBh1IcGCpwAUe8jJ4NedsbH6RrfgOO9JXhZo12vfMtvdWOOteHZxYqQDLYVvXDnMOst8x8ncuHojyqGPYfrdH8iRugH/CaQrRBqy7jKhDrjtoZshRwgOSF6BTWWQppIdPIKciwhzyrMYo4sF4RVpVTqVpCy25F0doGxFjjQGRcF05opWGRSoXTKb8EMGRkTEiI5fTGIb5eeJa43dNtnXKc0pG0L1r7CDtPMcw66HtP1UBb40hFmFgkaLEiJnBKmD9jOQLbEKpPmkVQqeKAbus5GIdYQaq6/j2SSg1Q4TFmSC08qLbG0JKeRVpJuE2nbYFbL6Y4TJIMZNKvIVpAo1+R8F2DeaYah4OmeY6LyNjtkZfyDpR8dWSCsKvy4p8uncMTSsnmvorlnFCiOqZYzwtzTPCgZ54bmgSAPWg6XDRfbQ7b3Pa5ztIdCf6CZxrjMxHnUJSdMvMbRPp5TO8NwUNLcdcRCo2modYXYfsV8/Bbj4ZwwB+MSKU7gRo0UYvQjlUdmJKR3DF7KmJCxI5gefJPx24TfCNJYuqLAucz2YUmxcgxLy7BUanD1YaJ4fMU4Wjbv15SneyQPw14mVpnq0RV/5zv/P79SveCfz/43fpQeY1thXGXycsQUkcP9LQ+WlziJFDbiJPGH9x7wKhxQv1ow7Avt3UQuE7lImDqQg6E7Klk8uEOohPZeoigDQ7wh0IhcUyPbZcyQkDFB+B9H2bcHD5R13EpvzJCnZF3zzSz6xMHSr7S6ESvguOfbd07YDCU/7RzZeFKRScuAKSJPDi74rdmP+VV/zn/ce8mfHtwnVRYWgXrRU/rAk9U5316c4CUyswNeIhdDzQ8O9jCjsoB8NOCKSFEGFlXPECwXW0fbWc2T64i1CcxN9rJjAbDjhhrMSF+e4745eDHi2oTf6F5XXgSK855xOUdGDYnZwjjXaGgC1K+zMveq4r+Nj2AwzH7qqE8y0RvGZUHy8Kebh/xT93/weHbB73z8PRY/LHANDCtLWBRsHPzBwZI/XDzC2IT3EWsSly8X7H9kmL2O9PuGdl0RSxiKzEmRIQnVpeAaSCVIb+h7T+4sthNsp+DtqmiuUx4qQyCnLy8SvDF4OUbcZqQ6d/htovrZJbw+p148wYwlMUMqM/2BYHth9iKzfNojOVOuS7qnHtfB3o9a/PMLKDxxio5Xj0v++PxDvj/P7P2J4d7vrTFXHfFwzrjSFK/fs4xzRzZT5HVw93Xm6L+cwssTrfjc39OMxxuy04cZKkOohFBrvjtWHtNoJcVv8s0eChSbhNn2SNN9aV77VuDdHpIzxAQp6lI2IDaTXSaWecpPM247QkoUl45sLa7N+LMGTs6gLLHjAlt4qrmjWHtMgOoiYU8uyZstNiUkLkjeQCqwgyEbIVRKVarziJxeEE5OsTnjC4+tHNkasjNka+DQk5zR4JAByb+ggWSZ4s9bjjfPbWczzr874+zPZ1zjWD64Q312xMWHlvp75/zanZd8sj7k5fN9pLVUpwYZ43XOKdFqsj3xQPGeVBbkyhFqQ6yUioxzIS3nGGsJhwv644rkhWFhCPWO502zamOUHAPiPeOqIlV2yp+nhzrRq2xhvD/wmx/+jJN2zmezI+zakh2kMoFA+1MH+YDiaqR4at9deibzmovvwv/+v/4Rz9sVP7j3EHfq4UnD3//V3+Uvzz7mP+x9j3/jfoOTzZzxkz1kCEg3YMfZxJ3Q6OY9eEeuHLH2hFoIM6Ui48IR9itsaemPVWhKTtO3WN2q+wmMMwFntRhRFowrT6wNps+4brrpqSKTnPD+o1P+wZP/m6fjEf96+Zv87GqfRdHzaLbGmci/W32X9XZGeW7Zb5fIU0tO7yK3FX3atR2p7Ag2a8lcMmO2jFOhzFvdzKOF7Aw4LUQmrylTKh2mKslVQSodqTCaehWabyYPqbBIzNP+pRlFLCB6BS0bpiIn5MIjRaEk2RvVIXIiRY0C2d2AvRtxKqaGZIjZkG79MMvn3/tF483BG0bq18J/+Nm32V5VzD4qqV9nmvWcf2b+Cv9y7y8wRCXLw+iQArqHSyQkrt4raO5p9Tn6OfV+SfLCOLfEApr7grnXsr9sWK8Pae57XOtojwz9oQaHcaGcEKP5aTYZGR3Doz2KnBke7bO9b4mVBizXKnjRiy5ND09fHvCPy7/Os82Kk4+PKE8NZ1XmR3sPyTZTP3Wsnkb8ZcBeNKR3Fm1DoDzNnD1d4i8Nq58kFs96ynXJeV7wcjUnLhJmfwDJ2DLTHlvA0tzT6osZBDCE2t/kqxb6w8zj4wseLy743eMl3WGJbTP9vjCsNA0Lqwh1RIzWDo1J9N2M5m6BhD3auyopxmqqErdTUVX/pOq/r0r+6/AEe+44+m/C/OVImBm6fZ3hs9eR+dMG0wyqL8cvJspvlWHYAWxrsJ3g+oQMCdsnXGfIXkilIJIRMz2xfBPFJE3lkYmcZkEJt+jXIRmGZMlRtOg5pYESBSNZ888oKmEkIWOui6s3r1tF0N0lTLMu+RuN5POz4lbOviuZjYEc3yVJDoHqIlK/cvhNprgI2Kue0hnqVxa3hVgIZT1Q+cDazCk2CYlQXBrCTLCDUFxmiqt0HTWTFcalcHI5V9Zz6SguM77JZNHNKnnd6MJUMk9lItlMuTUUVyN23VHMHcXaECvBDPqgs4FuNonoXjMaPxsZR8OwcrjOXufC2UyKXjt8AzwvRhV1zi2+ybhmRLoe21iqC48dDe09Q+UDq6pjLWC7hBkzrrW4RhN112Zck6YNX0UZ11ja1rN2NbYVfJNwTcQXul/FCWRkKk8lQ/Yqabo2YJoOt63wjdPUcdTiadoR5UUiu4ydBYoyMJaOWDvG2bQfOrlR7oaR3HXkEL60OPAW6pkQK8O40A28OCrxzhDmjmFhiKUQ6szRbMth2fBJlZXl74qSUz4sk1yYf15evMVcteg6fXuKrMA1d/vcSOhN5nyzBG/dczaQjVaNAVISZBLFY60Vm1hynZfnwiuVcuOXit9vDp4vaI8d28daluqOPK7z16E9C4R7PX/t7g+459f83vEHDIsS36SpHK6KvJaxEsmJ7oOSrwHM19IjkPLN0p6uUpJA1L1t995rQWkSvNPPPZRsgSIhTr8RowGTGfYTsZjAqzOYjGssy8M5zoh+0NXVF0LyVjMv1FPUy5AKwzCqZGh6jWzlfOC71TMe2TVlPZJ8Oe1XWkDdzTytpd2AJrdrj7dnj6gwpKrcrffdfqFAsyPhmc+V0bNBZ53R7+XJopEqTdNykcl1RGwmzCyp1DqkcU7F73ciACXVXd3aKolME5e8tRz73vHJcIfRO8bBXYNRbBOuE+yYqc4G7GZQEb3R/LNcWsy5pwmGxVooLkdsEyhmlrHWfct2cl1VDoMQy8n4uB3IbYu9qqlOC61ET/JnrATJFldGRDJj54iDgSSqFQchgeqOMOnKAelG8jC+u6oK40B1Fpm9cCQPYQaxUB3Vdgpg2ni+v3nMq3JFaB1ZBMmJ8iTgLzrNdTcNuenACNYYMIYV9+iOasaFYfGzRPH0HNqOmjtkU5ONXFORWAjdviHWwux1wpxfES/WmBCo257sHXmXMy8LwLJaNoRoCWcVxemUeUxZhxkFWhWDyouMXbfK8d5ptE1qhHFNJpYa3m/sENNrMKzHGi9J1SmBLIIZIrJpVVRpOnLXIZP9AcC2I66t1GTYZegH8jAgQ8AMurlpeTwjweAqVf/toBXfHCO562HbIs4iMZFMhYx6e5UPdABByTMCqYBkJ0fCdA92SMrxps98Z9E2x4jbBopLxziDYSnXqvtu4/Yb4fvPH1IVIyRh80iwvaU7mFE8qjBRPSy2//xyWH+r5PzXE6xGYlVhxsfYLtLe9TR3VBTf7WepgGFflbb+wFGs71MsZqRlRXdUkbxWX0JlCDUM+4kxWrrB46+E6kwpTJhzIxRNk8AOGekGUtfpsv2S8VY8z1511KcOEyztXUuyUxU265MrLoTu4yV9kZEi03ygF7DpLLY3SAS3tdiBz2342w8if/W3/pjvzV/wLw7/Z14WR9jW0R9m4sEw1QsTYjLWR+7sbzioWn742X1OtzWLA097aGjui6pwBcR64narkX509L1ndi7MXwRd+odmkgy4BtA1ibxtSJvNuxWAcs6YMWL7iB3NdUTcTXnVNMC1QoowuoxU8Ua0dgYigFZ5d1EVIM8ij6oL3i9OOJy1XFZ6R6lKmCpiTMY61R9KHziqG+6UG346OyDUtfpPKi1rpVJfuYpg9ffMRPyUQGfdQ+OtyL9L82JWTfmdi94xIlcN3hhIWvPKViguYflZwF/pMkveEKPovjgR0msKcdvIc5vTDYbPun1mZuDF5ZLiXHAtSLIMoSS6TCgTUiTGaqSfOyghZ8HsBKlBt404CmnIxEE0C1n2PNm/4IVbslnMGOdq4N4JP3bI+K1aOYr1oJnFG4632vPS+hLpB3xKVOcFyVnq08T8J5eY8w0m3qHbr5AsWrxMoux+Kggwee3M7vp2+80gvGyXFCawXdccnE03FAwyGrKDMDfEOjFGoT3wJDR7uXYGDILb6uxPXrCFLmFrE99dvqSyI3+wOGacq8qXRWeb7aA6DbgmYs8b0pdUUr4SeIhBrEGcJXlLqA1hDmMrpMojVUGo7HUkRoBBaYHpjNo0IpOF9QY8ANsYztoZhYnk1iqfbDOhythK/cnZAtkQgXVb8bpc0LUFe526p7JVpS6NatFNEchCjAYvkcJEUpkJlUy2WyXgkpQcA7jSKQt41+CJtcjBPvFwQfNkzuvfSux/cMHJyxXjckl5vmD7SNj+yoApI/KqZPFjhxnU+VRcL42AbaepN1GVy/OKE3fMy9UBy48cex9tsdse/2CB7f11RCdDqA3bswN+sLdH/dxw+MOO4tmaXBfERanbRmmIlWFYGF4+qYkYVr7D3O24GmpSkcj7I64MbK4KNq8cbms5+NM9Vk9reMMOoLcAz5CWNcNRzea+5eF3XvL3Pvh/+J3jX+c/jd+hOLUM90e+860X1G7k++cfsPgsUVwlypMed7rRisXFmrTZ6kz2DkTY779Fv7diWBn2Pom4Hz8nNy1VekQ26jHxm4DtAnHmKK5K+j1h/ipSfvSC8Ow5pixxi7n6ZOqKPKsYD2pebypSFmozcHxwxWugrka+d+clD+s1n2yP+NP9OzTbguKyZFX4N4XkLaXHxOQ6Vx1gzI4meNzGUlwKcWZ5drmicAHTG6KHUAl27jBhpqQ3RC2MiEHKQk2Ti4IwgzDLjDNB5jNEhLAoCLPJSIK7cVTNhDATTd3qElOW+jvLBdlZnYXzkjB3SBB+sj0iJMvpxYJ0XrKtHD+yx5zPZ5w3NUNTQG/VZfolzqivBF7OGRMjdkzYHq7aik+HIz46vcP+D2Dvk47t/YKr1/s0BVQD9IfQ71vaY4MZC2wP8+czivOO7C1h5kmF4fJ9x+bbAbsauBxm1K+PcU1k87hk+0DBs63FDo5QC83DzLgXCLVj8dkBZcrEgzndvRmpEMZaOVws1MX1n3/wLWQwLH5imb1IxMLTHxzyojwkGyitbgvVWYRvItoCENUEY0Jm6B2nw4LtVcXxs5Hyo5e4zSF2nBEqod839Hu60ctUq7M9mOjJVkjeMCy1Y6e9I8zubLmz3PLpcUV35HBzS3do6A9U1beTEzXUMB4Hqv2Ovpsz7Dvces5woDLlziEVZujvDVA989gW9n4cmX+6IRWOca+YapCGbl+r1X6TlOe9c/BSRtoee+kpL0vGi5I/On8Aa4/tRyWWKd0qbuo/kncFSeV3yaoBclfBTW4CGEj5lqNzKjFdl/t2nysZXML7QO+marGfHAI7iXGXOMitl4VhYXB3Ztc2jOTUl1dsJnPjJnyp6POVwMthJL0+gYs185xZ/ckRT/v7LD41uPWGPIxqDLx185L04pLLZM91b1kszbV2oL4TtesO0WrdbyLSJqrwc53bToDYMrKqeq7qpPRo5rUNYGoV+ByIBqUxFWwfCt2hvyUUZYqrzOKzAdsG7MkV6Q1y2rcGj5y1ibfrcJdbyvNDxqWhuMyqOOUbQ+DnfB9TUVNt+2rp3xUUdv/HaLaQpmkiSf3PN8XNW58nYEyidAFcIjkNJHnqs/jc2M26Ccww05K7RHAdSBDYZNxmxFxskU3zpTW8rwbe537LMi6FYT8hwbD99opyv2LYL7TWVijLN2ECaNAcTW1dGdcmJBnCIGRRd2kMhjHYqb8sY3ptRTBhmm2jCjvJC93g2A4aIV2rhqJsRWezhzFzXcG2UXXcbCHMM7GY2EK/6yoyxJlD2gLphreD4atglwtPdwjyoKOZFyAO17gbfVT0pu0ATFXmNAquUxuXX4+YyhK9R5JgeugHS+/dpPYnXBvVLzdoHmo79UFnI+TGcdWW2K2hXEfs2RbpIxIrYmGQrM6BZBVwM2qfbncn4e50pCyMg51K8p7hU4/pI9J5vpmW0dvDCMlnymokDpZxafWmbntCpgIpqAhl0H3MDhkzRLCCCTtxW8jREKPBRrToGdO18K0PQ934OydqmHrPJKhzXWLEDLrkTLAqD3Djnc5OL8IXgZyFIJmUhVj4yXWlVe1d1vMNgmfIHko/0tpiusAbr/LOersrOaWpHcB2qD5x0WCGksIbTLAMl4JsLEMuWG3ArzvMpqdcFYwzTc9sr8obGNzGMFQFxQhhbolHS2LlGJe6/+1mHKjfr7yIhJlhWFkaO1cxyGsDi5/asiROVtpvgiTfHll05i3LgbWdaQNdB+V5ZvFswPSRWFlipRxE5UNdjv6kgdNzTFNTiGA7T6gr/NoQolCs87W5sZiV1IWZtAZ1qZvoaNaW5B22E8a5obtbTX1lZgpMKjZJhPrVSPXpBWleMSxWgCOWmfEgkUvljrvPljewWHxt8H5hpJ20qG5yM0SyM6SUb8SbOMmNu6c79dxe87kkUw/EzcfKpMdqb9iNEL5rI2VX7TLqKEiW67bQa6uYET20wUxF26nbXEYhu1tF0Xhb//wGwZOckVFoRk9sHX4LxVXG9er8TIXVHHRhdR+ceF+2Qi49ZlaT65JYe2LlpmWtNCbUEI9XmCmxH+dqpVX+mLWYWSjtQabu7yGRvPpOstN8Otb6dy8Kj793rFSl1pKYsgBD7AV/Bf5qxGw76PpfAlXJutF3o4PeqPFnowe7ZCPkwmpJaD5FykElSu3YsUhdkqty6thRc+OO+8VKGPcrbOUZl2q5zbuuSBHNWct8LYSbmLF9UsHaK+kOc/XzZQP9wfS+EcpzwV9lPetABNup8chud+ae4Utbpr4+eDFhBqFrC0xv1Ho2pGsnQZ4sr+NCps1eL945GFcFEmekyjPsOUJlGJdCWETyLDLOCsaFtkCNc1XANKXToBMrtUfkKk7+PrmO9J8j4FNzHyh41xNqIt0mTKAGlOSHqSfum5550g/MXmSu6hmzE6E+GSnOB8a9gvbYEiqheSC0j4K2ZfZTJXkQmnslxWWhxYNDBWK8O/Cb337KvfqSf1d/l4tuhmsyw56aG7OdhJ0iQZlYHW05nDf8tDqif1riOqszstJKSphlwky5ioxyc/bB7vqj9u8iUF5F5HJLurwij1/ujPra4NEPVOe6/1SnmeJiwK1bxpWnX2l5vrsfuf/+KaWNrNuKtveMg2Mz02NFYpWIRyO+HvnOnTP+1v3f54k/5Xm7xw9+9i1cIwyrRFpGcIliNlKVI7Ny4Ff3X/O4umDTl/SLilgaQilTZjNRo8nhTjbk8HPgTTY0SZPc2LakpnlrGL4aVUnqCPVbXU6b92rMQ1X8i6lDKMwsL2b72p/RWWQwyCBUpwa/gVQKfSiIpefHyfDvF9/jYXXBx6+PqU60a8f0hnHQKDrWjqEsuSojMRlOZgtOzxYcXmhpX6IF0YKDCYJkR0alUNtPBL3dHR2iwSM7odhYqrc4Aulrg0ffU7/sMKHk8j3HyV8JLA+3DN/f571/2+BONuw93GP7UaGO+bBTuBLV6xa37kiFI+yVpMKweVjz77/354mLxOpPLPd+7wq7HRgPZ/SH/lbe6oiVY3Ov4nx5zPK5cPSHV7jPTqEsWC4qsrWMhxXdoZb4/VW47uvdBaB+KTQPYdhLZLGs6uqXB14e1VJbWEP60PM/ffgZf+PuH/GPnv8N3Osr4sc/oby8iz8/JBujjXA5I32Al6+JF2vEOYrlEgqPv7hHcgvGhWX/4xHzg0+Imw3Fvbv4o32t1XlV7WLtsF3BsCfMX0TcZ6eEz55dHwFnvKNaH+CulmomOm+Q9RVUJfL+EcnpWVfjMmOOe4ZXNfktzo/62uARI7JtcUB5UfPT8wN+v/pAT504mOMePyIe79Hfm+nMG9J0OEPEjwFrrfZOLOfkytMfV/QHWv1t7jqqX3kP2w2EZcW4KqbiqWYpsTTaijrT4mY6WmGHEZlOpcjOMh4vaO9VSpMOSly7IluhO3TKEz2UZ4bQVcxe5beupnwt8FLfw4tXYC2r4xmnH+/x/zYlfiNs3p/hjyu6Q0t7NOkPnR5YY4fMvHb49YJUOvqDQjWJe5bt40SeB2LlGed709kDXKv72U5GR6f7VSo0vWjeW1EuSj3VolKK09zVo+WSA9EzQT5/0y3sf5QoriLl6468vvzlgXddGAXs5UBxWdPOPX4Qxpm2ufcrw7jUzdn56SCunumsPE+oLMNSOxLHufpV7CwQlpb+0H7unKgsXHfyZKNGHhW5lQua0V+7o5IThpUw7Gkj4XWalsEOMrX4C8U6Uj/fIptWD5/5pYF3a9jzKw5+uKB+qefjFRslmZLz9eEvqZwuvhMk6exIVm9U3UlQfeaJpcOgRUvQxpPr0yimYQahuBBcK7ht1hN70OOMVFBSIq3fFHxzY770G7VXFJtI9arBXGzIbfdGPRd/1vja4MXPXrB3tWHfe/LBivHuglA7wJBKPcUs1xGpIkNnydYTaqsmm16pQ7nO1KcK2OahYft+JJfa6l5UKgXGYEjJEC8Kqh8Zlp+G63xXsp7G0x1Op6FVeUrdoDyD+cuE7TP1qx530UI/wMkZcdtCTm9l7nmn4OVxIJ6e6YeJYPZqjDM3bQOToGZsJlo9kTF5uZYbdrYv3+obTdAeCykjvgzUpS6pwTpCMPTWIwFcF6fDtQBz68iQYjLxTCKS6zJ+k7BdxK475OKKPIyktiOPX2257sa7KUlNI222uBcX2MJz0C+pztQN3+07xqWfGH3WGRfAb5MWOHdS49QfYVcD81nPoupZFuoN3gwlfXCE0dEfOppNMRUFtKyVdvuqy1QnwuxlwvWZ6nTAnbbIGNRrvG3Uhjt+tdl2e7xj8DakbYMYwf7UsnRO/SgP7jIezcneEGZaSVE/XcD0U+2v0Pb25OFg1XBnvmFVdOz5lpQN575mM5YMwdIeVNjOYPtMudYKcyw0AicH9Uni8Hc/I19u9NjfYSTnpBWTXeL/lrW7P2u8U/C0Cyfq9YVA7nvEOexVgysc2VugUH0h5qkDPJEqPeQrlsK4yJQuUNmRwgS8JJJknEk4o87Qq0Vi2Lf4jVCu1X1le3CNzj7fJPJmS2oanWFf0HD8dca7Be/PGNemyHHEGIMtCwpn9RTIufKziw9Lzv5qz93jS94ve+5UG0obcJKuG4kLE5g54YO9Mx7/hQsA/uDj99n7iWH+0Rn1ZyWrT0uyEcpnl7o8x/BWJaa3Hd84eORMurrSVqRbR0navRXy3gNy5WgeCv/wL/1b/vbyx/xeP+d3Ln+DbSgBrsHzksCO3Cuv+D/3/4Df8A1/l/+Ls/4D0o8/hZxwQE6ZeEuA/ybHNw/e7XG7rWkMSK+eO9fAHzcP+f3iBT/sH3I2zGnjTVaQsjAkyzA1of1x94guveLZZo95n6aeiV8OYLeHfJWz4d/80/8MDXRnyXAOs5hrQ+Bf/ICnv21JdwdcEairEWcjRkAkE5PQj55xVKE6JUNOUHxU88G/PCP90Q+/sVv4ovHNz7xfUOB1huQQiBdrAOqf7HH4h3foDyrau5nLBwO2SNdd4zkZQm+ht8gglCcWv4X584RZb/jmdrUvHm/uLfgljbc6HOaXu0p/Yfx3Kp9d2pn1I+4AAAAASUVORK5CYII=\" id=\"image05513d2638\" transform=\"scale(1 -1) translate(0 -56.88)\" x=\"483.864407\" y=\"-34.981867\" width=\"56.88\" height=\"56.88\"/>\n   </g>\n   <g id=\"text_8\">\n    <!-- shirt -->\n    <g transform=\"translate(502.07248 14.798437) scale(0.1 -0.1)\">\n     <use xlink:href=\"#DejaVuSans-73\"/>\n     <use xlink:href=\"#DejaVuSans-68\" x=\"52.099609\"/>\n     <use xlink:href=\"#DejaVuSans-69\" x=\"115.478516\"/>\n     <use xlink:href=\"#DejaVuSans-72\" x=\"143.261719\"/>\n     <use xlink:href=\"#DejaVuSans-74\" x=\"184.375\"/>\n    </g>\n    <!-- shirt -->\n    <g transform=\"translate(502.07248 25.99625) scale(0.1 -0.1)\">\n     <use xlink:href=\"#DejaVuSans-73\"/>\n     <use xlink:href=\"#DejaVuSans-68\" x=\"52.099609\"/>\n     <use xlink:href=\"#DejaVuSans-69\" x=\"115.478516\"/>\n     <use xlink:href=\"#DejaVuSans-72\" x=\"143.261719\"/>\n     <use xlink:href=\"#DejaVuSans-74\" x=\"184.375\"/>\n    </g>\n   </g>\n  </g>\n  <g id=\"axes_9\">\n   <g clip-path=\"url(#p5f4010ac01)\">\n    <image xlink:href=\"data:image/png;base64,\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\" id=\"image016691417d\" transform=\"scale(1 -1) translate(0 -56.88)\" x=\"551.959322\" y=\"-34.981867\" width=\"56.88\" height=\"56.88\"/>\n   </g>\n   <g id=\"text_9\">\n    <!-- sandal -->\n    <g transform=\"translate(564.880677 14.798437) scale(0.1 -0.1)\">\n     <defs>\n      <path id=\"DejaVuSans-64\" d=\"M 2906 2969 \nL 2906 4863 \nL 3481 4863 \nL 3481 0 \nL 2906 0 \nL 2906 525 \nQ 2725 213 2448 61 \nQ 2172 -91 1784 -91 \nQ 1150 -91 751 415 \nQ 353 922 353 1747 \nQ 353 2572 751 3078 \nQ 1150 3584 1784 3584 \nQ 2172 3584 2448 3432 \nQ 2725 3281 2906 2969 \nz\nM 947 1747 \nQ 947 1113 1208 752 \nQ 1469 391 1925 391 \nQ 2381 391 2643 752 \nQ 2906 1113 2906 1747 \nQ 2906 2381 2643 2742 \nQ 2381 3103 1925 3103 \nQ 1469 3103 1208 2742 \nQ 947 2381 947 1747 \nz\n\" transform=\"scale(0.015625)\"/>\n     </defs>\n     <use xlink:href=\"#DejaVuSans-73\"/>\n     <use xlink:href=\"#DejaVuSans-61\" x=\"52.099609\"/>\n     <use xlink:href=\"#DejaVuSans-6e\" x=\"113.378906\"/>\n     <use xlink:href=\"#DejaVuSans-64\" x=\"176.757812\"/>\n     <use xlink:href=\"#DejaVuSans-61\" x=\"240.234375\"/>\n     <use xlink:href=\"#DejaVuSans-6c\" x=\"301.513672\"/>\n    </g>\n    <!-- sandal -->\n    <g transform=\"translate(564.880677 25.99625) scale(0.1 -0.1)\">\n     <use xlink:href=\"#DejaVuSans-73\"/>\n     <use xlink:href=\"#DejaVuSans-61\" x=\"52.099609\"/>\n     <use xlink:href=\"#DejaVuSans-6e\" x=\"113.378906\"/>\n     <use xlink:href=\"#DejaVuSans-64\" x=\"176.757812\"/>\n     <use xlink:href=\"#DejaVuSans-61\" x=\"240.234375\"/>\n     <use xlink:href=\"#DejaVuSans-6c\" x=\"301.513672\"/>\n    </g>\n   </g>\n  </g>\n  <g id=\"axes_10\">\n   <g clip-path=\"url(#pd1699013ba)\">\n    <image xlink:href=\"data:image/png;base64,\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\" id=\"image405ef0695f\" transform=\"scale(1 -1) translate(0 -56.88)\" x=\"620.054237\" y=\"-34.981867\" width=\"56.88\" height=\"56.88\"/>\n   </g>\n   <g id=\"text_10\">\n    <!-- sneaker -->\n    <g transform=\"translate(629.68028 14.798437) scale(0.1 -0.1)\">\n     <use xlink:href=\"#DejaVuSans-73\"/>\n     <use xlink:href=\"#DejaVuSans-6e\" x=\"52.099609\"/>\n     <use xlink:href=\"#DejaVuSans-65\" x=\"115.478516\"/>\n     <use xlink:href=\"#DejaVuSans-61\" x=\"177.001953\"/>\n     <use xlink:href=\"#DejaVuSans-6b\" x=\"238.28125\"/>\n     <use xlink:href=\"#DejaVuSans-65\" x=\"292.566406\"/>\n     <use xlink:href=\"#DejaVuSans-72\" x=\"354.089844\"/>\n    </g>\n    <!-- sneaker -->\n    <g transform=\"translate(629.68028 25.99625) scale(0.1 -0.1)\">\n     <use xlink:href=\"#DejaVuSans-73\"/>\n     <use xlink:href=\"#DejaVuSans-6e\" x=\"52.099609\"/>\n     <use xlink:href=\"#DejaVuSans-65\" x=\"115.478516\"/>\n     <use xlink:href=\"#DejaVuSans-61\" x=\"177.001953\"/>\n     <use xlink:href=\"#DejaVuSans-6b\" x=\"238.28125\"/>\n     <use xlink:href=\"#DejaVuSans-65\" x=\"292.566406\"/>\n     <use xlink:href=\"#DejaVuSans-72\" x=\"354.089844\"/>\n    </g>\n   </g>\n  </g>\n </g>\n <defs>\n  <clipPath id=\"pf9f9f374be\">\n   <rect x=\"7.2\" y=\"35.116105\" width=\"56.745763\" height=\"56.745763\"/>\n  </clipPath>\n  <clipPath id=\"p74f97aa85f\">\n   <rect x=\"75.294915\" y=\"35.116105\" width=\"56.745763\" height=\"56.745763\"/>\n  </clipPath>\n  <clipPath id=\"p8cbc798cee\">\n   <rect x=\"143.389831\" y=\"35.116105\" width=\"56.745763\" height=\"56.745763\"/>\n  </clipPath>\n  <clipPath id=\"p7cd1f42c02\">\n   <rect x=\"211.484746\" y=\"35.116105\" width=\"56.745763\" height=\"56.745763\"/>\n  </clipPath>\n  <clipPath id=\"p2feeeec6b8\">\n   <rect x=\"279.579661\" y=\"35.116105\" width=\"56.745763\" height=\"56.745763\"/>\n  </clipPath>\n  <clipPath id=\"p472a8d3b15\">\n   <rect x=\"347.674576\" y=\"35.116105\" width=\"56.745763\" height=\"56.745763\"/>\n  </clipPath>\n  <clipPath id=\"p709eab0b62\">\n   <rect x=\"415.769492\" y=\"35.116105\" width=\"56.745763\" height=\"56.745763\"/>\n  </clipPath>\n  <clipPath id=\"p7b22d60a8b\">\n   <rect x=\"483.864407\" y=\"35.116105\" width=\"56.745763\" height=\"56.745763\"/>\n  </clipPath>\n  <clipPath id=\"p5f4010ac01\">\n   <rect x=\"551.959322\" y=\"35.116105\" width=\"56.745763\" height=\"56.745763\"/>\n  </clipPath>\n  <clipPath id=\"pd1699013ba\">\n   <rect x=\"620.054237\" y=\"35.116105\" width=\"56.745763\" height=\"56.745763\"/>\n  </clipPath>\n </defs>\n</svg>\n"
     },
     "metadata": {},
     "output_type": "display_data"
    }
   ],
   "execution_count": 116
  },
  {
   "metadata": {
    "ExecuteTime": {
     "end_time": "2024-07-24T06:42:27.593083Z",
     "start_time": "2024-07-24T06:42:27.590001Z"
    }
   },
   "cell_type": "code",
   "source": [
    "print(test_X.unsqueeze(1).shape)\n",
    "print(test_y.shape)"
   ],
   "id": "ac7cc14bbb1a6ee5",
   "outputs": [
    {
     "name": "stdout",
     "output_type": "stream",
     "text": [
      "torch.Size([10000, 1, 28, 28])\n",
      "torch.Size([10000])\n"
     ]
    }
   ],
   "execution_count": 76
  },
  {
   "metadata": {},
   "cell_type": "markdown",
   "source": "# Add BN to Lenet",
   "id": "f100a52df5869b22"
  },
  {
   "metadata": {
    "ExecuteTime": {
     "end_time": "2024-07-24T11:39:51.765759Z",
     "start_time": "2024-07-24T11:39:51.759391Z"
    }
   },
   "cell_type": "code",
   "source": [
    "class BatchNormalization2d(nn.Module):\n",
    "    def __init__(self, num_channel, momentum):\n",
    "        super().__init__()\n",
    "        self.channels = num_channel\n",
    "        self.moving_mean = torch.zeros(1, num_channel, 1, 1)\n",
    "        self.moving_std = torch.zeros(1, num_channel, 1, 1)\n",
    "        self.gamma = nn.Parameter(torch.ones(1, num_channel, 1, 1))\n",
    "        self.beta = nn.Parameter(torch.zeros(1, num_channel, 1, 1))\n",
    "        self.momentum = momentum\n",
    "    \n",
    "    def forward(self, x):   # x:(batch_size, channels, height, width)\n",
    "        if self.moving_mean.device != x.device:\n",
    "            self.moving_mean = self.moving_mean.to(x.device)\n",
    "            self.moving_std = self.moving_std.to(x.device)\n",
    "\n",
    "        if self.training:\n",
    "            mean = x.mean(dim=[0, 2, 3], keepdim=True)\n",
    "            std = x.std(dim=[0, 2, 3], keepdim=True)\n",
    "            self.moving_mean = (1 - self.momentum) * self.moving_mean + self.momentum * mean\n",
    "            self.moving_std = (1 - self.momentum) * self.moving_std + self.momentum * std\n",
    "        else:\n",
    "            mean = self.moving_mean\n",
    "            std = self.moving_std\n",
    "        x_nor = (x - mean) / torch.sqrt_(std**2 + 1e-11)\n",
    "        \n",
    "        return x_nor * self.gamma + self.beta\n",
    "\n",
    "class BatchNormalization1d(nn.Module):\n",
    "    def __init__(self, num_channel, momentum):\n",
    "        super().__init__()\n",
    "        self.channels = num_channel\n",
    "        self.moving_mean = torch.zeros(1, num_channel)\n",
    "        self.moving_std = torch.zeros(1, num_channel)\n",
    "        self.gamma = nn.Parameter(torch.ones(1, num_channel))\n",
    "        self.beta = nn.Parameter(torch.zeros(1, num_channel))\n",
    "        self.momentum = momentum\n",
    "    \n",
    "    def forward(self, x):   # x:(batch_size, features)\n",
    "        if self.moving_mean.device != x.device:\n",
    "            self.moving_mean = self.moving_mean.to(x.device)\n",
    "            self.moving_std = self.moving_std.to(x.device)\n",
    "            \n",
    "        if self.training:\n",
    "            mean = x.mean(dim=0, keepdim=True)\n",
    "            std = x.std(dim=0, keepdim=True)\n",
    "            self.moving_mean = (1 - self.momentum) * self.moving_mean + self.momentum * mean\n",
    "            self.moving_std = (1 - self.momentum) * self.moving_std + self.momentum * std\n",
    "        else:\n",
    "            mean = self.moving_mean\n",
    "            std = self.moving_std\n",
    "        x_nor = (x - mean) / torch.sqrt_(std**2 + 1e-11)\n",
    "        \n",
    "        return x_nor * self.gamma + self.beta"
   ],
   "id": "6f1fae0cf7dd429e",
   "outputs": [],
   "execution_count": 6
  },
  {
   "metadata": {
    "ExecuteTime": {
     "end_time": "2024-07-24T11:39:55.976568Z",
     "start_time": "2024-07-24T11:39:55.969291Z"
    }
   },
   "cell_type": "code",
   "source": [
    "# Build Lenet\n",
    "class LenetBN(nn.Module):\n",
    "    def __init__(self, img_size, img_class): # consider h = w , c = 1\n",
    "        super().__init__()\n",
    "        self.size = img_size\n",
    "        self.classes = img_class\n",
    "        self.c1 = nn.Conv2d(1, 6, 5)    # (in_channel, out_channel, kernal_size, ...) more details in pytorch documentation\n",
    "        self.s2 = nn.Sequential(\n",
    "            nn.AvgPool2d(2),\n",
    "            nn.Conv2d(6, 6, 1)\n",
    "        )\n",
    "        self.bn2 = BatchNormalization2d(6, 0.1)\n",
    "        self.c3 = nn.Conv2d(6, 16, 5)\n",
    "        self.s4 = nn.Sequential(\n",
    "            nn.AvgPool2d(2),\n",
    "            nn.Conv2d(16, 16, 1)\n",
    "        )\n",
    "        self.bn4 = BatchNormalization2d(16, 0.1)\n",
    "        self.c5 = nn.Conv2d(16, 120, int(img_size/4 - 3))\n",
    "        self.bn5 = BatchNormalization2d(120, 0.1)\n",
    "        self.f6 = nn.Linear(120, 84)\n",
    "        self.bn6 = BatchNormalization1d(84, 0.1)\n",
    "        self.f7 = nn.Linear(84, img_class)\n",
    "        \n",
    "        self.sigmoid = nn.Sigmoid()\n",
    "    \n",
    "    def forward(self, img):\n",
    "        x = self.c1(img)   # 256, 6, 24, 24\n",
    "        x = self.s2(x)   # 256, 6, 12, 12\n",
    "        x = self.bn2(x)\n",
    "        x = self.sigmoid(x) # 256, 6, 12, 12\n",
    "        x = self.c3(x)  # 256, 16, 8, 8\n",
    "        x = self.s4(x)  # 256, 16, 4, 4\n",
    "        x = self.bn4(x)\n",
    "        x = self.sigmoid(x) # 256, 16, 4, 4\n",
    "        x = self.c5(x)  # 256, 120, 1, 1\n",
    "        x = self.bn5(x)\n",
    "        x = self.sigmoid(x).view(x.shape[0], -1) # 256, 120\n",
    "        x = self.f6(x)  # 256, 84\n",
    "        x = self.bn6(x)\n",
    "        x = self.sigmoid(x)\n",
    "        x = self.f7(x) # 256, 10(classes)\n",
    "        return x"
   ],
   "id": "dc7f9a991c1f6b8b",
   "outputs": [],
   "execution_count": 7
  },
  {
   "metadata": {
    "ExecuteTime": {
     "end_time": "2024-07-24T11:39:57.453826Z",
     "start_time": "2024-07-24T11:39:57.448167Z"
    }
   },
   "cell_type": "code",
   "source": "train_X.device, train_y.device, test_X.device, test_y.device",
   "id": "e9f079b8f49c31b7",
   "outputs": [
    {
     "data": {
      "text/plain": [
       "(device(type='cuda', index=0),\n",
       " device(type='cuda', index=0),\n",
       " device(type='cuda', index=0),\n",
       " device(type='cuda', index=0))"
      ]
     },
     "execution_count": 8,
     "metadata": {},
     "output_type": "execute_result"
    }
   ],
   "execution_count": 8
  },
  {
   "metadata": {
    "ExecuteTime": {
     "end_time": "2024-07-24T11:54:59.273842Z",
     "start_time": "2024-07-24T11:54:59.160839Z"
    }
   },
   "cell_type": "code",
   "source": "torch.cuda.empty_cache()",
   "id": "223900f755417199",
   "outputs": [],
   "execution_count": 17
  },
  {
   "metadata": {
    "ExecuteTime": {
     "end_time": "2024-07-24T11:55:59.665432Z",
     "start_time": "2024-07-24T11:55:00.308343Z"
    }
   },
   "cell_type": "code",
   "source": [
    "# Train \n",
    "torch.manual_seed(42)\n",
    "\n",
    "net = nn.Sequential(\n",
    "    LenetBN(28, 10)\n",
    ")\n",
    "loss = nn.CrossEntropyLoss()\n",
    "loss_train = []\n",
    "loss_test = []\n",
    "num_epoch = 4000\n",
    "batch_size = 256\n",
    "lr = 0.01\n",
    "optimizer = torch.optim.AdamW(net.parameters(), lr=lr)\n",
    "\n",
    "net.to(device)\n",
    "loss.to(device)\n",
    "\n",
    "\n",
    "for i in range(num_epoch):\n",
    "    \n",
    "    # batch\n",
    "    ix = torch.randint(0, train_X.shape[0], (batch_size,))\n",
    "    X, y = train_X[ix], train_y[ix]\n",
    "    \n",
    "    # forward pass\n",
    "    out = net(X)\n",
    "    l = loss(out, y)\n",
    "    \n",
    "    # backward pass\n",
    "    optimizer.zero_grad()\n",
    "    l.backward()\n",
    "    optimizer.step()\n",
    "    \n",
    "    # track stats\n",
    "    if i % 1000 == 0:\n",
    "        train_loss = loss(net(train_X), train_y).item()\n",
    "        test_loss = loss(net(test_X), test_y).item()\n",
    "        \n",
    "        loss_train.append(train_loss)\n",
    "        loss_test.append(test_loss)\n",
    "        print(f'epoch {i :5d} / {num_epoch : 5d} train_loss {train_loss:7f}, test_loss {test_loss:7f}')\n",
    "\n",
    "train_loss = l.item()\n",
    "test_loss = loss(net(test_X), test_y).item()\n",
    "\n",
    "loss_train.append(train_loss)\n",
    "loss_test.append(test_loss)\n",
    "print(f'epoch {i :5d} / {num_epoch : 5d} train_loss {train_loss:7f}, test_loss {test_loss:7f}')"
   ],
   "id": "60bc528b45fe3021",
   "outputs": [
    {
     "name": "stdout",
     "output_type": "stream",
     "text": [
      "epoch     0 /  4000 train_loss 2.015337, test_loss 2.017823\n",
      "epoch  1000 /  4000 train_loss 0.300137, test_loss 0.344679\n",
      "epoch  2000 /  4000 train_loss 0.245451, test_loss 0.308559\n",
      "epoch  3000 /  4000 train_loss 0.229192, test_loss 0.317251\n",
      "epoch  3999 /  4000 train_loss 0.153401, test_loss 0.308056\n"
     ]
    }
   ],
   "execution_count": 18
  },
  {
   "metadata": {
    "ExecuteTime": {
     "end_time": "2024-07-24T11:56:17.411518Z",
     "start_time": "2024-07-24T11:56:17.330860Z"
    }
   },
   "cell_type": "code",
   "source": [
    "plt.figure(figsize=(6, 3))\n",
    "plt.plot(loss_train, label='train_loss') ; plt.plot(loss_test, label='test_loss')\n",
    "plt.legend()"
   ],
   "id": "28e516098d9c5398",
   "outputs": [
    {
     "data": {
      "text/plain": [
       "<matplotlib.legend.Legend at 0x24da6a2ef00>"
      ]
     },
     "execution_count": 19,
     "metadata": {},
     "output_type": "execute_result"
    },
    {
     "data": {
      "text/plain": [
       "<Figure size 600x300 with 1 Axes>"
      ],
      "image/png": "[encoded data removed]"
     },
     "metadata": {},
     "output_type": "display_data"
    }
   ],
   "execution_count": 19
  },
  {
   "metadata": {
    "ExecuteTime": {
     "end_time": "2024-07-24T11:44:14.704633Z",
     "start_time": "2024-07-24T11:44:14.696063Z"
    }
   },
   "cell_type": "code",
   "source": [
    "# Build Lenet\n",
    "class LenetNN(nn.Module):\n",
    "    def __init__(self, img_size, img_class): # consider h = w , c = 1\n",
    "        super().__init__()\n",
    "        self.size = img_size\n",
    "        self.classes = img_class\n",
    "        self.c1 = nn.Conv2d(1, 6, 5)    # (in_channel, out_channel, kernal_size, ...) more details in pytorch documentation\n",
    "        self.s2 = nn.Sequential(\n",
    "            nn.AvgPool2d(2),\n",
    "            nn.Conv2d(6, 6, 1)\n",
    "        )\n",
    "        self.bn2 = nn.BatchNorm2d(6, 0.1)\n",
    "        self.c3 = nn.Conv2d(6, 16, 5)\n",
    "        self.s4 = nn.Sequential(\n",
    "            nn.AvgPool2d(2),\n",
    "            nn.Conv2d(16, 16, 1)\n",
    "        )\n",
    "        self.bn4 = nn.BatchNorm2d(16, 0.1)\n",
    "        self.c5 = nn.Conv2d(16, 120, int(img_size/4 - 3))\n",
    "        self.bn5 = nn.BatchNorm2d(120, 0.1)\n",
    "        self.f6 = nn.Linear(120, 84)\n",
    "        self.bn6 = nn.BatchNorm1d(84, 0.1)\n",
    "        self.f7 = nn.Linear(84, img_class)\n",
    "        \n",
    "        self.sigmoid = nn.Sigmoid()\n",
    "    \n",
    "    def forward(self, img):\n",
    "        x = self.c1(img)   # 256, 6, 24, 24\n",
    "        x = self.s2(x)   # 256, 6, 12, 12\n",
    "        x = self.bn2(x)\n",
    "        x = self.sigmoid(x) # 256, 6, 12, 12\n",
    "        x = self.c3(x)  # 256, 16, 8, 8\n",
    "        x = self.s4(x)  # 256, 16, 4, 4\n",
    "        x = self.bn4(x)\n",
    "        x = self.sigmoid(x) # 256, 16, 4, 4\n",
    "        x = self.c5(x)  # 256, 120, 1, 1\n",
    "        x = self.bn5(x)\n",
    "        x = self.sigmoid(x).view(x.shape[0], -1) # 256, 120\n",
    "        x = self.f6(x)  # 256, 84\n",
    "        x = self.bn6(x)\n",
    "        x = self.sigmoid(x)\n",
    "        x = self.f7(x) # 256, 10(classes)\n",
    "        return x"
   ],
   "id": "5d56ef56667ea6bf",
   "outputs": [],
   "execution_count": 11
  },
  {
   "metadata": {
    "ExecuteTime": {
     "end_time": "2024-07-24T11:45:06.331163Z",
     "start_time": "2024-07-24T11:45:04.602914Z"
    }
   },
   "cell_type": "code",
   "source": "torch.cuda.empty_cache()",
   "id": "a868d5d60e24a014",
   "outputs": [],
   "execution_count": 14
  },
  {
   "metadata": {
    "ExecuteTime": {
     "end_time": "2024-07-24T11:45:54.624253Z",
     "start_time": "2024-07-24T11:45:07.885590Z"
    }
   },
   "cell_type": "code",
   "source": [
    "# Train \n",
    "torch.manual_seed(42)\n",
    "\n",
    "net = nn.Sequential(\n",
    "    LenetNN(28, 10)\n",
    ")\n",
    "loss = nn.CrossEntropyLoss()\n",
    "loss_train = []\n",
    "loss_test = []\n",
    "num_epoch = 10000\n",
    "batch_size = 256\n",
    "lr = 0.01\n",
    "optimizer = torch.optim.AdamW(net.parameters(), lr=lr)\n",
    "\n",
    "net.to(device)\n",
    "loss.to(device)\n",
    "\n",
    "\n",
    "for i in range(num_epoch):\n",
    "    \n",
    "    # batch\n",
    "    ix = torch.randint(0, train_X.shape[0], (batch_size,))\n",
    "    X, y = train_X[ix], train_y[ix]\n",
    "    \n",
    "    # forward pass\n",
    "    out = net(X)\n",
    "    l = loss(out, y)\n",
    "    \n",
    "    # backward pass\n",
    "    optimizer.zero_grad()\n",
    "    l.backward()\n",
    "    optimizer.step()\n",
    "    \n",
    "    # track stats\n",
    "    if i % 1000 == 0:\n",
    "        train_loss = loss(net(train_X), train_y).item()\n",
    "        test_loss = loss(net(test_X), test_y).item()\n",
    "        \n",
    "        loss_train.append(train_loss)\n",
    "        loss_test.append(test_loss)\n",
    "        print(f'epoch {i :5d} / {num_epoch : 5d} train_loss {train_loss:7f}, test_loss {test_loss:7f}')\n",
    "\n",
    "train_loss = l.item()\n",
    "test_loss = loss(net(test_X), test_y).item()\n",
    "\n",
    "loss_train.append(train_loss)\n",
    "loss_test.append(test_loss)\n",
    "print(f'epoch {i+1 :5d} / {num_epoch : 5d} train_loss {train_loss:7f}, test_loss {test_loss:7f}')"
   ],
   "id": "71c20db23c5014e3",
   "outputs": [
    {
     "name": "stdout",
     "output_type": "stream",
     "text": [
      "epoch     0 /  10000 train_loss 2.327312, test_loss 2.327315\n",
      "epoch  1000 /  10000 train_loss 0.330723, test_loss 0.372085\n",
      "epoch  2000 /  10000 train_loss 0.259322, test_loss 0.321974\n",
      "epoch  3000 /  10000 train_loss 0.226601, test_loss 0.312996\n",
      "epoch  4000 /  10000 train_loss 0.197473, test_loss 0.299187\n",
      "epoch  5000 /  10000 train_loss 0.178647, test_loss 0.306745\n",
      "epoch  6000 /  10000 train_loss 0.161495, test_loss 0.317413\n",
      "epoch  7000 /  10000 train_loss 0.159031, test_loss 0.347953\n",
      "epoch  8000 /  10000 train_loss 0.136928, test_loss 0.347648\n",
      "epoch  9000 /  10000 train_loss 0.119152, test_loss 0.344126\n",
      "epoch  9999 /  10000 train_loss 0.134045, test_loss 0.356125\n"
     ]
    }
   ],
   "execution_count": 15
  },
  {
   "metadata": {
    "ExecuteTime": {
     "end_time": "2024-07-24T11:46:18.233191Z",
     "start_time": "2024-07-24T11:46:18.157813Z"
    }
   },
   "cell_type": "code",
   "source": [
    "plt.figure(figsize=(6, 3))\n",
    "plt.plot(loss_train, label='train_loss') ; plt.plot(loss_test, label='test_loss')\n",
    "plt.legend()"
   ],
   "id": "1664ab23357880bf",
   "outputs": [
    {
     "data": {
      "text/plain": [
       "<matplotlib.legend.Legend at 0x24aecce3f50>"
      ]
     },
     "execution_count": 16,
     "metadata": {},
     "output_type": "execute_result"
    },
    {
     "data": {
      "text/plain": [
       "<Figure size 600x300 with 1 Axes>"
      ],
      "image/png": "[encoded data removed]"
     },
     "metadata": {},
     "output_type": "display_data"
    }
   ],
   "execution_count": 16
  },
  {
   "metadata": {},
   "cell_type": "code",
   "outputs": [],
   "execution_count": null,
   "source": "",
   "id": "f1a67f49b043e015"
  }
 ],
 "metadata": {
  "kernelspec": {
   "display_name": "Python 3",
   "language": "python",
   "name": "python3"
  },
  "language_info": {
   "codemirror_mode": {
    "name": "ipython",
    "version": 2
   },
   "file_extension": ".py",
   "mimetype": "text/x-python",
   "name": "python",
   "nbconvert_exporter": "python",
   "pygments_lexer": "ipython2",
   "version": "2.7.6"
  }
 },
 "nbformat": 4,
 "nbformat_minor": 5
}
