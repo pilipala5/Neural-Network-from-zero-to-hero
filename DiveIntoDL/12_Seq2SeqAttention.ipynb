{
 "cells": [
  {
   "cell_type": "code",
   "id": "initial_id",
   "metadata": {
    "collapsed": true,
    "ExecuteTime": {
     "end_time": "2024-08-19T07:12:44.662808Z",
     "start_time": "2024-08-19T07:12:39.482921Z"
    }
   },
   "source": [
    "import torch\n",
    "import torch.nn as nn\n",
    "import torch.nn.functional as F\n",
    "import matplotlib.pyplot as plt\n",
    "%matplotlib inline"
   ],
   "outputs": [],
   "execution_count": 1
  },
  {
   "metadata": {
    "ExecuteTime": {
     "end_time": "2024-08-19T07:12:53.136697Z",
     "start_time": "2024-08-19T07:12:53.126003Z"
    }
   },
   "cell_type": "code",
   "source": [
    "# read data\n",
    "with open('Datasets/French_En_Small/fr-en-small.txt') as file:\n",
    "    lines = file.readlines()\n",
    "\n",
    "french_st, eng_st = [st.split('\\t')[0] for st in lines], [st.split('\\t')[1] for st in lines]    # [20, len(st)]\n",
    "\n",
    "french_tks = [st.split() for st in french_st]\n",
    "eng_tks = [st.split() for st in eng_st]\n",
    "print('raw tks---')\n",
    "print(french_tks[:3])\n",
    "print(eng_tks[:3])\n",
    "\n",
    "# get vocab of french and eng\n",
    "french_vocab = sorted(set([tk for tks in french_tks for tk in tks]))\n",
    "eng_vocab = sorted(set([tk for tks in eng_tks for tk in tks]))\n",
    "\n",
    "french_itos = {i+3:s for i, s in enumerate(french_vocab)}\n",
    "french_itos[0] = '<pad>'; french_itos[1] = '<bos>'; french_itos[2] = '<eos>'\n",
    "french_stoi = {s:i for i, s in french_itos.items()}\n",
    "french_vocab_size = len(french_itos)\n",
    "\n",
    "eng_itos = {i+3:s for i, s in enumerate(eng_vocab)}\n",
    "eng_itos[0] = '<pad>'; eng_itos[1] = '<bos>'; eng_itos[2] = '<eos>'\n",
    "eng_stoi = {s:i for i, s in eng_itos.items()}\n",
    "eng_vocab_size = len(eng_itos)\n",
    "print('vocab ---')\n",
    "print(french_vocab_size)\n",
    "print(eng_vocab_size)\n",
    "\n",
    "new_french_tks = [[french_stoi[tk] for tk in ['<bos>'] + tks + ['<eos>']] for tks in french_tks]\n",
    "new_eng_tks = [[eng_stoi[tk] for tk in ['<bos>'] + tks + ['<eos>']] for tks in eng_tks]\n",
    "print('new tks---')\n",
    "print(new_french_tks[:3])\n",
    "print(new_eng_tks[:3])"
   ],
   "id": "285b47a3df536b39",
   "outputs": [
    {
     "name": "stdout",
     "output_type": "stream",
     "text": [
      "raw tks---\n",
      "[['elle', 'est', 'vieille', '.'], ['elle', 'est', 'tranquille', '.'], ['elle', 'a', 'tort', '.']]\n",
      "[['she', 'is', 'old', '.'], ['she', 'is', 'quiet', '.'], ['she', 'is', 'wrong', '.']]\n",
      "vocab ---\n",
      "46\n",
      "38\n",
      "new tks---\n",
      "[[1, 20, 24, 45, 4, 2], [1, 20, 24, 42, 4, 2], [1, 20, 5, 40, 4, 2]]\n",
      "[[1, 30, 21, 25, 4, 2], [1, 30, 21, 27, 4, 2], [1, 30, 21, 37, 4, 2]]\n"
     ]
    }
   ],
   "execution_count": 3
  },
  {
   "metadata": {
    "ExecuteTime": {
     "end_time": "2024-08-11T05:36:19.082981Z",
     "start_time": "2024-08-11T05:36:18.911658Z"
    }
   },
   "cell_type": "code",
   "source": [
    "# analysis length of data\n",
    "french_length = [len(line) for line in new_french_tks]\n",
    "eng_length = [len(line) for line in new_eng_tks]\n",
    "plt.subplots(1, 2, figsize=(10, 4))\n",
    "plt.subplot(1, 2, 1); plt.hist(french_length, bins=10); plt.title('distribution of french length')\n",
    "plt.subplot(1, 2, 2); plt.hist(eng_length, bins=10); plt.title('distribution of eng length')\n",
    "plt.show()\n",
    "print(f'max length {max(max(french_length), max(eng_length))}')\n",
    "\n",
    "# padding data to a fixed length\n",
    "max_length = max(max(french_length), max(eng_length))\n",
    "train_X = torch.tensor([tks + [0] * (max_length - len(tks)) for tks in new_french_tks], dtype=torch.long, device=\"cuda\" if torch.cuda.is_available() else \"cpu\")\n",
    "train_y = torch.tensor([tks + [0] * (max_length - len(tks)) for tks in new_eng_tks], dtype=torch.long, device=\"cuda\" if torch.cuda.is_available() else \"cpu\")\n",
    "print(train_X.shape)\n",
    "print(train_y.shape)"
   ],
   "id": "e918073f94f1fdf9",
   "outputs": [
    {
     "data": {
      "text/plain": [
       "<Figure size 1000x400 with 2 Axes>"
      ],
      "image/png": "[encoded data removed]"
     },
     "metadata": {},
     "output_type": "display_data"
    },
    {
     "name": "stdout",
     "output_type": "stream",
     "text": [
      "max length 8\n",
      "torch.Size([20, 8])\n",
      "torch.Size([20, 8])\n"
     ]
    }
   ],
   "execution_count": 121
  },
  {
   "metadata": {
    "ExecuteTime": {
     "end_time": "2024-08-11T05:36:19.088213Z",
     "start_time": "2024-08-11T05:36:19.082981Z"
    }
   },
   "cell_type": "code",
   "source": [
    "# encoder: encode french tks to vector\n",
    "class Encoder(nn.Module):\n",
    "    def __init__(self, vocab_size, vocab_dims, num_hidden, num_layers, drop_prob=0):\n",
    "        super().__init__()\n",
    "        self.embedding = nn.Embedding(vocab_size, vocab_dims)\n",
    "        self.gru = nn.GRU(vocab_dims, num_hidden, num_layers, dropout=drop_prob)\n",
    "    \n",
    "    def forward(self, x, state=None):   # (num_steps, batch_size)\n",
    "        x = self.embedding(x)  # (num_steps, batch_size, vocab_dims)\n",
    "        return self.gru(x)         # (num_steps, batch_size, num_hidden) , (num_layers, batch_size, num_hidden)"
   ],
   "id": "604af9d8e06c20b2",
   "outputs": [],
   "execution_count": 122
  },
  {
   "metadata": {
    "ExecuteTime": {
     "end_time": "2024-08-11T05:36:19.094566Z",
     "start_time": "2024-08-11T05:36:19.088213Z"
    }
   },
   "cell_type": "code",
   "source": [
    "# attention mechanism\n",
    "class Attention(nn.Module):\n",
    "    def __init__(self, input_size, attention_size):\n",
    "        super().__init__()\n",
    "        self.net = nn.Sequential(\n",
    "            nn.Linear(input_size, attention_size, bias=False),\n",
    "            nn.Tanh(),\n",
    "            nn.Linear(attention_size, 1,bias=False)\n",
    "        )\n",
    "    \n",
    "    def forward(self, enc_states, dec_state):   # enc_states (num_steps, batch_size, num_hidden), dec_state (batch_size, num_hidden)\n",
    "        broadcast_dec_state = dec_state.unsqueeze(dim=0).expand_as(enc_states) # (1, batch_size, num_hidden) -> (num_steps, batch_size, num_hidden) like broadcast but do not change data\n",
    "        enc_and_dec_states = torch.cat([enc_states, broadcast_dec_state], dim=2) # (num_steps, batch_size, num_hidden*2)\n",
    "        e = self.net(enc_and_dec_states)    # (num_steps, batch_size, 1)\n",
    "        alpha = F.softmax(e, dim=0) # (num_steps, batch_size, 1)\n",
    "        return (alpha * enc_states).sum(dim=0)  # (batch_size, num_hidden)"
   ],
   "id": "7b4ac3282cbffdd2",
   "outputs": [],
   "execution_count": 123
  },
  {
   "metadata": {
    "ExecuteTime": {
     "end_time": "2024-08-11T05:36:19.101328Z",
     "start_time": "2024-08-11T05:36:19.094566Z"
    }
   },
   "cell_type": "code",
   "source": [
    "# decoder: decode vector to english\n",
    "class Decoder(nn.Module):\n",
    "    def __init__(self, vocab_size, vocab_dims, num_hidden, num_layers, attention_size=10, drop_prob=0): # assert encoder and decoder have same num_hidden\n",
    "        super().__init__()\n",
    "        self.embedding = nn.Embedding(vocab_size, vocab_dims)\n",
    "        self.gru = nn.GRU(num_hidden + vocab_dims, num_hidden, num_layers, dropout=drop_prob)     # num_hidden of Encoder + vocab_dims, consider both attention mechanism and inputs\n",
    "        self.attention = Attention(num_hidden*2, attention_size)\n",
    "        self.linear = nn.Linear(num_hidden, vocab_size)\n",
    "    \n",
    "    def forward(self, cur_input, state_decoder, states_encoder):    # (batch_size, ) , (num_layers, batch_size, num_hidden), (num_steps ,batch_size, num_hidden)\n",
    "        c = self.attention(states_encoder, state_decoder[-1])   # (batch_size, num_hidden)\n",
    "        input_c = torch.cat([self.embedding(cur_input), c], dim=1).unsqueeze(dim=0) # (1, batch_size, num_hidden + vocab_dims)\n",
    "        output, new_state = self.gru(input_c, state_decoder)   # (1, batch_size, num_hidden), (num_layers, batch_size, num_hidden)\n",
    "        output = self.linear(output).squeeze(dim=0) # (batch_size, vocab_size)\n",
    "        return output, new_state"
   ],
   "id": "a2e1c6111fb9f68c",
   "outputs": [],
   "execution_count": 124
  },
  {
   "metadata": {},
   "cell_type": "markdown",
   "source": "# train our model",
   "id": "77a6f98cc26cb8df"
  },
  {
   "metadata": {
    "ExecuteTime": {
     "end_time": "2024-08-11T05:36:55.793695Z",
     "start_time": "2024-08-11T05:36:19.101328Z"
    }
   },
   "cell_type": "code",
   "source": [
    "torch.manual_seed(42)\n",
    "torch.cuda.empty_cache()\n",
    "\n",
    "num_epochs, lr, batch_size = 1500, 0.01, 2\n",
    "embed_size, num_hiddens, num_layers, attention_size, drop_prob = 64, 64, 2, 10, 0.5\n",
    "\n",
    "device = \"cuda\" if torch.cuda.is_available() else \"cpu\"\n",
    "encoder = Encoder(french_vocab_size, embed_size, num_hiddens, num_layers, drop_prob).to(device)\n",
    "decoder = Decoder(eng_vocab_size, embed_size, num_hiddens, num_layers, attention_size,drop_prob).to(device)\n",
    "loss = nn.CrossEntropyLoss(reduction='none').to(device)\n",
    "\n",
    "optimizer = torch.optim.Adam([\n",
    "    {'params':encoder.parameters()},\n",
    "    {'params':decoder.parameters()}\n",
    "], lr= 0.01)\n",
    "scheduler = torch.optim.lr_scheduler.StepLR(optimizer, step_size=1000, gamma=0.5)\n",
    "\n",
    "lossi = []\n",
    "for epoch in range(num_epochs):\n",
    "    idx = torch.randint(0, train_X.shape[0], (batch_size, ))\n",
    "    \n",
    "    # forward pass\n",
    "    # french to vector\n",
    "    X, Y = train_X[idx], train_y[idx]   # (2, 8)    (batch_size, num_steps)\n",
    "    enc_outputs, enc_states = encoder(X.permute(1, 0))\n",
    "    \n",
    "    # vector to eng\n",
    "    Y = Y.permute(1, 0)     # (8, 2)\n",
    "    dec_input = Y[0]    # (2)\n",
    "    dec_state = enc_states  # (2, 2, 64)\n",
    "    \n",
    "    l = 0.0\n",
    "    num_elements = 0    # do not include Y[0]\n",
    "    for y in Y[1:]: # (2)\n",
    "        dec_output, dec_state = decoder(dec_input, dec_state, enc_states)   # (batch_size, vocab_size), (num_layers, batch_size, num_hidden)\n",
    "        mask = [0 if tk == 0 else 1 for tk in dec_input]\n",
    "        l += (loss(dec_output, y) * torch.tensor(mask).to(device)).sum()\n",
    "        num_elements += sum(mask)\n",
    "        \n",
    "    l /= num_elements\n",
    "    \n",
    "    # backward pass\n",
    "    optimizer.zero_grad()\n",
    "    l.backward()\n",
    "    optimizer.step()\n",
    "    scheduler.step()\n",
    "    \n",
    "    # track stats1\n",
    "    lossi.append(l.item())\n",
    "    if epoch % 100 == 0:\n",
    "        print(f'epoch {epoch:6d}, loss {l.item() :10f}')\n",
    "        \n",
    "print(f'epoch {epoch:6d}, loss {l.item() :10f}') "
   ],
   "id": "a28eba0eda16d697",
   "outputs": [
    {
     "name": "stdout",
     "output_type": "stream",
     "text": [
      "epoch      0, loss   3.638365\n",
      "epoch    100, loss   0.477515\n",
      "epoch    200, loss   0.375593\n",
      "epoch    300, loss   0.335726\n",
      "epoch    400, loss   0.164889\n",
      "epoch    500, loss   0.141868\n",
      "epoch    600, loss   0.218432\n",
      "epoch    700, loss   0.255509\n",
      "epoch    800, loss   0.341153\n",
      "epoch    900, loss   0.104504\n",
      "epoch   1000, loss   0.170653\n",
      "epoch   1100, loss   0.036617\n",
      "epoch   1200, loss   0.049300\n",
      "epoch   1300, loss   0.085276\n",
      "epoch   1400, loss   0.019912\n",
      "epoch   1499, loss   0.002562\n"
     ]
    }
   ],
   "execution_count": 125
  },
  {
   "metadata": {
    "ExecuteTime": {
     "end_time": "2024-08-11T05:36:55.870830Z",
     "start_time": "2024-08-11T05:36:55.793695Z"
    }
   },
   "cell_type": "code",
   "source": [
    "plt.plot(lossi)\n",
    "plt.show()"
   ],
   "id": "88721c7eb383d872",
   "outputs": [
    {
     "data": {
      "text/plain": [
       "<Figure size 640x480 with 1 Axes>"
      ],
      "image/png": "[encoded data removed]"
     },
     "metadata": {},
     "output_type": "display_data"
    }
   ],
   "execution_count": 126
  },
  {
   "metadata": {
    "ExecuteTime": {
     "end_time": "2024-08-11T05:36:55.878321Z",
     "start_time": "2024-08-11T05:36:55.870830Z"
    }
   },
   "cell_type": "code",
   "source": "torch.save({'encoder': encoder.state_dict(), 'decoder': decoder.state_dict()}, 'Parameters/seq2seq_attention.pt')",
   "id": "ad2e915cb26efd27",
   "outputs": [],
   "execution_count": 127
  },
  {
   "metadata": {},
   "cell_type": "markdown",
   "source": "# predict",
   "id": "5404a4fd94c9331b"
  },
  {
   "metadata": {
    "ExecuteTime": {
     "end_time": "2024-08-11T05:38:20.273849Z",
     "start_time": "2024-08-11T05:38:20.248427Z"
    }
   },
   "cell_type": "code",
   "source": [
    "raw_st = 'ils regardent .'\n",
    "raw_tks = ['<bos>'] + raw_st.split() + ['<eos>'] + ['<pad>'] * (max_length - len(raw_st.split()) - 2)\n",
    "X = torch.tensor([french_stoi[tk] for tk in raw_tks], dtype=torch.long, device=device).view(-1, 1)  # (num_steps, batch_size) -> (8, 1)\n",
    "print(raw_tks)\n",
    "\n",
    "with torch.no_grad():\n",
    "    outputs = []\n",
    "    enc_outputs, enc_states = encoder(X)\n",
    "    dec_input = torch.tensor([eng_stoi['<bos>']], dtype=torch.long, device=device)\n",
    "    outputs.append(dec_input.item())\n",
    "    dec_state = enc_states\n",
    "    \n",
    "    while 1:\n",
    "        dec_output, dec_state = decoder(dec_input, dec_state, enc_states)   # (1, vocab_size(38?))\n",
    "        probs = F.softmax(dec_output, dim=1)\n",
    "        output = torch.argmax(probs, dim=1)\n",
    "        print(output)\n",
    "        outputs.append(output.item())\n",
    "        \n",
    "        dec_input = output\n",
    "        if output == 2:\n",
    "            break\n",
    "print(''.join(eng_itos[tk] + ' ' for tk in outputs))"
   ],
   "id": "5fb0208e0fad0765",
   "outputs": [
    {
     "name": "stdout",
     "output_type": "stream",
     "text": [
      "['<bos>', 'ils', 'regardent', '.', '<eos>', '<pad>', '<pad>', '<pad>']\n",
      "tensor([32], device='cuda:0')\n",
      "tensor([9], device='cuda:0')\n",
      "tensor([36], device='cuda:0')\n",
      "tensor([4], device='cuda:0')\n",
      "tensor([2], device='cuda:0')\n",
      "<bos> they are watching . <eos> \n"
     ]
    }
   ],
   "execution_count": 131
  }
 ],
 "metadata": {
  "kernelspec": {
   "display_name": "Python 3",
   "language": "python",
   "name": "python3"
  },
  "language_info": {
   "codemirror_mode": {
    "name": "ipython",
    "version": 2
   },
   "file_extension": ".py",
   "mimetype": "text/x-python",
   "name": "python",
   "nbconvert_exporter": "python",
   "pygments_lexer": "ipython2",
   "version": "2.7.6"
  }
 },
 "nbformat": 4,
 "nbformat_minor": 5
}
