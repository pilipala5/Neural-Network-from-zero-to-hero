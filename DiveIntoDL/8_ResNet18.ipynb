{
 "cells": [
  {
   "cell_type": "code",
   "execution_count": 2,
   "id": "initial_id",
   "metadata": {
    "ExecuteTime": {
     "end_time": "2024-07-28T10:20:52.029025Z",
     "start_time": "2024-07-28T10:20:46.881284Z"
    },
    "collapsed": true
   },
   "outputs": [],
   "source": [
    "import torch\n",
    "import torch.nn as nn\n",
    "import torch.nn.functional as F\n",
    "import matplotlib.pyplot as plt\n",
    "import torchvision\n",
    "from torchvision import transforms\n",
    "import torch.utils.data as Data\n",
    "%matplotlib inline"
   ]
  },
  {
   "cell_type": "markdown",
   "id": "41fb98655def19df",
   "metadata": {},
   "source": [
    "# Structure of ResNet18"
   ]
  },
  {
   "cell_type": "code",
   "execution_count": 3,
   "id": "3a2a96dda7d7a7f1",
   "metadata": {
    "ExecuteTime": {
     "end_time": "2024-07-28T10:20:54.938924Z",
     "start_time": "2024-07-28T10:20:54.934272Z"
    }
   },
   "outputs": [],
   "source": [
    "class ResidualBlock(nn.Module):\n",
    "    def __init__(self, c_in, c_out, conv1x1, stride=1):\n",
    "        super().__init__()\n",
    "        self.conv1 = nn.Conv2d(c_in, c_out, kernel_size=3, padding=1, stride=stride)\n",
    "        self.conv2 = nn.Conv2d(c_out, c_out, kernel_size=3, padding=1, stride=1)\n",
    "        self.relu = nn.ReLU()   \n",
    "        self.bn1 = nn.BatchNorm2d(c_out)    # must use 2 bn layers\n",
    "        self.bn2 = nn.BatchNorm2d(c_out)\n",
    "\n",
    "        if conv1x1:\n",
    "            self.conv3 = nn.Conv2d(c_in, c_out, kernel_size=1, stride=stride)\n",
    "        else:\n",
    "            self.conv3 = None\n",
    "        \n",
    "    def forward(self, imgs): # (batch_size, channels, height, weight)\n",
    "        x = self.conv1(imgs) # batch_size, c_out, h, w\n",
    "        x = self.bn1(x)\n",
    "        x = self.relu(x)\n",
    "        x = self.conv2(x)\n",
    "        x = self.bn2(x)\n",
    "        if self.conv3 is not None:\n",
    "            imgs = self.conv3(imgs)\n",
    "        \n",
    "        return self.relu(x + imgs)"
   ]
  },
  {
   "cell_type": "code",
   "execution_count": 10,
   "id": "817bbe31ded3ca3f",
   "metadata": {
    "ExecuteTime": {
     "end_time": "2024-07-28T08:12:00.146959Z",
     "start_time": "2024-07-28T08:12:00.135307Z"
    }
   },
   "outputs": [
    {
     "data": {
      "text/plain": [
       "torch.Size([3, 3, 14, 14])"
      ]
     },
     "execution_count": 10,
     "metadata": {},
     "output_type": "execute_result"
    }
   ],
   "source": [
    "img1 = torch.randn([3, 1, 28, 28])\n",
    "net = ResidualBlock(1, 3, True, 2)\n",
    "y = net(img1)\n",
    "y.shape"
   ]
  },
  {
   "cell_type": "code",
   "execution_count": 19,
   "id": "6be8101740fa1fcb",
   "metadata": {
    "ExecuteTime": {
     "end_time": "2024-07-28T10:30:11.389372Z",
     "start_time": "2024-07-28T10:30:11.383821Z"
    }
   },
   "outputs": [],
   "source": [
    "class ResNet18(nn.Module):\n",
    "    def __init__(self, c_in, img_size):   # 1 or 3\n",
    "        super().__init__()\n",
    "        self.conv1 = nn.Conv2d(c_in, 64, kernel_size=7, stride=2, padding=3)  \n",
    "        self.bn1 = nn.BatchNorm2d(64)\n",
    "        self.relu1 = nn.ReLU()\n",
    "        self.maxpool1 = nn.MaxPool2d(kernel_size=3, stride=2, padding=1)\n",
    "        self.layer1 = nn.Sequential(\n",
    "            ResidualBlock(64, 64, False, 1),\n",
    "            ResidualBlock(64, 64, False, 1),            \n",
    "        )\n",
    "        self.layer2 = nn.Sequential(\n",
    "            ResidualBlock(64, 128, True, 2),\n",
    "            ResidualBlock(128, 128, False, 1),\n",
    "        )\n",
    "        self.layer3 = nn.Sequential(\n",
    "            ResidualBlock(128, 256, True, 2),\n",
    "            ResidualBlock(256, 256, False, 1),\n",
    "        )\n",
    "        self.layer4 = nn.Sequential(\n",
    "            ResidualBlock(256, 512, True, 2),\n",
    "            ResidualBlock(512, 512, False, 1),\n",
    "        )\n",
    "        self.avgpool = nn.AvgPool2d(kernel_size=int(img_size/32), stride=1)   # batch_size, 512, 1, 1\n",
    "        self.fc = nn.Linear(512, 10)\n",
    "\n",
    "    def forward(self, imgs): # (batch_size, channels, height, weight)\n",
    "        x = self.conv1(imgs)\n",
    "        x = self.bn1(x)\n",
    "        x = self.relu1(x)\n",
    "        x = self.maxpool1(x)\n",
    "        x = self.layer1(x)\n",
    "        x = self.layer2(x)\n",
    "        x = self.layer3(x)\n",
    "        x = self.layer4(x)\n",
    "        x = self.avgpool(x).view(x.shape[0], -1)\n",
    "        x = self.fc(x)\n",
    "        return x        "
   ]
  },
  {
   "cell_type": "code",
   "execution_count": 63,
   "id": "37d233f177f6f153",
   "metadata": {
    "ExecuteTime": {
     "end_time": "2024-07-28T10:18:16.806099Z",
     "start_time": "2024-07-28T10:18:16.699523Z"
    }
   },
   "outputs": [
    {
     "name": "stdout",
     "output_type": "stream",
     "text": [
      "torch.Size([3, 64, 32, 32])\n",
      "torch.Size([3, 64, 32, 32])\n",
      "torch.Size([3, 64, 32, 32])\n",
      "torch.Size([3, 64, 16, 16])\n",
      "torch.Size([3, 64, 16, 16])\n",
      "torch.Size([3, 128, 8, 8])\n",
      "torch.Size([3, 256, 4, 4])\n",
      "torch.Size([3, 512, 2, 2])\n",
      "torch.Size([3, 512])\n"
     ]
    },
    {
     "data": {
      "text/plain": [
       "torch.Size([3, 10])"
      ]
     },
     "execution_count": 63,
     "metadata": {},
     "output_type": "execute_result"
    }
   ],
   "source": [
    "net = ResNet18(1, 64)\n",
    "imgs = torch.randn([3, 1, 64, 64])\n",
    "y = net(imgs)\n",
    "y.shape "
   ]
  },
  {
   "cell_type": "markdown",
   "id": "f58b60f698eff3c1",
   "metadata": {},
   "source": [
    "# Get data and train resnet18"
   ]
  },
  {
   "cell_type": "code",
   "execution_count": 5,
   "id": "2abf65654b2b654e",
   "metadata": {
    "ExecuteTime": {
     "end_time": "2024-07-28T10:21:03.311861Z",
     "start_time": "2024-07-28T10:21:02.732053Z"
    }
   },
   "outputs": [],
   "source": [
    "root = 'Datasets/FashionMNIST'\n",
    "transform = transforms.Compose([\n",
    "    transforms.ToTensor(),\n",
    "    transforms.RandomResizedCrop(size=(128, 128), antialias=True)\n",
    "])\n",
    "\n",
    "train_data = torchvision.datasets.FashionMNIST(root, train=True, download=False, transform=transform)\n",
    "test_data = torchvision.datasets.FashionMNIST(root, train=False, download=False, transform=transform)\n",
    "\n",
    "train_iter = Data.DataLoader(train_data, batch_size=512, shuffle=True)\n",
    "test_iter = Data.DataLoader(test_data, batch_size=512, shuffle=False)"
   ]
  },
  {
   "cell_type": "code",
   "execution_count": 50,
   "id": "baf8704b240339b1",
   "metadata": {
    "ExecuteTime": {
     "end_time": "2024-07-28T10:04:47.317129Z",
     "start_time": "2024-07-28T10:04:47.144204Z"
    }
   },
   "outputs": [
    {
     "data": {
      "text/plain": [
       "(torch.Size([512, 1, 224, 224]), torch.Size([512]))"
      ]
     },
     "execution_count": 50,
     "metadata": {},
     "output_type": "execute_result"
    }
   ],
   "source": [
    "X, y = iter(train_iter).__next__()\n",
    "X.shape, y.shape"
   ]
  },
  {
   "cell_type": "code",
   "execution_count": 53,
   "id": "16da831b3876968f",
   "metadata": {
    "ExecuteTime": {
     "end_time": "2024-07-28T10:10:06.834643Z",
     "start_time": "2024-07-28T10:10:06.829373Z"
    }
   },
   "outputs": [
    {
     "data": {
      "text/plain": [
       "torch.Size([60000, 28, 28])"
      ]
     },
     "execution_count": 53,
     "metadata": {},
     "output_type": "execute_result"
    }
   ],
   "source": [
    "train_data.data.shape"
   ]
  },
  {
   "cell_type": "code",
   "execution_count": 21,
   "id": "cb2d57fc29ff71a8",
   "metadata": {
    "ExecuteTime": {
     "end_time": "2024-07-28T10:51:11.004946Z",
     "start_time": "2024-07-28T10:31:56.188082Z"
    }
   },
   "outputs": [
    {
     "name": "stdout",
     "output_type": "stream",
     "text": [
      "epoch       1 , train loss   2.340048\n",
      "epoch       2 , train loss   2.331470\n",
      "epoch       3 , train loss   2.317992\n",
      "epoch       4 , train loss   2.304584\n",
      "epoch       5 , train loss   2.326561\n",
      "epoch       6 , train loss   2.312395\n",
      "epoch       7 , train loss   2.295661\n",
      "epoch       8 , train loss   2.297266\n",
      "epoch       9 , train loss   2.289135\n",
      "epoch      10 , train loss   2.279065\n",
      "epoch      11 , train loss   2.277591\n",
      "epoch      12 , train loss   2.258822\n",
      "epoch      13 , train loss   2.282445\n",
      "epoch      14 , train loss   2.290894\n",
      "epoch      15 , train loss   2.237013\n",
      "epoch      16 , train loss   2.221041\n",
      "epoch      17 , train loss   2.244729\n",
      "epoch      18 , train loss   2.241335\n",
      "epoch      19 , train loss   2.240915\n",
      "epoch      20 , train loss   2.213497\n",
      "epoch      21 , train loss   2.209031\n",
      "epoch      22 , train loss   2.188298\n",
      "epoch      23 , train loss   2.202017\n",
      "epoch      24 , train loss   2.192264\n",
      "epoch      25 , train loss   2.189707\n",
      "epoch      26 , train loss   2.184388\n",
      "epoch      27 , train loss   2.183304\n",
      "epoch      28 , train loss   2.172982\n",
      "epoch      29 , train loss   2.163769\n",
      "epoch      30 , train loss   2.165732\n",
      "epoch      31 , train loss   2.148248\n",
      "epoch      32 , train loss   2.158857\n",
      "epoch      33 , train loss   2.160156\n",
      "epoch      34 , train loss   2.151588\n",
      "epoch      35 , train loss   2.140332\n",
      "epoch      36 , train loss   2.147316\n",
      "epoch      37 , train loss   2.149268\n",
      "epoch      38 , train loss   2.136993\n",
      "epoch      39 , train loss   2.117218\n",
      "epoch      40 , train loss   2.119086\n",
      "epoch      41 , train loss   2.121366\n",
      "epoch      42 , train loss   2.112475\n",
      "epoch      43 , train loss   2.110958\n",
      "epoch      44 , train loss   2.107188\n",
      "epoch      45 , train loss   2.116776\n",
      "epoch      46 , train loss   2.108579\n",
      "epoch      47 , train loss   2.114861\n",
      "epoch      48 , train loss   2.061430\n",
      "epoch      49 , train loss   2.087378\n",
      "epoch      50 , train loss   2.068749\n",
      "epoch      51 , train loss   2.078055\n",
      "epoch      52 , train loss   2.072093\n",
      "epoch      53 , train loss   2.068412\n",
      "epoch      54 , train loss   2.080146\n",
      "epoch      55 , train loss   2.056261\n",
      "epoch      56 , train loss   2.085704\n",
      "epoch      57 , train loss   2.043662\n",
      "epoch      58 , train loss   2.052660\n",
      "epoch      59 , train loss   2.047436\n",
      "epoch      60 , train loss   2.049716\n",
      "epoch      61 , train loss   2.069437\n",
      "epoch      62 , train loss   2.027713\n",
      "epoch      63 , train loss   2.037865\n",
      "epoch      64 , train loss   2.040723\n",
      "epoch      65 , train loss   2.016357\n",
      "epoch      66 , train loss   2.022959\n",
      "epoch      67 , train loss   2.023274\n",
      "epoch      68 , train loss   2.020679\n",
      "epoch      69 , train loss   2.009922\n",
      "epoch      70 , train loss   1.993818\n",
      "epoch      71 , train loss   2.006977\n",
      "epoch      72 , train loss   1.997233\n",
      "epoch      73 , train loss   1.997512\n",
      "epoch      74 , train loss   1.967916\n",
      "epoch      75 , train loss   1.982236\n",
      "epoch      76 , train loss   1.984032\n",
      "epoch      77 , train loss   1.946891\n",
      "epoch      78 , train loss   1.982070\n",
      "epoch      79 , train loss   1.974734\n",
      "epoch      80 , train loss   1.988472\n",
      "epoch      81 , train loss   1.951829\n",
      "epoch      82 , train loss   1.959806\n",
      "epoch      83 , train loss   1.944532\n",
      "epoch      84 , train loss   1.940186\n",
      "epoch      85 , train loss   1.945263\n",
      "epoch      86 , train loss   1.974956\n",
      "epoch      87 , train loss   1.944137\n",
      "epoch      88 , train loss   1.946203\n",
      "epoch      89 , train loss   1.969365\n",
      "epoch      90 , train loss   1.927575\n",
      "epoch      91 , train loss   1.937634\n",
      "epoch      92 , train loss   1.900783\n",
      "epoch      93 , train loss   1.907713\n",
      "epoch      94 , train loss   1.926410\n",
      "epoch      95 , train loss   1.905619\n",
      "epoch      96 , train loss   1.905231\n",
      "epoch      97 , train loss   1.875232\n",
      "epoch      98 , train loss   1.885020\n",
      "epoch      99 , train loss   1.868180\n",
      "epoch     100 , train loss   1.910977\n",
      "epoch     101 , train loss   1.862518\n",
      "epoch     102 , train loss   1.861896\n",
      "epoch     103 , train loss   1.878029\n",
      "epoch     104 , train loss   1.862315\n",
      "epoch     105 , train loss   1.855990\n",
      "epoch     106 , train loss   1.879235\n",
      "epoch     107 , train loss   1.860673\n",
      "epoch     108 , train loss   1.855632\n",
      "epoch     109 , train loss   1.851112\n",
      "epoch     110 , train loss   1.857028\n",
      "epoch     111 , train loss   1.800537\n",
      "epoch     112 , train loss   1.860799\n",
      "epoch     113 , train loss   1.866113\n",
      "epoch     114 , train loss   1.872542\n",
      "epoch     115 , train loss   1.827137\n",
      "epoch     116 , train loss   1.815102\n",
      "epoch     117 , train loss   1.837305\n",
      "epoch     118 , train loss   1.817799\n"
     ]
    }
   ],
   "source": [
    "torch.manual_seed(42)\n",
    "torch.cuda.empty_cache()\n",
    "\n",
    "net = nn.Sequential(\n",
    "    ResNet18(1, 128)\n",
    ")\n",
    "loss = nn.CrossEntropyLoss()\n",
    "optimizer = torch.optim.SGD(net.parameters(), lr=0.001, weight_decay=0.1)\n",
    "device = \"cuda\" if torch.cuda.is_available() else \"cpu\"\n",
    "idx = 0\n",
    "t_loss = []\n",
    "e_loss = []\n",
    "\n",
    "loss.to(device)\n",
    "loss.to(device)\n",
    "\n",
    "for i in range(1):\n",
    "    for X, y in train_iter:\n",
    "        net.train()\n",
    "        \n",
    "        # forward pass\n",
    "        X.to(device), y.to(device)     \n",
    "        logits = net(X)\n",
    "        l = loss(logits, y)\n",
    "        \n",
    "        # backward pass\n",
    "        optimizer.zero_grad()\n",
    "        l.backward()\n",
    "        optimizer.step()\n",
    "        \n",
    "        # track stats\n",
    "        t_loss.append(l.item())\n",
    "        idx += 1\n",
    "        print(f'epoch {idx : 7d} , train loss {l.item() : 10f}') "
   ]
  },
  {
   "cell_type": "code",
   "execution_count": 22,
   "id": "160710a1722db351",
   "metadata": {
    "ExecuteTime": {
     "end_time": "2024-07-28T10:52:29.621762Z",
     "start_time": "2024-07-28T10:52:29.469737Z"
    }
   },
   "outputs": [
    {
     "data": {
      "text/plain": [
       "[<matplotlib.lines.Line2D at 0x263d8bebaa0>]"
      ]
     },
     "execution_count": 22,
     "metadata": {},
     "output_type": "execute_result"
    },
    {
     "data": {
      "image/png": "[encoded data removed]",
      "text/plain": [
       "<Figure size 640x480 with 1 Axes>"
      ]
     },
     "metadata": {},
     "output_type": "display_data"
    }
   ],
   "source": [
    "plt.plot(t_loss)    # can continue to train, but will waste some time haha\n"
   ]
  }
 ],
 "metadata": {
  "kernelspec": {
   "display_name": "Python 3",
   "language": "python",
   "name": "python3"
  },
  "language_info": {
   "codemirror_mode": {
    "name": "ipython",
    "version": 2
   },
   "file_extension": ".py",
   "mimetype": "text/x-python",
   "name": "python",
   "nbconvert_exporter": "python",
   "pygments_lexer": "ipython2",
   "version": "2.7.6"
  }
 },
 "nbformat": 4,
 "nbformat_minor": 5
}
