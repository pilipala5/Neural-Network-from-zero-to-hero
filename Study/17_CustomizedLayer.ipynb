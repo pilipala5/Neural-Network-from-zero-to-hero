{
 "cells": [
  {
   "metadata": {},
   "cell_type": "markdown",
   "source": "# 不含模型参数的自定义层",
   "id": "8cc4853c1317344d"
  },
  {
   "cell_type": "code",
   "id": "initial_id",
   "metadata": {
    "collapsed": true,
    "ExecuteTime": {
     "end_time": "2024-07-01T13:46:20.024437Z",
     "start_time": "2024-07-01T13:46:16.202533Z"
    }
   },
   "source": [
    "import torch\n",
    "from torch import nn\n",
    "\n",
    "class CenteredLayer(nn.Module):\n",
    "    def __init__(self, **kwargs):\n",
    "        super(CenteredLayer, self).__init__(**kwargs)\n",
    "    def forward(self, x):\n",
    "        return x - x.mean()"
   ],
   "outputs": [],
   "execution_count": 1
  },
  {
   "metadata": {
    "ExecuteTime": {
     "end_time": "2024-07-01T13:47:22.707810Z",
     "start_time": "2024-07-01T13:47:22.653547Z"
    }
   },
   "cell_type": "code",
   "source": [
    "layer = CenteredLayer()\n",
    "layer(torch.tensor([1, 2, 3, 4, 5], dtype=torch.float))"
   ],
   "id": "2521acbaeaec1615",
   "outputs": [
    {
     "data": {
      "text/plain": [
       "tensor([-2., -1.,  0.,  1.,  2.])"
      ]
     },
     "execution_count": 2,
     "metadata": {},
     "output_type": "execute_result"
    }
   ],
   "execution_count": 2
  },
  {
   "metadata": {
    "ExecuteTime": {
     "end_time": "2024-07-01T14:10:22.489219Z",
     "start_time": "2024-07-01T14:10:22.460580Z"
    }
   },
   "cell_type": "code",
   "source": [
    "net = nn.Sequential(nn.Linear(8, 128), CenteredLayer())\n",
    "y = net(torch.rand(4, 8))\n",
    "y.mean().item()"
   ],
   "id": "66d8b0dd0fdc12b5",
   "outputs": [
    {
     "data": {
      "text/plain": [
       "-1.862645149230957e-09"
      ]
     },
     "execution_count": 3,
     "metadata": {},
     "output_type": "execute_result"
    }
   ],
   "execution_count": 3
  },
  {
   "metadata": {},
   "cell_type": "markdown",
   "source": "# 含模型参数的自定义层",
   "id": "4065f7fdd2338aae"
  },
  {
   "metadata": {
    "ExecuteTime": {
     "end_time": "2024-07-01T14:16:54.009916Z",
     "start_time": "2024-07-01T14:16:54.000624Z"
    }
   },
   "cell_type": "code",
   "source": [
    "class MyDense(nn.Module):\n",
    "    def __init__(self):\n",
    "        super(MyDense, self).__init__()\n",
    "        self.params = nn.ParameterList([nn.Parameter(torch.randn(4, 4)) for i in range(3)])\n",
    "        self.params.append(nn.Parameter(torch.randn(4, 1)))\n",
    "        \n",
    "    def forward(self, x):\n",
    "        for i in range(len(self.params)):\n",
    "            x = torch.mm(x, self.params[i])\n",
    "        return x\n",
    "\n",
    "net = MyDense()\n",
    "print(net)"
   ],
   "id": "e37694f1ec65ca3f",
   "outputs": [
    {
     "name": "stdout",
     "output_type": "stream",
     "text": [
      "MyDense(\n",
      "  (params): ParameterList(\n",
      "      (0): Parameter containing: [torch.float32 of size 4x4]\n",
      "      (1): Parameter containing: [torch.float32 of size 4x4]\n",
      "      (2): Parameter containing: [torch.float32 of size 4x4]\n",
      "      (3): Parameter containing: [torch.float32 of size 4x1]\n",
      "  )\n",
      ")\n"
     ]
    }
   ],
   "execution_count": 4
  },
  {
   "metadata": {
    "ExecuteTime": {
     "end_time": "2024-07-01T14:22:26.262506Z",
     "start_time": "2024-07-01T14:22:26.257261Z"
    }
   },
   "cell_type": "code",
   "source": [
    "class MyDictDense(nn.Module):\n",
    "    def __init__(self):\n",
    "        super(MyDictDense, self).__init__()\n",
    "        self.params = nn.ParameterDict({\n",
    "            'linear1': nn.Parameter(torch.randn(4, 4)),\n",
    "            'linear2': nn.Parameter(torch.randn(4, 1))\n",
    "        })\n",
    "        self.params.update({'linear3': nn.Parameter(torch.randn(4, 2))})\n",
    "        \n",
    "    def forward(self, x, choice='linear1'):\n",
    "        return torch.mm(x, self.params[choice])\n",
    "    \n",
    "net = MyDictDense()\n",
    "print(net)"
   ],
   "id": "a4d754a91667c025",
   "outputs": [
    {
     "name": "stdout",
     "output_type": "stream",
     "text": [
      "MyDictDense(\n",
      "  (params): ParameterDict(\n",
      "      (linear1): Parameter containing: [torch.FloatTensor of size 4x4]\n",
      "      (linear2): Parameter containing: [torch.FloatTensor of size 4x1]\n",
      "      (linear3): Parameter containing: [torch.FloatTensor of size 4x2]\n",
      "  )\n",
      ")\n"
     ]
    }
   ],
   "execution_count": 5
  },
  {
   "metadata": {
    "ExecuteTime": {
     "end_time": "2024-07-01T14:23:46.839953Z",
     "start_time": "2024-07-01T14:23:46.826230Z"
    }
   },
   "cell_type": "code",
   "source": [
    "x = torch.ones(1, 4)\n",
    "print(net(x, 'linear1'))\n",
    "print(net(x, 'linear2'))\n",
    "print(net(x, 'linear3'))"
   ],
   "id": "a9b33e558c809b88",
   "outputs": [
    {
     "name": "stdout",
     "output_type": "stream",
     "text": [
      "tensor([[-1.4428,  2.0873,  2.2237, -3.3203]], grad_fn=<MmBackward0>)\n",
      "tensor([[-0.9352]], grad_fn=<MmBackward0>)\n",
      "tensor([[-2.2722,  0.2931]], grad_fn=<MmBackward0>)\n"
     ]
    }
   ],
   "execution_count": 6
  },
  {
   "metadata": {
    "ExecuteTime": {
     "end_time": "2024-07-01T14:28:48.233501Z",
     "start_time": "2024-07-01T14:28:48.228835Z"
    }
   },
   "cell_type": "code",
   "source": [
    "net = nn.Sequential(\n",
    "    MyDictDense(),\n",
    "    MyDense()\n",
    ")\n",
    "print(net)\n",
    "print(net(x))"
   ],
   "id": "87f1d01af5fc3262",
   "outputs": [
    {
     "name": "stdout",
     "output_type": "stream",
     "text": [
      "Sequential(\n",
      "  (0): MyDictDense(\n",
      "    (params): ParameterDict(\n",
      "        (linear1): Parameter containing: [torch.FloatTensor of size 4x4]\n",
      "        (linear2): Parameter containing: [torch.FloatTensor of size 4x1]\n",
      "        (linear3): Parameter containing: [torch.FloatTensor of size 4x2]\n",
      "    )\n",
      "  )\n",
      "  (1): MyDense(\n",
      "    (params): ParameterList(\n",
      "        (0): Parameter containing: [torch.float32 of size 4x4]\n",
      "        (1): Parameter containing: [torch.float32 of size 4x4]\n",
      "        (2): Parameter containing: [torch.float32 of size 4x4]\n",
      "        (3): Parameter containing: [torch.float32 of size 4x1]\n",
      "    )\n",
      "  )\n",
      ")\n",
      "tensor([[8.9443]], grad_fn=<MmBackward0>)\n"
     ]
    }
   ],
   "execution_count": 7
  }
 ],
 "metadata": {
  "kernelspec": {
   "display_name": "Python 3",
   "language": "python",
   "name": "python3"
  },
  "language_info": {
   "codemirror_mode": {
    "name": "ipython",
    "version": 2
   },
   "file_extension": ".py",
   "mimetype": "text/x-python",
   "name": "python",
   "nbconvert_exporter": "python",
   "pygments_lexer": "ipython2",
   "version": "2.7.6"
  }
 },
 "nbformat": 4,
 "nbformat_minor": 5
}
