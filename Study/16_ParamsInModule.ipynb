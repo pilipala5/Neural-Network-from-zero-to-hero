{
 "cells": [
  {
   "cell_type": "code",
   "id": "initial_id",
   "metadata": {
    "collapsed": true,
    "ExecuteTime": {
     "end_time": "2024-06-29T08:36:59.049790Z",
     "start_time": "2024-06-29T08:36:59.044902Z"
    }
   },
   "source": [
    "import torch\n",
    "from torch import nn\n",
    "from torch.nn import init\n",
    "\n",
    "net = nn.Sequential(nn.Linear(4, 3), nn.ReLU(), nn.Linear(3, 1)) # 参考15中的类，我们已经默认给参数初始化了\n",
    "\n",
    "print(net)\n",
    "X = torch.rand(2, 4)\n",
    "Y = net(X).sum()"
   ],
   "outputs": [
    {
     "name": "stdout",
     "output_type": "stream",
     "text": [
      "Sequential(\n",
      "  (0): Linear(in_features=4, out_features=3, bias=True)\n",
      "  (1): ReLU()\n",
      "  (2): Linear(in_features=3, out_features=1, bias=True)\n",
      ")\n"
     ]
    }
   ],
   "execution_count": 21
  },
  {
   "metadata": {
    "ExecuteTime": {
     "end_time": "2024-06-29T08:36:59.055146Z",
     "start_time": "2024-06-29T08:36:59.050799Z"
    }
   },
   "cell_type": "code",
   "source": [
    "print(type(net.named_parameters()))\n",
    "for name, param in net.named_parameters():\n",
    "    print(name, param.size())"
   ],
   "id": "6e24b3e71d21434",
   "outputs": [
    {
     "name": "stdout",
     "output_type": "stream",
     "text": [
      "<class 'generator'>\n",
      "0.weight torch.Size([3, 4])\n",
      "0.bias torch.Size([3])\n",
      "2.weight torch.Size([1, 3])\n",
      "2.bias torch.Size([1])\n"
     ]
    }
   ],
   "execution_count": 22
  },
  {
   "metadata": {
    "ExecuteTime": {
     "end_time": "2024-06-29T08:36:59.060438Z",
     "start_time": "2024-06-29T08:36:59.055931Z"
    }
   },
   "cell_type": "code",
   "source": [
    "for name, param in net[0].named_parameters():\n",
    "    print(name, param.size(), type(param))"
   ],
   "id": "151eb9764b46908f",
   "outputs": [
    {
     "name": "stdout",
     "output_type": "stream",
     "text": [
      "weight torch.Size([3, 4]) <class 'torch.nn.parameter.Parameter'>\n",
      "bias torch.Size([3]) <class 'torch.nn.parameter.Parameter'>\n"
     ]
    }
   ],
   "execution_count": 23
  },
  {
   "metadata": {
    "ExecuteTime": {
     "end_time": "2024-06-29T08:36:59.067371Z",
     "start_time": "2024-06-29T08:36:59.062449Z"
    }
   },
   "cell_type": "code",
   "source": [
    "# 如果一个 Tensor 是 Parameter ， 其会自动被添加到模型的参数列表里\n",
    "class MyModel(nn.Module):\n",
    "    def __init__(self, **kwargs):\n",
    "        super(MyModel, self).__init__(**kwargs)\n",
    "        self.weight1 = nn.Parameter(torch.rand(20, 20))\n",
    "        self.weight2 = torch.rand(20, 20)\n",
    "    def forward(self, x):\n",
    "        pass\n",
    "\n",
    "n = MyModel()\n",
    "for name, param in n.named_parameters():    # weight2 不是parameter 因此不会被添加到参数列表中\n",
    "    print(name)"
   ],
   "id": "4055cf7726049270",
   "outputs": [
    {
     "name": "stdout",
     "output_type": "stream",
     "text": [
      "weight1\n"
     ]
    }
   ],
   "execution_count": 24
  },
  {
   "metadata": {
    "ExecuteTime": {
     "end_time": "2024-06-29T08:36:59.074255Z",
     "start_time": "2024-06-29T08:36:59.068378Z"
    }
   },
   "cell_type": "code",
   "source": [
    "weight_0 = list(net[0].parameters())[0]\n",
    "print(weight_0.data)\n",
    "print(weight_0.grad)\n",
    "Y.backward()\n",
    "print(weight_0.grad)"
   ],
   "id": "28e68b3ae3c16849",
   "outputs": [
    {
     "name": "stdout",
     "output_type": "stream",
     "text": [
      "tensor([[-0.4428,  0.1496,  0.4320,  0.4944],\n",
      "        [-0.4319, -0.0840, -0.3474, -0.3167],\n",
      "        [-0.4317,  0.1408, -0.3235,  0.4470]])\n",
      "None\n",
      "tensor([[0., 0., 0., 0.],\n",
      "        [0., 0., 0., 0.],\n",
      "        [0., 0., 0., 0.]])\n"
     ]
    }
   ],
   "execution_count": 25
  },
  {
   "metadata": {},
   "cell_type": "markdown",
   "source": "# 初始化模型参数",
   "id": "41b2858253263dbb"
  },
  {
   "metadata": {
    "ExecuteTime": {
     "end_time": "2024-06-29T08:43:18.315511Z",
     "start_time": "2024-06-29T08:43:18.310223Z"
    }
   },
   "cell_type": "code",
   "source": [
    "for name, param in net.named_parameters():\n",
    "    if 'weight' in name:\n",
    "        init.normal_(param, mean=0, std=0.01)\n",
    "        print(name, param.data)"
   ],
   "id": "712e195cd59eec8c",
   "outputs": [
    {
     "name": "stdout",
     "output_type": "stream",
     "text": [
      "0.weight tensor([[-0.0031, -0.0162,  0.0083,  0.0127],\n",
      "        [-0.0074, -0.0112,  0.0202, -0.0040],\n",
      "        [ 0.0059, -0.0094, -0.0092, -0.0168]])\n",
      "2.weight tensor([[ 0.0052,  0.0032, -0.0058]])\n"
     ]
    }
   ],
   "execution_count": 26
  },
  {
   "metadata": {
    "ExecuteTime": {
     "end_time": "2024-06-29T08:45:01.821723Z",
     "start_time": "2024-06-29T08:45:01.816606Z"
    }
   },
   "cell_type": "code",
   "source": [
    "# 以常数来初始化权重参数\n",
    "for name, param in net.named_parameters():\n",
    "    if 'bias' in name:\n",
    "        init.constant_(param, val=0)\n",
    "        print(name, param.data)"
   ],
   "id": "907b555a0f23bb1e",
   "outputs": [
    {
     "name": "stdout",
     "output_type": "stream",
     "text": [
      "0.bias tensor([0., 0., 0.])\n",
      "2.bias tensor([0.])\n"
     ]
    }
   ],
   "execution_count": 27
  },
  {
   "metadata": {},
   "cell_type": "markdown",
   "source": "# 自定义初始化方法",
   "id": "8b3c5c3d83ae50d0"
  },
  {
   "metadata": {
    "ExecuteTime": {
     "end_time": "2024-06-29T08:49:04.369333Z",
     "start_time": "2024-06-29T08:49:04.365654Z"
    }
   },
   "cell_type": "code",
   "source": [
    "def normal_(tensor, mean=0, std=1):\n",
    "    with torch.no_grad():   # 在变化过程中，不计算入梯度中\n",
    "        return tensor.normal_(mean, std)"
   ],
   "id": "82693841727d9569",
   "outputs": [],
   "execution_count": 28
  },
  {
   "metadata": {
    "ExecuteTime": {
     "end_time": "2024-06-29T09:28:32.858926Z",
     "start_time": "2024-06-29T09:28:32.852655Z"
    }
   },
   "cell_type": "code",
   "source": [
    "def init_weight_(tensor):\n",
    "    with torch.no_grad():\n",
    "        tensor.uniform_(-10, 10)\n",
    "        tensor *= (tensor.abs() >= 5).float()   # 绝对值都大于等于5\n",
    "        \n",
    "for name, param in net.named_parameters():\n",
    "    if 'weight' in name:\n",
    "        init_weight_(param)\n",
    "        print(name, param.data)"
   ],
   "id": "d9c0bf1a0e199077",
   "outputs": [
    {
     "name": "stdout",
     "output_type": "stream",
     "text": [
      "0.weight tensor([[ 7.1418,  0.0000,  8.0323, -0.0000],\n",
      "        [ 6.9340,  5.6689,  9.7114, -0.0000],\n",
      "        [-9.7034,  0.0000,  6.7096, -6.6080]])\n",
      "2.weight tensor([[-0.0000, -8.2736, -9.6270]])\n"
     ]
    }
   ],
   "execution_count": 29
  },
  {
   "metadata": {},
   "cell_type": "markdown",
   "source": "# 共享模型参数",
   "id": "4312e9207cf6a751"
  },
  {
   "metadata": {
    "ExecuteTime": {
     "end_time": "2024-06-29T09:34:38.090679Z",
     "start_time": "2024-06-29T09:34:38.085588Z"
    }
   },
   "cell_type": "code",
   "source": [
    "linear = nn.Linear(1, 1, bias=False)\n",
    "net = nn.Sequential(linear, linear)     # 在内存中，这两个线性层实际上是一个对象 共享的梯度参数是累加的\n",
    "print(net)\n",
    "for name, param in net.named_parameters():\n",
    "    init.constant_(param, val=3)\n",
    "    print(name, param.data)"
   ],
   "id": "b4adf8bc57e388a4",
   "outputs": [
    {
     "name": "stdout",
     "output_type": "stream",
     "text": [
      "Sequential(\n",
      "  (0): Linear(in_features=1, out_features=1, bias=False)\n",
      "  (1): Linear(in_features=1, out_features=1, bias=False)\n",
      ")\n",
      "0.weight tensor([[3.]])\n"
     ]
    }
   ],
   "execution_count": 30
  },
  {
   "metadata": {
    "ExecuteTime": {
     "end_time": "2024-06-29T09:36:15.815234Z",
     "start_time": "2024-06-29T09:36:15.809566Z"
    }
   },
   "cell_type": "code",
   "source": [
    "x = torch.ones(1, 1)\n",
    "y = net(x).sum()\n",
    "print(y)\n",
    "y.backward()\n",
    "print(net[0].weight.grad)"
   ],
   "id": "618b012f699050fa",
   "outputs": [
    {
     "name": "stdout",
     "output_type": "stream",
     "text": [
      "tensor(9., grad_fn=<SumBackward0>)\n",
      "tensor([[6.]])\n"
     ]
    }
   ],
   "execution_count": 31
  }
 ],
 "metadata": {
  "kernelspec": {
   "display_name": "Python 3",
   "language": "python",
   "name": "python3"
  },
  "language_info": {
   "codemirror_mode": {
    "name": "ipython",
    "version": 2
   },
   "file_extension": ".py",
   "mimetype": "text/x-python",
   "name": "python",
   "nbconvert_exporter": "python",
   "pygments_lexer": "ipython2",
   "version": "2.7.6"
  }
 },
 "nbformat": 4,
 "nbformat_minor": 5
}
