{
 "cells": [
  {
   "cell_type": "code",
   "id": "initial_id",
   "metadata": {
    "collapsed": true,
    "ExecuteTime": {
     "end_time": "2024-07-01T14:58:27.668081Z",
     "start_time": "2024-07-01T14:58:27.662912Z"
    }
   },
   "source": [
    "import torch\n",
    "from torch import nn\n",
    "\n",
    "torch.cuda.is_available()   # GPU是否可用"
   ],
   "outputs": [
    {
     "data": {
      "text/plain": [
       "True"
      ]
     },
     "execution_count": 2,
     "metadata": {},
     "output_type": "execute_result"
    }
   ],
   "execution_count": 2
  },
  {
   "metadata": {
    "ExecuteTime": {
     "end_time": "2024-07-01T14:58:49.089692Z",
     "start_time": "2024-07-01T14:58:49.084989Z"
    }
   },
   "cell_type": "code",
   "source": "torch.cuda.device_count()   # 查看GPU的数量",
   "id": "7c3c8810eec93697",
   "outputs": [
    {
     "data": {
      "text/plain": [
       "1"
      ]
     },
     "execution_count": 3,
     "metadata": {},
     "output_type": "execute_result"
    }
   ],
   "execution_count": 3
  },
  {
   "metadata": {
    "ExecuteTime": {
     "end_time": "2024-07-01T14:59:00.385209Z",
     "start_time": "2024-07-01T14:59:00.374679Z"
    }
   },
   "cell_type": "code",
   "source": "torch.cuda.current_device()",
   "id": "d8bd1327913f703c",
   "outputs": [
    {
     "data": {
      "text/plain": [
       "0"
      ]
     },
     "execution_count": 4,
     "metadata": {},
     "output_type": "execute_result"
    }
   ],
   "execution_count": 4
  },
  {
   "metadata": {
    "ExecuteTime": {
     "end_time": "2024-07-01T14:59:08.819592Z",
     "start_time": "2024-07-01T14:59:08.814580Z"
    }
   },
   "cell_type": "code",
   "source": "torch.cuda.get_device_name(0)",
   "id": "fff6a2670f27bdac",
   "outputs": [
    {
     "data": {
      "text/plain": [
       "'NVIDIA GeForce RTX 3050 Ti Laptop GPU'"
      ]
     },
     "execution_count": 5,
     "metadata": {},
     "output_type": "execute_result"
    }
   ],
   "execution_count": 5
  },
  {
   "metadata": {},
   "cell_type": "markdown",
   "source": "# Tensor 的GPU计算",
   "id": "99e8ab29c59cc65c"
  },
  {
   "metadata": {
    "ExecuteTime": {
     "end_time": "2024-07-01T15:04:28.357250Z",
     "start_time": "2024-07-01T15:04:28.351763Z"
    }
   },
   "cell_type": "code",
   "source": [
    "x = torch.tensor([1, 2, 3])\n",
    "x"
   ],
   "id": "75f586d6b5669dda",
   "outputs": [
    {
     "data": {
      "text/plain": [
       "tensor([1, 2, 3])"
      ]
     },
     "execution_count": 8,
     "metadata": {},
     "output_type": "execute_result"
    }
   ],
   "execution_count": 8
  },
  {
   "metadata": {
    "ExecuteTime": {
     "end_time": "2024-07-01T15:05:13.152592Z",
     "start_time": "2024-07-01T15:05:13.147448Z"
    }
   },
   "cell_type": "code",
   "source": [
    "x = x.cuda(0) # 将CPU上的Tensor复制到GPU上，i表示第i块GPU\n",
    "x"
   ],
   "id": "9cf2fd1e4b9b181f",
   "outputs": [
    {
     "data": {
      "text/plain": [
       "tensor([1, 2, 3], device='cuda:0')"
      ]
     },
     "execution_count": 10,
     "metadata": {},
     "output_type": "execute_result"
    }
   ],
   "execution_count": 10
  },
  {
   "metadata": {
    "ExecuteTime": {
     "end_time": "2024-07-01T15:05:27.919305Z",
     "start_time": "2024-07-01T15:05:27.914809Z"
    }
   },
   "cell_type": "code",
   "source": "x.device # 查看Tensor所在的设备",
   "id": "6a08b0d35c7d84ec",
   "outputs": [
    {
     "data": {
      "text/plain": [
       "device(type='cuda', index=0)"
      ]
     },
     "execution_count": 12,
     "metadata": {},
     "output_type": "execute_result"
    }
   ],
   "execution_count": 12
  },
  {
   "metadata": {
    "ExecuteTime": {
     "end_time": "2024-07-01T15:07:04.907863Z",
     "start_time": "2024-07-01T15:07:04.899503Z"
    }
   },
   "cell_type": "code",
   "source": [
    "# 在创建的时候制定设备\n",
    "device = torch.device('cuda' if torch.cuda.is_available() else 'cpu')\n",
    "x = torch.tensor([1, 2, 3], device=device)\n",
    "x = torch.tensor([1, 2, 3]).to(device)  # 跟上面是相同的效果\n",
    "x"
   ],
   "id": "69171f52c5eea2ff",
   "outputs": [
    {
     "data": {
      "text/plain": [
       "tensor([1, 2, 3], device='cuda:0')"
      ]
     },
     "execution_count": 14,
     "metadata": {},
     "output_type": "execute_result"
    }
   ],
   "execution_count": 14
  },
  {
   "metadata": {
    "ExecuteTime": {
     "end_time": "2024-07-01T15:07:44.599536Z",
     "start_time": "2024-07-01T15:07:44.548210Z"
    }
   },
   "cell_type": "code",
   "source": [
    "y = x ** 2      # GPU上的数字和CPU上的数字不可以直接计算\n",
    "y"
   ],
   "id": "21b0a0ccd8e1ab44",
   "outputs": [
    {
     "data": {
      "text/plain": [
       "tensor([1, 4, 9], device='cuda:0')"
      ]
     },
     "execution_count": 16,
     "metadata": {},
     "output_type": "execute_result"
    }
   ],
   "execution_count": 16
  },
  {
   "metadata": {},
   "cell_type": "markdown",
   "source": "# 模型的GPU计算",
   "id": "2985ae85f3d7aea5"
  },
  {
   "metadata": {
    "ExecuteTime": {
     "end_time": "2024-07-01T15:09:58.226866Z",
     "start_time": "2024-07-01T15:09:58.221297Z"
    }
   },
   "cell_type": "code",
   "source": [
    "net = nn.Linear(3, 1)\n",
    "list(net.parameters())[0].device"
   ],
   "id": "7f4a8dd1595609ea",
   "outputs": [
    {
     "data": {
      "text/plain": [
       "device(type='cpu')"
      ]
     },
     "execution_count": 17,
     "metadata": {},
     "output_type": "execute_result"
    }
   ],
   "execution_count": 17
  },
  {
   "metadata": {
    "ExecuteTime": {
     "end_time": "2024-07-01T15:10:20.432364Z",
     "start_time": "2024-07-01T15:10:20.422379Z"
    }
   },
   "cell_type": "code",
   "source": [
    "net.cuda()\n",
    "list(net.parameters())[0].device    # 所以我们需要保证输入的Tensor和模型在同一个device上"
   ],
   "id": "86cab905874c28fe",
   "outputs": [
    {
     "data": {
      "text/plain": [
       "device(type='cuda', index=0)"
      ]
     },
     "execution_count": 18,
     "metadata": {},
     "output_type": "execute_result"
    }
   ],
   "execution_count": 18
  }
 ],
 "metadata": {
  "kernelspec": {
   "display_name": "Python 3",
   "language": "python",
   "name": "python3"
  },
  "language_info": {
   "codemirror_mode": {
    "name": "ipython",
    "version": 2
   },
   "file_extension": ".py",
   "mimetype": "text/x-python",
   "name": "python",
   "nbconvert_exporter": "python",
   "pygments_lexer": "ipython2",
   "version": "2.7.6"
  }
 },
 "nbformat": 4,
 "nbformat_minor": 5
}
