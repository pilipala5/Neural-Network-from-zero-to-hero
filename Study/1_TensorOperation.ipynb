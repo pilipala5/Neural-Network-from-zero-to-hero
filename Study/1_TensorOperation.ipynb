{
 "cells": [
  {
   "cell_type": "code",
   "metadata": {
    "ExecuteTime": {
     "end_time": "2024-06-18T20:30:37.589645Z",
     "start_time": "2024-06-18T20:30:34.974847Z"
    }
   },
   "source": [
    "import numpy as np\n",
    "import torch"
   ],
   "outputs": [],
   "execution_count": 2
  },
  {
   "cell_type": "markdown",
   "metadata": {},
   "source": [
    "# Creation"
   ]
  },
  {
   "cell_type": "markdown",
   "metadata": {},
   "source": [
    "## Create Tensor without initialization"
   ]
  },
  {
   "cell_type": "code",
   "metadata": {
    "ExecuteTime": {
     "end_time": "2024-06-18T20:30:37.599887Z",
     "start_time": "2024-06-18T20:30:37.591651Z"
    }
   },
   "source": [
    "x = torch.empty(5,3)\n",
    "print(x)"
   ],
   "outputs": [
    {
     "name": "stdout",
     "output_type": "stream",
     "text": [
      "tensor([[1.2121e-27, 9.7671e-43, 0.0000e+00],\n",
      "        [0.0000e+00, 0.0000e+00, 0.0000e+00],\n",
      "        [0.0000e+00, 0.0000e+00, 0.0000e+00],\n",
      "        [0.0000e+00, 0.0000e+00, 0.0000e+00],\n",
      "        [0.0000e+00, 0.0000e+00, 0.0000e+00]])\n"
     ]
    }
   ],
   "execution_count": 3
  },
  {
   "cell_type": "markdown",
   "metadata": {},
   "source": [
    "## Create random Tensor(5*3)"
   ]
  },
  {
   "cell_type": "code",
   "metadata": {
    "ExecuteTime": {
     "end_time": "2024-06-18T20:30:37.606730Z",
     "start_time": "2024-06-18T20:30:37.600892Z"
    }
   },
   "source": [
    "x = torch.rand(5,3)\n",
    "print(x)"
   ],
   "outputs": [
    {
     "name": "stdout",
     "output_type": "stream",
     "text": [
      "tensor([[0.7823, 0.5883, 0.3438],\n",
      "        [0.7569, 0.0460, 0.9075],\n",
      "        [0.2286, 0.5273, 0.5097],\n",
      "        [0.7736, 0.1189, 0.6827],\n",
      "        [0.4065, 0.1580, 0.4392]])\n"
     ]
    }
   ],
   "execution_count": 4
  },
  {
   "cell_type": "markdown",
   "metadata": {},
   "source": [
    "## Create Tensor (long type)"
   ]
  },
  {
   "cell_type": "code",
   "metadata": {
    "ExecuteTime": {
     "end_time": "2024-06-18T20:30:37.613414Z",
     "start_time": "2024-06-18T20:30:37.608741Z"
    }
   },
   "source": [
    "x = torch.zeros(5, 3, dtype=torch.long)\n",
    "print(x)"
   ],
   "outputs": [
    {
     "name": "stdout",
     "output_type": "stream",
     "text": [
      "tensor([[0, 0, 0],\n",
      "        [0, 0, 0],\n",
      "        [0, 0, 0],\n",
      "        [0, 0, 0],\n",
      "        [0, 0, 0]])\n"
     ]
    }
   ],
   "execution_count": 5
  },
  {
   "cell_type": "markdown",
   "metadata": {},
   "source": [
    "## Create Tensor with initialization"
   ]
  },
  {
   "cell_type": "code",
   "metadata": {
    "ExecuteTime": {
     "end_time": "2024-06-18T20:30:37.619453Z",
     "start_time": "2024-06-18T20:30:37.614421Z"
    }
   },
   "source": [
    "x = torch.tensor([5.5, 3])\n",
    "print(x)"
   ],
   "outputs": [
    {
     "name": "stdout",
     "output_type": "stream",
     "text": [
      "tensor([5.5000, 3.0000])\n"
     ]
    }
   ],
   "execution_count": 6
  },
  {
   "cell_type": "markdown",
   "metadata": {},
   "source": [
    "## Create Tensor with existed Tensor"
   ]
  },
  {
   "cell_type": "code",
   "metadata": {
    "ExecuteTime": {
     "end_time": "2024-06-18T20:30:37.625878Z",
     "start_time": "2024-06-18T20:30:37.620461Z"
    }
   },
   "source": [
    "x = x.new_ones(5, 3, dtype=torch.float64)\n",
    "print(x)"
   ],
   "outputs": [
    {
     "name": "stdout",
     "output_type": "stream",
     "text": [
      "tensor([[1., 1., 1.],\n",
      "        [1., 1., 1.],\n",
      "        [1., 1., 1.],\n",
      "        [1., 1., 1.],\n",
      "        [1., 1., 1.]], dtype=torch.float64)\n"
     ]
    }
   ],
   "execution_count": 7
  },
  {
   "cell_type": "code",
   "metadata": {
    "ExecuteTime": {
     "end_time": "2024-06-18T20:30:37.631126Z",
     "start_time": "2024-06-18T20:30:37.626885Z"
    }
   },
   "source": [
    "x = torch.rand_like(x, dtype=torch.float)\n",
    "print(x)"
   ],
   "outputs": [
    {
     "name": "stdout",
     "output_type": "stream",
     "text": [
      "tensor([[0.5295, 0.7717, 0.9387],\n",
      "        [0.1008, 0.3664, 0.4962],\n",
      "        [0.7181, 0.6410, 0.7382],\n",
      "        [0.8200, 0.8480, 0.4847],\n",
      "        [0.6139, 0.2712, 0.4234]])\n"
     ]
    }
   ],
   "execution_count": 8
  },
  {
   "cell_type": "markdown",
   "metadata": {},
   "source": [
    "## Get Tensor's shape"
   ]
  },
  {
   "cell_type": "code",
   "metadata": {
    "ExecuteTime": {
     "end_time": "2024-06-18T20:30:37.636069Z",
     "start_time": "2024-06-18T20:30:37.632133Z"
    }
   },
   "source": [
    "print(x.size())\n",
    "print(x.shape)"
   ],
   "outputs": [
    {
     "name": "stdout",
     "output_type": "stream",
     "text": [
      "torch.Size([5, 3])\n",
      "torch.Size([5, 3])\n"
     ]
    }
   ],
   "execution_count": 9
  },
  {
   "cell_type": "markdown",
   "metadata": {},
   "source": [
    "# Operation"
   ]
  },
  {
   "cell_type": "markdown",
   "metadata": {},
   "source": [
    "## Arithmetical operation"
   ]
  },
  {
   "cell_type": "code",
   "metadata": {
    "ExecuteTime": {
     "end_time": "2024-06-18T20:30:37.642191Z",
     "start_time": "2024-06-18T20:30:37.637076Z"
    }
   },
   "source": [
    "# way 1\n",
    "y = torch.rand(5,3)\n",
    "print(x + y)"
   ],
   "outputs": [
    {
     "name": "stdout",
     "output_type": "stream",
     "text": [
      "tensor([[0.9635, 1.5643, 1.0696],\n",
      "        [1.0912, 0.6910, 1.3740],\n",
      "        [1.6493, 1.1786, 1.2128],\n",
      "        [1.4716, 1.0451, 0.7640],\n",
      "        [1.4096, 0.4998, 0.7226]])\n"
     ]
    }
   ],
   "execution_count": 10
  },
  {
   "cell_type": "code",
   "metadata": {
    "ExecuteTime": {
     "end_time": "2024-06-18T20:30:37.648526Z",
     "start_time": "2024-06-18T20:30:37.644200Z"
    }
   },
   "source": [
    "# way 2\n",
    "print(torch.add(x, y))"
   ],
   "outputs": [
    {
     "name": "stdout",
     "output_type": "stream",
     "text": [
      "tensor([[0.9635, 1.5643, 1.0696],\n",
      "        [1.0912, 0.6910, 1.3740],\n",
      "        [1.6493, 1.1786, 1.2128],\n",
      "        [1.4716, 1.0451, 0.7640],\n",
      "        [1.4096, 0.4998, 0.7226]])\n"
     ]
    }
   ],
   "execution_count": 11
  },
  {
   "cell_type": "code",
   "metadata": {
    "ExecuteTime": {
     "end_time": "2024-06-18T20:30:37.653773Z",
     "start_time": "2024-06-18T20:30:37.649042Z"
    }
   },
   "source": [
    "# point the output the add\n",
    "result = torch.empty(5, 3)\n",
    "torch.add(x, y, out=result)\n",
    "print(result)"
   ],
   "outputs": [
    {
     "name": "stdout",
     "output_type": "stream",
     "text": [
      "tensor([[0.9635, 1.5643, 1.0696],\n",
      "        [1.0912, 0.6910, 1.3740],\n",
      "        [1.6493, 1.1786, 1.2128],\n",
      "        [1.4716, 1.0451, 0.7640],\n",
      "        [1.4096, 0.4998, 0.7226]])\n"
     ]
    }
   ],
   "execution_count": 12
  },
  {
   "cell_type": "code",
   "metadata": {
    "ExecuteTime": {
     "end_time": "2024-06-18T20:30:37.658808Z",
     "start_time": "2024-06-18T20:30:37.654780Z"
    }
   },
   "source": [
    "# way 3 Inplace, like method in an object, change the object itself\n",
    "y.add_(x)   \n",
    "print(y)"
   ],
   "outputs": [
    {
     "name": "stdout",
     "output_type": "stream",
     "text": [
      "tensor([[0.9635, 1.5643, 1.0696],\n",
      "        [1.0912, 0.6910, 1.3740],\n",
      "        [1.6493, 1.1786, 1.2128],\n",
      "        [1.4716, 1.0451, 0.7640],\n",
      "        [1.4096, 0.4998, 0.7226]])\n"
     ]
    }
   ],
   "execution_count": 13
  },
  {
   "cell_type": "markdown",
   "metadata": {},
   "source": [
    "## Index\n"
   ]
  },
  {
   "cell_type": "code",
   "metadata": {
    "ExecuteTime": {
     "end_time": "2024-06-18T20:30:37.663648Z",
     "start_time": "2024-06-18T20:30:37.659814Z"
    }
   },
   "source": [
    "# like operations in Numpy, the index result shares same memory with original data\n",
    "y = x[0, :]\n",
    "print(x[0, :])"
   ],
   "outputs": [
    {
     "name": "stdout",
     "output_type": "stream",
     "text": [
      "tensor([0.5295, 0.7717, 0.9387])\n"
     ]
    }
   ],
   "execution_count": 14
  },
  {
   "cell_type": "code",
   "metadata": {
    "ExecuteTime": {
     "end_time": "2024-06-18T20:30:37.668410Z",
     "start_time": "2024-06-18T20:30:37.664654Z"
    }
   },
   "source": [
    "y += 1\n",
    "print(x[0, :])"
   ],
   "outputs": [
    {
     "name": "stdout",
     "output_type": "stream",
     "text": [
      "tensor([1.5295, 1.7717, 1.9387])\n"
     ]
    }
   ],
   "execution_count": 15
  },
  {
   "cell_type": "markdown",
   "metadata": {},
   "source": [
    "## Change shape"
   ]
  },
  {
   "cell_type": "code",
   "metadata": {
    "ExecuteTime": {
     "end_time": "2024-06-18T20:30:37.672922Z",
     "start_time": "2024-06-18T20:30:37.668924Z"
    }
   },
   "source": [
    "y = x.view(15)  # share the same memory, actually same tensor\n",
    "print(y)"
   ],
   "outputs": [
    {
     "name": "stdout",
     "output_type": "stream",
     "text": [
      "tensor([1.5295, 1.7717, 1.9387, 0.1008, 0.3664, 0.4962, 0.7181, 0.6410, 0.7382,\n",
      "        0.8200, 0.8480, 0.4847, 0.6139, 0.2712, 0.4234])\n"
     ]
    }
   ],
   "execution_count": 16
  },
  {
   "cell_type": "code",
   "metadata": {
    "ExecuteTime": {
     "end_time": "2024-06-18T20:30:37.678503Z",
     "start_time": "2024-06-18T20:30:37.673928Z"
    }
   },
   "source": [
    "x += 1\n",
    "print(x)\n",
    "print(y)"
   ],
   "outputs": [
    {
     "name": "stdout",
     "output_type": "stream",
     "text": [
      "tensor([[2.5295, 2.7717, 2.9387],\n",
      "        [1.1008, 1.3664, 1.4962],\n",
      "        [1.7181, 1.6410, 1.7382],\n",
      "        [1.8200, 1.8480, 1.4847],\n",
      "        [1.6139, 1.2712, 1.4234]])\n",
      "tensor([2.5295, 2.7717, 2.9387, 1.1008, 1.3664, 1.4962, 1.7181, 1.6410, 1.7382,\n",
      "        1.8200, 1.8480, 1.4847, 1.6139, 1.2712, 1.4234])\n"
     ]
    }
   ],
   "execution_count": 17
  },
  {
   "cell_type": "markdown",
   "metadata": {},
   "source": [
    "## Deep Copy(no sharing memory)"
   ]
  },
  {
   "cell_type": "code",
   "metadata": {
    "ExecuteTime": {
     "end_time": "2024-06-18T20:30:37.684848Z",
     "start_time": "2024-06-18T20:30:37.679009Z"
    }
   },
   "source": [
    "x_cp = x.clone().view(15)   # when gradient go back to x_cp, will back to x same time\n",
    "x -= 1\n",
    "print(x)\n",
    "print(x_cp)"
   ],
   "outputs": [
    {
     "name": "stdout",
     "output_type": "stream",
     "text": [
      "tensor([[1.5295, 1.7717, 1.9387],\n",
      "        [0.1008, 0.3664, 0.4962],\n",
      "        [0.7181, 0.6410, 0.7382],\n",
      "        [0.8200, 0.8480, 0.4847],\n",
      "        [0.6139, 0.2712, 0.4234]])\n",
      "tensor([2.5295, 2.7717, 2.9387, 1.1008, 1.3664, 1.4962, 1.7181, 1.6410, 1.7382,\n",
      "        1.8200, 1.8480, 1.4847, 1.6139, 1.2712, 1.4234])\n"
     ]
    }
   ],
   "execution_count": 18
  },
  {
   "cell_type": "code",
   "metadata": {
    "ExecuteTime": {
     "end_time": "2024-06-18T20:30:37.689913Z",
     "start_time": "2024-06-18T20:30:37.685855Z"
    }
   },
   "source": [
    "x = torch.randn(1)\n",
    "print(x)\n",
    "print(x.item())     # change tensor to python number"
   ],
   "outputs": [
    {
     "name": "stdout",
     "output_type": "stream",
     "text": [
      "tensor([0.3316])\n",
      "0.3316407799720764\n"
     ]
    }
   ],
   "execution_count": 19
  },
  {
   "cell_type": "markdown",
   "metadata": {},
   "source": [
    "## Linear Algebra"
   ]
  },
  {
   "cell_type": "code",
   "metadata": {
    "ExecuteTime": {
     "end_time": "2024-06-18T20:30:37.693688Z",
     "start_time": "2024-06-18T20:30:37.690922Z"
    }
   },
   "source": [
    "# 参考官方文档看"
   ],
   "outputs": [],
   "execution_count": 20
  },
  {
   "cell_type": "markdown",
   "metadata": {},
   "source": [
    "## Broadcast"
   ]
  },
  {
   "cell_type": "code",
   "metadata": {
    "ExecuteTime": {
     "end_time": "2024-06-18T20:30:37.699681Z",
     "start_time": "2024-06-18T20:30:37.694578Z"
    }
   },
   "source": [
    "# 2 tensor with different shape add, change to same shape then add.\n",
    "x = torch.arange(1,3).view(1,2)     # like range in python\n",
    "print(x)\n",
    "y = torch.arange(1,4).view(3,1)\n",
    "print(y)\n",
    "print(x+y)"
   ],
   "outputs": [
    {
     "name": "stdout",
     "output_type": "stream",
     "text": [
      "tensor([[1, 2]])\n",
      "tensor([[1],\n",
      "        [2],\n",
      "        [3]])\n",
      "tensor([[2, 3],\n",
      "        [3, 4],\n",
      "        [4, 5]])\n"
     ]
    }
   ],
   "execution_count": 21
  },
  {
   "cell_type": "markdown",
   "metadata": {},
   "source": [
    "## Memory overhead in arithmetical operation"
   ]
  },
  {
   "cell_type": "code",
   "metadata": {
    "ExecuteTime": {
     "end_time": "2024-06-18T20:30:37.704099Z",
     "start_time": "2024-06-18T20:30:37.700686Z"
    }
   },
   "source": [
    "x = torch.tensor([1,2])     # when add .view(1,2) , will become [[]] not []\n",
    "y = torch.tensor([3,4])\n",
    "id_before = id(y)   # show the memory address\n",
    "y = y + x\n",
    "print(id(y) == id_before)"
   ],
   "outputs": [
    {
     "name": "stdout",
     "output_type": "stream",
     "text": [
      "False\n"
     ]
    }
   ],
   "execution_count": 22
  },
  {
   "cell_type": "code",
   "metadata": {
    "ExecuteTime": {
     "end_time": "2024-06-18T20:30:37.708714Z",
     "start_time": "2024-06-18T20:30:37.705105Z"
    }
   },
   "source": [
    "# new memory point original place\n",
    "x = torch.tensor([1,2])    \n",
    "y = torch.tensor([3,4])\n",
    "id_before = id(y)\n",
    "y[:] = y + x        # torch.add(x,y,out=y),y+=x,y.add_(x)  same\n",
    "print(id(y) == id_before)"
   ],
   "outputs": [
    {
     "name": "stdout",
     "output_type": "stream",
     "text": [
      "True\n"
     ]
    }
   ],
   "execution_count": 23
  },
  {
   "cell_type": "markdown",
   "metadata": {},
   "source": [
    "## Interconversion between tensor & numpy"
   ]
  },
  {
   "cell_type": "code",
   "metadata": {
    "ExecuteTime": {
     "end_time": "2024-06-18T20:30:37.715433Z",
     "start_time": "2024-06-18T20:30:37.709612Z"
    }
   },
   "source": [
    "# numpy() and from_numpy(), share same memory\n",
    "\n",
    "# tensor to numpy\n",
    "a = torch.ones(5)\n",
    "b = a.numpy()\n",
    "print(a,b)\n",
    "\n",
    "a += 1\n",
    "print(a,b)\n",
    "\n",
    "b += 1\n",
    "print(a,b)"
   ],
   "outputs": [
    {
     "name": "stdout",
     "output_type": "stream",
     "text": [
      "tensor([1., 1., 1., 1., 1.]) [1. 1. 1. 1. 1.]\n",
      "tensor([2., 2., 2., 2., 2.]) [2. 2. 2. 2. 2.]\n",
      "tensor([3., 3., 3., 3., 3.]) [3. 3. 3. 3. 3.]\n"
     ]
    }
   ],
   "execution_count": 24
  },
  {
   "metadata": {
    "ExecuteTime": {
     "end_time": "2024-06-18T20:30:37.721491Z",
     "start_time": "2024-06-18T20:30:37.716439Z"
    }
   },
   "cell_type": "code",
   "source": [
    "# numpy to tensor\n",
    "# all tensor on cpu is available for interconversion\n",
    "import numpy as np\n",
    "a = np.ones(5)\n",
    "b = torch.from_numpy(a)  # torch.tensor(np) work as well, but doesn't share memory\n",
    "print(a, b)\n",
    "\n",
    "a += 1\n",
    "print(a, b)\n",
    "\n",
    "b += 1\n",
    "print(a, b)"
   ],
   "outputs": [
    {
     "name": "stdout",
     "output_type": "stream",
     "text": [
      "[1. 1. 1. 1. 1.] tensor([1., 1., 1., 1., 1.], dtype=torch.float64)\n",
      "[2. 2. 2. 2. 2.] tensor([2., 2., 2., 2., 2.], dtype=torch.float64)\n",
      "[3. 3. 3. 3. 3.] tensor([3., 3., 3., 3., 3.], dtype=torch.float64)\n"
     ]
    }
   ],
   "execution_count": 25
  },
  {
   "metadata": {
    "ExecuteTime": {
     "end_time": "2024-06-18T20:30:37.727295Z",
     "start_time": "2024-06-18T20:30:37.722498Z"
    }
   },
   "cell_type": "code",
   "source": [
    "c = torch.tensor(a)\n",
    "a += 1\n",
    "print(a, c)"
   ],
   "outputs": [
    {
     "name": "stdout",
     "output_type": "stream",
     "text": [
      "[4. 4. 4. 4. 4.] tensor([3., 3., 3., 3., 3.], dtype=torch.float64)\n"
     ]
    }
   ],
   "execution_count": 26
  },
  {
   "metadata": {},
   "cell_type": "markdown",
   "source": "## Tensor on GPU\n"
  },
  {
   "metadata": {
    "ExecuteTime": {
     "end_time": "2024-06-18T20:30:38.105805Z",
     "start_time": "2024-06-18T20:30:37.727295Z"
    }
   },
   "cell_type": "code",
   "source": [
    "# use to() to move Tensor between CPU and GPU\n",
    "if torch.cuda.is_available():\n",
    "    device = torch.device('cuda')   \n",
    "    y = torch.ones_like(x, device=device)\n",
    "    x = x.to(device)\n",
    "    z = x + y\n",
    "    print(z)\n",
    "    print(z.to(\"cpu\", torch.double))"
   ],
   "outputs": [
    {
     "name": "stdout",
     "output_type": "stream",
     "text": [
      "tensor([2, 3], device='cuda:0')\n",
      "tensor([2., 3.], dtype=torch.float64)\n"
     ]
    }
   ],
   "execution_count": 27
  },
  {
   "metadata": {},
   "cell_type": "markdown",
   "source": "# Automatic gradient finding"
  },
  {
   "metadata": {
    "ExecuteTime": {
     "end_time": "2024-06-18T20:34:41.566614Z",
     "start_time": "2024-06-18T20:34:41.561545Z"
    }
   },
   "cell_type": "code",
   "source": [
    "x = torch.ones(2, 2, requires_grad=True)\n",
    "print(x)\n",
    "print(x.grad_fn)    # is this tensor created by some calculation"
   ],
   "outputs": [
    {
     "name": "stdout",
     "output_type": "stream",
     "text": [
      "tensor([[1., 1.],\n",
      "        [1., 1.]], requires_grad=True)\n",
      "None\n"
     ]
    }
   ],
   "execution_count": 28
  },
  {
   "metadata": {
    "ExecuteTime": {
     "end_time": "2024-06-18T20:36:54.256660Z",
     "start_time": "2024-06-18T20:36:54.251972Z"
    }
   },
   "cell_type": "code",
   "source": [
    "y = x + 2   # x is Leaf Node , its grad_fn is None\n",
    "print(y)\n",
    "print(y.grad_fn)    # x + 2 !"
   ],
   "outputs": [
    {
     "name": "stdout",
     "output_type": "stream",
     "text": [
      "tensor([[3., 3.],\n",
      "        [3., 3.]], grad_fn=<AddBackward0>)\n",
      "<AddBackward0 object at 0x00000246D23E4C10>\n"
     ]
    }
   ],
   "execution_count": 31
  },
  {
   "metadata": {
    "ExecuteTime": {
     "end_time": "2024-06-18T20:38:13.057126Z",
     "start_time": "2024-06-18T20:38:13.053563Z"
    }
   },
   "cell_type": "code",
   "source": "print(x.is_leaf,y.is_leaf)",
   "outputs": [
    {
     "name": "stdout",
     "output_type": "stream",
     "text": [
      "True False\n"
     ]
    }
   ],
   "execution_count": 32
  }
 ],
 "metadata": {
  "kernelspec": {
   "display_name": "pytorch",
   "language": "python",
   "name": "python3"
  },
  "language_info": {
   "codemirror_mode": {
    "name": "ipython",
    "version": 3
   },
   "file_extension": ".py",
   "mimetype": "text/x-python",
   "name": "python",
   "nbconvert_exporter": "python",
   "pygments_lexer": "ipython3",
   "version": "3.12.3"
  }
 },
 "nbformat": 4,
 "nbformat_minor": 2
}
