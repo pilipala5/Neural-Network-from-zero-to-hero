{
 "cells": [
  {
   "cell_type": "code",
   "id": "initial_id",
   "metadata": {
    "collapsed": true,
    "ExecuteTime": {
     "end_time": "2024-06-27T04:23:09.886638Z",
     "start_time": "2024-06-27T04:23:09.856782Z"
    }
   },
   "source": [
    "%matplotlib inline\n",
    "import torch\n",
    "import torch.nn as nn\n",
    "import numpy as np\n",
    "import d2lzh_pytorch as d2l\n",
    "\n",
    "def dropout(X, drop_prob):\n",
    "    X = X.float()\n",
    "    assert 0 <= drop_prob <= 1\n",
    "    keep_prob = 1 - drop_prob\n",
    "    \n",
    "    if keep_prob == 0:  # 全都丢弃呗\n",
    "        return torch.zeros_like(X)\n",
    "    elif drop_prob == 0: # 不丢弃\n",
    "        return X\n",
    "    mask = (torch.randn(X.shape) > drop_prob).float() # 这个是小于保存概率的\n",
    "    \n",
    "    return mask * X / keep_prob"
   ],
   "outputs": [],
   "execution_count": 3
  },
  {
   "metadata": {},
   "cell_type": "markdown",
   "source": "# 定义模型参数",
   "id": "fb23d71c582ad463"
  },
  {
   "metadata": {
    "ExecuteTime": {
     "end_time": "2024-06-27T04:23:09.905063Z",
     "start_time": "2024-06-27T04:23:09.888149Z"
    }
   },
   "cell_type": "code",
   "source": [
    "num_inputs, num_outputs, num_hiddens1, num_hiddens2 = 784, 10, 256, 256\n",
    "\n",
    "W1 = torch.tensor(np.random.normal(0, 0.01, size=(num_inputs, num_hiddens1)), dtype=torch.float, requires_grad=True)\n",
    "b1 = torch.zeros(num_hiddens1, requires_grad=True)\n",
    "W2 = torch.tensor(np.random.normal(0, 0.01, size=(num_hiddens1, num_hiddens2)), dtype=torch.float, requires_grad=True)\n",
    "b2 = torch.zeros(num_hiddens2, requires_grad=True)\n",
    "W3 = torch.tensor(np.random.normal(0, 0.01, size=(num_hiddens2, num_outputs)), dtype=torch.float, requires_grad=True)\n",
    "b3 = torch.zeros(num_outputs, requires_grad=True)\n",
    "\n",
    "params = [W1, b1, W2, b2, W3, b3]"
   ],
   "id": "6f276cb062d5a487",
   "outputs": [],
   "execution_count": 4
  },
  {
   "metadata": {},
   "cell_type": "markdown",
   "source": "# 定义模型",
   "id": "e10c06ce374257ba"
  },
  {
   "metadata": {
    "ExecuteTime": {
     "end_time": "2024-06-27T04:23:09.912562Z",
     "start_time": "2024-06-27T04:23:09.905063Z"
    }
   },
   "cell_type": "code",
   "source": [
    "drop_prob1, drop_prob2 = 0.2, 0.5\n",
    "\n",
    "def net(X, is_training = True):\n",
    "    X = X.view(-1, num_inputs)\n",
    "    H1 = (torch.matmul(X, W1) + b1).relu()\n",
    "    if is_training: # 只在训练模型的时候用丢弃法\n",
    "        H1 = dropout(H1, drop_prob1)\n",
    "    H2 = (torch.matmul(H1, W2) + b2).relu()\n",
    "    if is_training:\n",
    "        H2 = dropout(H2, drop_prob2)\n",
    "    return torch.matmul(H2, W3) + b3"
   ],
   "id": "29bef7536f8134de",
   "outputs": [],
   "execution_count": 5
  },
  {
   "metadata": {},
   "cell_type": "markdown",
   "source": "# 训练模型",
   "id": "8fd0a0360b1f2776"
  },
  {
   "metadata": {
    "ExecuteTime": {
     "end_time": "2024-06-27T04:23:58.412835Z",
     "start_time": "2024-06-27T04:23:09.912562Z"
    }
   },
   "cell_type": "code",
   "source": [
    "num_epochs, lr, batch_size = 5, 100.0, 256\n",
    "loss = torch.nn.CrossEntropyLoss()\n",
    "train_iter, test_iter = d2l.load_data_fashion_mnist(batch_size)\n",
    "d2l.train_ch3(net, train_iter, test_iter, loss, num_epochs, batch_size, params, lr)"
   ],
   "id": "5d14051dcb41aefb",
   "outputs": [
    {
     "name": "stdout",
     "output_type": "stream",
     "text": [
      "epoch 1,loss 0.0067, train acc 0.333, test acc 0.581\n",
      "epoch 2,loss 0.0034, train acc 0.674, test acc 0.704\n",
      "epoch 3,loss 0.0026, train acc 0.759, test acc 0.773\n",
      "epoch 4,loss 0.0023, train acc 0.793, test acc 0.796\n",
      "epoch 5,loss 0.0021, train acc 0.808, test acc 0.780\n"
     ]
    }
   ],
   "execution_count": 6
  },
  {
   "metadata": {},
   "cell_type": "markdown",
   "source": "# 简洁实现",
   "id": "bc1900c38f8be42c"
  },
  {
   "metadata": {
    "ExecuteTime": {
     "end_time": "2024-06-27T04:28:14.336753Z",
     "start_time": "2024-06-27T04:28:14.310451Z"
    }
   },
   "cell_type": "code",
   "source": [
    "net = nn.Sequential(\n",
    "    d2l.FlattenLayer(),\n",
    "    nn.Linear(num_inputs, num_hiddens1),\n",
    "    nn.ReLU(),\n",
    "    nn.Dropout(drop_prob1),\n",
    "    nn.Linear(num_hiddens1, num_hiddens2),\n",
    "    nn.ReLU(),\n",
    "    nn.Dropout(drop_prob2),\n",
    "    nn.Linear(num_hiddens2, 10)\n",
    ")\n",
    "\n",
    "for param in net.parameters():\n",
    "    nn.init.normal_(param, mean=0, std=0.01)"
   ],
   "id": "e2778b56d2079cf8",
   "outputs": [],
   "execution_count": 7
  },
  {
   "metadata": {
    "ExecuteTime": {
     "end_time": "2024-06-27T04:30:04.768578Z",
     "start_time": "2024-06-27T04:29:19.614261Z"
    }
   },
   "cell_type": "code",
   "source": [
    "optimizer = torch.optim.SGD(net.parameters(), lr=0.5)\n",
    "d2l.train_ch3(net, train_iter, test_iter, loss, num_epochs, batch_size, None, None, optimizer)"
   ],
   "id": "61e96d27fade73d3",
   "outputs": [
    {
     "name": "stdout",
     "output_type": "stream",
     "text": [
      "epoch 1,loss 0.0047, train acc 0.535, test acc 0.731\n",
      "epoch 2,loss 0.0023, train acc 0.781, test acc 0.763\n",
      "epoch 3,loss 0.0019, train acc 0.818, test acc 0.797\n",
      "epoch 4,loss 0.0017, train acc 0.838, test acc 0.831\n",
      "epoch 5,loss 0.0016, train acc 0.846, test acc 0.839\n"
     ]
    }
   ],
   "execution_count": 8
  }
 ],
 "metadata": {
  "kernelspec": {
   "display_name": "Python 3",
   "language": "python",
   "name": "python3"
  },
  "language_info": {
   "codemirror_mode": {
    "name": "ipython",
    "version": 2
   },
   "file_extension": ".py",
   "mimetype": "text/x-python",
   "name": "python",
   "nbconvert_exporter": "python",
   "pygments_lexer": "ipython2",
   "version": "2.7.6"
  }
 },
 "nbformat": 4,
 "nbformat_minor": 5
}
