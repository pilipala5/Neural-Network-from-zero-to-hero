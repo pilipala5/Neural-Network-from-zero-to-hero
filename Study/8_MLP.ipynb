{
 "cells": [
  {
   "cell_type": "code",
   "id": "initial_id",
   "metadata": {
    "collapsed": true,
    "ExecuteTime": {
     "end_time": "2024-06-24T15:01:36.959849Z",
     "start_time": "2024-06-24T15:01:36.953691Z"
    }
   },
   "source": [
    "import torch\n",
    "import numpy as np\n",
    "import d2lzh_pytorch as d2l"
   ],
   "outputs": [],
   "execution_count": 3
  },
  {
   "metadata": {},
   "cell_type": "markdown",
   "source": "# 读取和获取数据",
   "id": "8218d65a07bb73bf"
  },
  {
   "metadata": {
    "ExecuteTime": {
     "end_time": "2024-06-24T15:01:37.021318Z",
     "start_time": "2024-06-24T15:01:36.961356Z"
    }
   },
   "cell_type": "code",
   "source": [
    "batch_size = 256\n",
    "train_iter, test_iter = d2l.load_data_fashion_mnist(batch_size)"
   ],
   "id": "9c4553ce94329c0",
   "outputs": [],
   "execution_count": 4
  },
  {
   "metadata": {},
   "cell_type": "markdown",
   "source": "# 定义模型参数",
   "id": "8d73daf73a053e2b"
  },
  {
   "metadata": {
    "ExecuteTime": {
     "end_time": "2024-06-24T15:04:21.633153Z",
     "start_time": "2024-06-24T15:04:21.621188Z"
    }
   },
   "cell_type": "code",
   "source": [
    "num_inputs = 784 # 28*28\n",
    "num_outputs = 10\n",
    "num_hiddens = 246 # 我们自己设置的隐藏单元个数\n",
    "\n",
    "W1 = torch.tensor(np.random.normal(0, 0.01, (num_inputs, num_hiddens)), dtype=torch.float)\n",
    "b1 = torch.zeros(num_hiddens, dtype=torch.float)\n",
    "W2 = torch.tensor(np.random.normal(0, 0.01, (num_hiddens, num_outputs)), dtype=torch.float)\n",
    "b2 = torch.zeros(num_outputs, dtype=torch.float)\n",
    "\n",
    "params = [W1, b1, W2, b2]\n",
    "for param in params:\n",
    "    param.requires_grad_(requires_grad=True)"
   ],
   "id": "c31819024a5ea659",
   "outputs": [],
   "execution_count": 6
  },
  {
   "metadata": {},
   "cell_type": "markdown",
   "source": "# 定义激活函数",
   "id": "fe6583c775410dc9"
  },
  {
   "metadata": {
    "ExecuteTime": {
     "end_time": "2024-06-24T15:13:51.932557Z",
     "start_time": "2024-06-24T15:13:51.928846Z"
    }
   },
   "cell_type": "code",
   "source": [
    "def relu(x):\n",
    "    return torch.max(input=x, other=torch.tensor(0.0))"
   ],
   "id": "70106177ff318903",
   "outputs": [],
   "execution_count": 7
  },
  {
   "metadata": {},
   "cell_type": "markdown",
   "source": "# 定义模型",
   "id": "8a56dac436ab3907"
  },
  {
   "metadata": {
    "ExecuteTime": {
     "end_time": "2024-06-24T15:17:53.776498Z",
     "start_time": "2024-06-24T15:17:53.769164Z"
    }
   },
   "cell_type": "code",
   "source": [
    "def net(X):\n",
    "    X = X.view(-1, num_inputs) # 从三维变成2维\n",
    "    H = relu(torch.matmul(X, W1) + b1)\n",
    "    return torch.matmul(H, W2) + b2"
   ],
   "id": "ff5f012c4b8865a9",
   "outputs": [],
   "execution_count": 8
  },
  {
   "metadata": {},
   "cell_type": "markdown",
   "source": "# 定义损失函数",
   "id": "2f30c8a6741f6398"
  },
  {
   "metadata": {
    "ExecuteTime": {
     "end_time": "2024-06-24T15:22:57.437438Z",
     "start_time": "2024-06-24T15:22:57.433729Z"
    }
   },
   "cell_type": "code",
   "source": "loss = torch.nn.CrossEntropyLoss()",
   "id": "ba23c8018924694c",
   "outputs": [],
   "execution_count": 9
  },
  {
   "metadata": {},
   "cell_type": "markdown",
   "source": "# 训练模型",
   "id": "3a9898e31cb1a145"
  },
  {
   "metadata": {
    "ExecuteTime": {
     "end_time": "2024-06-24T15:24:56.253256Z",
     "start_time": "2024-06-24T15:24:14.207231Z"
    }
   },
   "cell_type": "code",
   "source": [
    "num_epochs, lr = 5, 100.0\n",
    "d2l.train_ch3(net, train_iter, test_iter, loss, num_epochs, batch_size, params, lr)"
   ],
   "id": "d47a74c1557e127f",
   "outputs": [
    {
     "name": "stdout",
     "output_type": "stream",
     "text": [
      "epoch 1,loss 0.0030, train acc 0.719, test acc 0.787\n",
      "epoch 2,loss 0.0019, train acc 0.822, test acc 0.815\n",
      "epoch 3,loss 0.0017, train acc 0.845, test acc 0.837\n",
      "epoch 4,loss 0.0015, train acc 0.857, test acc 0.834\n",
      "epoch 5,loss 0.0015, train acc 0.863, test acc 0.855\n"
     ]
    }
   ],
   "execution_count": 10
  }
 ],
 "metadata": {
  "kernelspec": {
   "display_name": "Python 3",
   "language": "python",
   "name": "python3"
  },
  "language_info": {
   "codemirror_mode": {
    "name": "ipython",
    "version": 2
   },
   "file_extension": ".py",
   "mimetype": "text/x-python",
   "name": "python",
   "nbconvert_exporter": "python",
   "pygments_lexer": "ipython2",
   "version": "2.7.6"
  }
 },
 "nbformat": 4,
 "nbformat_minor": 5
}
