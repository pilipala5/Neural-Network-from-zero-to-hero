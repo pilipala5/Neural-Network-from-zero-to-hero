{
 "cells": [
  {
   "cell_type": "code",
   "id": "initial_id",
   "metadata": {
    "collapsed": true,
    "ExecuteTime": {
     "end_time": "2024-06-23T15:39:20.872366Z",
     "start_time": "2024-06-23T15:39:16.348989Z"
    }
   },
   "source": [
    "import torch\n",
    "from torch import nn\n",
    "from torch.nn import init\n",
    "import numpy as np\n",
    "import d2lzh_pytorch as d2l"
   ],
   "outputs": [],
   "execution_count": 1
  },
  {
   "metadata": {},
   "cell_type": "markdown",
   "source": "# 获取和读取数据",
   "id": "d4eb15ffec1b47c2"
  },
  {
   "metadata": {
    "ExecuteTime": {
     "end_time": "2024-06-23T15:40:38.220360Z",
     "start_time": "2024-06-23T15:40:38.173439Z"
    }
   },
   "cell_type": "code",
   "source": [
    "batch_size = 256\n",
    "train_iter, test_iter = d2l.load_data_fashion_mnist(batch_size)"
   ],
   "id": "5393d02717a4a2ff",
   "outputs": [],
   "execution_count": 2
  },
  {
   "metadata": {},
   "cell_type": "markdown",
   "source": "# 定义和初始化模型",
   "id": "d8bd17dad974e2b0"
  },
  {
   "metadata": {
    "ExecuteTime": {
     "end_time": "2024-06-23T15:55:07.269130Z",
     "start_time": "2024-06-23T15:55:07.261455Z"
    }
   },
   "cell_type": "code",
   "source": [
    "num_inputs = 784    # 28 * 28\n",
    "num_outputs = 10    # 10 个种类\n",
    "\n",
    "class LinearNet(nn.Module):\n",
    "    def __init__(self, num_inputs, num_outputs):\n",
    "        super(LinearNet, self).__init__()\n",
    "        self.linear = nn.Linear(num_inputs, num_outputs)\n",
    "    def forward(self, x):\n",
    "        y = self.linear(x.view(x.shape[0], -1))\n",
    "        return y\n",
    "    \n",
    "net = LinearNet(num_inputs, num_outputs)"
   ],
   "id": "1fa300c50d0d1542",
   "outputs": [],
   "execution_count": 3
  },
  {
   "metadata": {
    "ExecuteTime": {
     "end_time": "2024-06-23T15:56:56.769086Z",
     "start_time": "2024-06-23T15:56:56.764480Z"
    }
   },
   "cell_type": "code",
   "source": [
    "class FlattenLayer(nn.Module):\n",
    "    def __init__(self):\n",
    "        super(FlattenLayer, self).__init__()\n",
    "    def forward(self, x):\n",
    "        return x.view(x.shape[0], -1)   # 从三维变成二维"
   ],
   "id": "6624b8f626d525b1",
   "outputs": [],
   "execution_count": 4
  },
  {
   "metadata": {
    "ExecuteTime": {
     "end_time": "2024-06-23T16:05:30.216845Z",
     "start_time": "2024-06-23T16:05:30.205893Z"
    }
   },
   "cell_type": "code",
   "source": [
    "from collections import OrderedDict\n",
    "net = nn.Sequential(\n",
    "    OrderedDict([\n",
    "        ('flatten', FlattenLayer()),\n",
    "        ('linear', nn.Linear(num_inputs, num_outputs))\n",
    "    ])\n",
    ")\n",
    "\n",
    "init.normal_(net.linear.weight, mean=0, std=0.01)\n",
    "init.constant_(net.linear.bias, val=0)"
   ],
   "id": "6817516b50debc77",
   "outputs": [
    {
     "data": {
      "text/plain": [
       "Parameter containing:\n",
       "tensor([0., 0., 0., 0., 0., 0., 0., 0., 0., 0.], requires_grad=True)"
      ]
     },
     "execution_count": 5,
     "metadata": {},
     "output_type": "execute_result"
    }
   ],
   "execution_count": 5
  },
  {
   "metadata": {},
   "cell_type": "markdown",
   "source": "# Softmax与Cross Entropy Loss",
   "id": "f34f3ab2c14e93a7"
  },
  {
   "metadata": {
    "ExecuteTime": {
     "end_time": "2024-06-23T16:07:21.562016Z",
     "start_time": "2024-06-23T16:07:21.559146Z"
    }
   },
   "cell_type": "code",
   "source": "loss = nn.CrossEntropyLoss()",
   "id": "6251d45e21062ec8",
   "outputs": [],
   "execution_count": 6
  },
  {
   "metadata": {},
   "cell_type": "markdown",
   "source": "# 定义优化算法",
   "id": "cbf0326f538ca872"
  },
  {
   "metadata": {
    "ExecuteTime": {
     "end_time": "2024-06-23T16:07:23.247101Z",
     "start_time": "2024-06-23T16:07:23.242234Z"
    }
   },
   "cell_type": "code",
   "source": "optimizer = torch.optim.SGD(net.parameters(), lr=0.1)",
   "id": "c79c63a47f34aef6",
   "outputs": [],
   "execution_count": 7
  },
  {
   "metadata": {},
   "cell_type": "markdown",
   "source": "# 训练模型",
   "id": "22173c5d71d04aaf"
  },
  {
   "metadata": {
    "ExecuteTime": {
     "end_time": "2024-06-23T16:10:15.031380Z",
     "start_time": "2024-06-23T16:09:34.677918Z"
    }
   },
   "cell_type": "code",
   "source": [
    "num_epochs = 5\n",
    "d2l.train_ch3(net, train_iter, test_iter, loss, num_epochs, batch_size, None, None, optimizer)"
   ],
   "id": "bebd844fb0df168e",
   "outputs": [
    {
     "name": "stdout",
     "output_type": "stream",
     "text": [
      "epoch 1,loss 0.0031, train acc 0.751, test acc 0.781\n",
      "epoch 2,loss 0.0022, train acc 0.813, test acc 0.808\n",
      "epoch 3,loss 0.0021, train acc 0.826, test acc 0.820\n",
      "epoch 4,loss 0.0020, train acc 0.833, test acc 0.817\n",
      "epoch 5,loss 0.0019, train acc 0.838, test acc 0.825\n"
     ]
    }
   ],
   "execution_count": 9
  }
 ],
 "metadata": {
  "kernelspec": {
   "display_name": "Python 3",
   "language": "python",
   "name": "python3"
  },
  "language_info": {
   "codemirror_mode": {
    "name": "ipython",
    "version": 2
   },
   "file_extension": ".py",
   "mimetype": "text/x-python",
   "name": "python",
   "nbconvert_exporter": "python",
   "pygments_lexer": "ipython2",
   "version": "2.7.6"
  }
 },
 "nbformat": 4,
 "nbformat_minor": 5
}
