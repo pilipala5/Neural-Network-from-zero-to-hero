{
 "cells": [
  {
   "cell_type": "code",
   "id": "initial_id",
   "metadata": {
    "collapsed": true,
    "ExecuteTime": {
     "end_time": "2024-06-28T17:08:05.195641Z",
     "start_time": "2024-06-28T17:07:51.977340Z"
    }
   },
   "source": [
    "%matplotlib inline\n",
    "import torch\n",
    "import torch.nn as nn\n",
    "import numpy as np\n",
    "import pandas as pd\n",
    "import d2lzh_pytorch as d2l"
   ],
   "outputs": [],
   "execution_count": 1
  },
  {
   "metadata": {},
   "cell_type": "markdown",
   "source": "# 获取和读取数据集",
   "id": "65f446da39415af2"
  },
  {
   "metadata": {
    "ExecuteTime": {
     "end_time": "2024-06-28T17:10:02.777481Z",
     "start_time": "2024-06-28T17:10:02.734754Z"
    }
   },
   "cell_type": "code",
   "source": [
    "train_data = pd.read_csv('house-prices-advanced-regression-techniques/train.csv')\n",
    "test_data = pd.read_csv('house-prices-advanced-regression-techniques/test.csv')\n",
    "print(train_data.shape) # 80个特征 1个标签\n",
    "print(test_data.shape)"
   ],
   "id": "377fce069d4ed980",
   "outputs": [
    {
     "name": "stdout",
     "output_type": "stream",
     "text": [
      "(1460, 81)\n",
      "(1459, 80)\n"
     ]
    }
   ],
   "execution_count": 3
  },
  {
   "metadata": {
    "ExecuteTime": {
     "end_time": "2024-06-28T17:16:22.397722Z",
     "start_time": "2024-06-28T17:16:22.379323Z"
    }
   },
   "cell_type": "code",
   "source": "train_data.iloc[0:4, [0, 1, 2, 3, -3, -2, -1]]",
   "id": "bbdfab1d43f47a99",
   "outputs": [
    {
     "data": {
      "text/plain": [
       "   Id  MSSubClass MSZoning  LotFrontage SaleType SaleCondition  SalePrice\n",
       "0   1          60       RL         65.0       WD        Normal     208500\n",
       "1   2          20       RL         80.0       WD        Normal     181500\n",
       "2   3          60       RL         68.0       WD        Normal     223500\n",
       "3   4          70       RL         60.0       WD       Abnorml     140000"
      ],
      "text/html": [
       "<div>\n",
       "<style scoped>\n",
       "    .dataframe tbody tr th:only-of-type {\n",
       "        vertical-align: middle;\n",
       "    }\n",
       "\n",
       "    .dataframe tbody tr th {\n",
       "        vertical-align: top;\n",
       "    }\n",
       "\n",
       "    .dataframe thead th {\n",
       "        text-align: right;\n",
       "    }\n",
       "</style>\n",
       "<table border=\"1\" class=\"dataframe\">\n",
       "  <thead>\n",
       "    <tr style=\"text-align: right;\">\n",
       "      <th></th>\n",
       "      <th>Id</th>\n",
       "      <th>MSSubClass</th>\n",
       "      <th>MSZoning</th>\n",
       "      <th>LotFrontage</th>\n",
       "      <th>SaleType</th>\n",
       "      <th>SaleCondition</th>\n",
       "      <th>SalePrice</th>\n",
       "    </tr>\n",
       "  </thead>\n",
       "  <tbody>\n",
       "    <tr>\n",
       "      <th>0</th>\n",
       "      <td>1</td>\n",
       "      <td>60</td>\n",
       "      <td>RL</td>\n",
       "      <td>65.0</td>\n",
       "      <td>WD</td>\n",
       "      <td>Normal</td>\n",
       "      <td>208500</td>\n",
       "    </tr>\n",
       "    <tr>\n",
       "      <th>1</th>\n",
       "      <td>2</td>\n",
       "      <td>20</td>\n",
       "      <td>RL</td>\n",
       "      <td>80.0</td>\n",
       "      <td>WD</td>\n",
       "      <td>Normal</td>\n",
       "      <td>181500</td>\n",
       "    </tr>\n",
       "    <tr>\n",
       "      <th>2</th>\n",
       "      <td>3</td>\n",
       "      <td>60</td>\n",
       "      <td>RL</td>\n",
       "      <td>68.0</td>\n",
       "      <td>WD</td>\n",
       "      <td>Normal</td>\n",
       "      <td>223500</td>\n",
       "    </tr>\n",
       "    <tr>\n",
       "      <th>3</th>\n",
       "      <td>4</td>\n",
       "      <td>70</td>\n",
       "      <td>RL</td>\n",
       "      <td>60.0</td>\n",
       "      <td>WD</td>\n",
       "      <td>Abnorml</td>\n",
       "      <td>140000</td>\n",
       "    </tr>\n",
       "  </tbody>\n",
       "</table>\n",
       "</div>"
      ]
     },
     "execution_count": 4,
     "metadata": {},
     "output_type": "execute_result"
    }
   ],
   "execution_count": 4
  },
  {
   "metadata": {
    "ExecuteTime": {
     "end_time": "2024-06-28T17:19:27.506022Z",
     "start_time": "2024-06-28T17:19:27.483688Z"
    }
   },
   "cell_type": "code",
   "source": [
    "all_features = pd.concat((train_data.iloc[:, 1:-1], test_data.iloc[:, 1:])) # 删除掉第一个id数据，对我们的训练是没有意义的,并将训练集和测试集上下连接起来\n",
    "print(all_features)"
   ],
   "id": "992a0ca57456f38e",
   "outputs": [
    {
     "name": "stdout",
     "output_type": "stream",
     "text": [
      "      MSSubClass MSZoning  LotFrontage  LotArea Street Alley LotShape  \\\n",
      "0             60       RL         65.0     8450   Pave   NaN      Reg   \n",
      "1             20       RL         80.0     9600   Pave   NaN      Reg   \n",
      "2             60       RL         68.0    11250   Pave   NaN      IR1   \n",
      "3             70       RL         60.0     9550   Pave   NaN      IR1   \n",
      "4             60       RL         84.0    14260   Pave   NaN      IR1   \n",
      "...          ...      ...          ...      ...    ...   ...      ...   \n",
      "1454         160       RM         21.0     1936   Pave   NaN      Reg   \n",
      "1455         160       RM         21.0     1894   Pave   NaN      Reg   \n",
      "1456          20       RL        160.0    20000   Pave   NaN      Reg   \n",
      "1457          85       RL         62.0    10441   Pave   NaN      Reg   \n",
      "1458          60       RL         74.0     9627   Pave   NaN      Reg   \n",
      "\n",
      "     LandContour Utilities LotConfig  ... ScreenPorch PoolArea PoolQC  Fence  \\\n",
      "0            Lvl    AllPub    Inside  ...           0        0    NaN    NaN   \n",
      "1            Lvl    AllPub       FR2  ...           0        0    NaN    NaN   \n",
      "2            Lvl    AllPub    Inside  ...           0        0    NaN    NaN   \n",
      "3            Lvl    AllPub    Corner  ...           0        0    NaN    NaN   \n",
      "4            Lvl    AllPub       FR2  ...           0        0    NaN    NaN   \n",
      "...          ...       ...       ...  ...         ...      ...    ...    ...   \n",
      "1454         Lvl    AllPub    Inside  ...           0        0    NaN    NaN   \n",
      "1455         Lvl    AllPub    Inside  ...           0        0    NaN    NaN   \n",
      "1456         Lvl    AllPub    Inside  ...           0        0    NaN    NaN   \n",
      "1457         Lvl    AllPub    Inside  ...           0        0    NaN  MnPrv   \n",
      "1458         Lvl    AllPub    Inside  ...           0        0    NaN    NaN   \n",
      "\n",
      "     MiscFeature MiscVal  MoSold  YrSold  SaleType  SaleCondition  \n",
      "0            NaN       0       2    2008        WD         Normal  \n",
      "1            NaN       0       5    2007        WD         Normal  \n",
      "2            NaN       0       9    2008        WD         Normal  \n",
      "3            NaN       0       2    2006        WD        Abnorml  \n",
      "4            NaN       0      12    2008        WD         Normal  \n",
      "...          ...     ...     ...     ...       ...            ...  \n",
      "1454         NaN       0       6    2006        WD         Normal  \n",
      "1455         NaN       0       4    2006        WD        Abnorml  \n",
      "1456         NaN       0       9    2006        WD        Abnorml  \n",
      "1457        Shed     700       7    2006        WD         Normal  \n",
      "1458         NaN       0      11    2006        WD         Normal  \n",
      "\n",
      "[2919 rows x 79 columns]\n"
     ]
    }
   ],
   "execution_count": 7
  },
  {
   "metadata": {},
   "cell_type": "markdown",
   "source": "# 预处理数据",
   "id": "394b0ea7ef18c685"
  },
  {
   "metadata": {
    "ExecuteTime": {
     "end_time": "2024-06-28T17:37:28.000677Z",
     "start_time": "2024-06-28T17:37:27.964519Z"
    }
   },
   "cell_type": "code",
   "source": [
    "# 对数据特征进行标准化，将缺失值切换成特征的均值\n",
    "numeric_features = all_features.dtypes[all_features.dtypes != 'object'].index\n",
    "all_features[numeric_features] = all_features[numeric_features].apply(lambda x: (x - x.mean()) / (x.std()))\n",
    "\n",
    "all_features = all_features.fillna(0)   # 标准化后，每个特征的均值变成0，所以用0来代替缺失值"
   ],
   "id": "d3e172a98c2be229",
   "outputs": [],
   "execution_count": 8
  },
  {
   "metadata": {
    "ExecuteTime": {
     "end_time": "2024-06-28T17:38:13.789389Z",
     "start_time": "2024-06-28T17:38:13.751220Z"
    }
   },
   "cell_type": "code",
   "source": [
    "# 将离散坐标转化为指示特征\n",
    "all_features = pd.get_dummies(all_features, dummy_na=True)\n",
    "all_features.shape  # 这里是353， 但是我看教程给的是353"
   ],
   "id": "8e8b8fe96b0631dd",
   "outputs": [
    {
     "data": {
      "text/plain": [
       "(2919, 353)"
      ]
     },
     "execution_count": 9,
     "metadata": {},
     "output_type": "execute_result"
    }
   ],
   "execution_count": 9
  },
  {
   "metadata": {
    "ExecuteTime": {
     "end_time": "2024-06-28T17:49:27.677319Z",
     "start_time": "2024-06-28T17:49:27.663018Z"
    }
   },
   "cell_type": "code",
   "source": "",
   "id": "adb799fae14cffd5",
   "outputs": [
    {
     "name": "stdout",
     "output_type": "stream",
     "text": [
      "[[0.06731987999872384 -0.1844426168571562 -0.21784136849269334 ... True\n",
      "  False False]\n",
      " [-0.8734663783676423 0.4580958808711674 -0.07203174114674873 ... True\n",
      "  False False]\n",
      " [0.06731987999872384 -0.05593491731149148 0.13717337634960655 ... True\n",
      "  False False]\n",
      " ...\n",
      " [0.30251644459031535 -0.1416067170086013 -0.14278110815460707 ... True\n",
      "  False False]\n",
      " [-0.8734663783676423 -0.05593491731149148 -0.05719719645155263 ... True\n",
      "  False False]\n",
      " [-0.8734663783676423 0.24391638162839288 -0.029303180785371925 ... True\n",
      "  False False]]\n"
     ]
    }
   ],
   "execution_count": 13
  },
  {
   "metadata": {
    "ExecuteTime": {
     "end_time": "2024-06-28T17:46:21.587782Z",
     "start_time": "2024-06-28T17:46:21.546666Z"
    }
   },
   "cell_type": "code",
   "source": [
    "n_train = train_data.shape[0]\n",
    "train_features = torch.tensor(all_features[:n_train].values, dtype=torch.float)\n",
    "test_features = torch.tensor(all_features[n_train:].values, dtype=torch.float)\n",
    "train_labels = torch.tensor(train_data.SalePrice.values, dtype=torch.float).view(-1, 1)"
   ],
   "id": "8605ad28c71adc8f",
   "outputs": [
    {
     "ename": "TypeError",
     "evalue": "can't convert np.ndarray of type numpy.object_. The only supported types are: float64, float32, float16, complex64, complex128, int64, int32, int16, int8, uint64, uint32, uint16, uint8, and bool.",
     "output_type": "error",
     "traceback": [
      "\u001B[1;31m---------------------------------------------------------------------------\u001B[0m",
      "\u001B[1;31mTypeError\u001B[0m                                 Traceback (most recent call last)",
      "Cell \u001B[1;32mIn[12], line 2\u001B[0m\n\u001B[0;32m      1\u001B[0m n_train \u001B[38;5;241m=\u001B[39m train_data\u001B[38;5;241m.\u001B[39mshape[\u001B[38;5;241m0\u001B[39m]\n\u001B[1;32m----> 2\u001B[0m train_features \u001B[38;5;241m=\u001B[39m \u001B[43mtorch\u001B[49m\u001B[38;5;241;43m.\u001B[39;49m\u001B[43mtensor\u001B[49m\u001B[43m(\u001B[49m\u001B[43mall_features\u001B[49m\u001B[43m[\u001B[49m\u001B[43m:\u001B[49m\u001B[43mn_train\u001B[49m\u001B[43m]\u001B[49m\u001B[38;5;241;43m.\u001B[39;49m\u001B[43mvalues\u001B[49m\u001B[43m,\u001B[49m\u001B[43m \u001B[49m\u001B[43mdtype\u001B[49m\u001B[38;5;241;43m=\u001B[39;49m\u001B[43mtorch\u001B[49m\u001B[38;5;241;43m.\u001B[39;49m\u001B[43mfloat\u001B[49m\u001B[43m)\u001B[49m\n\u001B[0;32m      3\u001B[0m test_features \u001B[38;5;241m=\u001B[39m torch\u001B[38;5;241m.\u001B[39mtensor(all_features[n_train:]\u001B[38;5;241m.\u001B[39mvalues, dtype\u001B[38;5;241m=\u001B[39mtorch\u001B[38;5;241m.\u001B[39mfloat)\n\u001B[0;32m      4\u001B[0m train_labels \u001B[38;5;241m=\u001B[39m torch\u001B[38;5;241m.\u001B[39mtensor(train_data\u001B[38;5;241m.\u001B[39mSalePrice\u001B[38;5;241m.\u001B[39mvalues, dtype\u001B[38;5;241m=\u001B[39mtorch\u001B[38;5;241m.\u001B[39mfloat)\u001B[38;5;241m.\u001B[39mview(\u001B[38;5;241m-\u001B[39m\u001B[38;5;241m1\u001B[39m, \u001B[38;5;241m1\u001B[39m)\n",
      "\u001B[1;31mTypeError\u001B[0m: can't convert np.ndarray of type numpy.object_. The only supported types are: float64, float32, float16, complex64, complex128, int64, int32, int16, int8, uint64, uint32, uint16, uint8, and bool."
     ]
    }
   ],
   "execution_count": 12
  },
  {
   "metadata": {},
   "cell_type": "markdown",
   "source": "# 做的非常痛苦，我觉得还是得进一步了解Python了再来回头做",
   "id": "341302dc21cdb884"
  }
 ],
 "metadata": {
  "kernelspec": {
   "display_name": "Python 3",
   "language": "python",
   "name": "python3"
  },
  "language_info": {
   "codemirror_mode": {
    "name": "ipython",
    "version": 2
   },
   "file_extension": ".py",
   "mimetype": "text/x-python",
   "name": "python",
   "nbconvert_exporter": "python",
   "pygments_lexer": "ipython2",
   "version": "2.7.6"
  }
 },
 "nbformat": 4,
 "nbformat_minor": 5
}
