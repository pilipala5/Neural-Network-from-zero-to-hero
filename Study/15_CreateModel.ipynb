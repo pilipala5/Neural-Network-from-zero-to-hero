{
 "cells": [
  {
   "metadata": {},
   "cell_type": "markdown",
   "source": "# 继承Module类构建模型",
   "id": "24ab1e9bdab5e744"
  },
  {
   "cell_type": "code",
   "id": "initial_id",
   "metadata": {
    "collapsed": true,
    "ExecuteTime": {
     "end_time": "2024-06-29T07:32:43.775947Z",
     "start_time": "2024-06-29T07:32:43.768091Z"
    }
   },
   "source": [
    "import torch\n",
    "from torch import nn\n",
    "\n",
    "class MLP(nn.Module):\n",
    "    # 声明带有模型参数的层，这里声明的俩全连接层\n",
    "    def __init__(self, **kwargs):\n",
    "        super(MLP, self).__init__(**kwargs) # 这里是如何进行初始化的？ 没大看懂\n",
    "        self.hidden = nn.Linear(784, 256)\n",
    "        self.act = nn.ReLU()\n",
    "        self.output = nn.Linear(256, 10)\n",
    "        \n",
    "    def forward(self, x):\n",
    "        a = self.act(self.hidden(x))\n",
    "        return self.output(a)"
   ],
   "outputs": [],
   "execution_count": 3
  },
  {
   "metadata": {
    "ExecuteTime": {
     "end_time": "2024-06-29T07:32:43.803901Z",
     "start_time": "2024-06-29T07:32:43.775947Z"
    }
   },
   "cell_type": "code",
   "source": [
    "X = torch.rand(2, 784)\n",
    "net = MLP()\n",
    "print(net)\n",
    "net(X)"
   ],
   "id": "397939c6d4dc9572",
   "outputs": [
    {
     "name": "stdout",
     "output_type": "stream",
     "text": [
      "MLP(\n",
      "  (hidden): Linear(in_features=784, out_features=256, bias=True)\n",
      "  (act): ReLU()\n",
      "  (output): Linear(in_features=256, out_features=10, bias=True)\n",
      ")\n"
     ]
    },
    {
     "data": {
      "text/plain": [
       "tensor([[ 0.0227, -0.0161, -0.1010,  0.0576,  0.1119,  0.0336, -0.0562, -0.0737,\n",
       "         -0.0137,  0.1680],\n",
       "        [ 0.0704, -0.1022, -0.0475,  0.0187, -0.0193,  0.1004, -0.0960, -0.0112,\n",
       "          0.0333,  0.1052]], grad_fn=<AddmmBackward0>)"
      ]
     },
     "execution_count": 4,
     "metadata": {},
     "output_type": "execute_result"
    }
   ],
   "execution_count": 4
  },
  {
   "metadata": {},
   "cell_type": "markdown",
   "source": [
    "# Sequential 类\n",
    "当模型的前向计算为简单串联各个层的计算时，Sequential类可以通过更简单的方式定义模型"
   ],
   "id": "6789f8670e68108b"
  },
  {
   "metadata": {
    "ExecuteTime": {
     "end_time": "2024-06-29T07:57:52.482240Z",
     "start_time": "2024-06-29T07:57:52.471542Z"
    }
   },
   "cell_type": "code",
   "source": [
    "from collections import OrderedDict\n",
    "class MySequential(nn.Module):\n",
    "    def __init__(self, *args):\n",
    "        super(MySequential, self).__init__()\n",
    "        if len(args) == 1 and isinstance(args[0], OrderedDict): # 如果传入的是一个OrderedDict\n",
    "            for key, module in args[0].items():\n",
    "                self.add_module(key, module)\n",
    "        else:\n",
    "            for idx, module in enumerate(args): # enumerate 同时返回对象和其索引\n",
    "                self.add_module(str(idx), module)\n",
    "    def forward(self, input):\n",
    "        for module in self._modules.values():\n",
    "            input = module(input)\n",
    "        return  input"
   ],
   "id": "5d13e5bfafd1ac19",
   "outputs": [],
   "execution_count": 6
  },
  {
   "metadata": {
    "ExecuteTime": {
     "end_time": "2024-06-29T07:57:54.884282Z",
     "start_time": "2024-06-29T07:57:54.866207Z"
    }
   },
   "cell_type": "code",
   "source": [
    "net = MySequential(\n",
    "    nn.Linear(784, 256),\n",
    "    nn.ReLU(),\n",
    "    nn.Linear(256, 10)\n",
    ")\n",
    "print(net)\n",
    "net(X)"
   ],
   "id": "efc7d3f9dc1b7852",
   "outputs": [
    {
     "name": "stdout",
     "output_type": "stream",
     "text": [
      "MySequential(\n",
      "  (0): Linear(in_features=784, out_features=256, bias=True)\n",
      "  (1): ReLU()\n",
      "  (2): Linear(in_features=256, out_features=10, bias=True)\n",
      ")\n"
     ]
    },
    {
     "data": {
      "text/plain": [
       "tensor([[-0.3190,  0.0221, -0.2829,  0.0423,  0.1976, -0.0507, -0.1024,  0.1020,\n",
       "         -0.1208, -0.3906],\n",
       "        [-0.2063,  0.0157, -0.1608, -0.0568,  0.3853,  0.0317,  0.1061, -0.0616,\n",
       "         -0.1134, -0.1416]], grad_fn=<AddmmBackward0>)"
      ]
     },
     "execution_count": 7,
     "metadata": {},
     "output_type": "execute_result"
    }
   ],
   "execution_count": 7
  },
  {
   "metadata": {},
   "cell_type": "markdown",
   "source": [
    "# ModuleList 类\n",
    "接受一个子模块的列表作为输入，可以像List一样进行append和extend操作"
   ],
   "id": "646db407da73171b"
  },
  {
   "metadata": {
    "ExecuteTime": {
     "end_time": "2024-06-29T08:03:46.060539Z",
     "start_time": "2024-06-29T08:03:46.051229Z"
    }
   },
   "cell_type": "code",
   "source": [
    "net = nn.ModuleList(\n",
    "    [nn.Linear(784, 256), nn.ReLU()]\n",
    ")\n",
    "net.append(nn.Linear(256, 10))\n",
    "print(net[-1])\n",
    "print(net)"
   ],
   "id": "2a4fdf06b7228423",
   "outputs": [
    {
     "name": "stdout",
     "output_type": "stream",
     "text": [
      "Linear(in_features=256, out_features=10, bias=True)\n",
      "ModuleList(\n",
      "  (0): Linear(in_features=784, out_features=256, bias=True)\n",
      "  (1): ReLU()\n",
      "  (2): Linear(in_features=256, out_features=10, bias=True)\n",
      ")\n"
     ]
    }
   ],
   "execution_count": 8
  },
  {
   "metadata": {},
   "cell_type": "markdown",
   "source": [
    "# ModuleDict 类\n",
    "接受一个子模块的字典作为收入，也可以类似字典进行添加访问操作"
   ],
   "id": "8fc16a4e445b4f15"
  },
  {
   "metadata": {
    "ExecuteTime": {
     "end_time": "2024-06-29T08:14:21.668351Z",
     "start_time": "2024-06-29T08:14:21.633686Z"
    }
   },
   "cell_type": "code",
   "source": [
    "net = nn.ModuleDict(\n",
    "    {\n",
    "        'linear': nn.Linear(784, 256),\n",
    "        'act': nn.ReLU(),\n",
    "    }\n",
    ")\n",
    "\n",
    "net['output'] = nn.Linear(256, 10)\n",
    "print(net['linear'])\n",
    "print(net.output)\n",
    "print(net)"
   ],
   "id": "6eb33a2579eb6b42",
   "outputs": [
    {
     "name": "stdout",
     "output_type": "stream",
     "text": [
      "Linear(in_features=784, out_features=256, bias=True)\n",
      "Linear(in_features=256, out_features=10, bias=True)\n",
      "ModuleDict(\n",
      "  (linear): Linear(in_features=784, out_features=256, bias=True)\n",
      "  (act): ReLU()\n",
      "  (output): Linear(in_features=256, out_features=10, bias=True)\n",
      ")\n"
     ]
    }
   ],
   "execution_count": 9
  }
 ],
 "metadata": {
  "kernelspec": {
   "display_name": "Python 3",
   "language": "python",
   "name": "python3"
  },
  "language_info": {
   "codemirror_mode": {
    "name": "ipython",
    "version": 2
   },
   "file_extension": ".py",
   "mimetype": "text/x-python",
   "name": "python",
   "nbconvert_exporter": "python",
   "pygments_lexer": "ipython2",
   "version": "2.7.6"
  }
 },
 "nbformat": 4,
 "nbformat_minor": 5
}
