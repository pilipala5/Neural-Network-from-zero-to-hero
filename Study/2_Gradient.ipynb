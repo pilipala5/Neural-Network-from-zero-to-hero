{
 "cells": [
  {
   "cell_type": "code",
   "id": "initial_id",
   "metadata": {
    "collapsed": true,
    "ExecuteTime": {
     "end_time": "2024-06-21T09:59:08.087122Z",
     "start_time": "2024-06-21T09:59:08.072590Z"
    }
   },
   "source": [
    "import torch\n",
    "\n",
    "# leaf\n",
    "x = torch.ones(2,2,requires_grad=True)  # create a tensor with grad\n",
    "print(x)\n",
    "print(x.grad_fn)    # gradient function"
   ],
   "outputs": [
    {
     "name": "stdout",
     "output_type": "stream",
     "text": [
      "tensor([[1., 1.],\n",
      "        [1., 1.]], requires_grad=True)\n",
      "None\n"
     ]
    }
   ],
   "execution_count": 6
  },
  {
   "metadata": {},
   "cell_type": "markdown",
   "source": "# Tensor",
   "id": "8c389ebac0fab97"
  },
  {
   "metadata": {
    "ExecuteTime": {
     "end_time": "2024-06-21T09:59:35.916962Z",
     "start_time": "2024-06-21T09:59:35.907018Z"
    }
   },
   "cell_type": "code",
   "source": [
    "y = x + 2   \n",
    "print(y)\n",
    "print(y.grad_fn)    # y = x + 2 ,created by \"+\", so has grad_fn"
   ],
   "id": "a4ca16632fbc2ee2",
   "outputs": [
    {
     "name": "stdout",
     "output_type": "stream",
     "text": [
      "tensor([[3., 3.],\n",
      "        [3., 3.]], grad_fn=<AddBackward0>)\n",
      "<AddBackward0 object at 0x000001DDCD0AE890>\n"
     ]
    }
   ],
   "execution_count": 7
  },
  {
   "metadata": {
    "ExecuteTime": {
     "end_time": "2024-06-21T10:00:50.080659Z",
     "start_time": "2024-06-21T10:00:50.073659Z"
    }
   },
   "cell_type": "code",
   "source": "print(x.is_leaf, y.is_leaf)",
   "id": "656fab57e049f4bf",
   "outputs": [
    {
     "name": "stdout",
     "output_type": "stream",
     "text": [
      "True False\n"
     ]
    }
   ],
   "execution_count": 8
  },
  {
   "metadata": {
    "ExecuteTime": {
     "end_time": "2024-06-21T10:01:48.763060Z",
     "start_time": "2024-06-21T10:01:48.751255Z"
    }
   },
   "cell_type": "code",
   "source": [
    "z = y * y * 3\n",
    "out = z.mean()\n",
    "print(z, out)"
   ],
   "id": "a59f2721e27f282d",
   "outputs": [
    {
     "name": "stdout",
     "output_type": "stream",
     "text": [
      "tensor([[27., 27.],\n",
      "        [27., 27.]], grad_fn=<MulBackward0>) tensor(27., grad_fn=<MeanBackward0>)\n"
     ]
    }
   ],
   "execution_count": 9
  },
  {
   "metadata": {
    "ExecuteTime": {
     "end_time": "2024-06-21T10:04:11.132799Z",
     "start_time": "2024-06-21T10:04:11.118925Z"
    }
   },
   "cell_type": "code",
   "source": [
    "a = torch.randn(2,2)\n",
    "a = ((a * 3)/(a - 1))\n",
    "print(a.requires_grad)\n",
    "a.requires_grad = True\n",
    "print(a.requires_grad)\n",
    "b = (a * a).sum()\n",
    "print(b.grad_fn)"
   ],
   "id": "b78ba99c1ba787ed",
   "outputs": [
    {
     "name": "stdout",
     "output_type": "stream",
     "text": [
      "False\n",
      "True\n",
      "<SumBackward0 object at 0x000001DDCBA224A0>\n"
     ]
    }
   ],
   "execution_count": 10
  },
  {
   "metadata": {},
   "cell_type": "markdown",
   "source": "# Gradient",
   "id": "851cfd7166df2172"
  },
  {
   "metadata": {
    "ExecuteTime": {
     "end_time": "2024-06-21T10:06:07.208232Z",
     "start_time": "2024-06-21T10:06:05.870052Z"
    }
   },
   "cell_type": "code",
   "source": "out.backward()",
   "id": "e5e1f4b74f6f728b",
   "outputs": [],
   "execution_count": 11
  },
  {
   "metadata": {
    "ExecuteTime": {
     "end_time": "2024-06-21T10:06:22.956040Z",
     "start_time": "2024-06-21T10:06:22.947583Z"
    }
   },
   "cell_type": "code",
   "source": "print(x.grad)",
   "id": "855c255e82bf8ddb",
   "outputs": [
    {
     "name": "stdout",
     "output_type": "stream",
     "text": [
      "tensor([[4.5000, 4.5000],\n",
      "        [4.5000, 4.5000]])\n"
     ]
    }
   ],
   "execution_count": 12
  },
  {
   "metadata": {
    "ExecuteTime": {
     "end_time": "2024-06-21T12:04:34.717255Z",
     "start_time": "2024-06-21T12:04:34.705314Z"
    }
   },
   "cell_type": "code",
   "source": [
    "out2 = x.sum()\n",
    "out2.backward()\n",
    "print(x.grad)"
   ],
   "id": "f71118359bc9c051",
   "outputs": [
    {
     "name": "stdout",
     "output_type": "stream",
     "text": [
      "tensor([[5.5000, 5.5000],\n",
      "        [5.5000, 5.5000]])\n"
     ]
    }
   ],
   "execution_count": 14
  },
  {
   "metadata": {
    "ExecuteTime": {
     "end_time": "2024-06-21T12:05:06.611753Z",
     "start_time": "2024-06-21T12:05:06.601916Z"
    }
   },
   "cell_type": "code",
   "source": [
    "out3 = x.sum()\n",
    "x.grad.zero_()\n",
    "out3.backward()\n",
    "print(x.grad)"
   ],
   "id": "772700067dfb3ae",
   "outputs": [
    {
     "name": "stdout",
     "output_type": "stream",
     "text": [
      "tensor([[1., 1.],\n",
      "        [1., 1.]])\n"
     ]
    }
   ],
   "execution_count": 15
  },
  {
   "metadata": {
    "ExecuteTime": {
     "end_time": "2024-06-21T12:14:34.809597Z",
     "start_time": "2024-06-21T12:14:34.785904Z"
    }
   },
   "cell_type": "code",
   "source": [
    "x = torch.tensor([1.0, 2.0, 3.0, 4.0], requires_grad=True)\n",
    "y = 2 * x\n",
    "z = y.view(2,2)\n",
    "print(z)"
   ],
   "id": "981a0a6185d9b1d4",
   "outputs": [
    {
     "name": "stdout",
     "output_type": "stream",
     "text": [
      "tensor([[2., 4.],\n",
      "        [6., 8.]], grad_fn=<ViewBackward0>)\n"
     ]
    }
   ],
   "execution_count": 16
  },
  {
   "metadata": {
    "ExecuteTime": {
     "end_time": "2024-06-21T12:15:48.923599Z",
     "start_time": "2024-06-21T12:15:48.018150Z"
    }
   },
   "cell_type": "code",
   "source": [
    "v = torch.tensor([[1.0, 0.1], [0.01, 0.001]], dtype=torch.float)\n",
    "z.backward(v)\n",
    "print(x.grad)\n"
   ],
   "id": "a7c6bcca180a9b7a",
   "outputs": [
    {
     "name": "stdout",
     "output_type": "stream",
     "text": [
      "tensor([2.0000, 0.2000, 0.0200, 0.0020])\n"
     ]
    }
   ],
   "execution_count": 17
  },
  {
   "metadata": {
    "ExecuteTime": {
     "end_time": "2024-06-21T12:24:33.938389Z",
     "start_time": "2024-06-21T12:24:33.922754Z"
    }
   },
   "cell_type": "code",
   "source": [
    "x = torch.tensor(1.0, requires_grad=True,dtype=torch.float)\n",
    "y1 = x ** 2\n",
    "with torch.no_grad():\n",
    "    y2 = x ** 3\n",
    "\n",
    "y3 = y1 + y2\n",
    "print(x.requires_grad)\n",
    "print(y1,y1.requires_grad)  \n",
    "print(y2,y2.requires_grad)  \n",
    "print(y3,y3.requires_grad)  \n"
   ],
   "id": "695bf7af74843d19",
   "outputs": [
    {
     "name": "stdout",
     "output_type": "stream",
     "text": [
      "True\n",
      "tensor(1., grad_fn=<PowBackward0>) True\n",
      "tensor(1.) False\n",
      "tensor(2., grad_fn=<AddBackward0>) True\n"
     ]
    }
   ],
   "execution_count": 24
  },
  {
   "metadata": {
    "ExecuteTime": {
     "end_time": "2024-06-21T12:25:29.128211Z",
     "start_time": "2024-06-21T12:25:29.118695Z"
    }
   },
   "cell_type": "code",
   "source": [
    "y3.backward()\n",
    "print(x.grad)"
   ],
   "id": "e874244485666638",
   "outputs": [
    {
     "name": "stdout",
     "output_type": "stream",
     "text": [
      "tensor(2.)\n"
     ]
    }
   ],
   "execution_count": 25
  },
  {
   "metadata": {
    "ExecuteTime": {
     "end_time": "2024-06-21T12:42:15.315090Z",
     "start_time": "2024-06-21T12:42:15.306383Z"
    }
   },
   "cell_type": "code",
   "source": [
    "x = torch.ones(1, requires_grad=True)\n",
    "print(x.data)\n",
    "print(x.data.requires_grad)\n",
    "\n",
    "y = 2 * x\n",
    "x.data *= 100\n",
    "\n",
    "y.backward()\n",
    "print(x)\n",
    "print(x.grad)"
   ],
   "id": "22d42c4ce8578660",
   "outputs": [
    {
     "name": "stdout",
     "output_type": "stream",
     "text": [
      "tensor([1.])\n",
      "False\n",
      "tensor([100.], requires_grad=True)\n",
      "tensor([2.])\n"
     ]
    }
   ],
   "execution_count": 30
  }
 ],
 "metadata": {
  "kernelspec": {
   "display_name": "Python 3",
   "language": "python",
   "name": "python3"
  },
  "language_info": {
   "codemirror_mode": {
    "name": "ipython",
    "version": 2
   },
   "file_extension": ".py",
   "mimetype": "text/x-python",
   "name": "python",
   "nbconvert_exporter": "python",
   "pygments_lexer": "ipython2",
   "version": "2.7.6"
  }
 },
 "nbformat": 4,
 "nbformat_minor": 5
}
