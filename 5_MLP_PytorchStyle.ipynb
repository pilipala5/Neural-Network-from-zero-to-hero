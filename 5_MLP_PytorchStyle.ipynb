{
 "cells": [
  {
   "cell_type": "code",
   "id": "initial_id",
   "metadata": {
    "collapsed": true,
    "ExecuteTime": {
     "end_time": "2024-07-17T13:08:17.203710Z",
     "start_time": "2024-07-17T13:08:17.198819Z"
    }
   },
   "source": [
    "import torch\n",
    "import torch.nn.functional as F\n",
    "import matplotlib.pyplot\n",
    "%matplotlib inline"
   ],
   "outputs": [],
   "execution_count": 22
  },
  {
   "metadata": {
    "ExecuteTime": {
     "end_time": "2024-07-17T13:08:17.953408Z",
     "start_time": "2024-07-17T13:08:17.938299Z"
    }
   },
   "cell_type": "code",
   "source": [
    "# Read words\n",
    "words = open(\"names.txt\", \"r\").read().splitlines()\n",
    "\n",
    "# Build vocabulary of all characters and mapping to/from integer\n",
    "chars = sorted(set(''.join(words)))\n",
    "stoi = {s:i+1 for i, s in enumerate(chars)}\n",
    "stoi['.'] = 0\n",
    "itos = {i:s for s, i in stoi.items()}\n",
    "\n",
    "g = torch.Generator().manual_seed(2147483647)"
   ],
   "id": "fc5b6368c49dd4c0",
   "outputs": [],
   "execution_count": 23
  },
  {
   "metadata": {
    "ExecuteTime": {
     "end_time": "2024-07-17T13:27:45.259098Z",
     "start_time": "2024-07-17T13:27:45.254610Z"
    }
   },
   "cell_type": "code",
   "source": [
    "# Lets create a deeper network\n",
    "class Linear:\n",
    "    def __init__(self, fan_in, fan_out, bias=True):\n",
    "        self.weight = torch.randn([fan_in, fan_out], generator=g) / fan_in ** 0.5   # Kaiming normal distribution\n",
    "        self.bias = torch.zeros(fan_out) if bias else None\n",
    "    \n",
    "    def __ceil__(self, x):\n",
    "        self.out = x @ self.weight \n",
    "        if self.bias is not None:\n",
    "            self.out += self.bias\n",
    "        return self.out\n",
    "    \n",
    "    def parameters(self):\n",
    "        return [self.weight] + ([] if self.bias is None else [self.bias])"
   ],
   "id": "8fa0d80bd4b2d618",
   "outputs": [],
   "execution_count": 194
  },
  {
   "metadata": {},
   "cell_type": "code",
   "outputs": [],
   "execution_count": null,
   "source": [
    "class BatchNormald:\n",
    "    def __init__(self, dim, eps=1e-5, momentum=0.1):\n",
    "        self.eps = eps\n",
    "        self.momentum = momentum\n",
    "        self.training = True\n",
    "        # parameters(trained with backprop)\n",
    "        self.gamma = torch.ones(dim)\n",
    "        self.beta = torch.zeros(dim)\n",
    "    "
   ],
   "id": "3ebdcd097552ee86"
  },
  {
   "metadata": {
    "ExecuteTime": {
     "end_time": "2024-07-17T13:10:32.433600Z",
     "start_time": "2024-07-17T13:10:32.426680Z"
    }
   },
   "cell_type": "code",
   "source": [
    "linear = Linear(2,100,bias=False)\n",
    "linear.weight.std()"
   ],
   "id": "37d7066b057729e6",
   "outputs": [
    {
     "data": {
      "text/plain": [
       "tensor(0.7275)"
      ]
     },
     "execution_count": 192,
     "metadata": {},
     "output_type": "execute_result"
    }
   ],
   "execution_count": 192
  }
 ],
 "metadata": {
  "kernelspec": {
   "display_name": "Python 3",
   "language": "python",
   "name": "python3"
  },
  "language_info": {
   "codemirror_mode": {
    "name": "ipython",
    "version": 2
   },
   "file_extension": ".py",
   "mimetype": "text/x-python",
   "name": "python",
   "nbconvert_exporter": "python",
   "pygments_lexer": "ipython2",
   "version": "2.7.6"
  }
 },
 "nbformat": 4,
 "nbformat_minor": 5
}
